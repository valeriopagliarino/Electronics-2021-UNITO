{
  "nbformat": 4,
  "nbformat_minor": 0,
  "metadata": {
    "colab": {
      "name": "PickleDictExample.ipynb",
      "provenance": [],
      "authorship_tag": "ABX9TyM9u3YimlgJt8S5WWd7J6AA",
      "include_colab_link": true
    },
    "kernelspec": {
      "name": "python3",
      "display_name": "Python 3"
    },
    "language_info": {
      "name": "python"
    }
  },
  "cells": [
    {
      "cell_type": "markdown",
      "metadata": {
        "id": "view-in-github",
        "colab_type": "text"
      },
      "source": [
        "<a href=\"https://colab.research.google.com/github/valeriopagliarino/Electronics-2021-UNITO/blob/main/analysis/PickleDictExample.ipynb\" target=\"_parent\"><img src=\"https://colab.research.google.com/assets/colab-badge.svg\" alt=\"Open In Colab\"/></a>"
      ]
    },
    {
      "cell_type": "code",
      "metadata": {
        "id": "Gq4otxg-C1YZ"
      },
      "source": [
        "import pickle\n",
        "import numpy as np"
      ],
      "execution_count": 15,
      "outputs": []
    },
    {
      "cell_type": "code",
      "metadata": {
        "id": "x5urW3HPC35Z"
      },
      "source": [
        "presa_dati = {\n",
        "    \"date\":         \"01/01/1970\",\n",
        "    \"title\":        \"Titolo esperimento\",\n",
        "    \"authors\":      \"Valerio Pagliarino, Name Surname\",\n",
        "    \"data_var1_mV\":  000.00,\n",
        "    \"data_var2_mA\":  000.00,\n",
        "    \"data_table1\":  [\n",
        "                    [\"colonna1\", \"mV\",  5.6, 3.2, 6.4, 1.1, 3.5, 2.2, 6.5, 3.5],\n",
        "                    [\"colonna2\", \"mA\",  9.4, 2.6, 6.1, 4.0, 9.9, 1.3, 5.0, 1.1]\n",
        "    ]\n",
        "}"
      ],
      "execution_count": 2,
      "outputs": []
    },
    {
      "cell_type": "code",
      "metadata": {
        "colab": {
          "base_uri": "https://localhost:8080/"
        },
        "id": "Z1QG2qu2C5l-",
        "outputId": "569c22ef-4e23-4d98-dbb5-1f904e8297da"
      },
      "source": [
        "presa_dati"
      ],
      "execution_count": 3,
      "outputs": [
        {
          "output_type": "execute_result",
          "data": {
            "text/plain": [
              "{'authors': 'Valerio Pagliarino, Name Surname',\n",
              " 'data_table1': [['colonna1', 'mV', 5.6, 3.2, 6.4, 1.1, 3.5, 2.2, 6.5, 3.5],\n",
              "  ['colonna2', 'mA', 9.4, 2.6, 6.1, 4.0, 9.9, 1.3, 5.0, 1.1]],\n",
              " 'data_var1_mV': 0.0,\n",
              " 'data_var2_mA': 0.0,\n",
              " 'date': '01/01/1970',\n",
              " 'title': 'Titolo esperimento'}"
            ]
          },
          "metadata": {},
          "execution_count": 3
        }
      ]
    },
    {
      "cell_type": "code",
      "metadata": {
        "colab": {
          "base_uri": "https://localhost:8080/"
        },
        "id": "4Q3McdaTC6on",
        "outputId": "16da2569-7f49-42b9-922b-8dbc5413d550"
      },
      "source": [
        "presa_dati['data_table1']"
      ],
      "execution_count": 4,
      "outputs": [
        {
          "output_type": "execute_result",
          "data": {
            "text/plain": [
              "[['colonna1', 'mV', 5.6, 3.2, 6.4, 1.1, 3.5, 2.2, 6.5, 3.5],\n",
              " ['colonna2', 'mA', 9.4, 2.6, 6.1, 4.0, 9.9, 1.3, 5.0, 1.1]]"
            ]
          },
          "metadata": {},
          "execution_count": 4
        }
      ]
    },
    {
      "cell_type": "code",
      "metadata": {
        "colab": {
          "base_uri": "https://localhost:8080/",
          "height": 36
        },
        "id": "qYNfzl3CDDIa",
        "outputId": "2d88013d-5465-4e4b-ac00-07c7547b608b"
      },
      "source": [
        "presa_dati['data_table1'][0][0]"
      ],
      "execution_count": 7,
      "outputs": [
        {
          "output_type": "execute_result",
          "data": {
            "application/vnd.google.colaboratory.intrinsic+json": {
              "type": "string"
            },
            "text/plain": [
              "'colonna1'"
            ]
          },
          "metadata": {},
          "execution_count": 7
        }
      ]
    },
    {
      "cell_type": "code",
      "metadata": {
        "id": "o7zsjTHEDOQE"
      },
      "source": [
        "row = np.array(presa_dati['data_table1'][0][2:])"
      ],
      "execution_count": 17,
      "outputs": []
    },
    {
      "cell_type": "code",
      "metadata": {
        "colab": {
          "base_uri": "https://localhost:8080/"
        },
        "id": "1izMZ9g4DUDi",
        "outputId": "71c29b14-687a-4aef-96c7-cb9bfbbb6dbb"
      },
      "source": [
        "row"
      ],
      "execution_count": 18,
      "outputs": [
        {
          "output_type": "execute_result",
          "data": {
            "text/plain": [
              "array([5.6, 3.2, 6.4, 1.1, 3.5, 2.2, 6.5, 3.5])"
            ]
          },
          "metadata": {},
          "execution_count": 18
        }
      ]
    },
    {
      "cell_type": "code",
      "metadata": {
        "colab": {
          "base_uri": "https://localhost:8080/"
        },
        "id": "B3RcXOr2D322",
        "outputId": "cb7ef7b7-ba97-4d46-e01d-1fd75ac5a41e"
      },
      "source": [
        "row.mean()"
      ],
      "execution_count": 20,
      "outputs": [
        {
          "output_type": "execute_result",
          "data": {
            "text/plain": [
              "4.0"
            ]
          },
          "metadata": {},
          "execution_count": 20
        }
      ]
    },
    {
      "cell_type": "code",
      "metadata": {
        "id": "kyJ5eNORD6qm"
      },
      "source": [
        "with open('data.p', 'wb') as handle:\n",
        "    pickle.dump(presa_dati, handle, protocol=pickle.HIGHEST_PROTOCOL)"
      ],
      "execution_count": 21,
      "outputs": []
    },
    {
      "cell_type": "code",
      "metadata": {
        "id": "1SgNAcaRECdM"
      },
      "source": [
        "with open('data.p', 'rb') as handle:\n",
        "    b = pickle.load(handle)"
      ],
      "execution_count": 22,
      "outputs": []
    },
    {
      "cell_type": "code",
      "metadata": {
        "colab": {
          "base_uri": "https://localhost:8080/"
        },
        "id": "l3Y_ErwCELRl",
        "outputId": "07e92077-412d-4287-a021-fa617ad22b33"
      },
      "source": [
        "b"
      ],
      "execution_count": 23,
      "outputs": [
        {
          "output_type": "execute_result",
          "data": {
            "text/plain": [
              "{'authors': 'Valerio Pagliarino, Name Surname',\n",
              " 'data_table1': [['colonna1', 'mV', 5.6, 3.2, 6.4, 1.1, 3.5, 2.2, 6.5, 3.5],\n",
              "  ['colonna2', 'mA', 9.4, 2.6, 6.1, 4.0, 9.9, 1.3, 5.0, 1.1]],\n",
              " 'data_var1_mV': 0.0,\n",
              " 'data_var2_mA': 0.0,\n",
              " 'date': '01/01/1970',\n",
              " 'title': 'Titolo esperimento'}"
            ]
          },
          "metadata": {},
          "execution_count": 23
        }
      ]
    },
    {
      "cell_type": "code",
      "metadata": {
        "id": "VbJhcI7jELrU"
      },
      "source": [
        ""
      ],
      "execution_count": null,
      "outputs": []
    }
  ]
}