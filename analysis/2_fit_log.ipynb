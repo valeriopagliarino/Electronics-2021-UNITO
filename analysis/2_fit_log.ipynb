{
 "cells": [
  {
   "cell_type": "markdown",
   "id": "099ddc80",
   "metadata": {},
   "source": [
    "# Fit Log"
   ]
  },
  {
   "cell_type": "code",
   "execution_count": 1,
   "id": "08f4a2cf",
   "metadata": {},
   "outputs": [
    {
     "name": "stdout",
     "output_type": "stream",
     "text": [
      "Welcome to JupyROOT 6.24/06\n"
     ]
    }
   ],
   "source": [
    "import pandas as pd\n",
    "from utilities import * # My functions: pair_dat_err, uncertainties_to_root_graph_errors\n",
    "from uncertainties import umath\n",
    "import ROOT"
   ]
  },
  {
   "cell_type": "markdown",
   "id": "0005a3c6",
   "metadata": {},
   "source": []
  },
  {
   "cell_type": "markdown",
   "id": "bebc63ff",
   "metadata": {},
   "source": [
    "### Read DataFrames"
   ]
  },
  {
   "cell_type": "code",
   "execution_count": 2,
   "id": "4753dc2d",
   "metadata": {},
   "outputs": [
    {
     "data": {
      "text/html": [
       "<div>\n",
       "<style scoped>\n",
       "    .dataframe tbody tr th:only-of-type {\n",
       "        vertical-align: middle;\n",
       "    }\n",
       "\n",
       "    .dataframe tbody tr th {\n",
       "        vertical-align: top;\n",
       "    }\n",
       "\n",
       "    .dataframe thead th {\n",
       "        text-align: right;\n",
       "    }\n",
       "</style>\n",
       "<table border=\"1\" class=\"dataframe\">\n",
       "  <thead>\n",
       "    <tr style=\"text-align: right;\">\n",
       "      <th></th>\n",
       "      <th>Vin [V]</th>\n",
       "      <th>Vout [V]</th>\n",
       "    </tr>\n",
       "  </thead>\n",
       "  <tbody>\n",
       "    <tr>\n",
       "      <th>0</th>\n",
       "      <td>0.568</td>\n",
       "      <td>-0.548</td>\n",
       "    </tr>\n",
       "    <tr>\n",
       "      <th>1</th>\n",
       "      <td>0.880</td>\n",
       "      <td>-0.564</td>\n",
       "    </tr>\n",
       "    <tr>\n",
       "      <th>2</th>\n",
       "      <td>1.099</td>\n",
       "      <td>-0.577</td>\n",
       "    </tr>\n",
       "    <tr>\n",
       "      <th>3</th>\n",
       "      <td>1.377</td>\n",
       "      <td>-0.586</td>\n",
       "    </tr>\n",
       "    <tr>\n",
       "      <th>4</th>\n",
       "      <td>1.642</td>\n",
       "      <td>-0.596</td>\n",
       "    </tr>\n",
       "    <tr>\n",
       "      <th>5</th>\n",
       "      <td>2.047</td>\n",
       "      <td>-0.605</td>\n",
       "    </tr>\n",
       "    <tr>\n",
       "      <th>6</th>\n",
       "      <td>2.498</td>\n",
       "      <td>-0.613</td>\n",
       "    </tr>\n",
       "    <tr>\n",
       "      <th>7</th>\n",
       "      <td>3.035</td>\n",
       "      <td>-0.620</td>\n",
       "    </tr>\n",
       "    <tr>\n",
       "      <th>8</th>\n",
       "      <td>3.664</td>\n",
       "      <td>-0.627</td>\n",
       "    </tr>\n",
       "    <tr>\n",
       "      <th>9</th>\n",
       "      <td>4.080</td>\n",
       "      <td>-0.630</td>\n",
       "    </tr>\n",
       "    <tr>\n",
       "      <th>10</th>\n",
       "      <td>4.620</td>\n",
       "      <td>-0.635</td>\n",
       "    </tr>\n",
       "    <tr>\n",
       "      <th>11</th>\n",
       "      <td>5.120</td>\n",
       "      <td>-0.638</td>\n",
       "    </tr>\n",
       "    <tr>\n",
       "      <th>12</th>\n",
       "      <td>5.640</td>\n",
       "      <td>-0.641</td>\n",
       "    </tr>\n",
       "    <tr>\n",
       "      <th>13</th>\n",
       "      <td>6.240</td>\n",
       "      <td>-0.645</td>\n",
       "    </tr>\n",
       "    <tr>\n",
       "      <th>14</th>\n",
       "      <td>7.020</td>\n",
       "      <td>-0.648</td>\n",
       "    </tr>\n",
       "    <tr>\n",
       "      <th>15</th>\n",
       "      <td>7.760</td>\n",
       "      <td>-0.649</td>\n",
       "    </tr>\n",
       "    <tr>\n",
       "      <th>16</th>\n",
       "      <td>8.480</td>\n",
       "      <td>-0.652</td>\n",
       "    </tr>\n",
       "    <tr>\n",
       "      <th>17</th>\n",
       "      <td>9.310</td>\n",
       "      <td>-0.653</td>\n",
       "    </tr>\n",
       "    <tr>\n",
       "      <th>18</th>\n",
       "      <td>10.090</td>\n",
       "      <td>-0.657</td>\n",
       "    </tr>\n",
       "    <tr>\n",
       "      <th>19</th>\n",
       "      <td>12.310</td>\n",
       "      <td>-0.659</td>\n",
       "    </tr>\n",
       "  </tbody>\n",
       "</table>\n",
       "</div>"
      ],
      "text/plain": [
       "    Vin [V]  Vout [V]\n",
       "0     0.568    -0.548\n",
       "1     0.880    -0.564\n",
       "2     1.099    -0.577\n",
       "3     1.377    -0.586\n",
       "4     1.642    -0.596\n",
       "5     2.047    -0.605\n",
       "6     2.498    -0.613\n",
       "7     3.035    -0.620\n",
       "8     3.664    -0.627\n",
       "9     4.080    -0.630\n",
       "10    4.620    -0.635\n",
       "11    5.120    -0.638\n",
       "12    5.640    -0.641\n",
       "13    6.240    -0.645\n",
       "14    7.020    -0.648\n",
       "15    7.760    -0.649\n",
       "16    8.480    -0.652\n",
       "17    9.310    -0.653\n",
       "18   10.090    -0.657\n",
       "19   12.310    -0.659"
      ]
     },
     "execution_count": 2,
     "metadata": {},
     "output_type": "execute_result"
    }
   ],
   "source": [
    "df_data = pd.read_csv(\"../data-source/5-10-21/logaritmico/data.csv\")\n",
    "df_data\n",
    "df_errors = 5./100. * df_data # 5 %\n",
    "df_errors[:10] += 0.001 # 1dgt\n",
    "df_errors[10:] += 0.01 # 1dgt\n",
    "df_errors\n",
    "df_data"
   ]
  },
  {
   "cell_type": "markdown",
   "id": "b35f68c6",
   "metadata": {},
   "source": [
    "### Convert to arrays of uncertainties"
   ]
  },
  {
   "cell_type": "code",
   "execution_count": 3,
   "id": "770d5f68",
   "metadata": {},
   "outputs": [],
   "source": [
    "Vin_arr = pair_dat_err(df_data['Vin [V]'], df_errors['Vin [V]'])\n",
    "Vout_arr = pair_dat_err(df_data['Vout [V]'], df_errors['Vout [V]'])"
   ]
  },
  {
   "cell_type": "markdown",
   "id": "6b5bf844",
   "metadata": {},
   "source": [
    "### Canvas"
   ]
  },
  {
   "cell_type": "code",
   "execution_count": 4,
   "id": "36983117",
   "metadata": {},
   "outputs": [],
   "source": [
    "canvas = ROOT.TCanvas(\"c1\", \"bode gain 1\", 1000, 500)\n",
    "\n",
    "canvas.SetLogx(True)"
   ]
  },
  {
   "cell_type": "markdown",
   "id": "80be46b9",
   "metadata": {},
   "source": [
    "### GraphErrors"
   ]
  },
  {
   "cell_type": "code",
   "execution_count": 7,
   "id": "6dd0981b",
   "metadata": {},
   "outputs": [],
   "source": [
    "fit_log_graph_err = uncertainties_to_root_graph_errors(Vin_arr, Vout_arr)\n",
    "\n",
    "fit_log_graph_err.SetTitle(\"Bode Gain 1\")\n",
    "fit_log_graph_err.GetXaxis().SetTitle(\"f [Hz]\")\n",
    "fit_log_graph_err.GetYaxis().SetTitle(\"G [dB]\")\n",
    "fit_log_graph_err.SetMarkerStyle(21)\n",
    "fit_log_graph_err.SetMarkerSize(0.4)"
   ]
  },
  {
   "cell_type": "markdown",
   "id": "7cc7f680",
   "metadata": {},
   "source": [
    "### Fit [TODO]"
   ]
  },
  {
   "cell_type": "code",
   "execution_count": 18,
   "id": "761b43a5",
   "metadata": {},
   "outputs": [],
   "source": [
    "function_formula = \"- 2 * [0] * log(x / (1995 * [1]))\"\n",
    "fit_f = ROOT.TF1(\"fit1\", function_formula)"
   ]
  },
  {
   "cell_type": "code",
   "execution_count": 19,
   "id": "a2638858",
   "metadata": {},
   "outputs": [],
   "source": [
    "fit_f.SetLineColor(4)"
   ]
  },
  {
   "cell_type": "code",
   "execution_count": 23,
   "id": "6c74a43a",
   "metadata": {},
   "outputs": [],
   "source": [
    "fit_f.SetParName(0, \"V_T\")\n",
    "fit_f.SetParName(1, \"I_0\")\n",
    "fit_f.SetParameter(0, 0.026)\n",
    "fit_f.SetParameter(1, 1e-9)"
   ]
  },
  {
   "cell_type": "markdown",
   "id": "430844ec",
   "metadata": {},
   "source": [
    "### Draw"
   ]
  },
  {
   "cell_type": "code",
   "execution_count": 24,
   "id": "f2c1334f",
   "metadata": {},
   "outputs": [
    {
     "data": {
      "text/plain": [
       "<cppyy.gbl.TFitResultPtr object at 0x55ee2ce493e0>"
      ]
     },
     "execution_count": 24,
     "metadata": {},
     "output_type": "execute_result"
    },
    {
     "name": "stdout",
     "output_type": "stream",
     "text": [
      " FCN=0.472105 FROM MINOS     STATUS=PROBLEMS       85 CALLS        1617 TOTAL\n",
      "                     EDM=1.55879e-06    STRATEGY= 1      ERROR MATRIX ACCURATE \n",
      "  EXT PARAMETER                                   STEP         FIRST   \n",
      "  NO.   NAME      VALUE            ERROR          SIZE      DERIVATIVE \n",
      "   1  V_T          1.83575e-02   3.33296e-03          -nan          -nan\n",
      "   2  I_0          7.91971e-11   2.45976e-10   2.45976e-10          -inf\n"
     ]
    },
    {
     "data": {
      "image/png": "[encoded data removed]",
      "text/plain": [
       "<IPython.core.display.Image object>"
      ]
     },
     "metadata": {},
     "output_type": "display_data"
    }
   ],
   "source": [
    "canvas.Draw()\n",
    "fit_log_graph_err.Draw()\n",
    "fit_log_graph_err.Fit(fit_f, \"MSE\")"
   ]
  },
  {
   "cell_type": "code",
   "execution_count": null,
   "id": "ac5992e2",
   "metadata": {},
   "outputs": [],
   "source": []
  }
 ],
 "metadata": {
  "kernelspec": {
   "display_name": "Python 3 (ipykernel)",
   "language": "python",
   "name": "python3"
  },
  "language_info": {
   "codemirror_mode": {
    "name": "ipython",
    "version": 3
   },
   "file_extension": ".py",
   "mimetype": "text/x-python",
   "name": "python",
   "nbconvert_exporter": "python",
   "pygments_lexer": "ipython3",
   "version": "3.9.7"
  }
 },
 "nbformat": 4,
 "nbformat_minor": 5
}
