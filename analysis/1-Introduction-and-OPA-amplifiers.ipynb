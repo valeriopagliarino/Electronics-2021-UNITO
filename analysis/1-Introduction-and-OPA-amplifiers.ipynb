{
  "nbformat": 4,
  "nbformat_minor": 0,
  "metadata": {
    "colab": {
      "name": "1-Introduction-and-OPA-amplifiers.ipynb",
      "provenance": [],
      "include_colab_link": true
    },
    "kernelspec": {
      "display_name": "Python 3 (ipykernel)",
      "language": "python",
      "name": "python3"
    },
    "language_info": {
      "codemirror_mode": {
        "name": "ipython",
        "version": 3
      },
      "file_extension": ".py",
      "mimetype": "text/x-python",
      "name": "python",
      "nbconvert_exporter": "python",
      "pygments_lexer": "ipython3",
      "version": "3.9.7"
    }
  },
  "cells": [
    {
      "cell_type": "markdown",
      "metadata": {
        "id": "view-in-github",
        "colab_type": "text"
      },
      "source": [
        "<a href=\"https://colab.research.google.com/github/valeriopagliarino/Electronics-2021-UNITO/blob/main/1-Introduction-and-OPA-amplifiers.ipynb\" target=\"_parent\"><img src=\"https://colab.research.google.com/assets/colab-badge.svg\" alt=\"Open In Colab\"/></a>"
      ]
    },
    {
      "cell_type": "markdown",
      "metadata": {
        "id": "rk5sh2cvGJOs"
      },
      "source": [
        "# Data analysis: Introduction and OPA amplifiers\n",
        "### October 4th 2021\n",
        "<p>\n",
        "Authors: <b> Stefano Barbero, Valerio Pagliarino, Matteo Barbagiovanni, Federico Malnati </b> <p>Electronics Laboratory 2021 - Department of Physics - University of Turin <p>\n",
        "Date: 04/10/2021"
      ]
    },
    {
      "cell_type": "markdown",
      "metadata": {
        "id": "I4JK4N0_URnB"
      },
      "source": [
        "## Configuration"
      ]
    },
    {
      "cell_type": "markdown",
      "metadata": {
        "id": "0bwsv0IJJrZp"
      },
      "source": [
        "### Clone the GIT"
      ]
    },
    {
      "cell_type": "code",
      "metadata": {
        "colab": {
          "base_uri": "https://localhost:8080/"
        },
        "id": "EDuqpT5KFwX_",
        "outputId": "1df9e0f8-c725-46dd-d367-876d266f1528"
      },
      "source": [
        "!rm -r ./sample_data\n",
        "import os\n",
        "from getpass import getpass\n",
        "user = input('GitHub user')\n",
        "mail = input('GitHub email')\n",
        "password = getpass('GitHub password')\n",
        "os.environ['GITHUB_AUTH'] = user + ':' + password\n",
        "!git clone https://$GITHUB_AUTH@github.com/valeriopagliarino/Electronics-2021-UNITO.git\n",
        "!git config --global user.email user\n",
        "!git config --global user.name mail"
      ],
      "execution_count": null,
      "outputs": [
        {
          "name": "stdout",
          "output_type": "stream",
          "text": [
            "rm: cannot remove './sample_data': No such file or directory\n",
            "GitHub uservaleriopagliarino\n",
            "GitHub emailvalerio.pagliarino@edu.unito.it\n",
            "GitHub password··········\n",
            "Cloning into 'Electronics-2021-UNITO'...\n",
            "remote: Enumerating objects: 165, done.\u001b[K\n",
            "remote: Counting objects: 100% (165/165), done.\u001b[K\n",
            "remote: Compressing objects: 100% (142/142), done.\u001b[K\n",
            "remote: Total 165 (delta 70), reused 50 (delta 14), pack-reused 0\u001b[K\n",
            "Receiving objects: 100% (165/165), 12.97 MiB | 30.39 MiB/s, done.\n",
            "Resolving deltas: 100% (70/70), done.\n"
          ]
        }
      ]
    },
    {
      "cell_type": "markdown",
      "metadata": {
        "id": "w_hC9vVzGpSG"
      },
      "source": [
        "### Install environment"
      ]
    },
    {
      "cell_type": "code",
      "metadata": {
        "colab": {
          "base_uri": "https://localhost:8080/"
        },
        "id": "geqiHwACJuqv",
        "outputId": "77cc4d89-2833-469c-d1e9-9530d8febdc0"
      },
      "source": [
        "exec(open(\"./Electronics-2021-UNITO/analysis/ROOT-config.py\").read())"
      ],
      "execution_count": null,
      "outputs": [
        {
          "name": "stdout",
          "output_type": "stream",
          "text": [
            "Start config for JupyROOT Env. on Google Coolab - It takes about 3 minutes\n",
            "WGET...\n",
            "Done.\n",
            "UNZIP...\n",
            "TAR...\n",
            "APT...\n",
            "Installation completed.\n",
            "Shared objects loaded.\n",
            "Welcome to JupyROOT 6.14/04\n",
            "Completed!\n"
          ]
        }
      ]
    },
    {
      "cell_type": "markdown",
      "metadata": {
        "id": "G0zBs0IVc6WK"
      },
      "source": [
        "## Importa moduli [no COLAB]"
      ]
    },
    {
      "cell_type": "code",
      "metadata": {
        "id": "M0wqcW3tc6WL"
      },
      "source": [
        "import numpy as np\n",
        "import scipy as sp\n",
        "import sympy as sy\n",
        "import pandas as pd\n",
        "\n",
        "from matplotlib import pyplot as plt\n",
        "\n",
        "from uncertainties import ufloat\n",
        "import uncertainties.umath\n",
        "\n",
        "import pickle\n",
        "\n",
        "import ROOT # Per COLAB importato da ROOT-config.py"
      ],
      "execution_count": null,
      "outputs": []
    },
    {
      "cell_type": "markdown",
      "metadata": {
        "id": "-fz1JcVRdhWE"
      },
      "source": [
        "## Importa moduli [COLAB]"
      ]
    },
    {
      "cell_type": "code",
      "metadata": {
        "id": "NyusFmEvdhWG"
      },
      "source": [
        "!pip3 install uncertainties\n",
        "import numpy as np\n",
        "import scipy as sp\n",
        "import sympy as sy\n",
        "from uncertainties import ufloat\n",
        "import uncertainties.umath\n",
        "from matplotlib import pyplot as plt\n",
        "import pickle\n",
        "\n",
        "#Pickle with dict of Numpy arrays"
      ],
      "execution_count": null,
      "outputs": []
    },
    {
      "cell_type": "markdown",
      "metadata": {
        "id": "E9t6Vv9jLAqU"
      },
      "source": [
        "## Abstract / description"
      ]
    },
    {
      "cell_type": "markdown",
      "metadata": {
        "id": "wY40wP9LLJcV"
      },
      "source": [
        "testo testo testo"
      ]
    },
    {
      "cell_type": "markdown",
      "metadata": {
        "id": "bRuixBHqLNOI"
      },
      "source": [
        "## Load data"
      ]
    },
    {
      "cell_type": "code",
      "metadata": {
        "id": "1Bl9vOkgG7w5"
      },
      "source": [
        ""
      ],
      "execution_count": null,
      "outputs": []
    },
    {
      "cell_type": "markdown",
      "metadata": {
        "id": "5IrSAujFL5jS"
      },
      "source": [
        "## Data analysis"
      ]
    },
    {
      "cell_type": "code",
      "metadata": {
        "id": "kiPuYgGjL7a2"
      },
      "source": [
        ""
      ],
      "execution_count": null,
      "outputs": []
    },
    {
      "cell_type": "markdown",
      "metadata": {
        "id": "ssyM4tPzL9K7"
      },
      "source": [
        "## Commit changes"
      ]
    },
    {
      "cell_type": "code",
      "metadata": {
        "colab": {
          "base_uri": "https://localhost:8080/"
        },
        "id": "Aa2Qud14RQl3",
        "outputId": "815ec497-9e1e-4cbd-a213-741ba1e6e2bf"
      },
      "source": [
        "%cd /content/Electronics-2021-UNITO/\n",
        "!git add .\n",
        "!git commit -m \"Update from Colab\"\n",
        "!git push "
      ],
      "execution_count": null,
      "outputs": [
        {
          "name": "stdout",
          "output_type": "stream",
          "text": [
            "/content/Electronics-2021-UNITO\n",
            "[main e21b82d] Update from Colab\n",
            " 1 file changed, 1 insertion(+), 1 deletion(-)\n",
            "Counting objects: 5, done.\n",
            "Delta compression using up to 2 threads.\n",
            "Compressing objects: 100% (3/3), done.\n",
            "Writing objects: 100% (5/5), 353 bytes | 353.00 KiB/s, done.\n",
            "Total 5 (delta 2), reused 0 (delta 0)\n",
            "remote: Resolving deltas: 100% (2/2), completed with 2 local objects.\u001b[K\n",
            "To https://github.com/valeriopagliarino/Electronics-2021-UNITO.git\n",
            "   ae81715..e21b82d  main -> main\n"
          ]
        }
      ]
    },
    {
      "cell_type": "code",
      "metadata": {
        "id": "kYjkd8qfTIVL"
      },
      "source": [
        ""
      ],
      "execution_count": null,
      "outputs": []
    }
  ]
}
