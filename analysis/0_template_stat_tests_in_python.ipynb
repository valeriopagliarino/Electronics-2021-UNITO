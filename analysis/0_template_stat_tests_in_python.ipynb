{
 "cells": [
  {
   "cell_type": "markdown",
   "metadata": {
    "colab_type": "text",
    "id": "Xzts0ZB0h7It"
   },
   "source": [
    "# Effettuare test statistici in Python\n",
    "Con valutazione dei pvalues per le variabili statistiche più comuni <p>\n",
    "Valerio Pagliarino - 12.04.20 - Esperimentazioni IB - C.d.L. in Fisica - Università degli Studi di Torino"
   ]
  },
  {
   "cell_type": "markdown",
   "metadata": {
    "colab_type": "text",
    "id": "LiwWVNHyiYes"
   },
   "source": [
    "### Indice:\n",
    "\n",
    "*   Aspetti generali\n",
    "*   Test $\\chi^2$ di adattamento (o di Pearson)\n",
    "*   Test z normale\n",
    "*   Test t di Student\n",
    "*   Test F di Fisher per il confronto tra varianze\n",
    "\n",
    "\n"
   ]
  },
  {
   "cell_type": "markdown",
   "metadata": {
    "colab_type": "text",
    "id": "N5VifaqOjco9"
   },
   "source": [
    "## Aspetti generali\n",
    "Gli strumenti per lo svolgimento di test statistici in Python sono contenuti nel modulo `scipy.stats`, mentre per la manipolazione dei dati utilizzeremo come di consueto gli array del modulo `numpy` \n",
    "\n"
   ]
  },
  {
   "cell_type": "code",
   "execution_count": 3,
   "metadata": {
    "ExecuteTime": {
     "end_time": "2020-04-12T15:20:11.058610Z",
     "start_time": "2020-04-12T15:20:06.102056Z"
    },
    "colab": {},
    "colab_type": "code",
    "id": "5YTjhiFNiLCY"
   },
   "outputs": [],
   "source": [
    "import scipy\n",
    "import scipy.stats\n",
    "import numpy as np\n",
    "from matplotlib import pyplot as plt"
   ]
  },
  {
   "cell_type": "markdown",
   "metadata": {
    "colab_type": "text",
    "id": "Ec5Z8f1AknVJ"
   },
   "source": [
    "Analizzeremo le modalità di svolgimento dei test statistici più comuni direttamente in Python, con il vantaggio di poter ricavare più facilmente i <b>pvalues</b> rispetto alle tavole tradizionali. Questi ultimi verranno calcolati attraverso la funzione di probabilità cumulativa, integrale della funzione di densità di probabilità `(pdf, probability density function)` che è generalmente accessibile per tutte le variabili statistiche più comuni come segue: <p>\n",
    "```\n",
    "scipy.stats.<variabile>.cdf(X, ...)\n",
    "```\n",
    "tra gli argomenti passati alla funzione c'è sempre il valore $X$ che rappresenta l'estremo superiore di integrazione della funzione densità di probabilità oltre agli eventuali gradi di libertà ed altri parametri specifici della variabile utilizzata: <p>\n",
    "\\begin{equation}\n",
    " = \\int_{-\\infty...0}^{X} p.d.f.(x)dx\n",
    "\\end{equation} <p>\n",
    "Pertanto, per valutare un integrale sulla coda destra, occorrerà calcolare $1-\\int p.d.f.(x)dx$ sfruttando la condizione di normalizzazione.\n",
    "<b>Ecco alcuni esempi di valutazione della funzione di probabilità cumulativa:</b>\n"
   ]
  },
  {
   "cell_type": "code",
   "execution_count": 0,
   "metadata": {
    "colab": {
     "base_uri": "https://localhost:8080/",
     "height": 34
    },
    "colab_type": "code",
    "executionInfo": {
     "elapsed": 597,
     "status": "ok",
     "timestamp": 1585776406716,
     "user": {
      "displayName": "Valerio Pagliarino",
      "photoUrl": "https://lh3.googleusercontent.com/a-/AOh14Gi7GNlkHodmxlk4kge5QMAYElMVXI63JmCRYyEODQ=s64",
      "userId": "13519208424750545402"
     },
     "user_tz": -120
    },
    "id": "MnvAyOIikhcv",
    "outputId": "e78226a7-853f-42ab-d31b-0f63c624727a"
   },
   "outputs": [
    {
     "name": "stdout",
     "output_type": "stream",
     "text": [
      "p1 = 0.024997895148220435 , p2 = 0.05364397625264705 , p3 = 0.1625981298769782 , p4 = 0.7339194927820509\n"
     ]
    }
   ],
   "source": [
    "x = -1.96\n",
    "p1 = scipy.stats.norm.cdf(x)  #Integrale sulla coda sinistra sotto la distribuzione normale\n",
    "p2 = scipy.stats.t.cdf(x, 5)  #Integrale sulla coda sinistra sotto la distribuzione di Student con 5 gradi di libertà\n",
    "\n",
    "x = 2.01\n",
    "p3 = 1 - scipy.stats.f.cdf(x, 7, 9)    #Integrale sulla coda destra sotto la distribuzione F di Fisher con 7 e 9 gradi di libertà\n",
    "p4 = 1 - scipy.stats.chi2.cdf(x, df=4) #Integrale sulla coda destra sotto la distribuzione di chi^2 con 4 gradi di libertà\n",
    "\n",
    "print(\"p1 = {} , p2 = {} , p3 = {} , p4 = {}\".format(p1, p2, p3, p4))"
   ]
  },
  {
   "cell_type": "markdown",
   "metadata": {
    "colab_type": "text",
    "id": "vLahQDsepEBZ"
   },
   "source": [
    "Attraverso l'utilizzo della funzione di probabilità cumulativa è sempre possibile valutare il pvalue. L'elenco delle distribuzioni statistiche disponibili, insieme a molte altre informazioni, è accessibile nella documentazione ufficiale:\n",
    "\n",
    "*   Distribuzioni continue: https://docs.scipy.org/doc/scipy/reference/tutorial/stats/continuous.html\n",
    "*   Distribuzioni discrete: https://docs.scipy.org/doc/scipy/reference/tutorial/stats/discrete.html\n",
    "\n",
    "In seguito vedremo alcuni esempi applicativi, considerando i test statistici più comuni\n"
   ]
  },
  {
   "cell_type": "markdown",
   "metadata": {
    "colab_type": "text",
    "id": "Brm4bRJlqj96"
   },
   "source": [
    "## Test $\\chi^2$ di adattamento (o di Pearson)"
   ]
  },
  {
   "cell_type": "code",
   "execution_count": 0,
   "metadata": {
    "colab": {
     "base_uri": "https://localhost:8080/",
     "height": 265
    },
    "colab_type": "code",
    "executionInfo": {
     "elapsed": 1276,
     "status": "ok",
     "timestamp": 1585777707917,
     "user": {
      "displayName": "Valerio Pagliarino",
      "photoUrl": "https://lh3.googleusercontent.com/a-/AOh14Gi7GNlkHodmxlk4kge5QMAYElMVXI63JmCRYyEODQ=s64",
      "userId": "13519208424750545402"
     },
     "user_tz": -120
    },
    "id": "Jz3ZppgjnyD0",
    "outputId": "356f8f0f-01c5-4517-bdb4-1c606c1c0f80"
   },
   "outputs": [
    {
     "data": {
      "image/png": "[encoded data removed]",
      "text/plain": [
       "<Figure size 432x288 with 1 Axes>"
      ]
     },
     "metadata": {
      "tags": []
     },
     "output_type": "display_data"
    }
   ],
   "source": [
    "x = np.linspace(0, 20, 100) \n",
    "y = scipy.stats.chi2.pdf(x, 5) \n",
    "c = scipy.stats.chi2.cdf(x, 5)\n",
    "fig, ax = plt.subplots(1,1)\n",
    "ax.plot(x, y, label = 'Funzione densità $\\chi^2$ df = 4')\n",
    "ax.plot(x, c, label = 'Funzione di ripartizione $\\chi^2$ df = 4')\n",
    "ax.legend()\n",
    "ax.grid()"
   ]
  },
  {
   "cell_type": "markdown",
   "metadata": {
    "colab_type": "text",
    "id": "xrouCZ1pHurh"
   },
   "source": [
    "##### A) Calcolo del pvalue e confronto diretto con $\\alpha$ nel test a una coda"
   ]
  },
  {
   "cell_type": "code",
   "execution_count": 28,
   "metadata": {
    "ExecuteTime": {
     "end_time": "2020-04-12T16:14:33.531836Z",
     "start_time": "2020-04-12T16:14:33.512921Z"
    },
    "colab": {
     "base_uri": "https://localhost:8080/",
     "height": 34
    },
    "colab_type": "code",
    "executionInfo": {
     "elapsed": 1480,
     "status": "ok",
     "timestamp": 1586646099971,
     "user": {
      "displayName": "Valerio Pagliarino",
      "photoUrl": "https://lh3.googleusercontent.com/a-/AOh14Gi7GNlkHodmxlk4kge5QMAYElMVXI63JmCRYyEODQ=s64",
      "userId": "13519208424750545402"
     },
     "user_tz": -120
    },
    "id": "rumCYMOGAjRt",
    "outputId": "3063674c-4089-40d5-851b-4179e0ce560e"
   },
   "outputs": [
    {
     "name": "stdout",
     "output_type": "stream",
     "text": [
      "chi^2 =  2.7115277777777735\n"
     ]
    }
   ],
   "source": [
    "#Sia dato il seguente campione di esempio generato in modo casuale:\n",
    "y    = np.array([2.5, 4.2, 6.8, 7.5, 10.0, 12.2])\n",
    "x    = np.array([1. , 2.,  3. , 4. , 5.  , 6.  ])\n",
    "yerr = np.array([.4 , .6, .5  ,.7  , .1  , .4  ])\n",
    "#E la seguente funzione lineare interpolante:\n",
    "#  y = a + bx con:\n",
    "a = 0.61\n",
    "b = 1.88   # (Dal metodo dei minimi quadrati)\n",
    "\n",
    "#Definiamo ora la variabile di test chi^2 e assumiamo come ipotesi nulla la compatibilità tra la funzione e i nostri dati\n",
    "# in questo esempio eseguiremo il test a una coda (coda destra)\n",
    "chi_2 = 0.\n",
    "for i in range(y.size):\n",
    "  chi_2 += ((y[i] - b*x[i] - a)**2) / (yerr[i]**2)\n",
    "\n",
    "print(\"chi^2 = \", chi_2)"
   ]
  },
  {
   "cell_type": "markdown",
   "metadata": {
    "colab_type": "text",
    "id": "sQOzqbKLeeTW"
   },
   "source": [
    "$H_0\\rightarrow$ La relazione funzionale si adatta ai dati sperimentali"
   ]
  },
  {
   "cell_type": "code",
   "execution_count": 29,
   "metadata": {
    "ExecuteTime": {
     "end_time": "2020-04-12T16:14:34.555460Z",
     "start_time": "2020-04-12T16:14:34.540530Z"
    },
    "colab": {},
    "colab_type": "code",
    "id": "ugEa7isQeZhf"
   },
   "outputs": [
    {
     "name": "stdout",
     "output_type": "stream",
     "text": [
      "pvalue =  0.6071989118007652\n"
     ]
    }
   ],
   "source": [
    "#Cacoliamo l'integrale sotto la funzione densità di probabilità dal valore di chi^2 trovato fino a +infinito\n",
    "#  con df si indicano i gradi di libertà.\n",
    "pvalue = 1 - scipy.stats.chi2.cdf(chi_2, df = y.size - 2)\n",
    "print(\"pvalue = \", pvalue)"
   ]
  },
  {
   "cell_type": "markdown",
   "metadata": {
    "colab_type": "text",
    "id": "fr-fKbd1JvGE"
   },
   "source": [
    "##### B) Calcolo nel test a due code"
   ]
  },
  {
   "cell_type": "markdown",
   "metadata": {
    "colab_type": "text",
    "id": "BjoyA-BxeoH-"
   },
   "source": [
    "$H_0\\rightarrow$ La relazione funzionale si adatta ai dati sperimentali e l'errore non è sovrastimato"
   ]
  },
  {
   "cell_type": "code",
   "execution_count": 30,
   "metadata": {
    "ExecuteTime": {
     "end_time": "2020-04-12T16:14:37.852450Z",
     "start_time": "2020-04-12T16:14:37.837837Z"
    },
    "colab": {
     "base_uri": "https://localhost:8080/",
     "height": 34
    },
    "colab_type": "code",
    "executionInfo": {
     "elapsed": 4579,
     "status": "ok",
     "timestamp": 1586607411847,
     "user": {
      "displayName": "Valerio Pagliarino",
      "photoUrl": "https://lh3.googleusercontent.com/a-/AOh14Gi7GNlkHodmxlk4kge5QMAYElMVXI63JmCRYyEODQ=s64",
      "userId": "13519208424750545402"
     },
     "user_tz": -120
    },
    "id": "c1yE42-mJ0g1",
    "outputId": "8c2fa31b-90b0-4fff-cce3-bc56605ac0e0"
   },
   "outputs": [
    {
     "name": "stdout",
     "output_type": "stream",
     "text": [
      "pvalue a due code:  0.7856021763984694\n"
     ]
    }
   ],
   "source": [
    "#Nel caso a due code possiamo procedere calcolando gli integrali sulla coda destra e sinistra\n",
    "# separatamente. Dopo averli moltiplicati per due (metà probabilità sotto ciascuna coda)\n",
    "# solo uno di essi risulterà accettabile.\n",
    "pvalueSX = scipy.stats.chi2.cdf(chi_2, df = y.size - 2)\n",
    "pvalueDX = 1 - scipy.stats.chi2.cdf(chi_2, df = y.size - 2) #Qui sfruttiamo la condizione di normalizzazione\n",
    "pvalueSX *= 2\n",
    "pvalueDX *= 2\n",
    "pvalue = pvalueSX\n",
    "if (pvalue > 1):\n",
    "  pvalue = pvalueDX\n",
    "print(\"pvalue a due code: \", pvalue)"
   ]
  },
  {
   "cell_type": "markdown",
   "metadata": {
    "colab_type": "text",
    "id": "Qd0AYMnir6Ln"
   },
   "source": [
    "## Test $z$ normale"
   ]
  },
  {
   "cell_type": "code",
   "execution_count": 0,
   "metadata": {
    "colab": {
     "base_uri": "https://localhost:8080/",
     "height": 265
    },
    "colab_type": "code",
    "executionInfo": {
     "elapsed": 1779,
     "status": "ok",
     "timestamp": 1585777415534,
     "user": {
      "displayName": "Valerio Pagliarino",
      "photoUrl": "https://lh3.googleusercontent.com/a-/AOh14Gi7GNlkHodmxlk4kge5QMAYElMVXI63JmCRYyEODQ=s64",
      "userId": "13519208424750545402"
     },
     "user_tz": -120
    },
    "id": "vMniN06tr6L_",
    "outputId": "d390046a-5cf9-410a-efad-a15b329c0246"
   },
   "outputs": [
    {
     "data": {
      "image/png": "[encoded data removed]",
      "text/plain": [
       "<Figure size 432x288 with 1 Axes>"
      ]
     },
     "metadata": {
      "tags": []
     },
     "output_type": "display_data"
    }
   ],
   "source": [
    "x = np.linspace(-4, 4, 100)\n",
    "y = scipy.stats.norm.pdf(x)\n",
    "c = scipy.stats.norm.cdf(x) #La funzione di ripartizione della distribuzione normale è detta anche 'funzione degli errori' o ERF\n",
    "fig, ax = plt.subplots(1,1)\n",
    "ax.plot(x, y, label = 'Funzione densità norm.')\n",
    "ax.plot(x, c, label = 'Funzione di ripartizione norm.')\n",
    "ax.legend()\n",
    "ax.grid()"
   ]
  },
  {
   "cell_type": "code",
   "execution_count": 0,
   "metadata": {
    "colab": {},
    "colab_type": "code",
    "id": "htYN1biHr6M3"
   },
   "outputs": [],
   "source": [
    "#Sia data la seguente situazione di esempio:\n",
    "a     = 3.62\n",
    "a_err = 0.08\n",
    "b     = 3.21\n",
    "b_err = 0.09\n",
    "#  si vuole valutare la compatibilità tra le due misure con errori statistici indipendenti "
   ]
  },
  {
   "cell_type": "markdown",
   "metadata": {
    "colab_type": "text",
    "id": "6qkKdwGMexb6"
   },
   "source": [
    "$H_0\\rightarrow$ I due campioni risultano compatibili"
   ]
  },
  {
   "cell_type": "code",
   "execution_count": 30,
   "metadata": {
    "colab": {
     "base_uri": "https://localhost:8080/",
     "height": 34
    },
    "colab_type": "code",
    "executionInfo": {
     "elapsed": 1939,
     "status": "ok",
     "timestamp": 1586646186837,
     "user": {
      "displayName": "Valerio Pagliarino",
      "photoUrl": "https://lh3.googleusercontent.com/a-/AOh14Gi7GNlkHodmxlk4kge5QMAYElMVXI63JmCRYyEODQ=s64",
      "userId": "13519208424750545402"
     },
     "user_tz": -120
    },
    "id": "7rU7kXm2exEm",
    "outputId": "e7f2c73a-9f0c-4adc-fd97-983062081486"
   },
   "outputs": [
    {
     "name": "stdout",
     "output_type": "stream",
     "text": [
      "Passando al metodo 1-0.05 (5%) troviamo gli usuali valori +/- 1.96:  (-1.959963984540054, 1.959963984540054)\n"
     ]
    }
   ],
   "source": [
    "#Definiamo la variabile z di test come:\n",
    "z = (a-b)/np.sqrt(b_err**2 + a_err**2)\n",
    "\n",
    "#Nel caso di un test a due code possiamo utilizzare il metodo 'interval' che restituisce i valori critici;\n",
    "#  il metodo non richiede alfa, bensì il livello di protezione del test 1-alfa.\n",
    "val_critici = scipy.stats.norm.interval(1-0.05)\n",
    "print(\"Passando al metodo 1-0.05 (5%) troviamo gli usuali valori +/- 1.96: \", val_critici)\n",
    "#Possiamo ora procedere al confronto di z con tali valori"
   ]
  },
  {
   "cell_type": "code",
   "execution_count": 31,
   "metadata": {
    "colab": {
     "base_uri": "https://localhost:8080/",
     "height": 34
    },
    "colab_type": "code",
    "executionInfo": {
     "elapsed": 5366,
     "status": "ok",
     "timestamp": 1586646201715,
     "user": {
      "displayName": "Valerio Pagliarino",
      "photoUrl": "https://lh3.googleusercontent.com/a-/AOh14Gi7GNlkHodmxlk4kge5QMAYElMVXI63JmCRYyEODQ=s64",
      "userId": "13519208424750545402"
     },
     "user_tz": -120
    },
    "id": "zcJPEumqlPph",
    "outputId": "1b6a4005-303d-4d58-b6dc-ca14625e9e69"
   },
   "outputs": [
    {
     "name": "stdout",
     "output_type": "stream",
     "text": [
      "Variabile di test = 3.40486467400334  pvalue = 0.0006619684903875203\n"
     ]
    }
   ],
   "source": [
    "#Altrimenti è possibile calcolare il pvalue come segue:\n",
    "pvalue = scipy.stats.norm.cdf(-abs(z)) *2  #abs è il valore assoluto\n",
    "#abbiamo riportato il valore sulla coda sinistra, sfruttando la simmetria della gaussiana, e poi abbiamo moltiplicato *2 siccome il test è a due code.\n",
    "print(\"Variabile di test = {}  pvalue = {}\".format(z, pvalue))"
   ]
  },
  {
   "cell_type": "markdown",
   "metadata": {
    "colab_type": "text",
    "id": "nfa-ihOcr-Xn"
   },
   "source": [
    "## Test $t$ di Student"
   ]
  },
  {
   "cell_type": "code",
   "execution_count": 0,
   "metadata": {
    "colab": {
     "base_uri": "https://localhost:8080/",
     "height": 265
    },
    "colab_type": "code",
    "executionInfo": {
     "elapsed": 1741,
     "status": "ok",
     "timestamp": 1585777411559,
     "user": {
      "displayName": "Valerio Pagliarino",
      "photoUrl": "https://lh3.googleusercontent.com/a-/AOh14Gi7GNlkHodmxlk4kge5QMAYElMVXI63JmCRYyEODQ=s64",
      "userId": "13519208424750545402"
     },
     "user_tz": -120
    },
    "id": "nxapAa0Br-Xt",
    "outputId": "fd45d38e-1c64-498b-fbd0-220e9740f638"
   },
   "outputs": [
    {
     "data": {
      "image/png": "[encoded data removed]",
      "text/plain": [
       "<Figure size 432x288 with 1 Axes>"
      ]
     },
     "metadata": {
      "tags": []
     },
     "output_type": "display_data"
    }
   ],
   "source": [
    "x = np.linspace(-4, 4, 100)\n",
    "y = scipy.stats.t.pdf(x, 2)\n",
    "c = scipy.stats.t.cdf(x, 2)\n",
    "fig, ax = plt.subplots(1,1)\n",
    "ax.plot(x, y, label = 'Funzione densità t df = 2')\n",
    "ax.plot(x, c, label = 'Funzione di ripartizione t df = 2')\n",
    "ax.legend()\n",
    "ax.grid()"
   ]
  },
  {
   "cell_type": "markdown",
   "metadata": {
    "colab_type": "text",
    "id": "u1AtS61yuig4"
   },
   "source": [
    "### Variabile $t$ di Student per il confronto tra campioni"
   ]
  },
  {
   "cell_type": "markdown",
   "metadata": {
    "colab_type": "text",
    "id": "3__IjobYe9ux"
   },
   "source": [
    "$H_0\\rightarrow$ I due campioni risultano compatibili"
   ]
  },
  {
   "cell_type": "code",
   "execution_count": 0,
   "metadata": {
    "colab": {},
    "colab_type": "code",
    "id": "XQA0H85vujnb"
   },
   "outputs": [],
   "source": [
    "#Siano dati i seguenti campioni di esempio provenienti da un esercizio del corso:\n",
    "a = np.array([0.117, 0.139, 0.122, 0.139, 0.132])\n",
    "b = np.array([0.120, 0.127, 0.133, 0.115, 0.137, 0.126])\n",
    "\n",
    "a_mean = a.mean() \n",
    "b_mean = b.mean()\n",
    "a_var  = a.var(ddof = 1) #Il parametro ddof specifica che la sommatoria degli scarti quadratici per calcolare la varianza andrà divisa per N-1\n",
    "b_var  = b.var(ddof = 1)\n",
    "a_num  = a.size\n",
    "b_num  = b.size\n",
    "\n",
    "#Calcoliamo la varianza pesata, la variabile di test e i gradi di libertà\n",
    "S2 = ((a_num-1) * a_var + (b_num-1) * b_var)/(a_num + b_num - 2)\n",
    "t = (a_mean - b_mean) / np.sqrt(S2/a_num + S2/b_num)\n",
    "ndof = a_num - 1 + b_num - 1"
   ]
  },
  {
   "cell_type": "markdown",
   "metadata": {
    "colab_type": "text",
    "id": "lkMAIm8VukXp"
   },
   "source": [
    "### Variabile $t$ di Student per il confronto con un valore di riferimento"
   ]
  },
  {
   "cell_type": "markdown",
   "metadata": {
    "colab_type": "text",
    "id": "0h9VWq6kfD9z"
   },
   "source": [
    "$H_0\\rightarrow$ Il campione è compatibile con il valore di riferimento"
   ]
  },
  {
   "cell_type": "code",
   "execution_count": 0,
   "metadata": {
    "colab": {},
    "colab_type": "code",
    "id": "6ZLX7w-tuk9Z"
   },
   "outputs": [],
   "source": [
    "#Sia dato il seguente campione proveniente da un esercizio del corso ed un valore di riferimento:\n",
    "a = np.array([2.2,-0.1, 1.0, 0.2, -1.5, -0.2, -0.3, 0.8, 0.6, -0.5])\n",
    "ref = 0.\n",
    "a_var  = a.var(ddof = 1)\n",
    "a_mean = a.mean()\n",
    "#calcoliamo la variabile di test\n",
    "t = (a_mean - ref) / np.sqrt(a_var / a.size)\n",
    "#calcoliamo i gradi di libertà\n",
    "ndof = a.size -1"
   ]
  },
  {
   "cell_type": "markdown",
   "metadata": {
    "colab_type": "text",
    "id": "T0IWBbT_ulXF"
   },
   "source": [
    "### Variabile $t$ di Student per dati appaiati"
   ]
  },
  {
   "cell_type": "markdown",
   "metadata": {
    "colab_type": "text",
    "id": "T-KyB3EIfPNI"
   },
   "source": [
    "$H_0\\rightarrow$ Due serie di dati riferite al medesimo campione risultano compatibili (tra la prima e la seconda serie non sono avvenute variazioni significative)"
   ]
  },
  {
   "cell_type": "code",
   "execution_count": 0,
   "metadata": {
    "colab": {},
    "colab_type": "code",
    "id": "66B3DvlNumAE"
   },
   "outputs": [],
   "source": [
    "#Siano date le seguenti misurazioni riferite al medesimo campione con variabilità interna, \n",
    "#si vuole valutare se un evento accaduto tra le due misurazioni abbia prodotto una variazione significativa dell'osservabile.\n",
    "a = np.array([14., 8., 3., 20., 18., 9., 12.])\n",
    "b = np.array([4., 10., 7., 1., 8., 6., 3.])\n",
    "\n",
    "d = a-b # Costruiamo un nuovo campione 'd' contenente gli scarti tra ciascun elemento in 'a' e in 'b'\n",
    "\n",
    "d_mean = d.mean() \n",
    "d_var  = d.var(ddof = 1) #Il parametro ddof specifica che la sommatoria degli scarti quadratici andrà divisa per N-1\n",
    "d_num  = d.size"
   ]
  },
  {
   "cell_type": "markdown",
   "metadata": {
    "colab_type": "text",
    "id": "ac5fl40otB76"
   },
   "source": [
    "#### Esecuzione del test di Student"
   ]
  },
  {
   "cell_type": "code",
   "execution_count": 0,
   "metadata": {
    "colab": {
     "base_uri": "https://localhost:8080/",
     "height": 34
    },
    "colab_type": "code",
    "executionInfo": {
     "elapsed": 4158,
     "status": "ok",
     "timestamp": 1585828265700,
     "user": {
      "displayName": "Valerio Pagliarino",
      "photoUrl": "https://lh3.googleusercontent.com/a-/AOh14Gi7GNlkHodmxlk4kge5QMAYElMVXI63JmCRYyEODQ=s64",
      "userId": "13519208424750545402"
     },
     "user_tz": -120
    },
    "id": "MX9NB4WWtBhp",
    "outputId": "a98f9f72-cb5a-4c9a-8ca5-d08f8c983786"
   },
   "outputs": [
    {
     "name": "stdout",
     "output_type": "stream",
     "text": [
      "pvalue =  0.5050114619081207\n"
     ]
    }
   ],
   "source": [
    "#Anche questa volta possiamo sfruttare la 'cdf' (funzione di probabilità cumulativa) per eseguire un test a due code:\n",
    "\n",
    "pvalue = scipy.stats.t.cdf(-abs(t), df=ndof)  *2 #Anche qui riportiamo il valore sulla coda sinistra sfruttando la simmetria della distribuzione di Student\n",
    "print(\"pvalue = \", pvalue)"
   ]
  },
  {
   "cell_type": "code",
   "execution_count": 0,
   "metadata": {
    "colab": {},
    "colab_type": "code",
    "id": "zxs66zCnux5R"
   },
   "outputs": [],
   "source": [
    "#Scipy mette a disposizione anche funzioni più specifiche per questo tipo di test:\n",
    "campioneA = a[0:5] \n",
    "campioneB = b[0:5] #slicing del'array di numpy per selezionare solo alcuni elementi\n",
    "\n",
    "variabile_t, pvalue = scipy.stats.ttest_ind(campioneA, campioneB) #Compatibilità tra campioni, test a due code\n",
    "# https://docs.scipy.org/doc/scipy/reference/generated/scipy.stats.ttest_ind.html\n",
    "# Il test assume che i campioni abbiano la stessa varianza\n",
    "# Valido per campioni INDIPENDENTI.\n",
    "\n",
    "# Per campioni di dati DIPENDENTI si usa invece\n",
    "variable_t, pvalue = scipy.stats.ttest_rel(campioneA, campioneB)\n",
    "\n",
    "#Confronto con un valore di riferimento:\n",
    "variable_t, pvalue = scipy.stats.ttest_1samp(campioneA, ref)\n",
    "\n"
   ]
  },
  {
   "cell_type": "markdown",
   "metadata": {
    "colab_type": "text",
    "id": "jVYEoVxus7_n"
   },
   "source": [
    "## Test $F$ di Fisher per il confronto tra varianze"
   ]
  },
  {
   "cell_type": "code",
   "execution_count": 0,
   "metadata": {
    "colab": {
     "base_uri": "https://localhost:8080/",
     "height": 265
    },
    "colab_type": "code",
    "executionInfo": {
     "elapsed": 973,
     "status": "ok",
     "timestamp": 1585777541343,
     "user": {
      "displayName": "Valerio Pagliarino",
      "photoUrl": "https://lh3.googleusercontent.com/a-/AOh14Gi7GNlkHodmxlk4kge5QMAYElMVXI63JmCRYyEODQ=s64",
      "userId": "13519208424750545402"
     },
     "user_tz": -120
    },
    "id": "Aunux6sws7_2",
    "outputId": "8a4e715c-5065-4520-ae9e-e8ba46b9c841"
   },
   "outputs": [
    {
     "data": {
      "image/png": "[encoded data removed]",
      "text/plain": [
       "<Figure size 432x288 with 1 Axes>"
      ]
     },
     "metadata": {
      "tags": []
     },
     "output_type": "display_data"
    }
   ],
   "source": [
    "x = np.linspace(0, 10, 100)\n",
    "y = scipy.stats.f.pdf(x, 7,9)\n",
    "c = scipy.stats.f.cdf(x, 7,9)\n",
    "fig, ax = plt.subplots(1,1)\n",
    "ax.plot(x, y, label = 'Funzione densità f df = 7, 9')\n",
    "ax.plot(x, c, label = 'Funzione di ripartizione f df = 7, 9')\n",
    "ax.legend()\n",
    "ax.grid()"
   ]
  },
  {
   "cell_type": "code",
   "execution_count": 17,
   "metadata": {
    "ExecuteTime": {
     "end_time": "2020-04-12T15:50:10.976435Z",
     "start_time": "2020-04-12T15:50:10.971359Z"
    },
    "colab": {},
    "colab_type": "code",
    "id": "yIjT48_Ss8Ah"
   },
   "outputs": [],
   "source": [
    "#Si prendano due varianze di esempio:\n",
    "df1 = 10 - 1\n",
    "df2 = 8  - 1\n",
    "var1 = 3.4531\n",
    "var2 = 3.7142\n",
    "#Potrebbe trattarsi delle varianze di due campioni, oppure delle varianzeTRA e varianzeENTRO di un test ANOVA"
   ]
  },
  {
   "cell_type": "markdown",
   "metadata": {
    "colab_type": "text",
    "id": "pHknt3vMCDNB"
   },
   "source": [
    "##### Test ad una coda (destra)"
   ]
  },
  {
   "cell_type": "markdown",
   "metadata": {
    "colab_type": "text",
    "id": "-knhxyEkfkJO"
   },
   "source": [
    "$H_0\\rightarrow$ Le varianze risultano compatibili <br>\n",
    "$H_1\\rightarrow$ La varianza a numeratore è maggiore di quella a denominatore in modo significativo"
   ]
  },
  {
   "cell_type": "code",
   "execution_count": 20,
   "metadata": {
    "ExecuteTime": {
     "end_time": "2020-04-12T15:50:51.206240Z",
     "start_time": "2020-04-12T15:50:51.198731Z"
    },
    "colab": {
     "base_uri": "https://localhost:8080/",
     "height": 34
    },
    "colab_type": "code",
    "executionInfo": {
     "elapsed": 3859,
     "status": "ok",
     "timestamp": 1586639340698,
     "user": {
      "displayName": "Valerio Pagliarino",
      "photoUrl": "https://lh3.googleusercontent.com/a-/AOh14Gi7GNlkHodmxlk4kge5QMAYElMVXI63JmCRYyEODQ=s64",
      "userId": "13519208424750545402"
     },
     "user_tz": -120
    },
    "id": "GEMoVgzmCOZo",
    "outputId": "7e36b795-85c3-4f3b-973c-e8468cc6caf1"
   },
   "outputs": [
    {
     "name": "stdout",
     "output_type": "stream",
     "text": [
      "pvalue da confrontare con alpha (0.05) p =  0.44851336141851395\n"
     ]
    }
   ],
   "source": [
    "#Calcoliamo la variabile F tenendo a numeratore la varianza maggiore tra le due\n",
    "f = var2 / var1\n",
    "pvalue = 1 - scipy.stats.f.cdf(f, df2, df1)\n",
    "print(\"pvalue da confrontare con alpha (0.05) p = \", pvalue)"
   ]
  },
  {
   "cell_type": "markdown",
   "metadata": {
    "colab_type": "text",
    "id": "KLEWEWFRDz_J"
   },
   "source": [
    "##### Test a due code"
   ]
  },
  {
   "cell_type": "markdown",
   "metadata": {
    "colab_type": "text",
    "id": "mtdiMf27flNd"
   },
   "source": [
    "$H_0\\rightarrow$ Le varianze risultano compatibili <br>\n",
    "$H_1\\rightarrow$ La varianza a numeratore presenta differenza significativa rispetto a quella a denominatore"
   ]
  },
  {
   "cell_type": "code",
   "execution_count": 25,
   "metadata": {
    "ExecuteTime": {
     "end_time": "2020-04-12T15:51:40.912057Z",
     "start_time": "2020-04-12T15:51:40.904542Z"
    },
    "colab": {
     "base_uri": "https://localhost:8080/",
     "height": 34
    },
    "colab_type": "code",
    "executionInfo": {
     "elapsed": 2276,
     "status": "ok",
     "timestamp": 1586646515380,
     "user": {
      "displayName": "Valerio Pagliarino",
      "photoUrl": "https://lh3.googleusercontent.com/a-/AOh14Gi7GNlkHodmxlk4kge5QMAYElMVXI63JmCRYyEODQ=s64",
      "userId": "13519208424750545402"
     },
     "user_tz": -120
    },
    "id": "oeLmgaTFD4Lk",
    "outputId": "6e134f73-1ef0-4b22-ccb9-d19904ea0ef2"
   },
   "outputs": [
    {
     "name": "stdout",
     "output_type": "stream",
     "text": [
      "pvalue da confrontare con alpha (0.05) p =  0.8970267228370279\n"
     ]
    }
   ],
   "source": [
    "#Calcoliamo la variabile F tenendo a numeratore la varianza maggiore tra le due\n",
    "f = var2 / var1\n",
    "pvalue = (1 - scipy.stats.f.cdf(f, df2, df1)) * 2  #Ciascuna coda ha come integrale metà della probabilità totale.\n",
    "#Siccome abbiamo tenuto a numeratore la varianza maggiore non abbiamo bisogno di calcolare anche il pvalue sinistro per svolgere il test a due code.\n",
    "print(\"pvalue da confrontare con alpha (0.05) p = \", pvalue)"
   ]
  },
  {
   "cell_type": "markdown",
   "metadata": {
    "colab_type": "text",
    "id": "fmxQZKfKx5Mi"
   },
   "source": [
    "<hr>\n",
    "<p>\n",
    "Questo notebook non esaurisce minimamente la trattazione di test statistici in Python, nemmeno per quanto riguarda i più comuni. Si raccomanda di usare questi esempi come supporto all'analisi dati <u>sempre con spirito critico.</u><p><p>Corso di Esperimentazioni I B, 1 aprile 2020"
   ]
  },
  {
   "cell_type": "code",
   "execution_count": null,
   "metadata": {},
   "outputs": [],
   "source": []
  }
 ],
 "metadata": {
  "colab": {
   "authorship_tag": "ABX9TyMgDXXBBlFgGl7wpDeIyum8",
   "collapsed_sections": [],
   "name": "Condurre test statistici in Python",
   "provenance": []
  },
  "hide_input": false,
  "kernelspec": {
   "display_name": "Python 3",
   "language": "python",
   "name": "python3"
  },
  "language_info": {
   "codemirror_mode": {
    "name": "ipython",
    "version": 3
   },
   "file_extension": ".py",
   "mimetype": "text/x-python",
   "name": "python",
   "nbconvert_exporter": "python",
   "pygments_lexer": "ipython3",
   "version": "3.7.2"
  },
  "latex_envs": {
   "LaTeX_envs_menu_present": true,
   "autoclose": false,
   "autocomplete": true,
   "bibliofile": "biblio.bib",
   "cite_by": "apalike",
   "current_citInitial": 1,
   "eqLabelWithNumbers": true,
   "eqNumInitial": 1,
   "hotkeys": {
    "equation": "Ctrl-E",
    "itemize": "Ctrl-I"
   },
   "labels_anchors": false,
   "latex_user_defs": false,
   "report_style_numbering": false,
   "user_envs_cfg": false
  },
  "toc": {
   "base_numbering": 1,
   "nav_menu": {},
   "number_sections": true,
   "sideBar": true,
   "skip_h1_title": false,
   "title_cell": "Table of Contents",
   "title_sidebar": "Contents",
   "toc_cell": false,
   "toc_position": {},
   "toc_section_display": true,
   "toc_window_display": false
  },
  "varInspector": {
   "cols": {
    "lenName": 16,
    "lenType": 16,
    "lenVar": 40
   },
   "kernels_config": {
    "python": {
     "delete_cmd_postfix": "",
     "delete_cmd_prefix": "del ",
     "library": "var_list.py",
     "varRefreshCmd": "print(var_dic_list())"
    },
    "r": {
     "delete_cmd_postfix": ") ",
     "delete_cmd_prefix": "rm(",
     "library": "var_list.r",
     "varRefreshCmd": "cat(var_dic_list()) "
    }
   },
   "types_to_exclude": [
    "module",
    "function",
    "builtin_function_or_method",
    "instance",
    "_Feature"
   ],
   "window_display": false
  }
 },
 "nbformat": 4,
 "nbformat_minor": 1
}
