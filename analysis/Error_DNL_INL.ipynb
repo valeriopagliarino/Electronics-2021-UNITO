{
 "cells": [
  {
   "cell_type": "code",
   "execution_count": 1,
   "id": "d9552946",
   "metadata": {},
   "outputs": [
    {
     "name": "stdout",
     "output_type": "stream",
     "text": [
      "Welcome to JupyROOT 6.24/06\n"
     ]
    }
   ],
   "source": [
    "import numpy as np\n",
    "import scipy as sp\n",
    "import sympy as sy\n",
    "import pandas as pd\n",
    "\n",
    "from matplotlib import pyplot as plt\n",
    "\n",
    "from uncertainties import ufloat\n",
    "import uncertainties.umath\n",
    "\n",
    "import pickle\n",
    "\n",
    "import ROOT # Per COLAB importato da ROOT-config.py\n",
    "\n",
    "DATADIR = \"../data-source\"\n",
    "OUTPUTDIR = \"./output\""
   ]
  },
  {
   "cell_type": "code",
   "execution_count": 2,
   "id": "1b80545c",
   "metadata": {},
   "outputs": [],
   "source": [
    "import csv\n",
    "\n",
    "def cellFromCSV(path, row_index, col_index):\n",
    "  with open(path, 'r') as f:\n",
    "    mycsv = csv.reader(f)\n",
    "    column = []\n",
    "    for row in mycsv:\n",
    "        column.append(row[col_index])\n",
    "\n",
    "  return column[row_index]\n",
    "\n",
    "\n",
    "def openTek(path):\n",
    "  a = pd.read_table(path, header=None, sep=\",\", usecols=[3,4])\n",
    "  a = a.transpose()\n",
    "  a = a.rename(index={3: 'Time', 4: 'Amplitude'})\n",
    "  a = a.transpose()\n",
    "\n",
    "  data = {'Record lenght': cellFromCSV(path, 0, 1),\n",
    "          'Sample interval': cellFromCSV(path, 1, 1),\n",
    "          'Trigger point': cellFromCSV(path, 2, 1),\n",
    "          'Source': cellFromCSV(path, 6, 1),\n",
    "          'Vertical units': cellFromCSV(path, 7, 1),\n",
    "          'Vertical scale': cellFromCSV(path, 8, 1),\n",
    "          'Vertical offset': cellFromCSV(path, 9, 1),\n",
    "          'Horizontal units': cellFromCSV(path, 10, 1),\n",
    "          'Horizontal scale': cellFromCSV(path, 11, 1),\n",
    "          'Pt FMT': cellFromCSV(path, 12, 1),\n",
    "          'Y zero': cellFromCSV(path, 13, 1),\n",
    "          'Probe atten': cellFromCSV(path, 14, 1),\n",
    "          'Model': cellFromCSV(path, 15, 1),\n",
    "          'Serial': cellFromCSV(path, 16, 1),\n",
    "          'Firmware': cellFromCSV(path, 17, 1),\n",
    "          'Data' : a\n",
    "  }\n",
    "  return data"
   ]
  },
  {
   "cell_type": "code",
   "execution_count": 3,
   "id": "3f97c241",
   "metadata": {},
   "outputs": [],
   "source": [
    "from numpy import loadtxt\n",
    "data_adc = loadtxt(f'{DATADIR}/28-10-21/calibrazione_adc.csv', comments=\"#\", delimiter=\",\", unpack=False, skiprows=1)\n",
    "scatto = data_adc.transpose()[0]\n",
    "V_min = data_adc.transpose()[1]"
   ]
  },
  {
   "cell_type": "code",
   "execution_count": 4,
   "id": "eed140ad",
   "metadata": {},
   "outputs": [
    {
     "data": {
      "text/plain": [
       "array([-3.178, -2.961, -2.741, -2.528, -2.344, -2.127, -1.919, -1.656,\n",
       "       -1.494, -1.264, -1.023, -0.842, -0.673, -0.451, -0.228,  0.   ])"
      ]
     },
     "execution_count": 4,
     "metadata": {},
     "output_type": "execute_result"
    }
   ],
   "source": [
    "V_min"
   ]
  },
  {
   "cell_type": "code",
   "execution_count": 25,
   "id": "cc153249",
   "metadata": {},
   "outputs": [
    {
     "name": "stdout",
     "output_type": "stream",
     "text": [
      "0.2118666666666667 +- 0.026416829652494082\n"
     ]
    }
   ],
   "source": [
    "diff_list = []\n",
    "for i in range(0,len(V_min)-1):\n",
    "    diff_list.append(abs(V_min[i]-V_min[i+1]))\n",
    "    \n",
    "diff = np.asarray(diff)\n",
    "\n",
    "D_vmedio = diff.mean()\n",
    "D_vmedio_std = diff.std()\n",
    "print(D_vmedio, '+-',D_vmedio_std)\n",
    "e_dnl = abs(diff - D_vmedio)\n",
    "e_inl = e_dnl.sum()"
   ]
  },
  {
   "cell_type": "code",
   "execution_count": 22,
   "id": "f9c9e913",
   "metadata": {},
   "outputs": [
    {
     "data": {
      "text/plain": [
       "0.3106666666666671"
      ]
     },
     "execution_count": 22,
     "metadata": {},
     "output_type": "execute_result"
    }
   ],
   "source": [
    "e_inl"
   ]
  },
  {
   "cell_type": "code",
   "execution_count": null,
   "id": "59ee40c3",
   "metadata": {},
   "outputs": [],
   "source": []
  }
 ],
 "metadata": {
  "kernelspec": {
   "display_name": "Python 3 (ipykernel)",
   "language": "python",
   "name": "python3"
  },
  "language_info": {
   "codemirror_mode": {
    "name": "ipython",
    "version": 3
   },
   "file_extension": ".py",
   "mimetype": "text/x-python",
   "name": "python",
   "nbconvert_exporter": "python",
   "pygments_lexer": "ipython3",
   "version": "3.9.5"
  }
 },
 "nbformat": 4,
 "nbformat_minor": 5
}
