{
 "cells": [
  {
   "cell_type": "markdown",
   "id": "7059f272",
   "metadata": {
    "id": "rk5sh2cvGJOs"
   },
   "source": [
    "# Data analysis: Digital\n",
    "### October 25th 2021\n",
    "<p>\n",
    "Authors: <b> Stefano Barbero, Valerio Pagliarino, Matteo Barbagiovanni, Federico Malnati </b> <p>Electronics Laboratory 2021 - Department of Physics - University of Turin <p>\n",
    "Date: 04/10/2021\n",
    "\n",
    "\n"
   ]
  },
  {
   "cell_type": "markdown",
   "id": "6a7e1f2d",
   "metadata": {
    "id": "I4JK4N0_URnB"
   },
   "source": [
    "## Configuration"
   ]
  },
  {
   "cell_type": "markdown",
   "id": "1f65a62a",
   "metadata": {
    "id": "0bwsv0IJJrZp"
   },
   "source": [
    "### Clone the GIT"
   ]
  },
  {
   "cell_type": "code",
   "execution_count": null,
   "id": "0604cba4",
   "metadata": {
    "colab": {
     "base_uri": "https://localhost:8080/"
    },
    "id": "EDuqpT5KFwX_",
    "outputId": "729479dc-9d03-443e-d8d1-76c1c556e526"
   },
   "outputs": [
    {
     "name": "stdout",
     "output_type": "stream",
     "text": [
      "GitHub uservaleriopagliarino\n",
      "GitHub emailvalerio.pagliarino@edu.unito.it\n",
      "GitHub password··········\n",
      "Cloning into 'Electronics-2021-UNITO'...\n",
      "remote: Enumerating objects: 2242, done.\u001b[K\n",
      "remote: Counting objects: 100% (2242/2242), done.\u001b[K\n",
      "remote: Compressing objects: 100% (1642/1642), done.\u001b[K\n",
      "remote: Total 2242 (delta 1233), reused 1258 (delta 571), pack-reused 0\u001b[K\n",
      "Receiving objects: 100% (2242/2242), 91.79 MiB | 26.01 MiB/s, done.\n",
      "Resolving deltas: 100% (1233/1233), done.\n"
     ]
    }
   ],
   "source": [
    "!rm -r ./sample_data\n",
    "import os\n",
    "from getpass import getpass\n",
    "user = input('GitHub user')\n",
    "mail = input('GitHub email')\n",
    "password = getpass('GitHub password')\n",
    "os.environ['GITHUB_AUTH'] = user + ':' + password\n",
    "!git clone https://$GITHUB_AUTH@github.com/valeriopagliarino/Electronics-2021-UNITO.git\n",
    "!git config --global user.email user\n",
    "!git config --global user.name mail"
   ]
  },
  {
   "cell_type": "markdown",
   "id": "d63b10cc",
   "metadata": {
    "id": "w_hC9vVzGpSG"
   },
   "source": [
    "### Install environment"
   ]
  },
  {
   "cell_type": "code",
   "execution_count": null,
   "id": "ad11f2ca",
   "metadata": {
    "id": "geqiHwACJuqv"
   },
   "outputs": [],
   "source": [
    "exec(open(\"./Electronics-2021-UNITO/analysis/ROOT-config.py\").read())"
   ]
  },
  {
   "cell_type": "markdown",
   "id": "a8f27e71",
   "metadata": {
    "id": "G0zBs0IVc6WK"
   },
   "source": [
    "### Importa moduli [no COLAB]"
   ]
  },
  {
   "cell_type": "code",
   "execution_count": 9,
   "id": "e50258e0",
   "metadata": {
    "id": "M0wqcW3tc6WL",
    "outputId": "adf94189-9ce9-45bc-a3e2-a750d5034fea"
   },
   "outputs": [],
   "source": [
    "import numpy as np\n",
    "import scipy as sp\n",
    "import sympy as sy\n",
    "import pandas as pd\n",
    "\n",
    "from matplotlib import pyplot as plt\n",
    "\n",
    "from uncertainties import ufloat\n",
    "import uncertainties.umath\n",
    "\n",
    "import pickle\n",
    "\n",
    "import ROOT # Per COLAB importato da ROOT-config.py\n",
    "\n",
    "DATADIR = \"../data-source\"\n",
    "OUTPUTDIR = \"./output\""
   ]
  },
  {
   "cell_type": "markdown",
   "id": "4f763cc5",
   "metadata": {
    "id": "-fz1JcVRdhWE"
   },
   "source": [
    "### Importa moduli [COLAB]"
   ]
  },
  {
   "cell_type": "code",
   "execution_count": null,
   "id": "7381c932",
   "metadata": {
    "colab": {
     "base_uri": "https://localhost:8080/"
    },
    "id": "NyusFmEvdhWG",
    "outputId": "bd9af78b-a167-4d35-cd9e-7a3bc9c08692"
   },
   "outputs": [
    {
     "name": "stdout",
     "output_type": "stream",
     "text": [
      "Collecting uncertainties\n",
      "  Downloading uncertainties-3.1.6-py2.py3-none-any.whl (98 kB)\n",
      "\u001b[K     |████████████████████████████████| 98 kB 3.4 MB/s eta 0:00:011\n",
      "\u001b[?25hRequirement already satisfied: future in /usr/local/lib/python3.7/dist-packages (from uncertainties) (0.16.0)\n",
      "Installing collected packages: uncertainties\n",
      "Successfully installed uncertainties-3.1.6\n"
     ]
    }
   ],
   "source": [
    "!pip3 install uncertainties\n",
    "import numpy as np\n",
    "import scipy as sp\n",
    "import sympy as sy\n",
    "import pandas as pd\n",
    "\n",
    "from uncertainties import ufloat\n",
    "import uncertainties.umath\n",
    "from matplotlib import pyplot as plt\n",
    "import pickle #Pickle with dict of Numpy arrays\n",
    "\n",
    "# Variables for directories\n",
    "DATADIR = \"/content/Electronics-2021-UNITO/data-source\"\n",
    "OUTPUTDIR = \"/content/Electronics-2021-UNITO/analysis/output\""
   ]
  },
  {
   "cell_type": "markdown",
   "id": "ff7bda98",
   "metadata": {
    "id": "U-eAMLb4U-Yp"
   },
   "source": [
    "### Funzioni per l'importazione file Tektronix"
   ]
  },
  {
   "cell_type": "code",
   "execution_count": 10,
   "id": "96d9643d",
   "metadata": {
    "id": "h2R45ItQU3xj"
   },
   "outputs": [],
   "source": [
    "import csv\n",
    "\n",
    "def cellFromCSV(path, row_index, col_index):\n",
    "  with open(path, 'r') as f:\n",
    "    mycsv = csv.reader(f)\n",
    "    column = []\n",
    "    for row in mycsv:\n",
    "        column.append(row[col_index])\n",
    "\n",
    "  return column[row_index]\n",
    "\n",
    "\n",
    "def openTek(path):\n",
    "  a = pd.read_table(path, header=None, sep=\",\", usecols=[3,4])\n",
    "  a = a.transpose()\n",
    "  a = a.rename(index={3: 'Time', 4: 'Amplitude'})\n",
    "  a = a.transpose()\n",
    "\n",
    "  data = {'Record lenght': cellFromCSV(path, 0, 1),\n",
    "          'Sample interval': cellFromCSV(path, 1, 1),\n",
    "          'Trigger point': cellFromCSV(path, 2, 1),\n",
    "          'Source': cellFromCSV(path, 6, 1),\n",
    "          'Vertical units': cellFromCSV(path, 7, 1),\n",
    "          'Vertical scale': cellFromCSV(path, 8, 1),\n",
    "          'Vertical offset': cellFromCSV(path, 9, 1),\n",
    "          'Horizontal units': cellFromCSV(path, 10, 1),\n",
    "          'Horizontal scale': cellFromCSV(path, 11, 1),\n",
    "          'Pt FMT': cellFromCSV(path, 12, 1),\n",
    "          'Y zero': cellFromCSV(path, 13, 1),\n",
    "          'Probe atten': cellFromCSV(path, 14, 1),\n",
    "          'Model': cellFromCSV(path, 15, 1),\n",
    "          'Serial': cellFromCSV(path, 16, 1),\n",
    "          'Firmware': cellFromCSV(path, 17, 1),\n",
    "          'Data' : a\n",
    "  }\n",
    "  return data"
   ]
  },
  {
   "cell_type": "markdown",
   "id": "49a305d6",
   "metadata": {
    "id": "kSO8noYOaVc2"
   },
   "source": [
    "## Ring oscillator"
   ]
  },
  {
   "cell_type": "code",
   "execution_count": 11,
   "id": "2f912047",
   "metadata": {},
   "outputs": [],
   "source": [
    "in_osc = pd.read_csv(f'{DATADIR}/25-10-21/ring-oscillator.csv')\n",
    "\n",
    "time_osc = in_osc.to_numpy().transpose()[0]\n",
    "sign_osc = in_osc.to_numpy().transpose()[1]\n"
   ]
  },
  {
   "cell_type": "code",
   "execution_count": 12,
   "id": "a90b7fea",
   "metadata": {},
   "outputs": [
    {
     "data": {
      "image/png": "[encoded data removed]",
      "text/plain": [
       "<Figure size 576x432 with 1 Axes>"
      ]
     },
     "metadata": {
      "needs_background": "light"
     },
     "output_type": "display_data"
    }
   ],
   "source": [
    "fig, ax = plt.subplots(figsize=(8, 6))\n",
    "ax.plot(time_osc, sign_osc, color = \"red\", label = \"Segnale oscillante \")\n",
    "ax.set(xlabel='Base dei tempi (ns)', ylabel='Ampiezza del segnale (V)',\n",
    "       title='Anello oscillante con numero dispari di inverter TTL')\n",
    "\n",
    "ax.grid()\n",
    "#plt.savefig(f\"{OUTPUTDIR}/oscillating-ring.pdf\")"
   ]
  },
  {
   "cell_type": "code",
   "execution_count": 14,
   "id": "423c4170",
   "metadata": {},
   "outputs": [
    {
     "data": {
      "image/png": "[encoded data removed]",
      "text/plain": [
       "<Figure size 576x432 with 1 Axes>"
      ]
     },
     "metadata": {
      "needs_background": "light"
     },
     "output_type": "display_data"
    }
   ],
   "source": [
    "oscXY = pd.read_csv(f'{DATADIR}/25-10-21/XY-inVSout-NOT.csv')\n",
    "x_data = oscXY.to_numpy().transpose()[0]    #Offset traslazione canali\n",
    "y_data = oscXY.to_numpy().transpose()[1]   #Offset traslazione canali\n",
    "\n",
    "fig, ax = plt.subplots(nrows = 1, ncols = 1, figsize=(8, 6))\n",
    "ax.scatter(x_data, y_data, s=10, color='b')\n",
    "\n",
    "ax.set(xlabel='Ampiezza segnale in ingresso (V)', ylabel='Ampiezza segnale in uscita (V)',\n",
    "       title='Anello oscillante inverter, diagramma XY ingresso-uscita\\nmedie di 121 punti, tempo di persistenza infinito')\n",
    "\n",
    "ax.grid()\n",
    "\n",
    "#plt.savefig(f\"{OUTPUTDIR}/inverter_ring_xy.pdf\")"
   ]
  },
  {
   "cell_type": "code",
   "execution_count": null,
   "id": "daa297e9",
   "metadata": {},
   "outputs": [],
   "source": []
  }
 ],
 "metadata": {
  "kernelspec": {
   "display_name": "Python 3 (ipykernel)",
   "language": "python",
   "name": "python3"
  },
  "language_info": {
   "codemirror_mode": {
    "name": "ipython",
    "version": 3
   },
   "file_extension": ".py",
   "mimetype": "text/x-python",
   "name": "python",
   "nbconvert_exporter": "python",
   "pygments_lexer": "ipython3",
   "version": "3.9.5"
  }
 },
 "nbformat": 4,
 "nbformat_minor": 5
}
