{
 "cells": [
  {
   "cell_type": "markdown",
   "id": "69424609",
   "metadata": {},
   "source": [
    "# Bode plot for non-inverting OPA [gain 2] and [gain 11]"
   ]
  },
  {
   "cell_type": "code",
   "execution_count": 48,
   "id": "f9e74d3d",
   "metadata": {},
   "outputs": [],
   "source": [
    "import pandas as pd\n",
    "from utilities import * # My functions: pair_dat_err, uncertainties_to_root_graph_errors\n",
    "from uncertainties import umath\n",
    "import ROOT\n",
    "import numpy as np\n",
    "import scipy.signal as signal\n",
    "import matplotlib.pyplot as plt\n",
    "\n",
    "DATADIR = \"../data-source\"\n",
    "OUTPUTDIR = \"./output\""
   ]
  },
  {
   "cell_type": "markdown",
   "id": "6a74534a",
   "metadata": {},
   "source": [
    "# Gain 2"
   ]
  },
  {
   "cell_type": "markdown",
   "id": "b9867c14",
   "metadata": {},
   "source": [
    "### Read DataFrames"
   ]
  },
  {
   "cell_type": "code",
   "execution_count": 49,
   "id": "25ab4253",
   "metadata": {},
   "outputs": [
    {
     "data": {
      "text/plain": [
       "Index(['f', 'PPch1', 'PPch2', 'fase'], dtype='object')"
      ]
     },
     "execution_count": 49,
     "metadata": {},
     "output_type": "execute_result"
    }
   ],
   "source": [
    "df_data = pd.read_csv(\"../data-source/5-10-21/non_invertente/data.csv\")\n",
    "df_errors = pd.read_csv(\"../data-source/5-10-21/non_invertente/errors.csv\")\n",
    "df_errors.keys()"
   ]
  },
  {
   "cell_type": "markdown",
   "id": "6571a176",
   "metadata": {},
   "source": [
    "### Convert to arrays of uncertainties"
   ]
  },
  {
   "cell_type": "code",
   "execution_count": 50,
   "id": "0eb7d881",
   "metadata": {},
   "outputs": [],
   "source": [
    "#index=[28,29]\n",
    "#df_errors_n = df_errors.drop(index)\n",
    "#df_data_n = df_data.drop(index)\n",
    "f_arr = pair_dat_err(df_data['f'], df_errors['f'])\n",
    "ppch1_arr = pair_dat_err(df_data['PPch1'], df_errors['PPch1'])\n",
    "ppch2_arr = pair_dat_err(df_data['PPch2'], df_errors['PPch2'])\n",
    "fase_arr = df_data['fase']\n",
    "\n"
   ]
  },
  {
   "cell_type": "markdown",
   "id": "761ca969",
   "metadata": {},
   "source": [
    "### Calculate Gain"
   ]
  },
  {
   "cell_type": "code",
   "execution_count": 51,
   "id": "870d4257",
   "metadata": {},
   "outputs": [
    {
     "data": {
      "text/plain": [
       "array([1.78125+/-0.12767224215159545,\n",
       "       1.883116883116883+/-0.1384522972169636,\n",
       "       1.9803600654664484+/-0.14523855140968792,\n",
       "       1.9572368421052633+/-0.14459885851098245,\n",
       "       1.9572368421052633+/-0.14459885851098245,\n",
       "       1.971830985915493+/-0.15569779827952537,\n",
       "       1.9318181818181819+/-0.14125311835775145,\n",
       "       1.8840579710144927+/-0.15456497003831432,\n",
       "       1.8402777777777777+/-0.1454462836525921,\n",
       "       1.7121212121212124+/-0.15020950790062446, 1.5+/-0.1325570321861761,\n",
       "       1.3661971830985915+/-0.1192304630050715,\n",
       "       1.2352941176470589+/-0.11686207686943165,\n",
       "       0.9855072463768115+/-0.10173935062997987,\n",
       "       0.6086956521739131+/-0.08483246388050573,\n",
       "       0.3802816901408451+/-0.07534270587118803,\n",
       "       0.2676056338028169+/-0.07290051507642514,\n",
       "       0.1527777777777778+/-0.07025022274162865], dtype=object)"
      ]
     },
     "execution_count": 51,
     "metadata": {},
     "output_type": "execute_result"
    }
   ],
   "source": [
    "gains_arr = ppch2_arr / ppch1_arr\n",
    "db_gains_arr = list(map(lambda x: 20 * umath.log10(x), gains_arr))\n",
    "gains_arr"
   ]
  },
  {
   "cell_type": "markdown",
   "id": "f22d318c",
   "metadata": {},
   "source": [
    "### Canvas"
   ]
  },
  {
   "cell_type": "code",
   "execution_count": 52,
   "id": "33de17e2",
   "metadata": {},
   "outputs": [
    {
     "name": "stderr",
     "output_type": "stream",
     "text": [
      "Warning in <TCanvas::Constructor>: Deleting canvas with same name: c1\n"
     ]
    }
   ],
   "source": [
    "canvas = ROOT.TCanvas(\"c1\", \"bode gain 1\", 1000, 500)\n",
    "\n",
    "canvas.SetLogx(True)"
   ]
  },
  {
   "cell_type": "markdown",
   "id": "47a39b96",
   "metadata": {},
   "source": [
    "### GraphErrors"
   ]
  },
  {
   "cell_type": "code",
   "execution_count": 53,
   "id": "111a8f3d",
   "metadata": {},
   "outputs": [],
   "source": [
    "#bode_graph_err = uncertainties_to_root_graph_errors(f_arr, gains_arr)\n",
    "bode_graph_err = uncertainties_to_root_graph_errors(f_arr, db_gains_arr)\n",
    "\n",
    "bode_graph_err.SetTitle(\"Bode Gain 1\")\n",
    "bode_graph_err.GetXaxis().SetTitle(\"f [Hz]\")\n",
    "bode_graph_err.GetYaxis().SetTitle(\"G [dB]\")\n",
    "bode_graph_err.SetMarkerStyle(21)\n",
    "bode_graph_err.SetMarkerSize(0.4)"
   ]
  },
  {
   "cell_type": "markdown",
   "id": "6559639e",
   "metadata": {},
   "source": [
    "### Fit [TODO]"
   ]
  },
  {
   "cell_type": "code",
   "execution_count": 54,
   "id": "cccd0e08",
   "metadata": {},
   "outputs": [],
   "source": [
    "#function = \"1/[0]*(1-1/[0]*exp(x/[0]))\"\n",
    "\n"
   ]
  },
  {
   "cell_type": "code",
   "execution_count": 55,
   "id": "abf11b12",
   "metadata": {},
   "outputs": [
    {
     "name": "stdout",
     "output_type": "stream",
     "text": [
      "2.0030395136778116 +- 0.019925194973669996\n",
      "10.827760891590678 +- 0.17188622470915876\n",
      "987 +- 13.870000000000001\n",
      "990 +- 13.9\n",
      "9700 +- 101.0\n"
     ]
    }
   ],
   "source": [
    "R1= 987\n",
    "R2= 990\n",
    "R3= 9700\n",
    "G2 = 1+R2/R1\n",
    "\n",
    "\n",
    "R1_err = 1/100*R1 + 4*1\n",
    "R2_err = 1/100*R2 + 4*1\n",
    "R3_err = 1/100*R3 + 4*1\n",
    "G2_err = np.sqrt((R2_err/R1)**2+(R1_err*R2/(R1**2))**2)\n",
    "G11_err = np.sqrt((R3_err/R1)**2+(R1_err*R3/(R1**2))**2)\n",
    "print(G2,'+-',G2_err)\n",
    "print(G11,'+-',G11_err)\n",
    "print(R1,'+-',R1_err)\n",
    "print(R2,'+-',R2_err)\n",
    "print(R3,'+-',R3_err)\n",
    "\n",
    "G2_graph =1.9565217391304348 \n",
    "G2_graph_err =0.04900999445669284\n",
    "\n"
   ]
  },
  {
   "cell_type": "code",
   "execution_count": 56,
   "id": "f8ec2c18",
   "metadata": {},
   "outputs": [
    {
     "name": "stdout",
     "output_type": "stream",
     "text": [
      "guadagno calcolato =  6.033790332880712\n"
     ]
    }
   ],
   "source": [
    "A_v2_d = 20*umath.log10(1+R2/R1)\n",
    "#f_l2 = 1/np.sqrt(2)*(1+R2/R1)\n",
    "print('guadagno calcolato = ',A_v2_d)\n",
    "#print('freq taglio = ',f_l2)"
   ]
  },
  {
   "cell_type": "code",
   "execution_count": 57,
   "id": "755f7f18",
   "metadata": {},
   "outputs": [],
   "source": [
    "function = \"[1]*(1/sqrt(1+(x/([0]))**2))\"\n",
    "fit_f = ROOT.TF1(\"fit1\", function)\n",
    "###parameter per low pass filter\n",
    "#fit_f.SetParName(0, \"f_l2\")\n",
    "fit_f.SetParName(1, \"Gain2\")\n",
    "#fit_f.SetParameter(0, 0.5*10**3)\n",
    "#fit_f.SetParameter(1, A_v2_d)\n",
    "\n",
    "#fit_f.SetParLimits(1,A_v2_d-1,A_v2_d+1)\n",
    "#fit_f.SetParLimits(0,1e+05,1e+07)"
   ]
  },
  {
   "cell_type": "code",
   "execution_count": 58,
   "id": "ddf8e4c6",
   "metadata": {},
   "outputs": [],
   "source": [
    "\n",
    "fit_f.SetLineColor(4)"
   ]
  },
  {
   "cell_type": "markdown",
   "id": "54e8f1f8",
   "metadata": {},
   "source": [
    "### Draw"
   ]
  },
  {
   "cell_type": "code",
   "execution_count": 59,
   "id": "06a49d00",
   "metadata": {},
   "outputs": [
    {
     "data": {
      "text/plain": [
       "<cppyy.gbl.TFitResultPtr object at 0xa173770>"
      ]
     },
     "execution_count": 59,
     "metadata": {},
     "output_type": "execute_result"
    },
    {
     "name": "stdout",
     "output_type": "stream",
     "text": [
      " NEW MINIMUM FOUND.  GO BACK TO MINIMIZATION STEP.\n",
      " =================================================\n",
      "                                                  V\n",
      "                                                  V\n",
      "                                                  V\n",
      "                                               VVVVVVV\n",
      "                                                VVVVV\n",
      "                                                 VVV\n",
      "                                                  V\n",
      "\n",
      " FCN=98.2685 FROM MINOS     STATUS=SUCCESSFUL     14 CALLS         356 TOTAL\n",
      "                     EDM=4.51853e-06    STRATEGY= 1      ERROR MATRIX ACCURATE \n",
      "  EXT PARAMETER                                   STEP         FIRST   \n",
      "  NO.   NAME      VALUE            ERROR          SIZE      DERIVATIVE \n",
      "   1  p0           2.78125e+05   4.31435e+04   4.89482e+02  -5.52157e-10\n",
      "   2  Gain2        5.76186e+00   2.29851e-01   2.29851e-01  -2.62869e-06\n"
     ]
    },
    {
     "data": {
      "image/png": "[encoded data removed]",
      "text/plain": [
       "<IPython.core.display.Image object>"
      ]
     },
     "metadata": {},
     "output_type": "display_data"
    }
   ],
   "source": [
    "canvas.Draw()\n",
    "bode_graph_err.Draw()\n",
    "bode_graph_err.Fit(fit_f, \"MSE\")"
   ]
  },
  {
   "cell_type": "code",
   "execution_count": 60,
   "id": "40d38212",
   "metadata": {},
   "outputs": [
    {
     "data": {
      "text/plain": [
       "[0.6225667397462865,\n",
       " 0.6386121777914525,\n",
       " 0.6370185153374357,\n",
       " 0.6417055410961994,\n",
       " 0.6417055410961994,\n",
       " 0.6858467598924467,\n",
       " 0.6351058337867125,\n",
       " 0.7125758826522328,\n",
       " 0.6864889547265244,\n",
       " 0.762039041965046,\n",
       " 0.7675838348790401,\n",
       " 0.7580330687028737,\n",
       " 0.8217080354081072,\n",
       " 0.8966923121765903,\n",
       " 1.2105317597712755,\n",
       " 1.7208780890501372,\n",
       " 2.366190201281405,\n",
       " 3.9939426443996044]"
      ]
     },
     "execution_count": 60,
     "metadata": {},
     "output_type": "execute_result"
    }
   ],
   "source": [
    "###prova scipy\n",
    "db_gains_arr\n",
    "[i.s for i in db_gains_arr]\n"
   ]
  },
  {
   "cell_type": "code",
   "execution_count": 61,
   "id": "c6f5d710",
   "metadata": {},
   "outputs": [],
   "source": [
    "ppch1_Arr = df_data['PPch1']\n",
    "ppch2_Arr = df_data['PPch2']\n",
    "gain_Arr = ppch2_Arr/ppch1_Arr\n",
    "db_gain_Arr = [i.n for i in db_gains_arr]\n",
    "#gain_Arr_errors = ((df_errors_n['PPch2']/ppch1_Arr)**2 + (ppch2_Arr/(ppch1_Arr)**2*df_errors_n['PPch1'])**2)  \n",
    "#db_gain_Arr_errors = list(map(lambda x: 20 * umath.log(x), gain_Arr_errors))  \n",
    "db_gain_Arr_errors = [i.s for i in db_gains_arr]\n"
   ]
  },
  {
   "cell_type": "code",
   "execution_count": 68,
   "id": "f0102fae",
   "metadata": {},
   "outputs": [
    {
     "name": "stdout",
     "output_type": "stream",
     "text": [
      "H(s) = TransferFunctionContinuous(\n",
      "array([985000.]),\n",
      "array([1.e+00, 5.e+05]),\n",
      "dt: None\n",
      ")\n"
     ]
    },
    {
     "data": {
      "image/png": "[encoded data removed]",
      "text/plain": [
       "<Figure size 720x1152 with 2 Axes>"
      ]
     },
     "metadata": {
      "needs_background": "light"
     },
     "output_type": "display_data"
    },
    {
     "data": {
      "text/plain": [
       "0      1.460\n",
       "1      0.716\n",
       "2      0.360\n",
       "3      0.719\n",
       "4      1.800\n",
       "5      3.750\n",
       "6      7.200\n",
       "7      4.200\n",
       "8      4.320\n",
       "9     40.100\n",
       "10    52.500\n",
       "11    60.600\n",
       "12    71.900\n",
       "13    86.500\n",
       "Name: fase, dtype: float64"
      ]
     },
     "execution_count": 68,
     "metadata": {},
     "output_type": "execute_result"
    }
   ],
   "source": [
    "\n",
    "G2=1.97\n",
    "G2_err = 0.01\n",
    "fH2=5.0*10**5\n",
    "\n",
    "fH_2_err = 0.3*10**5\n",
    "a=1/fH2\n",
    "b=0\n",
    "c=0\n",
    "\n",
    "\n",
    "num = np.array([G2]) #zeros(increase 20 db)\n",
    "den = np.array([a,1]) #poles (decreases 20 db) [1,a+b+c,ab+ca+cb,abc]  (as+1)(bs+1)(cs+1)=(1+(a+b)s+abs^2)(cs+1)=(1+(a+b+c)s+(ab+c(a+b))s^2+abcs^3)\n",
    "H = signal.TransferFunction(num, den)\n",
    "print ('H(s) =', H)\n",
    "f, mag, phase = H.bode(df_data['f']) #df_data_n['f'] \n",
    "\n",
    "plt.figure(figsize=((10,16)))\n",
    "\n",
    "\n",
    "ax1 = plt.subplot(211)\n",
    "plt.semilogx(f, mag,color = \"blue\") # Magnitude Plot\n",
    "plt.title('Diagrammi di Bode OPA non invertente(Gain 2)',fontsize=20)\n",
    "plt.ylabel('Ampiezza (V)',fontsize=15)\n",
    "\n",
    "plt.grid()\n",
    "plt.errorbar( df_data['f'],db_gain_Arr ,xerr = df_errors['f'],yerr = db_gain_Arr_errors, fmt='o', color='Black', elinewidth=1,capthick=0.5,errorevery=1, alpha=1, ms=0, capsize = 3)\n",
    "plt.setp(ax1.get_xticklabels(), visible=False)\n",
    "plt.vlines(fH2, mag[len(mag)-1]-3,  mag[0], linestyles=\"--\", color = \"red\")\n",
    "plt.hlines(mag[0]-3,f[0],f[len(f)-3], linestyles=\"--\", color = \"red\")\n",
    "plt.text(fH2+100000, mag[len(mag)-1]-2, 'H.F', verticalalignment='top', horizontalalignment='left', color='red', fontsize=15)\n",
    "\n",
    "max_in = mag[0]\n",
    "max_rt=mag[0]-3\n",
    "plt.hlines(max_in, fH2+10000, f[len(f)-3])\n",
    "plt.hlines(max_rt, fH2+10000, f[len(f)-3])\n",
    "\n",
    "plt.text(f[len(f)-3], max_rt + abs(max_rt - max_in) - 0.9, '3 dB',verticalalignment='top', horizontalalignment='left', color='black', fontsize=15)\n",
    "\n",
    "plt.subplot(212, sharex = ax1)\n",
    "plt.ylabel('Fase (rad)',fontsize=15)\n",
    "plt.xlabel('f (Hz)',fontsize=15)\n",
    "plt.semilogx(f, phase,color = \"blue\")\n",
    "\n",
    "plt.subplot(212)\n",
    "np.sort(fase_arr)\n",
    "plt.scatter( df_data['f'][:-5],np.sort(fase_arr[:-5])*-1 ,marker='x', s = 500 ,  color='Black')\n",
    "\n",
    "plt.grid()\n",
    "plt.subplots_adjust(hspace=0)\n",
    "\n",
    "plt.savefig(f\"{OUTPUTDIR}/OPA-bode_gain2(mag+phase).pdf\")\n",
    "plt.show()\n",
    "fase_arr[:-4]"
   ]
  },
  {
   "cell_type": "code",
   "execution_count": 63,
   "id": "c778c53c",
   "metadata": {},
   "outputs": [
    {
     "data": {
      "text/plain": [
       "10.284655097834023"
      ]
     },
     "execution_count": 63,
     "metadata": {},
     "output_type": "execute_result"
    }
   ],
   "source": [
    "((mag-db_gain_Arr)**2).sum()"
   ]
  },
  {
   "cell_type": "code",
   "execution_count": 64,
   "id": "4ef9ed33",
   "metadata": {},
   "outputs": [
    {
     "data": {
      "text/plain": [
       "10.284655097834023"
      ]
     },
     "execution_count": 64,
     "metadata": {},
     "output_type": "execute_result"
    }
   ],
   "source": [
    "((mag-db_gain_Arr)**2).sum()"
   ]
  },
  {
   "cell_type": "code",
   "execution_count": 65,
   "id": "9a97be42",
   "metadata": {},
   "outputs": [
    {
     "data": {
      "text/plain": [
       "0.2694585568058535"
      ]
     },
     "execution_count": 65,
     "metadata": {},
     "output_type": "execute_result"
    }
   ],
   "source": [
    "z_G2 = abs(G2-G2_graph)/np.sqrt(G2_err**2 + G2_graph_err**2)\n",
    "z_G2"
   ]
  },
  {
   "cell_type": "code",
   "execution_count": 66,
   "id": "a6940fca",
   "metadata": {},
   "outputs": [
    {
     "data": {
      "image/png": "[encoded data removed]",
      "text/plain": [
       "<Figure size 1152x648 with 1 Axes>"
      ]
     },
     "metadata": {
      "needs_background": "light"
     },
     "output_type": "display_data"
    }
   ],
   "source": [
    "from scipy.signal import (freqz, butter, bessel, cheby1, cheby2, ellip, \n",
    "                              tf2zpk, zpk2tf, lfilter, buttap, bilinear, cheb2ord, cheb2ap\n",
    "                              )\n",
    "import numpy as np\n",
    "import matplotlib.pyplot as plt\n",
    "from matplotlib import patches\n",
    "from matplotlib.pyplot import axvline, axhline\n",
    "from collections import defaultdict\n",
    "def zplane(z, p, filename=None):\n",
    "    \"\"\"Plot the complex z-plane given zeros and poles.\n",
    "    \"\"\"\n",
    "    \n",
    "    # get a figure/plot\n",
    "    ax = plt.subplot(2, 2, 1)\n",
    "    # TODO: should just inherit whatever subplot it's called in?\n",
    "\n",
    "    # Add unit circle and zero axes    \n",
    "    unit_circle = patches.Circle((0,0), radius=p, fill=False,\n",
    "                                 color='black', ls='solid', alpha=0.1)\n",
    "    ax.add_patch(unit_circle)\n",
    "    axvline(0, color='0.7')\n",
    "    axhline(0, color='0.7')\n",
    "    \n",
    "    # Plot the poles and set marker properties\n",
    "    poles = plt.plot(p.real, p.imag, 'x', markersize=9, alpha=0.5)\n",
    "    \n",
    "    # Plot the zeros and set marker properties\n",
    "    zeros = plt.plot(z.real, z.imag,  'o', markersize=9, \n",
    "             color='none', alpha=0.5,\n",
    "             markeredgecolor=poles[0].get_color(), # same color as poles\n",
    "             )\n",
    "\n",
    "    # Scale axes to fit\n",
    "    r = 1.5 * np.amax(np.concatenate((abs(z), abs(p), [1])))\n",
    "    plt.axis('scaled')\n",
    "    plt.axis([-r, r, -r, r])\n",
    "b= num\n",
    "a = den\n",
    "\n",
    "# Get the poles and zeros\n",
    "z, p, k = tf2zpk(b, a)\n",
    "\n",
    "# Create zero-pole plot\n",
    "plt.figure(figsize=(16, 9))\n",
    "zplane(z, p)\n",
    "plt.grid(True, color='0.9', linestyle='-', which='both', axis='both')\n",
    "plt.title('Poles and zeros')\n",
    "t = np.linspace(0,400,1000)\n",
    "a = 5*10**5\n",
    "#plt.plot(a*np.sin(t),a*np.cos(t),color='r', linestyle= '-')\n"
   ]
  },
  {
   "cell_type": "code",
   "execution_count": 67,
   "id": "a2397e3f",
   "metadata": {},
   "outputs": [
    {
     "data": {
      "image/png": "[encoded data removed]",
      "text/plain": [
       "<Figure size 720x1152 with 1 Axes>"
      ]
     },
     "metadata": {
      "needs_background": "light"
     },
     "output_type": "display_data"
    }
   ],
   "source": [
    "plt.figure(figsize=((10,16)))\n",
    "\n",
    "\n",
    "ax1 = plt.subplot(211)\n",
    "plt.semilogx(f, mag,color = \"blue\") # Magnitude Plot\n",
    "plt.title('Diagramma di Bode OPA non invertente(Gain 2)',fontsize=20)\n",
    "plt.ylabel('Magnitude',fontsize=15)\n",
    "plt.xlabel('f [Hz]',fontsize=15)\n",
    "plt.grid()\n",
    "plt.errorbar( df_data['f'],db_gain_Arr ,xerr = df_errors['f'],yerr = db_gain_Arr_errors, fmt='o', color='Black', elinewidth=1,capthick=0.5,errorevery=1, alpha=1, ms=0, capsize = 3)\n",
    "plt.vlines(fH2, mag[len(mag)-1]-3,  mag[0], linestyles=\"--\", color = \"red\")\n",
    "plt.hlines(mag[0]-3,f[0],f[len(f)-3], linestyles=\"--\", color = \"red\")\n",
    "plt.text(fH2+100000, mag[len(mag)-1]-2, 'H.F', verticalalignment='top', horizontalalignment='left', color='red', fontsize=15)\n",
    "\n",
    "max_in = mag[0]\n",
    "max_rt=mag[0]-3\n",
    "plt.hlines(max_in, fH2+10000, f[len(f)-3])\n",
    "plt.hlines(max_rt, fH2+10000, f[len(f)-3])\n",
    "\n",
    "plt.text(f[len(f)-3], max_rt + abs(max_rt - max_in) - 0.9, '3 dB',verticalalignment='top', horizontalalignment='left', color='black', fontsize=15)\n",
    "\n",
    "plt.savefig(f\"{OUTPUTDIR}/OPA-bode_gain2(mag).pdf\")\n",
    "\n",
    "\n",
    "\n",
    "\n"
   ]
  },
  {
   "cell_type": "markdown",
   "id": "e653ab08",
   "metadata": {},
   "source": [
    "# Gain 10"
   ]
  },
  {
   "cell_type": "code",
   "execution_count": 284,
   "id": "2098d3af",
   "metadata": {},
   "outputs": [
    {
     "data": {
      "text/plain": [
       "29"
      ]
     },
     "execution_count": 284,
     "metadata": {},
     "output_type": "execute_result"
    }
   ],
   "source": [
    "df_data = pd.read_csv(\"../data-source/4-10-21/inverting_gain/inverting_gain_10_data.csv\")\n",
    "df_errors = pd.read_csv(\"../data-source/4-10-21/inverting_gain/inverting_gain_10_errors.csv\")\n",
    "df_tot = pd.\n",
    "len(df_data)"
   ]
  },
  {
   "cell_type": "markdown",
   "id": "5cd244e0",
   "metadata": {},
   "source": [
    "### Convert to arrays of uncertainties"
   ]
  },
  {
   "cell_type": "code",
   "execution_count": 285,
   "id": "c49774f6",
   "metadata": {},
   "outputs": [],
   "source": [
    "index=[27,28]\n",
    "df_errors_n = df_errors.drop(index)\n",
    "df_data_n = df_data.drop(index)\n",
    "f_arr = pair_dat_err(df_data_n['f'], df_errors_n['f'])\n",
    "ppch1_arr = pair_dat_err(df_data_n['PPch1'], df_errors_n['PPch1'])\n",
    "ppch2_arr = pair_dat_err(df_data_n['PPch2'], df_errors_n['PPch2'])"
   ]
  },
  {
   "cell_type": "markdown",
   "id": "897ecc26",
   "metadata": {},
   "source": [
    "### Calculate Gain"
   ]
  },
  {
   "cell_type": "code",
   "execution_count": 286,
   "id": "86ad38af",
   "metadata": {},
   "outputs": [],
   "source": [
    "gains_arr = ppch2_arr / ppch1_arr\n",
    "db_gains_arr = list(map(lambda x: 20 * umath.log10(x), gains_arr))\n"
   ]
  },
  {
   "cell_type": "markdown",
   "id": "0b75f3fd",
   "metadata": {},
   "source": [
    "### Canvas"
   ]
  },
  {
   "cell_type": "code",
   "execution_count": 287,
   "id": "d2b0c2f7",
   "metadata": {},
   "outputs": [],
   "source": [
    "canvas = ROOT.TCanvas(\"c2\", \"bode gain 10\", 1000, 500)\n",
    "\n",
    "canvas.SetLogx(True)"
   ]
  },
  {
   "cell_type": "markdown",
   "id": "b47cf23d",
   "metadata": {},
   "source": [
    "### GraphErrors"
   ]
  },
  {
   "cell_type": "code",
   "execution_count": 288,
   "id": "d166e046",
   "metadata": {},
   "outputs": [],
   "source": [
    "#bode_graph_err = uncertainties_to_root_graph_errors(f_arr, gains_arr)\n",
    "bode_graph_err = uncertainties_to_root_graph_errors(f_arr, db_gains_arr)\n",
    "\n",
    "bode_graph_err.SetTitle(\"Bode Gain 10\")\n",
    "bode_graph_err.GetXaxis().SetTitle(\"f [Hz]\")\n",
    "bode_graph_err.GetYaxis().SetTitle(\"G [dB]\")\n",
    "bode_graph_err.SetMarkerStyle(21)\n",
    "bode_graph_err.SetMarkerSize(0.4)"
   ]
  },
  {
   "cell_type": "markdown",
   "id": "d8ac8b4d",
   "metadata": {},
   "source": [
    "### Fit"
   ]
  },
  {
   "cell_type": "code",
   "execution_count": 289,
   "id": "6b73485f",
   "metadata": {},
   "outputs": [
    {
     "name": "stdout",
     "output_type": "stream",
     "text": [
      "guadagno calcolato =  20.690773134416144\n",
      "freq taglio =  7.656383151510266\n"
     ]
    }
   ],
   "source": [
    "A_v11_d = 20*umath.log10(1+R3/R1)\n",
    "f_l11 = 1/np.sqrt(2)*(1+R3/R1)\n",
    "print('guadagno calcolato = ',A_v11_d)\n",
    "print('freq taglio = ',f_l11)"
   ]
  },
  {
   "cell_type": "code",
   "execution_count": 290,
   "id": "aca7acd8",
   "metadata": {},
   "outputs": [],
   "source": [
    "function = \"[1]*(1/sqrt(1+(x/[0])**2))\"\n",
    "fit_f11 = ROOT.TF1(\"fit1\", function)\n",
    "###parameter per low pass filter\n",
    "fit_f11.SetParName(0, \"f_l\")\n",
    "fit_f11.SetParName(1, \"Gain\")\n",
    "fit_f.SetParameter(0, 10**5)\n",
    "fit_f.SetParameter(1, A_v11_d)\n",
    "\n",
    "fit_f.SetParLimits(1,A_v11_d-2,A_v11_d+2)\n",
    "fit_f.SetParLimits(1,1,10**3)"
   ]
  },
  {
   "cell_type": "markdown",
   "id": "311ba1fd",
   "metadata": {},
   "source": [
    "### Draw Graph"
   ]
  },
  {
   "cell_type": "code",
   "execution_count": 291,
   "id": "4b17ca94",
   "metadata": {},
   "outputs": [
    {
     "data": {
      "text/plain": [
       "<cppyy.gbl.TFitResultPtr object at 0x9cf1d30>"
      ]
     },
     "execution_count": 291,
     "metadata": {},
     "output_type": "execute_result"
    },
    {
     "name": "stdout",
     "output_type": "stream",
     "text": [
      " NEW MINIMUM FOUND.  GO BACK TO MINIMIZATION STEP.\n",
      " =================================================\n",
      "                                                  V\n",
      "                                                  V\n",
      "                                                  V\n",
      "                                               VVVVVVV\n",
      "                                                VVVVV\n",
      "                                                 VVV\n",
      "                                                  V\n",
      "\n",
      " FCN=166.559 FROM MINOS     STATUS=SUCCESSFUL     14 CALLS         380 TOTAL\n",
      "                     EDM=1.44406e-09    STRATEGY= 1      ERROR MATRIX ACCURATE \n",
      "  EXT PARAMETER                                   STEP         FIRST   \n",
      "  NO.   NAME      VALUE            ERROR          SIZE      DERIVATIVE \n",
      "   1  f_l          1.33020e+05   5.91666e+03   2.27613e+01  -6.75316e-10\n",
      "   2  Gain         1.98283e+01   1.49841e-01   1.49841e-01  -4.99078e-05\n"
     ]
    },
    {
     "data": {
      "image/png": "[encoded data removed]",
      "text/plain": [
       "<IPython.core.display.Image object>"
      ]
     },
     "metadata": {},
     "output_type": "display_data"
    }
   ],
   "source": [
    "canvas.Draw()\n",
    "bode_graph_err.Draw()\n",
    "bode_graph_err.Fit(fit_f11, \"MSE\")\n"
   ]
  },
  {
   "cell_type": "code",
   "execution_count": 292,
   "id": "4c220d58",
   "metadata": {},
   "outputs": [
    {
     "data": {
      "text/plain": [
       "9.827760891590678"
      ]
     },
     "execution_count": 292,
     "metadata": {},
     "output_type": "execute_result"
    }
   ],
   "source": [
    "ppch1_Arr = df_data_n['PPch1']\n",
    "ppch2_Arr = df_data_n['PPch2']\n",
    "gain_Arr = ppch2_Arr/ppch1_Arr\n",
    "db_gain_Arr = list(map(lambda x: 20 * umath.log10(x), gain_Arr))\n",
    "#gain_Arr_errors = ((df_errors_n['PPch2']/ppch1_Arr)**2 + (ppch2_Arr/(ppch1_Arr)**2*df_errors_n['PPch1'])**2)  \n",
    "#db_gain_Arr_errors = list(map(lambda x: 20 * umath.log(x), gain_Arr_errors))  \n",
    "db_gain_Arr_errors =[0.49476812680433546,\n",
    " 0.5140839532243918,\n",
    " 0.5161766453566071,\n",
    " 0.5161766453566071,\n",
    " 0.5161766453566071,\n",
    " 0.5140839532243918,\n",
    " 0.5161766453566071,\n",
    " 0.5183135430618956,\n",
    " 0.5902223277479106,\n",
    " 0.5722443540890254,\n",
    " 0.6254940844308975,\n",
    " 0.6034386533470738,\n",
    " 0.6305511142668727,\n",
    " 0.5537228015136225,\n",
    " 0.6054252390733152,\n",
    " 0.6505261427316407,\n",
    " 0.6565350182110768,\n",
    " 0.7298167274022264,\n",
    " 0.8141018776433374,\n",
    " 0.8943701715235557,\n",
    " 0.9354989439512417,\n",
    " 1.2036580608023484,\n",
    " 1.2876413768877326,\n",
    " 1.644168540308734,\n",
    " 2.73562945708666,\n",
    " 0.5320467589458894,\n",
    " 0.9184136827732226]\n",
    "\n",
    "\n",
    "# 6.714495099740892,\n",
    "# 33.34952100333063\n",
    "gain_Arr\n",
    "R3/R1"
   ]
  },
  {
   "cell_type": "code",
   "execution_count": 294,
   "id": "f405d31b",
   "metadata": {},
   "outputs": [
    {
     "name": "stdout",
     "output_type": "stream",
     "text": [
      "H(s) = TransferFunctionContinuous(\n",
      "array([846690.]),\n",
      "array([1.00e+00, 8.35e+04]),\n",
      "dt: None\n",
      ")\n"
     ]
    },
    {
     "data": {
      "image/png": "[encoded data removed]",
      "text/plain": [
       "<Figure size 720x1152 with 2 Axes>"
      ]
     },
     "metadata": {
      "needs_background": "light"
     },
     "output_type": "display_data"
    },
    {
     "data": {
      "text/plain": [
       "83500.0"
      ]
     },
     "execution_count": 294,
     "metadata": {},
     "output_type": "execute_result"
    }
   ],
   "source": [
    "#k=9.8**18\n",
    "#a=0.4*10**5\n",
    "#b=1.2*10**5\n",
    "#c=3.5*10**5\n",
    "\n",
    "G11=1+R3/R1\n",
    "G11 = 10.14\n",
    "fH11=8.35*10**4\n",
    "fH_11_err = 0.45*10**4\n",
    "a=1/fH11\n",
    "b=0\n",
    "c=0\n",
    "\n",
    "num = np.array([G11-b]) #zeros(increase 20 db)\n",
    "den = np.array([a,1]) #poles (decreases 20 db) [1,a+b+c,a*b+c*a+c*b,a*b*c]  (as+1)(bs+1)(cs+1)=(1+(a+b)s+abs^2)(cs+1)=(1+(a+b+c)s+(ab+c(a+b))s^2+abcs^3)\n",
    "H = signal.TransferFunction(num, den)\n",
    "print ('H(s) =', H)\n",
    "f_11, mag_11, phase_11 = H.bode(df_data_n['f']) #\n",
    "\n",
    "plt.figure(figsize=((10,16)))\n",
    "\n",
    "\n",
    "ax1 = plt.subplot(211)\n",
    "plt.semilogx(f_11, mag_11,color = \"blue\") # Magnitude Plot\n",
    "plt.title('Bode Plots OPA (Gain 11)',fontsize=20)\n",
    "plt.ylabel('Magnitude',fontsize=15)\n",
    "\n",
    "plt.grid()\n",
    "plt.errorbar( df_data_n['f'],db_gain_Arr ,xerr = df_errors_n['f'],yerr = db_gain_Arr_errors, fmt='o', color='Black', elinewidth=1,capthick=2,errorevery=1, alpha=1, ms=0, capsize = 1.5)\n",
    "plt.setp(ax1.get_xticklabels(), visible=False)\n",
    "\n",
    "plt.subplot(212, sharex = ax1)\n",
    "plt.ylabel('Phase',fontsize=15)\n",
    "plt.xlabel('f [Hz]',fontsize=15)\n",
    "plt.semilogx(f_11, phase_11,color = \"blue\")\n",
    "plt.grid()\n",
    "plt.subplots_adjust(hspace=0)\n",
    "\n",
    "plt.savefig(f\"{OUTPUTDIR}/OPA-bode_gain11(mag+phase).pdf\")\n",
    "\n",
    "plt.show()\n",
    "\n",
    "\n",
    "fH11"
   ]
  },
  {
   "cell_type": "code",
   "execution_count": 56,
   "id": "0470e89b",
   "metadata": {},
   "outputs": [
    {
     "data": {
      "text/plain": [
       "array([ 0.61701945,  0.06715888, -0.00492366, -0.00492515, -0.00496252,\n",
       "        0.06653605, -0.01052599, -0.13945582,  0.0657306 ,  0.04204975,\n",
       "        0.11601979,  0.03503351,  0.24454863, -0.08274746, -0.27208188,\n",
       "       -0.37766836, -0.31140748, -0.3615901 , -0.37485539, -0.58707207,\n",
       "       -0.47679232, -0.51700763, -0.44038673, -0.46069344, -0.65269621,\n",
       "       -0.3104017 ,  0.12788201])"
      ]
     },
     "execution_count": 56,
     "metadata": {},
     "output_type": "execute_result"
    }
   ],
   "source": [
    "mag_11-db_gain_Arr"
   ]
  },
  {
   "cell_type": "code",
   "execution_count": 57,
   "id": "979630aa",
   "metadata": {},
   "outputs": [
    {
     "data": {
      "text/plain": [
       "array([ 0.61701945,  0.06715888, -0.00492366, -0.00492515, -0.00496252,\n",
       "        0.06653605, -0.01052599, -0.13945582,  0.0657306 ,  0.04204975,\n",
       "        0.11601979,  0.03503351,  0.24454863, -0.08274746, -0.27208188,\n",
       "       -0.37766836, -0.31140748, -0.3615901 , -0.37485539, -0.58707207,\n",
       "       -0.47679232, -0.51700763, -0.44038673, -0.46069344, -0.65269621,\n",
       "       -0.3104017 ,  0.12788201])"
      ]
     },
     "execution_count": 57,
     "metadata": {},
     "output_type": "execute_result"
    }
   ],
   "source": [
    "mag_11-db_gain_Arr"
   ]
  },
  {
   "cell_type": "code",
   "execution_count": 58,
   "id": "53a55fa5",
   "metadata": {},
   "outputs": [
    {
     "data": {
      "image/png": "[encoded data removed]",
      "text/plain": [
       "<Figure size 720x1152 with 1 Axes>"
      ]
     },
     "metadata": {
      "needs_background": "light"
     },
     "output_type": "display_data"
    }
   ],
   "source": [
    "plt.figure(figsize=((10,16)))\n",
    "\n",
    "ax1 = plt.subplot(211)\n",
    "plt.semilogx(f_11, mag_11,color = \"blue\") # Magnitude Plot\n",
    "plt.title('Bode Plot OPA (Gain 11)',fontsize=20)\n",
    "plt.ylabel('Magnitude',fontsize=15)\n",
    "plt.xlabel('f [Hz]',fontsize=15)\n",
    "plt.grid()\n",
    "plt.errorbar(df_data_n['f'],db_gain_Arr ,xerr = df_errors_n['f'],yerr = db_gain_Arr_errors , fmt='o', color='Black', elinewidth=1,capthick=2,errorevery=1, alpha=1, ms=0, capsize = 1.5)\n",
    "plt.vlines(fH11, mag_11[len(mag_11)-1],  mag_11[0], linestyles=\"--\", color = \"red\")\n",
    "plt.hlines(mag_11[0]-3,f_11[0],f_11[23], linestyles=\"--\", color = \"red\")\n",
    "\n",
    "plt.text(fH11+10000, mag_11[len(mag_11)-1]+1, 'H.F',\n",
    "        verticalalignment='top', horizontalalignment='left',\n",
    "        color='red', fontsize=15)\n",
    "\n",
    "max_in = mag_11[0]\n",
    "max_rt=mag_11[0]-3\n",
    "plt.hlines(max_in, fH11+20000, f_11[23])\n",
    "plt.hlines(max_rt, fH11+20000, f_11[23])\n",
    "\n",
    "plt.text(f_11[23], max_rt + abs(max_rt - max_in) - 1, '3 Db',verticalalignment='top', horizontalalignment='left', color='black', fontsize=15)\n",
    "\n",
    "plt.savefig(f\"{OUTPUTDIR}/OPA-bode_gain11(mag).pdf\")\n",
    "\n",
    "plt.show()\n",
    "\n"
   ]
  },
  {
   "cell_type": "code",
   "execution_count": 59,
   "id": "5ed65ffd",
   "metadata": {},
   "outputs": [
    {
     "data": {
      "text/plain": [
       "array([19.84909163, 19.84909162, 19.84909157, 19.84909007, 19.8490527 ,\n",
       "       19.84846879, 19.84348924, 19.7872451 , 19.71115526, 19.47625696,\n",
       "       19.32183237, 18.95187286, 18.74172326, 18.51828962, 18.28401562,\n",
       "       17.28006366, 15.98542694, 15.47880183, 14.5038876 , 13.15434355,\n",
       "       11.56440751,  9.8647075 ,  8.41634642,  6.05637815,  1.31949975,\n",
       "       -1.74735388, -7.74534221])"
      ]
     },
     "execution_count": 59,
     "metadata": {},
     "output_type": "execute_result"
    }
   ],
   "source": [
    "\n",
    "#f, mag, phase = H.bode() \n",
    "mag_BW = mag_11 - mag_11[26]\n",
    "mag_11"
   ]
  },
  {
   "cell_type": "code",
   "execution_count": 60,
   "id": "c7abf9e2",
   "metadata": {},
   "outputs": [
    {
     "data": {
      "text/plain": [
       "42.74330349"
      ]
     },
     "execution_count": 60,
     "metadata": {},
     "output_type": "execute_result"
    }
   ],
   "source": [
    "45.74330349-3\n",
    "#mag_11[43]\n",
    "#f_11[43]"
   ]
  },
  {
   "cell_type": "code",
   "execution_count": 61,
   "id": "d252d694",
   "metadata": {},
   "outputs": [
    {
     "name": "stdout",
     "output_type": "stream",
     "text": [
      "(array([], dtype=int64),)\n"
     ]
    },
    {
     "data": {
      "text/plain": [
       "160000"
      ]
     },
     "execution_count": 61,
     "metadata": {},
     "output_type": "execute_result"
    }
   ],
   "source": [
    "mag_BW[24]\n",
    "print(np.where(mag_BW==84.75575792647965))\n",
    "f[np.where(mag_BW==84.75575792647965)]\n",
    "f_11[19]"
   ]
  },
  {
   "cell_type": "code",
   "execution_count": 62,
   "id": "266a357e",
   "metadata": {},
   "outputs": [
    {
     "data": {
      "text/plain": [
       "2750000.0"
      ]
     },
     "execution_count": 62,
     "metadata": {},
     "output_type": "execute_result"
    }
   ],
   "source": [
    "700000\n",
    "(f[24]+f[25])/2"
   ]
  },
  {
   "cell_type": "code",
   "execution_count": 67,
   "id": "e4db7d84",
   "metadata": {},
   "outputs": [
    {
     "name": "stdout",
     "output_type": "stream",
     "text": [
      "591793.3130699089 +-  81845.93753956899\n"
     ]
    }
   ],
   "source": [
    "###Control BW*Gain\n",
    "BG2 = fH2*(G2-1)\n",
    "BG2_err = np.sqrt((fH_2_err*G2)**2+(fH2*G2_err)**2)\n",
    "print(BG2, '+- ',BG2_err)"
   ]
  },
  {
   "cell_type": "code",
   "execution_count": 64,
   "id": "ef8cb394",
   "metadata": {},
   "outputs": [
    {
     "name": "stdout",
     "output_type": "stream",
     "text": [
      "820618.0344478217 +-  65020.388169485435\n"
     ]
    }
   ],
   "source": [
    "BG11 = fH11*(G11-b)\n",
    "BG11_err = np.sqrt((fH_11_err*G11)**2+(fH11*G11_err)**2)\n",
    "print(BG11, '+- ',BG11_err)"
   ]
  },
  {
   "cell_type": "code",
   "execution_count": 65,
   "id": "d3a83f5c",
   "metadata": {},
   "outputs": [
    {
     "name": "stdout",
     "output_type": "stream",
     "text": [
      "2.1890930804775866\n"
     ]
    },
    {
     "data": {
      "text/plain": [
       "4435986.309632711"
      ]
     },
     "execution_count": 65,
     "metadata": {},
     "output_type": "execute_result"
    }
   ],
   "source": [
    "z_BG = abs(BG2-BG11)/np.sqrt(BG11_err**2 + BG2_err**2)\n",
    "print(z_BG)\n",
    "BG11*G11/G2"
   ]
  },
  {
   "cell_type": "code",
   "execution_count": 65,
   "id": "d0433dea",
   "metadata": {},
   "outputs": [
    {
     "data": {
      "image/png": "[encoded data removed]",
      "text/plain": [
       "<Figure size 720x576 with 1 Axes>"
      ]
     },
     "metadata": {
      "needs_background": "light"
     },
     "output_type": "display_data"
    }
   ],
   "source": [
    "###plot gain 1 + gain 11\n",
    "plt.figure(figsize=((10,8)))\n",
    "plt.ylabel('Magnitude',fontsize=15)\n",
    "plt.xlabel('f [Hz]',fontsize=15)\n",
    "plt.semilogx(f, mag, label='Gain 2',color = \"blue\")\n",
    "plt.semilogx(f_11, mag_11,label='Gain 11',color = \"red\")\n",
    "plt.vlines(fH2, mag[27],  mag[0], linestyles=\"--\", color = \"blue\")\n",
    "plt.text(fH2+50000, mag[27]+1, 'H.F',\n",
    "        verticalalignment='top', horizontalalignment='left',\n",
    "        color='blue', fontsize=15)\n",
    "plt.vlines(fH11, mag[27],  mag_11[0], linestyles=\"--\", color = \"red\")\n",
    "plt.text(fH11+10000, mag[27]+1, 'H.F',\n",
    "        verticalalignment='top', horizontalalignment='left',\n",
    "        color='red', fontsize=15)\n",
    "plt.grid()\n",
    "plt.legend(loc = \"lower left\")\n",
    "plt.savefig(f\"{OUTPUTDIR}/OPA-bode_gain_comparison(mag).pdf\")\n",
    "plt.show()\n"
   ]
  },
  {
   "cell_type": "code",
   "execution_count": null,
   "id": "8c9f2cf6",
   "metadata": {},
   "outputs": [],
   "source": []
  },
  {
   "cell_type": "code",
   "execution_count": null,
   "id": "8445881b",
   "metadata": {},
   "outputs": [],
   "source": []
  },
  {
   "cell_type": "code",
   "execution_count": null,
   "id": "c854d668",
   "metadata": {},
   "outputs": [],
   "source": []
  }
 ],
 "metadata": {
  "kernelspec": {
   "display_name": "Python 3 (ipykernel)",
   "language": "python",
   "name": "python3"
  },
  "language_info": {
   "codemirror_mode": {
    "name": "ipython",
    "version": 3
   },
   "file_extension": ".py",
   "mimetype": "text/x-python",
   "name": "python",
   "nbconvert_exporter": "python",
   "pygments_lexer": "ipython3",
   "version": "3.9.5"
  }
 },
 "nbformat": 4,
 "nbformat_minor": 5
}
