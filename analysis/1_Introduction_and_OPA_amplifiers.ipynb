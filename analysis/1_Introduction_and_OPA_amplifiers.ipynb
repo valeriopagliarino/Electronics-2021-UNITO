{
 "cells": [
  {
   "cell_type": "markdown",
   "metadata": {
    "colab_type": "text",
    "id": "view-in-github"
   },
   "source": [
    "<a href=\"https://colab.research.google.com/github/valeriopagliarino/Electronics-2021-UNITO/blob/main/analysis/1_Introduction_and_OPA_amplifiers.ipynb\" target=\"_parent\"><img src=\"https://colab.research.google.com/assets/colab-badge.svg\" alt=\"Open In Colab\"/></a>"
   ]
  },
  {
   "cell_type": "markdown",
   "metadata": {
    "id": "rk5sh2cvGJOs"
   },
   "source": [
    "# Data analysis: Introduction and OPA amplifiers\n",
    "### October 4th 2021\n",
    "<p>\n",
    "Authors: <b> Stefano Barbero, Valerio Pagliarino, Matteo Barbagiovanni, Federico Malnati </b> <p>Electronics Laboratory 2021 - Department of Physics - University of Turin <p>\n",
    "Date: 04/10/2021\n",
    "\n",
    "1. Instrumentation configuration\n",
    "2. Probe compensation\n",
    "3. Half-wave diode rectifier\n",
    "4. OPA zero crossing \n",
    "5. OPA inverting zero crossing\n",
    "6. OPA slew rate frequency sweep\n",
    "7. OPA open ring biased threshold\n",
    "8. OPA closed loop non inverting G = 2\n",
    "9. OPA closed loop non inverting G = 10\n",
    "10. OPA closed loop inverting bode plots for G = 1\n",
    "11. OPA closed loop inverting bode plots for G = 10\n",
    "\n",
    "OPA: LM471CV (https://www.ti.com/lit/ds/symlink/lm741.pdf)\n"
   ]
  },
  {
   "cell_type": "markdown",
   "metadata": {
    "id": "I4JK4N0_URnB"
   },
   "source": [
    "## Configuration"
   ]
  },
  {
   "cell_type": "markdown",
   "metadata": {
    "id": "0bwsv0IJJrZp"
   },
   "source": [
    "### Clone the GIT"
   ]
  },
  {
   "cell_type": "code",
   "execution_count": 1,
   "metadata": {
    "colab": {
     "base_uri": "https://localhost:8080/"
    },
    "id": "EDuqpT5KFwX_",
    "outputId": "48761b92-72c0-4ea9-ddfa-65a316d94206"
   },
   "outputs": [
    {
     "name": "stdout",
     "output_type": "stream",
     "text": [
      "rm: cannot remove './sample_data': No such file or directory\n"
     ]
    },
    {
     "ename": "KeyboardInterrupt",
     "evalue": "Interrupted by user",
     "output_type": "error",
     "traceback": [
      "\u001b[0;31m---------------------------------------------------------------------------\u001b[0m",
      "\u001b[0;31mKeyboardInterrupt\u001b[0m                         Traceback (most recent call last)",
      "\u001b[0;32m/tmp/ipykernel_27407/2496124508.py\u001b[0m in \u001b[0;36m<module>\u001b[0;34m\u001b[0m\n\u001b[1;32m      2\u001b[0m \u001b[0;32mimport\u001b[0m \u001b[0mos\u001b[0m\u001b[0;34m\u001b[0m\u001b[0;34m\u001b[0m\u001b[0m\n\u001b[1;32m      3\u001b[0m \u001b[0;32mfrom\u001b[0m \u001b[0mgetpass\u001b[0m \u001b[0;32mimport\u001b[0m \u001b[0mgetpass\u001b[0m\u001b[0;34m\u001b[0m\u001b[0;34m\u001b[0m\u001b[0m\n\u001b[0;32m----> 4\u001b[0;31m \u001b[0muser\u001b[0m \u001b[0;34m=\u001b[0m \u001b[0minput\u001b[0m\u001b[0;34m(\u001b[0m\u001b[0;34m'GitHub user'\u001b[0m\u001b[0;34m)\u001b[0m\u001b[0;34m\u001b[0m\u001b[0;34m\u001b[0m\u001b[0m\n\u001b[0m\u001b[1;32m      5\u001b[0m \u001b[0mmail\u001b[0m \u001b[0;34m=\u001b[0m \u001b[0minput\u001b[0m\u001b[0;34m(\u001b[0m\u001b[0;34m'GitHub email'\u001b[0m\u001b[0;34m)\u001b[0m\u001b[0;34m\u001b[0m\u001b[0;34m\u001b[0m\u001b[0m\n\u001b[1;32m      6\u001b[0m \u001b[0mpassword\u001b[0m \u001b[0;34m=\u001b[0m \u001b[0mgetpass\u001b[0m\u001b[0;34m(\u001b[0m\u001b[0;34m'GitHub password'\u001b[0m\u001b[0;34m)\u001b[0m\u001b[0;34m\u001b[0m\u001b[0;34m\u001b[0m\u001b[0m\n",
      "\u001b[0;32m~/.local/lib/python3.9/site-packages/ipykernel/kernelbase.py\u001b[0m in \u001b[0;36mraw_input\u001b[0;34m(self, prompt)\u001b[0m\n\u001b[1;32m   1004\u001b[0m                 \u001b[0;34m\"raw_input was called, but this frontend does not support input requests.\"\u001b[0m\u001b[0;34m\u001b[0m\u001b[0;34m\u001b[0m\u001b[0m\n\u001b[1;32m   1005\u001b[0m             )\n\u001b[0;32m-> 1006\u001b[0;31m         return self._input_request(\n\u001b[0m\u001b[1;32m   1007\u001b[0m             \u001b[0mstr\u001b[0m\u001b[0;34m(\u001b[0m\u001b[0mprompt\u001b[0m\u001b[0;34m)\u001b[0m\u001b[0;34m,\u001b[0m\u001b[0;34m\u001b[0m\u001b[0;34m\u001b[0m\u001b[0m\n\u001b[1;32m   1008\u001b[0m             \u001b[0mself\u001b[0m\u001b[0;34m.\u001b[0m\u001b[0m_parent_ident\u001b[0m\u001b[0;34m[\u001b[0m\u001b[0;34m\"shell\"\u001b[0m\u001b[0;34m]\u001b[0m\u001b[0;34m,\u001b[0m\u001b[0;34m\u001b[0m\u001b[0;34m\u001b[0m\u001b[0m\n",
      "\u001b[0;32m~/.local/lib/python3.9/site-packages/ipykernel/kernelbase.py\u001b[0m in \u001b[0;36m_input_request\u001b[0;34m(self, prompt, ident, parent, password)\u001b[0m\n\u001b[1;32m   1049\u001b[0m             \u001b[0;32mexcept\u001b[0m \u001b[0mKeyboardInterrupt\u001b[0m\u001b[0;34m:\u001b[0m\u001b[0;34m\u001b[0m\u001b[0;34m\u001b[0m\u001b[0m\n\u001b[1;32m   1050\u001b[0m                 \u001b[0;31m# re-raise KeyboardInterrupt, to truncate traceback\u001b[0m\u001b[0;34m\u001b[0m\u001b[0;34m\u001b[0m\u001b[0m\n\u001b[0;32m-> 1051\u001b[0;31m                 \u001b[0;32mraise\u001b[0m \u001b[0mKeyboardInterrupt\u001b[0m\u001b[0;34m(\u001b[0m\u001b[0;34m\"Interrupted by user\"\u001b[0m\u001b[0;34m)\u001b[0m \u001b[0;32mfrom\u001b[0m \u001b[0;32mNone\u001b[0m\u001b[0;34m\u001b[0m\u001b[0;34m\u001b[0m\u001b[0m\n\u001b[0m\u001b[1;32m   1052\u001b[0m             \u001b[0;32mexcept\u001b[0m \u001b[0mException\u001b[0m\u001b[0;34m:\u001b[0m\u001b[0;34m\u001b[0m\u001b[0;34m\u001b[0m\u001b[0m\n\u001b[1;32m   1053\u001b[0m                 \u001b[0mself\u001b[0m\u001b[0;34m.\u001b[0m\u001b[0mlog\u001b[0m\u001b[0;34m.\u001b[0m\u001b[0mwarning\u001b[0m\u001b[0;34m(\u001b[0m\u001b[0;34m\"Invalid Message:\"\u001b[0m\u001b[0;34m,\u001b[0m \u001b[0mexc_info\u001b[0m\u001b[0;34m=\u001b[0m\u001b[0;32mTrue\u001b[0m\u001b[0;34m)\u001b[0m\u001b[0;34m\u001b[0m\u001b[0;34m\u001b[0m\u001b[0m\n",
      "\u001b[0;31mKeyboardInterrupt\u001b[0m: Interrupted by user"
     ]
    }
   ],
   "source": [
    "!rm -r ./sample_data\n",
    "import os\n",
    "from getpass import getpass\n",
    "user = input('GitHub user')\n",
    "mail = input('GitHub email')\n",
    "password = getpass('GitHub password')\n",
    "os.environ['GITHUB_AUTH'] = user + ':' + password\n",
    "!git clone https://$GITHUB_AUTH@github.com/valeriopagliarino/Electronics-2021-UNITO.git\n",
    "!git config --global user.email user\n",
    "!git config --global user.name mail"
   ]
  },
  {
   "cell_type": "markdown",
   "metadata": {
    "id": "w_hC9vVzGpSG"
   },
   "source": [
    "### Install environment"
   ]
  },
  {
   "cell_type": "code",
   "execution_count": null,
   "metadata": {
    "colab": {
     "base_uri": "https://localhost:8080/"
    },
    "id": "geqiHwACJuqv",
    "outputId": "d716b6a7-90ba-4cdb-8fee-da6640c5109a"
   },
   "outputs": [],
   "source": [
    "exec(open(\"./Electronics-2021-UNITO/analysis/ROOT-config.py\").read())"
   ]
  },
  {
   "cell_type": "markdown",
   "metadata": {
    "id": "G0zBs0IVc6WK"
   },
   "source": [
    "### Importa moduli [no COLAB]"
   ]
  },
  {
   "cell_type": "code",
   "execution_count": 2,
   "metadata": {
    "id": "M0wqcW3tc6WL"
   },
   "outputs": [
    {
     "name": "stdout",
     "output_type": "stream",
     "text": [
      "Welcome to JupyROOT 6.24/06\n"
     ]
    }
   ],
   "source": [
    "import numpy as np\n",
    "import scipy as sp\n",
    "import sympy as sy\n",
    "import pandas as pd\n",
    "\n",
    "from matplotlib import pyplot as plt\n",
    "\n",
    "from uncertainties import ufloat\n",
    "import uncertainties.umath\n",
    "\n",
    "import pickle\n",
    "\n",
    "import ROOT # Per COLAB importato da ROOT-config.py\n",
    "\n",
    "DATADIR = \"../data-source\"\n",
    "OUTPUTDIR = \"./output\""
   ]
  },
  {
   "cell_type": "markdown",
   "metadata": {
    "id": "-fz1JcVRdhWE"
   },
   "source": [
    "### Importa moduli [COLAB]"
   ]
  },
  {
   "cell_type": "code",
   "execution_count": null,
   "metadata": {
    "colab": {
     "base_uri": "https://localhost:8080/"
    },
    "id": "NyusFmEvdhWG",
    "outputId": "6c50f574-5f76-464d-f295-0aaec223cdc9"
   },
   "outputs": [],
   "source": [
    "%cd /content/\n",
    "!pip3 install uncertainties\n",
    "import numpy as np\n",
    "import scipy as sp\n",
    "import sympy as sy\n",
    "import pandas as pd\n",
    "\n",
    "from uncertainties import ufloat\n",
    "import uncertainties.umath\n",
    "from matplotlib import pyplot as plt\n",
    "import pickle #Pickle with dict of Numpy arrays\n",
    "\n",
    "# Variables for directories\n",
    "DATADIR = \"/content/Electronics-2021-UNITO/data-source\"\n",
    "OUTPUTDIR = \"/content/Electronics-2021-UNITO/analysis/output\""
   ]
  },
  {
   "cell_type": "markdown",
   "metadata": {
    "id": "U-eAMLb4U-Yp"
   },
   "source": [
    "### Funzioni per l'importazione file Tektronix"
   ]
  },
  {
   "cell_type": "code",
   "execution_count": 3,
   "metadata": {
    "id": "h2R45ItQU3xj"
   },
   "outputs": [],
   "source": [
    "import csv\n",
    "\n",
    "def cellFromCSV(path, row_index, col_index):\n",
    "  with open(path, 'r') as f:\n",
    "    mycsv = csv.reader(f)\n",
    "    column = []\n",
    "    for row in mycsv:\n",
    "        column.append(row[col_index])\n",
    "\n",
    "  return column[row_index]\n",
    "\n",
    "\n",
    "def openTek(path):\n",
    "  a = pd.read_table(path, header=None, sep=\",\", usecols=[3,4])\n",
    "  a = a.transpose()\n",
    "  a = a.rename(index={3: 'Time', 4: 'Amplitude'})\n",
    "  a = a.transpose()\n",
    "\n",
    "  data = {'Record lenght': cellFromCSV(path, 0, 1),\n",
    "          'Sample interval': cellFromCSV(path, 1, 1),\n",
    "          'Trigger point': cellFromCSV(path, 2, 1),\n",
    "          'Source': cellFromCSV(path, 6, 1),\n",
    "          'Vertical units': cellFromCSV(path, 7, 1),\n",
    "          'Vertical scale': cellFromCSV(path, 8, 1),\n",
    "          'Vertical offset': cellFromCSV(path, 9, 1),\n",
    "          'Horizontal units': cellFromCSV(path, 10, 1),\n",
    "          'Horizontal scale': cellFromCSV(path, 11, 1),\n",
    "          'Pt FMT': cellFromCSV(path, 12, 1),\n",
    "          'Y zero': cellFromCSV(path, 13, 1),\n",
    "          'Probe atten': cellFromCSV(path, 14, 1),\n",
    "          'Model': cellFromCSV(path, 15, 1),\n",
    "          'Serial': cellFromCSV(path, 16, 1),\n",
    "          'Firmware': cellFromCSV(path, 17, 1),\n",
    "          'Data' : a\n",
    "  }\n",
    "  return data"
   ]
  },
  {
   "cell_type": "markdown",
   "metadata": {
    "id": "bRuixBHqLNOI"
   },
   "source": [
    "## Half-wave rectifier"
   ]
  },
  {
   "cell_type": "markdown",
   "metadata": {
    "id": "30ERwVchoQvC"
   },
   "source": [
    "![half-wave-rectifier.png](data:image/png;base64,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)"
   ]
  },
  {
   "cell_type": "code",
   "execution_count": 4,
   "metadata": {
    "colab": {
     "base_uri": "https://localhost:8080/",
     "height": 498
    },
    "id": "1Bl9vOkgG7w5",
    "outputId": "8c61789d-e1c9-4078-d956-e777dcbb11bc"
   },
   "outputs": [
    {
     "ename": "SyntaxError",
     "evalue": "EOL while scanning string literal (2533885335.py, line 43)",
     "output_type": "error",
     "traceback": [
      "\u001b[0;36m  File \u001b[0;32m\"/tmp/ipykernel_27407/2533885335.py\"\u001b[0;36m, line \u001b[0;32m43\u001b[0m\n\u001b[0;31m    plt.savefig(f'{OUTPUTDIR}/half-wave-rectifier.pdf\")\u001b[0m\n\u001b[0m                                                       ^\u001b[0m\n\u001b[0;31mSyntaxError\u001b[0m\u001b[0;31m:\u001b[0m EOL while scanning string literal\n"
     ]
    }
   ],
   "source": [
    "%cd /content\n",
    "\n",
    "ch1_f = openTek(f'{DATADIR}/4-10-21/half_wave_rectifier_hi/F0002CH1.CSV')\n",
    "ch2_f = openTek(f'{DATADIR}/4-10-21/half_wave_rectifier_hi/F0002CH2.CSV')\n",
    "ch1_l = openTek(f'{DATADIR}/4-10-21/half_wave_rectifier_lo/F0003CH1.CSV')\n",
    "ch2_l = openTek(f'{DATADIR}/4-10-21/half_wave_rectifier_lo/F0003CH2.CSV')\n",
    "print(ch2_f.keys())\n",
    "\n",
    "input_1 = ch1_f['Data'].to_numpy()\n",
    "upper_half_wave = ch2_f['Data'].to_numpy()\n",
    "\n",
    "input_2 = ch1_l['Data'].to_numpy()\n",
    "lower_half_wave = ch2_l['Data'].to_numpy()\n",
    "\n",
    "time1 = upper_half_wave.transpose()[0]\n",
    "time2 = lower_half_wave.transpose()[0]\n",
    "input_1  = input_1.transpose()[1]\n",
    "input_2  = input_2.transpose()[1]\n",
    "upper   = upper_half_wave.transpose()[1]\n",
    "lower   = lower_half_wave.transpose()[1]\n",
    "\n",
    "fig, ax = plt.subplots(figsize=(8, 6))\n",
    "ax.plot(time1 * 1e3, upper, label = \"Semionda positiva\", color = 'red')\n",
    "ax.plot(time2 * 1e3, lower, label = \"Semionda negativa\", color = 'blue')\n",
    "ax.plot(time1 * 1e3, input_1, label = \"Sinusoide in ingresso\", color = 'black', linestyle = \"--\")\n",
    "\n",
    "max_rt = upper[1250:1900].max()\n",
    "max_in = input_1[1250:1900].max()\n",
    "\n",
    "ax.hlines(max_rt, -0.25, .5)\n",
    "ax.hlines(max_in, -0.25, .5)\n",
    "ax.arrow(-0.20, max_rt, 0, abs(max_rt - max_in) - 0.18,  head_width = 0.08, color = \"black\")\n",
    "ax.arrow(-0.20, max_rt + abs(max_rt - max_in), 0, -1.* abs(max_rt - max_in) + 0.18,  head_width = 0.08, color = \"black\")\n",
    "\n",
    "ax.text(-0.40, max_rt + abs(max_rt - max_in) - 0.1, 'ΔV',\n",
    "        verticalalignment='top', horizontalalignment='left',\n",
    "        color='black', fontsize=15)\n",
    "\n",
    "ax.set(xlabel='Base dei tempi (ms)', ylabel='Ampiezza del segnale (V)',\n",
    "       title='Raddrizzatore a singola semionda con diodo al silicio')\n",
    "ax.grid()\n",
    "ax.legend(loc = \"lower right\")\n",
    "plt.savefig(f\"{OUTPUTDIR}/half-wave-rectifier.pdf\")\n",
    "\n",
    "print(\"\\nValore di Delta V = \", abs(max_rt - max_in), \" V\")"
   ]
  },
  {
   "cell_type": "markdown",
   "metadata": {
    "id": "UeT86pPTkHBT"
   },
   "source": [
    "## OPA open-loop non-inverting zero-crossing detector"
   ]
  },
  {
   "cell_type": "code",
   "execution_count": null,
   "metadata": {
    "colab": {
     "base_uri": "https://localhost:8080/",
     "height": 419
    },
    "id": "z99Rv1dwk3bB",
    "outputId": "f8053aa8-5fc8-4221-b192-4f81a2ae785f"
   },
   "outputs": [],
   "source": [
    "ch1_f = openTek(f'{DATADIR}/4-10-21/OPA_zero_crossing/F0007CH1.CSV')\n",
    "ch2_f = openTek(f'{DATADIR}/4-10-21/OPA_zero_crossing/F0007CH2.CSV')\n",
    "\n",
    "time1 = ch1_f['Data'].to_numpy().transpose()[0] * 1000\n",
    "ch1   = ch1_f['Data'].to_numpy().transpose()[1]\n",
    "time2 = ch2_f['Data'].to_numpy().transpose()[0] * 1000\n",
    "ch2   = ch2_f['Data'].to_numpy().transpose()[1]\n",
    "\n",
    "fig, ax = plt.subplots(figsize=(8, 6))\n",
    "ax.plot(time1, ch1, color = \"black\", label = \"Sinusoide in ingresso\")\n",
    "ax.plot(time2, ch2, color = \"blue\", label = \"Uscita OPA\")\n",
    "\n",
    "\n",
    "\n",
    "ax.set(xlabel='Base dei tempi (ms)', ylabel='Ampiezza del segnale (V)',\n",
    "       title='Amplificatore operazionale in configurazione ad anello aperto \\n per la rilevazione del punto di zero-crossing, non invertente')\n",
    "\n",
    "ax.grid()\n",
    "ax.legend(bbox_to_anchor=(0.5, 0., 0.5, 0.5))\n",
    "\n",
    "plt.savefig(f\"{OUTPUTDIR}/OPA-open-loop-non-inv-zero-crossing.pdf\")"
   ]
  },
  {
   "cell_type": "code",
   "execution_count": null,
   "metadata": {
    "colab": {
     "base_uri": "https://localhost:8080/",
     "height": 419
    },
    "id": "GoxvaHS-LTxB",
    "outputId": "49d6cfeb-6fc1-4480-f86e-e188b6c3889a"
   },
   "outputs": [],
   "source": [
    "ch1_f = openTek(f'{DATADIR}/4-10-21/OPA_zero_crossing/F0007CH1.CSV')\n",
    "ch2_f = openTek(f'{DATADIR}/4-10-21/OPA_zero_crossing/F0007CH2.CSV')\n",
    "\n",
    "time1 = ch1_f['Data'].to_numpy().transpose()[0] * 1000\n",
    "ch1   = ch1_f['Data'].to_numpy().transpose()[1]\n",
    "time2 = ch2_f['Data'].to_numpy().transpose()[0] * 1000\n",
    "ch2   = ch2_f['Data'].to_numpy().transpose()[1]\n",
    "\n",
    "fig, ax = plt.subplots(figsize=(8, 6))\n",
    "ax.plot(time1, ch1, color = \"black\", label = \"Sinusoide in ingresso\")\n",
    "ax2 = ax.twinx()\n",
    "ax2.plot(time2, ch2, color = \"blue\", label = \"Uscita OPA\")\n",
    "\n",
    "ax.set(xlabel='Base dei tempi (ms)', ylabel='Ampiezza del segnale (V) [segnale in uscita in blu]',\n",
    "       title='Amplificatore operazionale in configurazione ad anello aperto \\n per la rilevazione del punto di zero-crossing, non invertente')\n",
    "\n",
    "ax.grid()\n",
    "#ax2.grid()\n",
    "ax2.set(ylabel='Ampiezza del segnale (V) [sinusoide in ingresso in nero]')\n",
    "#ax.legend(bbox_to_anchor=(0.5, 0., 0.5, 0.5))\n",
    "#ax2.legend(bbox_to_anchor=(0.5, 0.1, 0.5, 0.5))\n",
    "\n",
    "plt.savefig(f\"{OUTPUTDIR}/OPA-open-loop-non-inv-zero-crossing-z2.pdf\")"
   ]
  },
  {
   "cell_type": "markdown",
   "metadata": {
    "id": "91jwNfUhM45X"
   },
   "source": [
    "## OPA open-loop inverting zero-crossing detector"
   ]
  },
  {
   "cell_type": "code",
   "execution_count": null,
   "metadata": {
    "colab": {
     "base_uri": "https://localhost:8080/",
     "height": 419
    },
    "id": "sz2kO5K1NF0B",
    "outputId": "f0531f1e-1c95-44a7-e475-0d4d2fe3650a"
   },
   "outputs": [],
   "source": [
    "ch1_f = openTek(f'{DATADIR}/4-10-21/OPA_zero_crossing_inverting/F0013CH1.CSV')\n",
    "ch2_f = openTek(f'{DATADIR}/4-10-21/OPA_zero_crossing_inverting/F0013CH2.CSV')\n",
    "\n",
    "time1 = ch1_f['Data'].to_numpy().transpose()[0] * 1000\n",
    "ch1   = ch1_f['Data'].to_numpy().transpose()[1]\n",
    "time2 = ch2_f['Data'].to_numpy().transpose()[0] * 1000\n",
    "ch2   = ch2_f['Data'].to_numpy().transpose()[1]\n",
    "\n",
    "fig, ax = plt.subplots(figsize=(8, 6))\n",
    "ax.plot(time1, ch1, color = \"black\", label = \"Sinusoide in ingresso\")\n",
    "ax.plot(time2, ch2, color = \"red\", label = \"Uscita OPA\")\n",
    "\n",
    "ax.hlines(0, -1.1, 1.35, linestyle = \"--\", color=\"black\")\n",
    "\n",
    "ax.set(xlabel='Base dei tempi (ms)', ylabel='Ampiezza del segnale (V)',\n",
    "       title='Amplificatore operazionale in configurazione ad anello aperto \\n per la rilevazione del punto di zero-crossing, invertente')\n",
    "\n",
    "ax.grid()\n",
    "ax.legend(bbox_to_anchor=(0.5, 0., 0.5, 0.5))\n",
    "\n",
    "plt.savefig(f\"{OUTPUTDIR}/OPA-open-loop-inv-zero-crossing.pdf\")"
   ]
  },
  {
   "cell_type": "code",
   "execution_count": null,
   "metadata": {
    "colab": {
     "base_uri": "https://localhost:8080/",
     "height": 419
    },
    "id": "s88vnqrON79o",
    "outputId": "16f1b14a-7192-4d04-e34a-bf68d4395873"
   },
   "outputs": [],
   "source": [
    "ch1_f = openTek(f'{DATADIR}/4-10-21/OPA_zero_crossing_inverting/F0013CH1.CSV')\n",
    "ch2_f = openTek(f'{DATADIR}/4-10-21/OPA_zero_crossing_inverting/F0013CH2.CSV')\n",
    "\n",
    "time1 = ch1_f['Data'].to_numpy().transpose()[0] * 1000\n",
    "ch1   = ch1_f['Data'].to_numpy().transpose()[1]\n",
    "time2 = ch2_f['Data'].to_numpy().transpose()[0] * 1000\n",
    "ch2   = ch2_f['Data'].to_numpy().transpose()[1]\n",
    "\n",
    "fig, ax = plt.subplots(figsize=(8, 6))\n",
    "ax.plot(time1, ch1, color = \"black\", label = \"Sinusoide in ingresso\")\n",
    "ax2 = ax.twinx()\n",
    "ax2.plot(time2, ch2, color = \"red\", label = \"Uscita OPA\")\n",
    "\n",
    "ax.set(xlabel='Base dei tempi (ms)', ylabel='Ampiezza del segnale (V) [segnale in uscita in rosso]',\n",
    "       title='Amplificatore operazionale in configurazione ad anello aperto \\n per la rilevazione del punto di zero-crossing, invertente')\n",
    "\n",
    "ax.hlines(0, -1.1, 1.35, linestyle = \"--\", color=\"black\")\n",
    "\n",
    "ax.grid()\n",
    "#ax2.grid()\n",
    "ax2.set(ylabel='Ampiezza del segnale (V) [sinusoide in ingresso in nero]')\n",
    "#ax.legend(bbox_to_anchor=(0.5, 0., 0.5, 0.5))\n",
    "#ax2.legend(bbox_to_anchor=(0.5, 0.1, 0.5, 0.5))\n",
    "\n",
    "plt.savefig(f\"{OUTPUTDIR}/OPA-open-loop-inv-zero-crossing-z2.pdf\")"
   ]
  },
  {
   "cell_type": "markdown",
   "metadata": {
    "id": "DgVyy38DOxua"
   },
   "source": [
    "## OPA open loop biased threshold @2.1 V"
   ]
  },
  {
   "cell_type": "markdown",
   "metadata": {
    "id": "WWPDgk7iopIG"
   },
   "source": [
    "![open-loop-non-inverting-biased.png](data:image/png;base64,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)"
   ]
  },
  {
   "cell_type": "code",
   "execution_count": null,
   "metadata": {
    "colab": {
     "base_uri": "https://localhost:8080/",
     "height": 421
    },
    "id": "61D1OSj8O4Hl",
    "outputId": "08dee108-ec60-4295-83ae-bff8911e99b5"
   },
   "outputs": [],
   "source": [
    "Vth = 2.1 # V\n",
    "\n",
    "ch1_f = openTek(f'{DATADIR}/4-10-21/OPA_open_ring_biased_threshold/F0012CH1.CSV')\n",
    "ch2_f = openTek(f'{DATADIR}/4-10-21/OPA_open_ring_biased_threshold/F0012CH2.CSV')\n",
    "\n",
    "time1 = ch1_f['Data'].to_numpy().transpose()[0] * 1000\n",
    "ch1   = ch1_f['Data'].to_numpy().transpose()[1]\n",
    "time2 = ch2_f['Data'].to_numpy().transpose()[0] * 1000\n",
    "ch2   = ch2_f['Data'].to_numpy().transpose()[1]\n",
    "\n",
    "fig, ax = plt.subplots(figsize=(8, 6))\n",
    "ax.plot(time1, ch1, color = \"black\", label = \"Sinusoide in ingresso\")\n",
    "ax.plot(time2, ch2, color = \"blue\", label = \"Uscita OPA\")\n",
    "\n",
    "#ax.hlines(0, -1.15, 1.5, linestyle = \"--\", color=\"gray\")\n",
    "\n",
    "ax.set(xlabel='Base dei tempi (ms)', ylabel='Ampiezza del segnale (V)',\n",
    "       title='Amplificatore operazionale in configurazione ad anello aperto \\n soglia a tensione $V_{th}$ > 0, non invertente')\n",
    "\n",
    "ax.text(-1.15, 4, '$V_{th}$',\n",
    "        verticalalignment='top', horizontalalignment='left',\n",
    "        color='black', fontsize=15)\n",
    "\n",
    "ax.hlines(Vth, -1.15, 1.5, linestyle = \"--\")\n",
    "\n",
    "ax.grid()\n",
    "ax.legend(loc=(0.65, 0.1))\n",
    "\n",
    "plt.savefig(f\"{OUTPUTDIR}/OPA-open-loop-biased_threshold.pdf\")"
   ]
  },
  {
   "cell_type": "markdown",
   "metadata": {
    "id": "4wBRERilR_I7"
   },
   "source": [
    "## OPA closed loop non inverting"
   ]
  },
  {
   "cell_type": "code",
   "execution_count": null,
   "metadata": {
    "colab": {
     "base_uri": "https://localhost:8080/",
     "height": 419
    },
    "id": "g2uqnbN3SC1g",
    "outputId": "9fd58eed-71fd-49d5-862d-68801472e054"
   },
   "outputs": [],
   "source": [
    "ch1_11 = openTek(f'{DATADIR}/4-10-21/OPA_closed_loop_non_inverting_G11/F0017CH1.CSV')\n",
    "ch2_11 = openTek(f'{DATADIR}/4-10-21/OPA_closed_loop_non_inverting_G11/F0017CH2.CSV')\n",
    "ch1_2  = openTek(f'{DATADIR}/4-10-21/OPA_closed_loop_non_inverting_G2/F0016CH1.CSV')\n",
    "ch2_2  = openTek(f'{DATADIR}/4-10-21/OPA_closed_loop_non_inverting_G2/F0016CH2.CSV')\n",
    "\n",
    "time1  = ch1_11['Data'].to_numpy().transpose()[0] * 1000\n",
    "input1 = ch1_11['Data'].to_numpy().transpose()[1]\n",
    "\n",
    "time2  = ch1_2['Data'].to_numpy().transpose()[0] * 1000\n",
    "input2 = ch1_2['Data'].to_numpy().transpose()[1]\n",
    "\n",
    "time3  = ch2_11['Data'].to_numpy().transpose()[0] * 1000\n",
    "outG11 = ch2_11['Data'].to_numpy().transpose()[1]\n",
    "\n",
    "time4  = ch2_2['Data'].to_numpy().transpose()[0] * 1000\n",
    "outG2  = ch2_2['Data'].to_numpy().transpose()[1]\n",
    "\n",
    "\n",
    "fig, ax = plt.subplots(figsize=(8, 6))\n",
    "ax.plot(time1, input1, color = \"black\", label = \"Sinusoide in ingresso\")\n",
    "ax.plot(time1, outG11, color = \"red\", label = \"Uscita OPA G=11\")\n",
    "ax.plot(time2, outG2, color = \"blue\", label = \"Uscita OPA G=2\")\n",
    "\n",
    "\n",
    "\n",
    "ax.set(xlabel='Base dei tempi (ms)', ylabel='Ampiezza del segnale (V)',\n",
    "       title='Amplificatore operazionale in configurazione\\n ad anello chiuso non invertente')\n",
    "\n",
    "ax.grid()\n",
    "ax.legend(loc=\"lower left\")\n",
    "\n",
    "e1 = \"$\\sim $\" + str(input1.max()) + \" V\"\n",
    "e2 = \"$\\sim $\" + str(outG2.max()) + \" V\"\n",
    "e3 = \"$\\sim $\" + str(outG11.max()) + \" V\"\n",
    "\n",
    "\n",
    "ax.text(-1.46, input1.max() - 0.05, e1,\n",
    "        verticalalignment='top', horizontalalignment='left',\n",
    "        color='black', fontsize=11)\n",
    "ax.hlines(input1.max(), -1.38, 1.5, linestyle = \"--\")\n",
    "\n",
    "ax.text(-1.46, outG2.max() + 0.25, e2,\n",
    "        verticalalignment='top', horizontalalignment='left',\n",
    "        color='blue', fontsize=11)\n",
    "ax.hlines(outG2.max(), -1.38, 1.5, linestyle = \"--\", color=\"blue\")\n",
    "\n",
    "ax.text(-1.46, outG11.max() - 0.05, e3,\n",
    "        verticalalignment='top', horizontalalignment='left',\n",
    "        color='red', fontsize=11)\n",
    "ax.hlines(outG11.max(), -1.38, 1.5, linestyle = \"--\", color=\"red\")\n",
    "\n",
    "plt.savefig(f\"{OUTPUTDIR}/OPA-closed-loop-non-inv-G2-11.pdf\")"
   ]
  },
  {
   "cell_type": "markdown",
   "metadata": {
    "id": "9vmt5_mxevOW"
   },
   "source": [
    "## OPA Slew Rate vs freq"
   ]
  },
  {
   "cell_type": "code",
   "execution_count": null,
   "metadata": {
    "colab": {
     "base_uri": "https://localhost:8080/",
     "height": 537
    },
    "id": "NAZ1lGJUfcug",
    "outputId": "bed14177-8f63-4cf5-efa9-6e500caa81b4"
   },
   "outputs": [],
   "source": [
    "in_100K  = openTek(f'{DATADIR}/4-10-21/OPA_or_slew_rate_100KHz/F0008CH1.CSV')\n",
    "out_100K = openTek(f'{DATADIR}/4-10-21/OPA_or_slew_rate_100KHz/F0008CH2.CSV')\n",
    "in_50K   = openTek(f'{DATADIR}/4-10-21/OPA_or_slew_rate_50KHz/F0009CH1.CSV')\n",
    "out_50K  = openTek(f'{DATADIR}/4-10-21/OPA_or_slew_rate_50KHz/F0009CH2.CSV')\n",
    "in_10K   = openTek(f'{DATADIR}/4-10-21/OPA_or_slew_rate_10KHz/F0010CH1.CSV')\n",
    "out_10K  = openTek(f'{DATADIR}/4-10-21/OPA_or_slew_rate_10KHz/F0010CH2.CSV')\n",
    "in_5K    = openTek(f'{DATADIR}/4-10-21/OPA_or_slew_rate_5KHz/F0011CH1.CSV')\n",
    "out_5K   = openTek(f'{DATADIR}/4-10-21/OPA_or_slew_rate_5KHz/F0011CH2.CSV')\n",
    "\n",
    "in_100K_time  = in_100K['Data'].to_numpy().transpose()[0] * 1000\n",
    "in_100K_sig   = in_100K['Data'].to_numpy().transpose()[1]\n",
    "out_100K_time  = out_100K['Data'].to_numpy().transpose()[0] * 1000\n",
    "out_100K_sig   = out_100K['Data'].to_numpy().transpose()[1]\n",
    "\n",
    "in_50K_time  = in_50K['Data'].to_numpy().transpose()[0] * 1000\n",
    "in_50K_sig   = in_50K['Data'].to_numpy().transpose()[1]\n",
    "out_50K_time  = out_50K['Data'].to_numpy().transpose()[0] * 1000\n",
    "out_50K_sig   = out_50K['Data'].to_numpy().transpose()[1]\n",
    "\n",
    "in_10K_time  = in_10K['Data'].to_numpy().transpose()[0] * 1000\n",
    "in_10K_sig   = in_10K['Data'].to_numpy().transpose()[1]\n",
    "out_10K_time  = out_10K['Data'].to_numpy().transpose()[0] * 1000\n",
    "out_10K_sig   = out_10K['Data'].to_numpy().transpose()[1]\n",
    "\n",
    "in_5K_time  = in_5K['Data'].to_numpy().transpose()[0] * 1000\n",
    "in_5K_sig   = in_5K['Data'].to_numpy().transpose()[1]\n",
    "out_5K_time  = out_5K['Data'].to_numpy().transpose()[0] * 1000\n",
    "out_5K_sig   = out_5K['Data'].to_numpy().transpose()[1]\n",
    "\n",
    "\n",
    "fig, ax = plt.subplots(nrows = 4, ncols = 1, figsize=(12, 9))\n",
    "\n",
    "#Remove DC offset\n",
    "in_100K_sig  = in_100K_sig - in_100K_sig.mean()\n",
    "in_50K_sig   = in_50K_sig - in_50K_sig.mean()\n",
    "in_10K_sig   = in_10K_sig - in_10K_sig.mean()\n",
    "in_5K_sig    = in_5K_sig - in_5K_sig.mean()\n",
    "\n",
    "out_100K_sig = out_100K_sig - out_100K_sig.mean()\n",
    "out_50K_sig  = out_50K_sig  - out_50K_sig.mean()\n",
    "out_10K_sig  = out_10K_sig  - out_10K_sig.mean()\n",
    "out_5K_sig   = out_5K_sig   - out_5K_sig.mean()\n",
    "\n",
    "ax2 = []\n",
    "for ax_2 in ax:\n",
    "  ax2.append(ax_2.twinx())\n",
    "\n",
    "ax[0].plot(in_100K_time, in_100K_sig, color = \"black\", label = \"Ingresso 100 KHz\")\n",
    "ax2[0].plot(out_100K_time, out_100K_sig, color = \"blue\", label = \"Uscita OPA\")\n",
    "\n",
    "ax[1].plot(in_50K_time, in_50K_sig, color = \"black\", label = \"Ingresso 50 KHz\")\n",
    "ax2[1].plot(out_50K_time, out_50K_sig, color = \"blue\", label = \"Uscita OPA\")\n",
    "\n",
    "ax[2].plot(in_10K_time, in_10K_sig, color = \"black\", label = \"Ingresso 10 KHz\")\n",
    "ax2[2].plot(out_10K_time, out_10K_sig, color = \"blue\", label = \"Uscita OPA\")\n",
    "\n",
    "ax[3].plot(in_5K_time, in_5K_sig, color = \"black\", label = \"Ingresso 5 KHz\")\n",
    "ax2[3].plot(out_5K_time, out_5K_sig, color = \"blue\", label = \"Uscita OPA\")\n",
    "\n",
    "\n",
    "for ax_ in ax:\n",
    "  ax_.grid()\n",
    "  #ax_.legend(loc=\"upper left\")\n",
    "\n",
    "\n",
    "plt.savefig(f\"{OUTPUTDIR}/OPA-open-loop-slew-rate.pdf\")"
   ]
  },
  {
   "cell_type": "markdown",
   "metadata": {
    "id": "FcM3P5JutDfo"
   },
   "source": [
    "Regressione lineare nella regione di commutazione del trigger ad anello aperto per il calcolo dello slew rate (misura a 100 KHz)"
   ]
  },
  {
   "cell_type": "code",
   "execution_count": null,
   "metadata": {
    "colab": {
     "base_uri": "https://localhost:8080/",
     "height": 370
    },
    "id": "E0Fx8iQtpfwR",
    "outputId": "6bc3ea69-914e-4724-acf8-adaae65b0fa3"
   },
   "outputs": [],
   "source": [
    "%cd /content\n",
    "import scipy.stats\n",
    "\n",
    "fig, ax = plt.subplots()\n",
    "\n",
    "in_ = 290\n",
    "out_ = 470\n",
    "tbase = out_100K_time[in_: out_]\n",
    "verts = out_100K_sig[in_: out_]\n",
    "\n",
    "ax.plot(tbase, verts, color = \"black\")\n",
    "\n",
    "res = sp.stats.linregress(tbase, verts)\n",
    "y = res[0] * tbase + res[1]\n",
    "ax.plot(tbase, y, color = \"blue\")\n",
    "print(res)\n",
    "print(\"Slew rate = \", res[0] / 1000, \" V/us\")\n",
    "\n",
    "ax.set(xlabel='Base dei tempi (ms)', ylabel='Ampiezza del segnale (V)',\n",
    "       title='Regressione lineare per la valutazione dello slew rate')\n",
    "\n",
    "ax.grid()\n",
    "\n",
    "plt.savefig(f\"{OUTPUTDIR}/OPA-slew-rate-fit.pdf\")"
   ]
  },
  {
   "cell_type": "markdown",
   "metadata": {
    "id": "ssyM4tPzL9K7"
   },
   "source": [
    "## Commit changes"
   ]
  },
  {
   "cell_type": "code",
   "execution_count": null,
   "metadata": {
    "colab": {
     "base_uri": "https://localhost:8080/"
    },
    "id": "Aa2Qud14RQl3",
    "outputId": "892a0fa9-208e-4621-92a5-d5114087a372"
   },
   "outputs": [],
   "source": [
    "%cd /content/Electronics-2021-UNITO/\n",
    "!git pull\n",
    "!git add .\n",
    "!git commit -m \"Plots from data analysis\"\n",
    "!git push "
   ]
  },
  {
   "cell_type": "code",
   "execution_count": null,
   "metadata": {
    "id": "kYjkd8qfTIVL"
   },
   "outputs": [],
   "source": []
  }
 ],
 "metadata": {
  "colab": {
   "include_colab_link": true,
   "name": "1-Introduction-and-OPA-amplifiers.ipynb",
   "provenance": []
  },
  "hide_input": false,
  "kernelspec": {
   "display_name": "Python 3 (ipykernel)",
   "language": "python",
   "name": "python3"
  },
  "language_info": {
   "codemirror_mode": {
    "name": "ipython",
    "version": 3
   },
   "file_extension": ".py",
   "mimetype": "text/x-python",
   "name": "python",
   "nbconvert_exporter": "python",
   "pygments_lexer": "ipython3",
   "version": "3.9.7"
  },
  "latex_envs": {
   "LaTeX_envs_menu_present": true,
   "autoclose": false,
   "autocomplete": true,
   "bibliofile": "biblio.bib",
   "cite_by": "apalike",
   "current_citInitial": 1,
   "eqLabelWithNumbers": true,
   "eqNumInitial": 1,
   "hotkeys": {
    "equation": "Ctrl-E",
    "itemize": "Ctrl-I"
   },
   "labels_anchors": false,
   "latex_user_defs": false,
   "report_style_numbering": false,
   "user_envs_cfg": false
  },
  "toc": {
   "base_numbering": 1,
   "nav_menu": {},
   "number_sections": true,
   "sideBar": true,
   "skip_h1_title": false,
   "title_cell": "Table of Contents",
   "title_sidebar": "Contents",
   "toc_cell": false,
   "toc_position": {},
   "toc_section_display": true,
   "toc_window_display": false
  },
  "varInspector": {
   "cols": {
    "lenName": 16,
    "lenType": 16,
    "lenVar": 40
   },
   "kernels_config": {
    "python": {
     "delete_cmd_postfix": "",
     "delete_cmd_prefix": "del ",
     "library": "var_list.py",
     "varRefreshCmd": "print(var_dic_list())"
    },
    "r": {
     "delete_cmd_postfix": ") ",
     "delete_cmd_prefix": "rm(",
     "library": "var_list.r",
     "varRefreshCmd": "cat(var_dic_list()) "
    }
   },
   "types_to_exclude": [
    "module",
    "function",
    "builtin_function_or_method",
    "instance",
    "_Feature"
   ],
   "window_display": false
  }
 },
 "nbformat": 4,
 "nbformat_minor": 4
}
