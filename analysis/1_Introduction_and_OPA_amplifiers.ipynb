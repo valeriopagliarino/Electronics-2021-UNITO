{
  "nbformat": 4,
  "nbformat_minor": 0,
  "metadata": {
    "colab": {
      "name": "1-Introduction-and-OPA-amplifiers.ipynb",
      "provenance": [],
      "include_colab_link": true
    },
    "kernelspec": {
      "display_name": "Python 3 (ipykernel)",
      "language": "python",
      "name": "python3"
    },
    "language_info": {
      "codemirror_mode": {
        "name": "ipython",
        "version": 3
      },
      "file_extension": ".py",
      "mimetype": "text/x-python",
      "name": "python",
      "nbconvert_exporter": "python",
      "pygments_lexer": "ipython3",
      "version": "3.9.7"
    }
  },
  "cells": [
    {
      "cell_type": "markdown",
      "metadata": {
        "id": "view-in-github",
        "colab_type": "text"
      },
      "source": [
        "<a href=\"https://colab.research.google.com/github/valeriopagliarino/Electronics-2021-UNITO/blob/main/analysis/1_Introduction_and_OPA_amplifiers.ipynb\" target=\"_parent\"><img src=\"https://colab.research.google.com/assets/colab-badge.svg\" alt=\"Open In Colab\"/></a>"
      ]
    },
    {
      "cell_type": "markdown",
      "metadata": {
        "id": "rk5sh2cvGJOs"
      },
      "source": [
        "# Data analysis: Introduction and OPA amplifiers\n",
        "### October 4th 2021\n",
        "<p>\n",
        "Authors: <b> Stefano Barbero, Valerio Pagliarino, Matteo Barbagiovanni, Federico Malnati </b> <p>Electronics Laboratory 2021 - Department of Physics - University of Turin <p>\n",
        "Date: 04/10/2021\n",
        "\n",
        "1. Instrumentation configuration\n",
        "2. Probe compensation\n",
        "3. Half-wave diode rectifier\n",
        "4. OPA zero crossing \n",
        "5. OPA inverting zero crossing\n",
        "6. OPA slew rate frequency sweep\n",
        "7. OPA open ring biased threshold\n",
        "8. OPA closed loop non inverting G = 2\n",
        "9. OPA closed loop non inverting G = 10\n",
        "10. OPA closed loop inverting bode plots for G = 1\n",
        "11. OPA closed loop inverting bode plots for G = 10\n"
      ]
    },
    {
      "cell_type": "markdown",
      "metadata": {
        "id": "I4JK4N0_URnB"
      },
      "source": [
        "## Configuration"
      ]
    },
    {
      "cell_type": "markdown",
      "metadata": {
        "id": "0bwsv0IJJrZp"
      },
      "source": [
        "### Clone the GIT"
      ]
    },
    {
      "cell_type": "code",
      "metadata": {
        "colab": {
          "base_uri": "https://localhost:8080/"
        },
        "id": "EDuqpT5KFwX_",
        "outputId": "4aa62069-414c-4205-a944-44c5dc17da02"
      },
      "source": [
        "!rm -r ./sample_data\n",
        "import os\n",
        "from getpass import getpass\n",
        "user = input('GitHub user')\n",
        "mail = input('GitHub email')\n",
        "password = getpass('GitHub password')\n",
        "os.environ['GITHUB_AUTH'] = user + ':' + password\n",
        "!git clone https://$GITHUB_AUTH@github.com/valeriopagliarino/Electronics-2021-UNITO.git\n",
        "!git config --global user.email user\n",
        "!git config --global user.name mail"
      ],
      "execution_count": 1,
      "outputs": [
        {
          "output_type": "stream",
          "name": "stdout",
          "text": [
            "GitHub uservaleriopagliarino\n",
            "GitHub emailvalerio.pagliarino@edu.unito.it\n",
            "GitHub password··········\n",
            "Cloning into 'Electronics-2021-UNITO'...\n",
            "remote: Enumerating objects: 381, done.\u001b[K\n",
            "remote: Counting objects: 100% (381/381), done.\u001b[K\n",
            "remote: Compressing objects: 100% (304/304), done.\u001b[K\n",
            "remote: Total 381 (delta 188), reused 173 (delta 65), pack-reused 0\u001b[K\n",
            "Receiving objects: 100% (381/381), 16.91 MiB | 18.78 MiB/s, done.\n",
            "Resolving deltas: 100% (188/188), done.\n"
          ]
        }
      ]
    },
    {
      "cell_type": "markdown",
      "metadata": {
        "id": "w_hC9vVzGpSG"
      },
      "source": [
        "### Install environment"
      ]
    },
    {
      "cell_type": "code",
      "metadata": {
        "colab": {
          "base_uri": "https://localhost:8080/"
        },
        "id": "geqiHwACJuqv",
        "outputId": "bae969bc-82e0-4445-be2e-e8b04f7ae234"
      },
      "source": [
        "exec(open(\"./Electronics-2021-UNITO/analysis/ROOT-config.py\").read())"
      ],
      "execution_count": 2,
      "outputs": [
        {
          "output_type": "stream",
          "name": "stdout",
          "text": [
            "Start config for JupyROOT Env. on Google Coolab - It takes about 3 minutes\n",
            "WGET...\n",
            "Done.\n",
            "UNZIP...\n",
            "TAR...\n",
            "APT...\n",
            "Installation completed.\n",
            "Shared objects loaded.\n",
            "Welcome to JupyROOT 6.14/04\n",
            "Completed!\n"
          ]
        }
      ]
    },
    {
      "cell_type": "markdown",
      "metadata": {
        "id": "G0zBs0IVc6WK"
      },
      "source": [
        "### Importa moduli [no COLAB]"
      ]
    },
    {
      "cell_type": "code",
      "metadata": {
        "id": "M0wqcW3tc6WL"
      },
      "source": [
        "import numpy as np\n",
        "import scipy as sp\n",
        "import sympy as sy\n",
        "import pandas as pd\n",
        "\n",
        "from matplotlib import pyplot as plt\n",
        "\n",
        "from uncertainties import ufloat\n",
        "import uncertainties.umath\n",
        "\n",
        "import pickle\n",
        "\n",
        "import ROOT # Per COLAB importato da ROOT-config.py"
      ],
      "execution_count": null,
      "outputs": []
    },
    {
      "cell_type": "markdown",
      "metadata": {
        "id": "-fz1JcVRdhWE"
      },
      "source": [
        "### Importa moduli [COLAB]"
      ]
    },
    {
      "cell_type": "code",
      "metadata": {
        "id": "NyusFmEvdhWG",
        "colab": {
          "base_uri": "https://localhost:8080/"
        },
        "outputId": "275b92e1-f659-417e-a791-cdf859242fc5"
      },
      "source": [
        "%cd /content/\n",
        "!pip3 install uncertainties\n",
        "import numpy as np\n",
        "import scipy as sp\n",
        "import sympy as sy\n",
        "import pandas as pd\n",
        "\n",
        "from uncertainties import ufloat\n",
        "import uncertainties.umath\n",
        "from matplotlib import pyplot as plt\n",
        "import pickle\n",
        "\n",
        "#Pickle with dict of Numpy arrays"
      ],
      "execution_count": 11,
      "outputs": [
        {
          "output_type": "stream",
          "name": "stdout",
          "text": [
            "/content\n",
            "Requirement already satisfied: uncertainties in /usr/local/lib/python3.7/dist-packages (3.1.6)\n",
            "Requirement already satisfied: future in /usr/local/lib/python3.7/dist-packages (from uncertainties) (0.16.0)\n"
          ]
        }
      ]
    },
    {
      "cell_type": "markdown",
      "metadata": {
        "id": "U-eAMLb4U-Yp"
      },
      "source": [
        "### Funzioni per l'importazione file Tektronix"
      ]
    },
    {
      "cell_type": "code",
      "metadata": {
        "id": "h2R45ItQU3xj"
      },
      "source": [
        "import csv\n",
        "\n",
        "def cellFromCSV(path, row_index, col_index):\n",
        "  with open(path, 'r') as f:\n",
        "    mycsv = csv.reader(f)\n",
        "    column = []\n",
        "    for row in mycsv:\n",
        "        column.append(row[col_index])\n",
        "\n",
        "  return column[row_index]\n",
        "\n",
        "\n",
        "def openTek(path):\n",
        "  a = pd.read_table(path, header=None, sep=\",\", usecols=[3,4])\n",
        "  a = a.transpose()\n",
        "  a = a.rename(index={3: 'Time', 4: 'Amplitude'})\n",
        "  a = a.transpose()\n",
        "\n",
        "  data = {'Record lenght': cellFromCSV(path, 0, 1),\n",
        "          'Sample interval': cellFromCSV(path, 1, 1),\n",
        "          'Trigger point': cellFromCSV(path, 2, 1),\n",
        "          'Source': cellFromCSV(path, 6, 1),\n",
        "          'Vertical units': cellFromCSV(path, 7, 1),\n",
        "          'Vertical scale': cellFromCSV(path, 8, 1),\n",
        "          'Vertical offset': cellFromCSV(path, 9, 1),\n",
        "          'Horizontal units': cellFromCSV(path, 10, 1),\n",
        "          'Horizontal scale': cellFromCSV(path, 11, 1),\n",
        "          'Pt FMT': cellFromCSV(path, 12, 1),\n",
        "          'Y zero': cellFromCSV(path, 13, 1),\n",
        "          'Probe atten': cellFromCSV(path, 14, 1),\n",
        "          'Model': cellFromCSV(path, 15, 1),\n",
        "          'Serial': cellFromCSV(path, 16, 1),\n",
        "          'Firmware': cellFromCSV(path, 17, 1),\n",
        "          'Data' : a\n",
        "  }\n",
        "  return data"
      ],
      "execution_count": 59,
      "outputs": []
    },
    {
      "cell_type": "markdown",
      "metadata": {
        "id": "bRuixBHqLNOI"
      },
      "source": [
        "## Half-wave rectifier"
      ]
    },
    {
      "cell_type": "code",
      "metadata": {
        "id": "1Bl9vOkgG7w5",
        "colab": {
          "base_uri": "https://localhost:8080/",
          "height": 498
        },
        "outputId": "d3133ecd-f749-4dc0-9a5b-6ffe934f446c"
      },
      "source": [
        "%cd /content\n",
        "\n",
        "ch1_f = openTek('./Electronics-2021-UNITO/data-source/4-10-21/half_wave_rectifier_hi/F0002CH1.CSV')\n",
        "ch2_f = openTek('./Electronics-2021-UNITO/data-source/4-10-21/half_wave_rectifier_hi/F0002CH2.CSV')\n",
        "ch1_l = openTek('./Electronics-2021-UNITO/data-source/4-10-21/half_wave_rectifier_lo/F0003CH1.CSV')\n",
        "ch2_l = openTek('./Electronics-2021-UNITO/data-source/4-10-21/half_wave_rectifier_lo/F0003CH2.CSV')\n",
        "print(ch2_f.keys())\n",
        "\n",
        "input_1 = ch1_f['Data'].to_numpy()\n",
        "upper_half_wave = ch2_f['Data'].to_numpy()\n",
        "\n",
        "input_2 = ch1_l['Data'].to_numpy()\n",
        "lower_half_wave = ch2_l['Data'].to_numpy()\n",
        "\n",
        "time1 = upper_half_wave.transpose()[0]\n",
        "time2 = lower_half_wave.transpose()[0]\n",
        "input_1  = input_1.transpose()[1]\n",
        "input_2  = input_2.transpose()[1]\n",
        "upper   = upper_half_wave.transpose()[1]\n",
        "lower   = lower_half_wave.transpose()[1]\n",
        "\n",
        "fig, ax = plt.subplots(figsize=(8, 6))\n",
        "ax.plot(time1 * 1e3, upper, label = \"Semionda positiva\", color = 'red')\n",
        "ax.plot(time2 * 1e3, lower, label = \"Semionda negativa\", color = 'blue')\n",
        "ax.plot(time1 * 1e3, input_1, label = \"Sinusoide in ingresso\", color = 'black', linestyle = \"--\")\n",
        "\n",
        "max_rt = upper[1250:1900].max()\n",
        "max_in = input_1[1250:1900].max()\n",
        "\n",
        "ax.hlines(max_rt, -0.25, .5)\n",
        "ax.hlines(max_in, -0.25, .5)\n",
        "ax.arrow(-0.20, max_rt, 0, abs(max_rt - max_in) - 0.18,  head_width = 0.08, color = \"black\")\n",
        "ax.arrow(-0.20, max_rt + abs(max_rt - max_in), 0, -1.* abs(max_rt - max_in) + 0.18,  head_width = 0.08, color = \"black\")\n",
        "\n",
        "ax.text(-0.40, max_rt + abs(max_rt - max_in) - 0.1, 'ΔV',\n",
        "        verticalalignment='top', horizontalalignment='left',\n",
        "        color='black', fontsize=15)\n",
        "\n",
        "ax.set(xlabel='Base dei tempi (ms)', ylabel='Ampiezza del segnale (mV)',\n",
        "       title='Raddrizzatore a singola semionda con diodo al silicio')\n",
        "ax.grid()\n",
        "ax.legend()\n",
        "plt.savefig(\"./Electronics-2021-UNITO/analysis/output/half-wave-rectifier.pdf\")\n",
        "\n",
        "print(\"\\nValore di Delta V = \", abs(max_rt - max_in), \" V\")"
      ],
      "execution_count": 165,
      "outputs": [
        {
          "output_type": "stream",
          "name": "stdout",
          "text": [
            "/content\n",
            "dict_keys(['Record lenght', 'Sample interval', 'Trigger point', 'Source', 'Vertical units', 'Vertical scale', 'Vertical offset', 'Horizontal units', 'Horizontal scale', 'Pt FMT', 'Y zero', 'Probe atten', 'Model', 'Serial', 'Firmware', 'Data'])\n",
            "\n",
            "Valore di Delta V =  0.6399999999999997  V\n"
          ]
        },
        {
          "output_type": "display_data",
          "data": {
            "image/png": "[encoded data removed]",
            "text/plain": [
              "<Figure size 576x432 with 1 Axes>"
            ]
          },
          "metadata": {
            "needs_background": "light"
          }
        }
      ]
    },
    {
      "cell_type": "markdown",
      "metadata": {
        "id": "ssyM4tPzL9K7"
      },
      "source": [
        "## Commit changes"
      ]
    },
    {
      "cell_type": "code",
      "metadata": {
        "colab": {
          "base_uri": "https://localhost:8080/"
        },
        "id": "Aa2Qud14RQl3",
        "outputId": "dde81018-b554-4f1a-fe0a-6fae2fa1bea6"
      },
      "source": [
        "%cd /content/Electronics-2021-UNITO/\n",
        "!git pull\n",
        "!git add .\n",
        "!git commit -m \"Plots from data analysis\"\n",
        "!git push "
      ],
      "execution_count": 163,
      "outputs": [
        {
          "output_type": "stream",
          "name": "stdout",
          "text": [
            "/content/Electronics-2021-UNITO\n",
            "remote: Enumerating objects: 7, done.\u001b[K\n",
            "remote: Counting objects: 100% (7/7), done.\u001b[K\n",
            "remote: Compressing objects: 100% (4/4), done.\u001b[K\n",
            "remote: Total 4 (delta 2), reused 0 (delta 0), pack-reused 0\u001b[K\n",
            "Unpacking objects: 100% (4/4), done.\n",
            "From https://github.com/valeriopagliarino/Electronics-2021-UNITO\n",
            "   94f43c1..81e07fd  main       -> origin/main\n",
            "hint: Waiting for your editor to close the file... error: unable to start editor 'editor'\n",
            "Not committing merge; use 'git commit' to complete the merge.\n",
            "[main 270acc0] Plots from data analysis\n",
            "Counting objects: 8, done.\n",
            "Delta compression using up to 2 threads.\n",
            "Compressing objects: 100% (8/8), done.\n",
            "Writing objects: 100% (8/8), 29.23 KiB | 14.61 MiB/s, done.\n",
            "Total 8 (delta 4), reused 0 (delta 0)\n",
            "remote: Resolving deltas: 100% (4/4), completed with 3 local objects.\u001b[K\n",
            "To https://github.com/valeriopagliarino/Electronics-2021-UNITO.git\n",
            "   81e07fd..270acc0  main -> main\n"
          ]
        }
      ]
    },
    {
      "cell_type": "code",
      "metadata": {
        "id": "kYjkd8qfTIVL"
      },
      "source": [
        ""
      ],
      "execution_count": null,
      "outputs": []
    }
  ]
}