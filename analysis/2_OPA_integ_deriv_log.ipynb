{
 "cells": [
  {
   "cell_type": "markdown",
   "metadata": {
    "colab_type": "text",
    "id": "view-in-github"
   },
   "source": [
    "<a href=\"https://colab.research.google.com/github/valeriopagliarino/Electronics-2021-UNITO/blob/main/analysis/2_OPA_integ_deriv_log.ipynb\" target=\"_parent\"><img src=\"https://colab.research.google.com/assets/colab-badge.svg\" alt=\"Open In Colab\"/></a>"
   ]
  },
  {
   "cell_type": "markdown",
   "metadata": {
    "id": "rk5sh2cvGJOs"
   },
   "source": [
    "# Data analysis: integration, differentiation and log with OPA\n",
    "### October 5th 2021\n",
    "<p>\n",
    "Authors: <b> Stefano Barbero, Valerio Pagliarino, Matteo Barbagiovanni, Federico Malnati </b> <p>Electronics Laboratory 2021 - Department of Physics - University of Turin <p>\n",
    "Date: 05/10/2021\n",
    "\n",
    "1. OPA integrator\n",
    "2. OPA differentiator\n",
    "3. OPA log amplifier\n",
    "\n",
    "\n",
    "OPA: LM471CV (https://www.ti.com/lit/ds/symlink/lm741.pdf)\n"
   ]
  },
  {
   "cell_type": "markdown",
   "metadata": {
    "id": "I4JK4N0_URnB"
   },
   "source": [
    "## Configuration"
   ]
  },
  {
   "cell_type": "markdown",
   "metadata": {
    "id": "0bwsv0IJJrZp"
   },
   "source": [
    "### Clone the GIT"
   ]
  },
  {
   "cell_type": "code",
   "execution_count": null,
   "metadata": {
    "colab": {
     "base_uri": "https://localhost:8080/"
    },
    "id": "EDuqpT5KFwX_",
    "outputId": "d43d2c84-6eee-455a-8443-b40a6fdc0494"
   },
   "outputs": [],
   "source": [
    "!rm -r ./sample_data\n",
    "import os\n",
    "from getpass import getpass\n",
    "user = input('GitHub user')\n",
    "mail = input('GitHub email')\n",
    "password = getpass('GitHub password')\n",
    "os.environ['GITHUB_AUTH'] = user + ':' + password\n",
    "!git clone https://$GITHUB_AUTH@github.com/valeriopagliarino/Electronics-2021-UNITO.git\n",
    "!git config --global user.email user\n",
    "!git config --global user.name mail"
   ]
  },
  {
   "cell_type": "markdown",
   "metadata": {
    "id": "w_hC9vVzGpSG"
   },
   "source": [
    "### Install environment"
   ]
  },
  {
   "cell_type": "code",
   "execution_count": null,
   "metadata": {
    "colab": {
     "base_uri": "https://localhost:8080/"
    },
    "id": "geqiHwACJuqv",
    "outputId": "b108e48c-c2a8-44eb-95ea-300005a6aed8"
   },
   "outputs": [],
   "source": [
    "exec(open(\"./Electronics-2021-UNITO/analysis/ROOT-config.py\").read())"
   ]
  },
  {
   "cell_type": "markdown",
   "metadata": {
    "id": "G0zBs0IVc6WK"
   },
   "source": [
    "### Importa moduli [no COLAB]"
   ]
  },
  {
   "cell_type": "code",
   "execution_count": null,
   "metadata": {
    "id": "M0wqcW3tc6WL"
   },
   "outputs": [],
   "source": [
    "import numpy as np\n",
    "import scipy as sp\n",
    "import sympy as sy\n",
    "import pandas as pd\n",
    "\n",
    "from matplotlib import pyplot as plt\n",
    "\n",
    "from uncertainties import ufloat\n",
    "import uncertainties.umath\n",
    "\n",
    "import pickle\n",
    "\n",
    "import ROOT # Per COLAB importato da ROOT-config.py\n",
    "\n",
    "DATADIR = \"../data-source\"\n",
    "OUTPUTDIR = \"./output\""
   ]
  },
  {
   "cell_type": "markdown",
   "metadata": {
    "id": "-fz1JcVRdhWE"
   },
   "source": [
    "### Importa moduli [COLAB]"
   ]
  },
  {
   "cell_type": "code",
   "execution_count": null,
   "metadata": {
    "colab": {
     "base_uri": "https://localhost:8080/"
    },
    "id": "NyusFmEvdhWG",
    "outputId": "2a8d3555-4c95-48f7-91e4-1430ddf2fe57"
   },
   "outputs": [],
   "source": [
    "!pip3 install uncertainties\n",
    "import numpy as np\n",
    "import scipy as sp\n",
    "import sympy as sy\n",
    "import pandas as pd\n",
    "\n",
    "from uncertainties import ufloat\n",
    "import uncertainties.umath\n",
    "from matplotlib import pyplot as plt\n",
    "import pickle #Pickle with dict of Numpy arrays\n",
    "\n",
    "# Variables for directories\n",
    "DATADIR = \"/content/Electronics-2021-UNITO/data-source\"\n",
    "OUTPUTDIR = \"/content/Electronics-2021-UNITO/analysis/output\""
   ]
  },
  {
   "cell_type": "markdown",
   "metadata": {
    "id": "U-eAMLb4U-Yp"
   },
   "source": [
    "### Funzioni per l'importazione file Tektronix"
   ]
  },
  {
   "cell_type": "code",
   "execution_count": null,
   "metadata": {
    "id": "h2R45ItQU3xj"
   },
   "outputs": [],
   "source": [
    "import csv\n",
    "\n",
    "def cellFromCSV(path, row_index, col_index):\n",
    "  with open(path, 'r') as f:\n",
    "    mycsv = csv.reader(f)\n",
    "    column = []\n",
    "    for row in mycsv:\n",
    "        column.append(row[col_index])\n",
    "\n",
    "  return column[row_index]\n",
    "\n",
    "\n",
    "def openTek(path):\n",
    "  a = pd.read_table(path, header=None, sep=\",\", usecols=[3,4])\n",
    "  a = a.transpose()\n",
    "  a = a.rename(index={3: 'Time', 4: 'Amplitude'})\n",
    "  a = a.transpose()\n",
    "\n",
    "  data = {'Record lenght': cellFromCSV(path, 0, 1),\n",
    "          'Sample interval': cellFromCSV(path, 1, 1),\n",
    "          'Trigger point': cellFromCSV(path, 2, 1),\n",
    "          'Source': cellFromCSV(path, 6, 1),\n",
    "          'Vertical units': cellFromCSV(path, 7, 1),\n",
    "          'Vertical scale': cellFromCSV(path, 8, 1),\n",
    "          'Vertical offset': cellFromCSV(path, 9, 1),\n",
    "          'Horizontal units': cellFromCSV(path, 10, 1),\n",
    "          'Horizontal scale': cellFromCSV(path, 11, 1),\n",
    "          'Pt FMT': cellFromCSV(path, 12, 1),\n",
    "          'Y zero': cellFromCSV(path, 13, 1),\n",
    "          'Probe atten': cellFromCSV(path, 14, 1),\n",
    "          'Model': cellFromCSV(path, 15, 1),\n",
    "          'Serial': cellFromCSV(path, 16, 1),\n",
    "          'Firmware': cellFromCSV(path, 17, 1),\n",
    "          'Data' : a\n",
    "  }\n",
    "  return data"
   ]
  },
  {
   "cell_type": "markdown",
   "metadata": {
    "id": "_VmwhGvFmGCP"
   },
   "source": [
    "## OPA log-amplifier XY plot"
   ]
  },
  {
   "cell_type": "code",
   "execution_count": null,
   "metadata": {
    "colab": {
     "base_uri": "https://localhost:8080/",
     "height": 439
    },
    "id": "1Bl9vOkgG7w5",
    "outputId": "71c10b35-f3aa-46d7-b5e9-573ce19a7138"
   },
   "outputs": [],
   "source": [
    "logXY = pd.read_csv(f\"{DATADIR}/5-10-21/OPA_log_XY_plot/TEK00XY01.csv\")\n",
    "\n",
    "fig, ax = plt.subplots(nrows = 1, ncols = 1, figsize=(8, 6))\n",
    "ax.scatter(logXY.to_numpy().transpose()[0], logXY.to_numpy().transpose()[1], s=6)\n",
    "\n",
    "ax.set(xlabel='Ampiezza segnale in ingresso (V)', ylabel='Ampiezza segnale in uscita (V)',\n",
    "       title='Amplificatore logaritmico, diagramma XY ingresso-uscita\\nmedie di 64 punti, tempo di persistenza $t_{aq}$ = 2 s')\n",
    "\n",
    "ax.grid()\n",
    "\n",
    "plt.savefig(f\"{OUTPUTDIR}/OPA-log-AMP-XY.pdf\")"
   ]
  },
  {
   "cell_type": "markdown",
   "metadata": {
    "id": "XDM19g1lIqPw"
   },
   "source": [
    "## OPA integrator - with discharging resistor"
   ]
  },
  {
   "cell_type": "code",
   "execution_count": null,
   "metadata": {
    "colab": {
     "base_uri": "https://localhost:8080/",
     "height": 537
    },
    "id": "aMWXjDGCmUoY",
    "outputId": "0c7cce99-3761-4460-d394-5f58a66bf553"
   },
   "outputs": [],
   "source": [
    "in_step    = openTek(f'{DATADIR}/5-10-21/OPA_integ_with_res_step/F0002CH1.CSV')\n",
    "out_step   = openTek(f'{DATADIR}/5-10-21/OPA_integ_with_res_step/F0002CH2.CSV')\n",
    "in_square  = openTek(f'{DATADIR}/5-10-21/OPA_integ_with_res_square_wave/F0005CH1.CSV')\n",
    "out_square = openTek(f'{DATADIR}/5-10-21/OPA_integ_with_res_square_wave/F0005CH2.CSV')\n",
    "in_sine    = openTek(f'{DATADIR}/5-10-21/OPA_integ_with_res_sine/F0007CH1.CSV')\n",
    "out_sine   = openTek(f'{DATADIR}/5-10-21/OPA_integ_with_res_sine/F0007CH2.CSV')\n",
    "in_pmod    = openTek(f'{DATADIR}/5-10-21/OPA_integ_with_res_pulsemod/F0008CH1.CSV')\n",
    "out_pmod   = openTek(f'{DATADIR}/5-10-21/OPA_integ_with_res_pulsemod/F0008CH2.CSV')\n",
    "\n",
    "crop_in1 = 500\n",
    "crop_out1 = 2000\n",
    "\n",
    "crop_in2 = 0\n",
    "crop_out2 = 2500\n",
    "\n",
    "crop_in3 = 0\n",
    "crop_out3 = 2500\n",
    "\n",
    "time_in_step    = in_step['Data'].to_numpy().transpose()[0][crop_in1:crop_out1]   * 1000   \n",
    "time_out_step   = out_step['Data'].to_numpy().transpose()[0][crop_in1:crop_out1]   * 1000  \n",
    "time_in_square  = in_square['Data'].to_numpy().transpose()[0] * 1000 \n",
    "time_out_square = out_square['Data'].to_numpy().transpose()[0] * 1000\n",
    "time_in_sine    = in_sine['Data'].to_numpy().transpose()[0][crop_in2:crop_out2] * 1000   \n",
    "time_out_sine   = out_sine['Data'].to_numpy().transpose()[0][crop_in2:crop_out2] * 1000    \n",
    "time_in_pmod    = in_pmod['Data'].to_numpy().transpose()[0][crop_in3:crop_out3] * 1000   \n",
    "time_out_pmod   = out_pmod['Data'].to_numpy().transpose()[0][crop_in3:crop_out3] * 1000  \n",
    "\n",
    "\n",
    "sig_in_step     = in_step['Data'].to_numpy().transpose()[1][crop_in1:crop_out1]   \n",
    "sig_out_step    = out_step['Data'].to_numpy().transpose()[1][crop_in1:crop_out1]  \n",
    "sig_in_square   = in_square['Data'].to_numpy().transpose()[1] \n",
    "sig_out_square  = out_square['Data'].to_numpy().transpose()[1]\n",
    "sig_in_sine     = in_sine['Data'].to_numpy().transpose()[1][crop_in2:crop_out2]   \n",
    "sig_out_sine    = out_sine['Data'].to_numpy().transpose()[1][crop_in2:crop_out2] \n",
    "sig_in_pmod     = in_pmod['Data'].to_numpy().transpose()[1][crop_in3:crop_out3]   \n",
    "sig_out_pmod    = out_pmod['Data'].to_numpy().transpose()[1][crop_in3:crop_out3]  \n",
    "\n",
    "sig_in_step     = sig_in_step   - sig_in_step.mean() \n",
    "sig_in_square   = sig_in_square - sig_in_square.mean() \n",
    "sig_in_sine     = sig_in_sine   - sig_in_sine.mean() \n",
    "sig_in_pmod     = sig_in_pmod   - sig_in_pmod.mean() \n",
    " \n",
    "\n",
    "\n",
    "fig, ax = plt.subplots(nrows = 4, ncols = 1, figsize=(12, 9))\n",
    "\n",
    "ax2 = []\n",
    "for ax_2 in ax:\n",
    "  ax2.append(ax_2.twinx())\n",
    "\n",
    "def mm_norm(nn, ref):\n",
    "  maxv = max(ref)\n",
    "  minv = min(ref)\n",
    "  return ((nn - min(nn)) / (max(nn) - min(nn))) * (maxv - minv) + minv\n",
    "\n",
    "\n",
    "step_quadrature = sig_in_step.cumsum() * -1.\n",
    "square_quadrature = sig_in_square.cumsum() * -1.\n",
    "sine_quadrature = sig_in_sine.cumsum() * -1. + 1\n",
    "pmod_quadrature = (sig_in_pmod).cumsum() * -1. \n",
    "\n",
    "ax[0].plot(time_in_step, sig_in_step, color = \"black\", label = \"Gradino\")\n",
    "ax2[0].plot(time_in_step, mm_norm(step_quadrature, sig_out_step) , color = \"red\", linestyle = \"--\", linewidth=3)\n",
    "ax2[0].plot(time_out_step, sig_out_step, color = \"blue\", label = \"Integrale\")\n",
    "\n",
    "ax[1].plot(time_in_square, sig_in_square, color = \"black\", label = \"Onda quadra\")\n",
    "ax2[1].plot(time_in_square, mm_norm(square_quadrature, sig_out_square) , color = \"red\", linestyle = \"--\", linewidth=3)\n",
    "ax2[1].plot(time_out_square, sig_out_square, color = \"blue\", label = \"Integrale\")\n",
    "\n",
    "ax[2].plot(time_in_sine, sig_in_sine, color = \"black\", label = \"Sinusoide\")\n",
    "ax2[2].plot(time_in_sine, mm_norm(sine_quadrature, sig_out_sine) , color = \"red\", linestyle = \"--\", linewidth=3)\n",
    "ax2[2].plot(time_out_sine, sig_out_sine, color = \"blue\", label = \"Integrale\")\n",
    "\n",
    "ax[3].plot(time_in_pmod, sig_in_pmod, color = \"black\", label = \"Treno di impulsi\")\n",
    "ax2[3].plot(time_in_pmod, mm_norm(pmod_quadrature, sig_out_pmod) , color = \"red\", linestyle = \"--\", linewidth=3)\n",
    "ax2[3].plot(time_out_pmod, sig_out_pmod, color = \"blue\", label = \"Integrale\")\n",
    "\n",
    "\n",
    "for ax_ in ax:\n",
    "  ax_.grid()\n",
    "  #ax_.legend(loc=\"upper left\")\n",
    "\n",
    "\n",
    "\n",
    "plt.savefig(f\"{OUTPUTDIR}/OPA-integ-with-res.pdf\")"
   ]
  },
  {
   "cell_type": "markdown",
   "metadata": {
    "id": "cPBvY-r4kvr_"
   },
   "source": [
    "## OPA differentiator"
   ]
  },
  {
   "cell_type": "code",
   "execution_count": null,
   "metadata": {
    "colab": {
     "base_uri": "https://localhost:8080/",
     "height": 539
    },
    "id": "980G5cFDkzsW",
    "outputId": "073b9f31-3ec2-4b91-c41d-824890003df9"
   },
   "outputs": [],
   "source": [
    "in_dirac   = openTek(f'{DATADIR}/5-10-21/OPA_deriv_dirac_delta/F0009CH1.CSV')\n",
    "out_dirac  = openTek(f'{DATADIR}/5-10-21/OPA_deriv_dirac_delta/F0009CH2.CSV')\n",
    "in_triang  = openTek(f'{DATADIR}/5-10-21/OPA_deriv_triangle/F0011CH1.CSV')\n",
    "out_triang = openTek(f'{DATADIR}/5-10-21/OPA_deriv_triangle/F0011CH2.CSV')\n",
    "in_sine    = openTek(f'{DATADIR}/5-10-21/OPA_deriv_sine/F0010CH1.CSV')\n",
    "out_sine   = openTek(f'{DATADIR}/5-10-21/OPA_deriv_sine/F0010CH2.CSV')\n",
    "\n",
    "crop_in1 = 500\n",
    "crop_out1 = 2000\n",
    "\n",
    "crop_in2 = 0\n",
    "crop_out2 = 2500\n",
    "\n",
    "crop_in3 = 0\n",
    "crop_out3 = 2500\n",
    "\n",
    "time_in_dirac   = in_dirac['Data'].to_numpy().transpose()[0][crop_in1:crop_out1]   * 1000   \n",
    "time_out_dirac  = out_dirac['Data'].to_numpy().transpose()[0][crop_in1:crop_out1]   * 1000  \n",
    "time_in_triang  = in_triang['Data'].to_numpy().transpose()[0] * 1000 \n",
    "time_out_triang = out_triang['Data'].to_numpy().transpose()[0] * 1000\n",
    "time_in_sine    = in_sine['Data'].to_numpy().transpose()[0][crop_in2:crop_out2] * 1000   \n",
    "time_out_sine   = out_sine['Data'].to_numpy().transpose()[0][crop_in2:crop_out2] * 1000    \n",
    "\n",
    "\n",
    "sig_in_dirac    = in_dirac['Data'].to_numpy().transpose()[1][crop_in1:crop_out1]   \n",
    "sig_out_dirac   = out_dirac['Data'].to_numpy().transpose()[1][crop_in1:crop_out1]  \n",
    "sig_in_triang   = in_triang['Data'].to_numpy().transpose()[1] \n",
    "sig_out_triang  = out_triang['Data'].to_numpy().transpose()[1]\n",
    "sig_in_sine     = in_sine['Data'].to_numpy().transpose()[1][crop_in2:crop_out2]   \n",
    "sig_out_sine    = out_sine['Data'].to_numpy().transpose()[1][crop_in2:crop_out2]  \n",
    "\n",
    "sig_in_dirac    = sig_in_dirac   - sig_in_dirac.mean() \n",
    "sig_in_triang   = sig_in_triang - sig_in_triang.mean() \n",
    "sig_in_sine     = sig_in_sine   - sig_in_sine.mean() \n",
    " \n",
    "\n",
    "\n",
    "fig, ax = plt.subplots(nrows = 3, ncols = 1, figsize=(12, 9))\n",
    "\n",
    "ax2 = []\n",
    "for ax_2 in ax:\n",
    "  ax2.append(ax_2.twinx())\n",
    "\n",
    "def mm_norm(nn, ref):\n",
    "  maxv = max(ref)\n",
    "  minv = min(ref)\n",
    "  return ((nn - min(nn)) / (max(nn) - min(nn))) * (maxv - minv) + minv\n",
    "\n",
    "\n",
    "dirac_d = np.diff(sig_in_dirac) * -1.\n",
    "triang_d = np.diff(sig_in_triang) * -1.\n",
    "sine_d = np.diff(sig_in_sine) * -1. + 1\n",
    "\n",
    "ax[0].plot(time_in_dirac, sig_in_dirac, color = \"black\", label = \"Onda quadra\")\n",
    "ax2[0].plot(time_out_dirac, sig_out_dirac, color = \"blue\", label = \"Derivata\")\n",
    "ax2[0].plot(time_in_dirac[:-1], mm_norm(dirac_d, sig_out_dirac) , color = \"red\", linestyle = \"--\", linewidth=3)\n",
    "\n",
    "ax[1].plot(time_in_triang, sig_in_triang, color = \"black\", label = \"Onda triangolare\")\n",
    "#ax2[1].plot(time_in_triang[:-1], mm_norm(triang_d, sig_out_triang) , color = \"red\", linestyle = \"--\", linewidth=3)\n",
    "ax2[1].plot(time_out_triang, sig_out_triang, color = \"blue\", label = \"Derivata\")\n",
    "\n",
    "ax[2].plot(time_in_sine, sig_in_sine, color = \"black\", label = \"Sinusoide\")\n",
    "#ax2[2].plot(time_in_sine[:-1], mm_norm(sine_d, sig_out_sine) , color = \"red\", linestyle = \"--\", linewidth=3)\n",
    "ax2[2].plot(time_out_sine, sig_out_sine, color = \"blue\", label = \"Derivata\")\n",
    "\n",
    "for ax_ in ax:\n",
    "  ax_.grid()\n",
    "  #ax_.legend(loc=\"upper left\")\n",
    "\n",
    "\n",
    "\n",
    "plt.savefig(f\"{OUTPUTDIR}/OPA-differentiator.pdf\")"
   ]
  },
  {
   "cell_type": "markdown",
   "metadata": {
    "id": "ssyM4tPzL9K7"
   },
   "source": [
    "## Commit changes"
   ]
  },
  {
   "cell_type": "code",
   "execution_count": null,
   "metadata": {
    "colab": {
     "base_uri": "https://localhost:8080/"
    },
    "id": "Aa2Qud14RQl3",
    "outputId": "c7428c49-8e01-42da-e9ff-e43d8eb8d617"
   },
   "outputs": [],
   "source": [
    "%cd /content/Electronics-2021-UNITO/\n",
    "!git pull\n",
    "!git add .\n",
    "!git commit -m \"Plots from data analysis\"\n",
    "!git push "
   ]
  },
  {
   "cell_type": "code",
   "execution_count": null,
   "metadata": {
    "id": "kYjkd8qfTIVL"
   },
   "outputs": [],
   "source": []
  }
 ],
 "metadata": {
  "colab": {
   "include_colab_link": true,
   "name": "2-OPA-integ-deriv-log.ipynb",
   "provenance": []
  },
  "hide_input": false,
  "kernelspec": {
   "display_name": "Python 3 (ipykernel)",
   "language": "python",
   "name": "python3"
  },
  "language_info": {
   "codemirror_mode": {
    "name": "ipython",
    "version": 3
   },
   "file_extension": ".py",
   "mimetype": "text/x-python",
   "name": "python",
   "nbconvert_exporter": "python",
   "pygments_lexer": "ipython3",
   "version": "3.9.7"
  },
  "latex_envs": {
   "LaTeX_envs_menu_present": true,
   "autoclose": false,
   "autocomplete": true,
   "bibliofile": "biblio.bib",
   "cite_by": "apalike",
   "current_citInitial": 1,
   "eqLabelWithNumbers": true,
   "eqNumInitial": 1,
   "hotkeys": {
    "equation": "Ctrl-E",
    "itemize": "Ctrl-I"
   },
   "labels_anchors": false,
   "latex_user_defs": false,
   "report_style_numbering": false,
   "user_envs_cfg": false
  },
  "toc": {
   "base_numbering": 1,
   "nav_menu": {},
   "number_sections": true,
   "sideBar": true,
   "skip_h1_title": false,
   "title_cell": "Table of Contents",
   "title_sidebar": "Contents",
   "toc_cell": false,
   "toc_position": {},
   "toc_section_display": true,
   "toc_window_display": false
  },
  "varInspector": {
   "cols": {
    "lenName": 16,
    "lenType": 16,
    "lenVar": 40
   },
   "kernels_config": {
    "python": {
     "delete_cmd_postfix": "",
     "delete_cmd_prefix": "del ",
     "library": "var_list.py",
     "varRefreshCmd": "print(var_dic_list())"
    },
    "r": {
     "delete_cmd_postfix": ") ",
     "delete_cmd_prefix": "rm(",
     "library": "var_list.r",
     "varRefreshCmd": "cat(var_dic_list()) "
    }
   },
   "types_to_exclude": [
    "module",
    "function",
    "builtin_function_or_method",
    "instance",
    "_Feature"
   ],
   "window_display": false
  }
 },
 "nbformat": 4,
 "nbformat_minor": 4
}
