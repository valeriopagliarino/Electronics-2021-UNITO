{
 "cells": [
  {
   "cell_type": "markdown",
   "id": "1a4cff54",
   "metadata": {},
   "source": [
    "# Integratore"
   ]
  },
  {
   "cell_type": "code",
   "execution_count": 1,
   "id": "b1337a86",
   "metadata": {},
   "outputs": [
    {
     "name": "stdout",
     "output_type": "stream",
     "text": [
      "Welcome to JupyROOT 6.24/06\n"
     ]
    }
   ],
   "source": [
    "import pandas as pd\n",
    "from utilities import * # My functions: pair_dat_err, uncertainties_to_root_graph_errors\n",
    "from uncertainties import umath\n",
    "import ROOT"
   ]
  },
  {
   "cell_type": "markdown",
   "id": "a527ec85",
   "metadata": {},
   "source": [
    "# Gain 1"
   ]
  },
  {
   "cell_type": "markdown",
   "id": "d8ef2540",
   "metadata": {},
   "source": [
    "### Read DataFrames"
   ]
  },
  {
   "cell_type": "code",
   "execution_count": 2,
   "id": "16e02b50",
   "metadata": {},
   "outputs": [],
   "source": [
    "df_data = pd.read_csv(\"../data-source/5-10-21/integratore/data.csv\")\n",
    "df_errors = pd.read_csv(\"../data-source/5-10-21/integratore/errors.csv\")"
   ]
  },
  {
   "cell_type": "markdown",
   "id": "57d220e7",
   "metadata": {},
   "source": [
    "### Convert to arrays of uncertainties"
   ]
  },
  {
   "cell_type": "code",
   "execution_count": 3,
   "id": "777e3a5b",
   "metadata": {},
   "outputs": [],
   "source": [
    "f_arr = pair_dat_err(df_data['f'], df_errors['f'])\n",
    "ppch1_arr = pair_dat_err(df_data['PPch1'], df_errors['PPch1'])\n",
    "ppch2_arr = pair_dat_err(df_data['PPch2'], df_errors['PPch2'])"
   ]
  },
  {
   "cell_type": "markdown",
   "id": "80a6b79a",
   "metadata": {},
   "source": [
    "### Calculate Gain"
   ]
  },
  {
   "cell_type": "code",
   "execution_count": 4,
   "id": "f2136d4b",
   "metadata": {},
   "outputs": [],
   "source": [
    "gains_arr = ppch2_arr / ppch1_arr\n",
    "db_gains_arr = list(map(lambda x: 20 * umath.log(x), gains_arr))"
   ]
  },
  {
   "cell_type": "markdown",
   "id": "da4df4cd",
   "metadata": {},
   "source": [
    "### Canvas"
   ]
  },
  {
   "cell_type": "code",
   "execution_count": 5,
   "id": "0d8d2c68",
   "metadata": {},
   "outputs": [],
   "source": [
    "canvas = ROOT.TCanvas(\"c1\", \"non inverting gain 1\", 1000, 500)\n",
    "\n",
    "canvas.SetLogx(True)"
   ]
  },
  {
   "cell_type": "markdown",
   "id": "08e9de28",
   "metadata": {},
   "source": [
    "### GraphErrors"
   ]
  },
  {
   "cell_type": "code",
   "execution_count": 6,
   "id": "eb3206b6",
   "metadata": {},
   "outputs": [],
   "source": [
    "#bode_graph_err = uncertainties_to_root_graph_errors(f_arr, gains_arr)\n",
    "bode_graph_err = uncertainties_to_root_graph_errors(f_arr, db_gains_arr)\n",
    "\n",
    "bode_graph_err.SetTitle(\"Non Inverting Gain 1\")\n",
    "bode_graph_err.GetXaxis().SetTitle(\"f [Hz]\")\n",
    "bode_graph_err.GetYaxis().SetTitle(\"G [dB]\")\n",
    "bode_graph_err.SetMarkerStyle(21)\n",
    "bode_graph_err.SetMarkerSize(0.4)"
   ]
  },
  {
   "cell_type": "markdown",
   "id": "a61c485c",
   "metadata": {},
   "source": [
    "### Fit [TODO]"
   ]
  },
  {
   "cell_type": "code",
   "execution_count": 7,
   "id": "1b4ff2e2",
   "metadata": {},
   "outputs": [],
   "source": [
    "#function = \"\"\n",
    "#fit_f = ROOT.TF1(\"fit1\", function)"
   ]
  },
  {
   "cell_type": "code",
   "execution_count": 8,
   "id": "7c0c6331",
   "metadata": {},
   "outputs": [],
   "source": [
    "#fit_f.SetLineColor(4)"
   ]
  },
  {
   "cell_type": "code",
   "execution_count": 9,
   "id": "baef6ef0",
   "metadata": {},
   "outputs": [],
   "source": [
    "#fit_f.SetParName(0, \"\")\n",
    "#fit_f.SetParameter(0, 0)"
   ]
  },
  {
   "cell_type": "markdown",
   "id": "1ff5f510",
   "metadata": {},
   "source": [
    "### Draw"
   ]
  },
  {
   "cell_type": "code",
   "execution_count": 10,
   "id": "74bd77f9",
   "metadata": {},
   "outputs": [
    {
     "data": {
      "image/png": "[encoded data removed]",
      "text/plain": [
       "<IPython.core.display.Image object>"
      ]
     },
     "metadata": {},
     "output_type": "display_data"
    }
   ],
   "source": [
    "canvas.Draw()\n",
    "bode_graph_err.Draw()\n",
    "#bode_graph_err.Fit(fit_f, \"MSE\")"
   ]
  },
  {
   "cell_type": "code",
   "execution_count": null,
   "id": "31da9fef",
   "metadata": {},
   "outputs": [],
   "source": []
  },
  {
   "cell_type": "code",
   "execution_count": null,
   "id": "ed5c1471",
   "metadata": {},
   "outputs": [],
   "source": []
  }
 ],
 "metadata": {
  "kernelspec": {
   "display_name": "Python 3 (ipykernel)",
   "language": "python",
   "name": "python3"
  },
  "language_info": {
   "codemirror_mode": {
    "name": "ipython",
    "version": 3
   },
   "file_extension": ".py",
   "mimetype": "text/x-python",
   "name": "python",
   "nbconvert_exporter": "python",
   "pygments_lexer": "ipython3",
   "version": "3.9.5"
  }
 },
 "nbformat": 4,
 "nbformat_minor": 5
}
