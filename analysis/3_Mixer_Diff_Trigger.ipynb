{
 "cells": [
  {
   "cell_type": "markdown",
   "metadata": {
    "colab_type": "text",
    "id": "view-in-github"
   },
   "source": [
    "<a href=\"https://colab.research.google.com/github/valeriopagliarino/Electronics-2021-UNITO/blob/main/analysis/3_Mixer_Diff_Trigger.ipynb\" target=\"_parent\"><img src=\"https://colab.research.google.com/assets/colab-badge.svg\" alt=\"Open In Colab\"/></a>"
   ]
  },
  {
   "cell_type": "markdown",
   "metadata": {
    "id": "rk5sh2cvGJOs"
   },
   "source": [
    "# Data analysis: mixer, differential stage, Schmitt's trigger\n",
    "### October 5th 2021\n",
    "<p>\n",
    "Authors: <b> Stefano Barbero, Valerio Pagliarino, Matteo Barbagiovanni, Federico Malnati </b> <p>Electronics Laboratory 2021 - Department of Physics - University of Turin <p>\n",
    "Date: 05/10/2021\n",
    "\n",
    "1. OPA Mixer\n",
    "2. OPA Differential Stage\n",
    "3. OPA Schmitt's trigger\n",
    "\n",
    "\n",
    "OPA: LM471CV (https://www.ti.com/lit/ds/symlink/lm741.pdf)\n"
   ]
  },
  {
   "cell_type": "markdown",
   "metadata": {
    "id": "I4JK4N0_URnB"
   },
   "source": [
    "## Configuration"
   ]
  },
  {
   "cell_type": "markdown",
   "metadata": {
    "id": "0bwsv0IJJrZp"
   },
   "source": [
    "### Clone the GIT"
   ]
  },
  {
   "cell_type": "code",
   "execution_count": null,
   "metadata": {
    "colab": {
     "base_uri": "https://localhost:8080/"
    },
    "id": "EDuqpT5KFwX_",
    "outputId": "d43d2c84-6eee-455a-8443-b40a6fdc0494"
   },
   "outputs": [
    {
     "name": "stdout",
     "output_type": "stream",
     "text": [
      "GitHub uservaleriopagliarino\n",
      "GitHub emailvalerio.pagliarino@edu.unito.it\n",
      "GitHub password··········\n",
      "Cloning into 'Electronics-2021-UNITO'...\n",
      "remote: Enumerating objects: 695, done.\u001b[K\n",
      "remote: Counting objects: 100% (695/695), done.\u001b[K\n",
      "remote: Compressing objects: 100% (525/525), done.\u001b[K\n",
      "remote: Total 695 (delta 333), reused 376 (delta 148), pack-reused 0\u001b[K\n",
      "Receiving objects: 100% (695/695), 27.54 MiB | 8.52 MiB/s, done.\n",
      "Resolving deltas: 100% (333/333), done.\n"
     ]
    }
   ],
   "source": [
    "!rm -r ./sample_data\n",
    "import os\n",
    "from getpass import getpass\n",
    "user = input('GitHub user')\n",
    "mail = input('GitHub email')\n",
    "password = getpass('GitHub password')\n",
    "os.environ['GITHUB_AUTH'] = user + ':' + password\n",
    "!git clone https://$GITHUB_AUTH@github.com/valeriopagliarino/Electronics-2021-UNITO.git\n",
    "!git config --global user.email user\n",
    "!git config --global user.name mail"
   ]
  },
  {
   "cell_type": "markdown",
   "metadata": {
    "id": "w_hC9vVzGpSG"
   },
   "source": [
    "### Install environment"
   ]
  },
  {
   "cell_type": "code",
   "execution_count": null,
   "metadata": {
    "colab": {
     "base_uri": "https://localhost:8080/"
    },
    "id": "geqiHwACJuqv",
    "outputId": "b108e48c-c2a8-44eb-95ea-300005a6aed8"
   },
   "outputs": [
    {
     "name": "stdout",
     "output_type": "stream",
     "text": [
      "Start config for JupyROOT Env. on Google Coolab - It takes about 3 minutes\n",
      "WGET...\n",
      "Done.\n",
      "UNZIP...\n",
      "TAR...\n",
      "APT...\n",
      "Installation completed.\n",
      "Shared objects loaded.\n",
      "Welcome to JupyROOT 6.14/04\n",
      "Completed!\n"
     ]
    }
   ],
   "source": [
    "exec(open(\"./Electronics-2021-UNITO/analysis/ROOT-config.py\").read())"
   ]
  },
  {
   "cell_type": "markdown",
   "metadata": {
    "id": "G0zBs0IVc6WK"
   },
   "source": [
    "### Importa moduli [no COLAB]"
   ]
  },
  {
   "cell_type": "code",
   "execution_count": 1,
   "metadata": {
    "id": "M0wqcW3tc6WL"
   },
   "outputs": [
    {
     "name": "stdout",
     "output_type": "stream",
     "text": [
      "Welcome to JupyROOT 6.24/06\n"
     ]
    }
   ],
   "source": [
    "import numpy as np\n",
    "import scipy as sp\n",
    "import sympy as sy\n",
    "import pandas as pd\n",
    "\n",
    "from matplotlib import pyplot as plt\n",
    "\n",
    "from uncertainties import ufloat\n",
    "import uncertainties.umath\n",
    "\n",
    "import pickle\n",
    "\n",
    "import ROOT # Per COLAB importato da ROOT-config.py\n",
    "\n",
    "DATADIR = \"../data-source\"\n",
    "OUTPUTDIR = \"./output\""
   ]
  },
  {
   "cell_type": "markdown",
   "metadata": {
    "id": "-fz1JcVRdhWE"
   },
   "source": [
    "### Importa moduli [COLAB]"
   ]
  },
  {
   "cell_type": "code",
   "execution_count": null,
   "metadata": {
    "colab": {
     "base_uri": "https://localhost:8080/"
    },
    "id": "NyusFmEvdhWG",
    "outputId": "2a8d3555-4c95-48f7-91e4-1430ddf2fe57"
   },
   "outputs": [
    {
     "name": "stdout",
     "output_type": "stream",
     "text": [
      "/content\n",
      "Collecting uncertainties\n",
      "  Downloading uncertainties-3.1.6-py2.py3-none-any.whl (98 kB)\n",
      "\u001b[K     |████████████████████████████████| 98 kB 4.0 MB/s \n",
      "\u001b[?25hRequirement already satisfied: future in /usr/local/lib/python3.7/dist-packages (from uncertainties) (0.16.0)\n",
      "Installing collected packages: uncertainties\n",
      "Successfully installed uncertainties-3.1.6\n"
     ]
    }
   ],
   "source": [
    "%cd /content/\n",
    "!pip3 install uncertainties\n",
    "import numpy as np\n",
    "import scipy as sp\n",
    "import sympy as sy\n",
    "import pandas as pd\n",
    "\n",
    "from uncertainties import ufloat\n",
    "import uncertainties.umath\n",
    "from matplotlib import pyplot as plt\n",
    "import pickle#Pickle with dict of Numpy arrays\n",
    "\n",
    "# Variables for directories\n",
    "DATADIR = \"/content/Electronics-2021-UNITO/data-source\"\n",
    "OUTPUTDIR = \"/content/Electronics-2021-UNITO/analysis/output\""
   ]
  },
  {
   "cell_type": "markdown",
   "metadata": {
    "id": "U-eAMLb4U-Yp"
   },
   "source": [
    "### Funzioni per l'importazione file Tektronix"
   ]
  },
  {
   "cell_type": "code",
   "execution_count": 2,
   "metadata": {
    "id": "h2R45ItQU3xj"
   },
   "outputs": [],
   "source": [
    "import csv\n",
    "\n",
    "def cellFromCSV(path, row_index, col_index):\n",
    "  with open(path, 'r') as f:\n",
    "    mycsv = csv.reader(f)\n",
    "    column = []\n",
    "    for row in mycsv:\n",
    "        column.append(row[col_index])\n",
    "\n",
    "  return column[row_index]\n",
    "\n",
    "\n",
    "def openTek(path):\n",
    "  a = pd.read_table(path, header=None, sep=\",\", usecols=[3,4])\n",
    "  a = a.transpose()\n",
    "  a = a.rename(index={3: 'Time', 4: 'Amplitude'})\n",
    "  a = a.transpose()\n",
    "\n",
    "  data = {'Record lenght': cellFromCSV(path, 0, 1),\n",
    "          'Sample interval': cellFromCSV(path, 1, 1),\n",
    "          'Trigger point': cellFromCSV(path, 2, 1),\n",
    "          'Source': cellFromCSV(path, 6, 1),\n",
    "          'Vertical units': cellFromCSV(path, 7, 1),\n",
    "          'Vertical scale': cellFromCSV(path, 8, 1),\n",
    "          'Vertical offset': cellFromCSV(path, 9, 1),\n",
    "          'Horizontal units': cellFromCSV(path, 10, 1),\n",
    "          'Horizontal scale': cellFromCSV(path, 11, 1),\n",
    "          'Pt FMT': cellFromCSV(path, 12, 1),\n",
    "          'Y zero': cellFromCSV(path, 13, 1),\n",
    "          'Probe atten': cellFromCSV(path, 14, 1),\n",
    "          'Model': cellFromCSV(path, 15, 1),\n",
    "          'Serial': cellFromCSV(path, 16, 1),\n",
    "          'Firmware': cellFromCSV(path, 17, 1),\n",
    "          'Data' : a\n",
    "  }\n",
    "  return data"
   ]
  },
  {
   "cell_type": "markdown",
   "metadata": {
    "id": "_VmwhGvFmGCP"
   },
   "source": [
    "## OPA Mixer"
   ]
  },
  {
   "cell_type": "code",
   "execution_count": null,
   "metadata": {
    "id": "1Bl9vOkgG7w5"
   },
   "outputs": [],
   "source": []
  },
  {
   "cell_type": "markdown",
   "metadata": {
    "id": "ssyM4tPzL9K7"
   },
   "source": [
    "## Commit changes"
   ]
  },
  {
   "cell_type": "code",
   "execution_count": null,
   "metadata": {
    "colab": {
     "base_uri": "https://localhost:8080/"
    },
    "id": "Aa2Qud14RQl3",
    "outputId": "c7428c49-8e01-42da-e9ff-e43d8eb8d617"
   },
   "outputs": [
    {
     "name": "stdout",
     "output_type": "stream",
     "text": [
      "/content/Electronics-2021-UNITO\n",
      "remote: Enumerating objects: 24, done.\u001b[K\n",
      "remote: Counting objects: 100% (24/24), done.\u001b[K\n",
      "remote: Compressing objects: 100% (20/20), done.\u001b[K\n",
      "remote: Total 20 (delta 15), reused 0 (delta 0), pack-reused 0\u001b[K\n",
      "Unpacking objects: 100% (20/20), done.\n",
      "From https://github.com/valeriopagliarino/Electronics-2021-UNITO\n",
      "   ee3b112..d43e16a  main       -> origin/main\n",
      " * [new branch]      prova      -> origin/prova\n",
      "Updating ee3b112..d43e16a\n",
      "Fast-forward\n",
      " analysis/2_OPA_integ_deriv_log.ipynb | 676 \u001b[32m++++++++++\u001b[m\u001b[31m-------------------------\u001b[m\n",
      " 1 file changed, 186 insertions(+), 490 deletions(-)\n",
      "[main 19a1069] Plots from data analysis\n",
      " 13 files changed, 0 insertions(+), 0 deletions(-)\n",
      " create mode 100644 analysis/output/OPA-differentiator.pdf\n",
      " create mode 100644 analysis/output/OPA-integ-with-res.pdf\n",
      " create mode 100644 analysis/output/OPA-log-AMP-XY.pdf\n",
      " rewrite analysis/output/OPA-open-loop-non-inv-zero-crossing.pdf (67%)\n",
      " rename data-source/5-10-21/{OPA_Integ_with_res_square_wave_out_of_range => OPA_integ_with_res_square_wave_out_of_range}/F0006CH1.CSV (100%)\n",
      " rename data-source/5-10-21/{OPA_Integ_with_res_square_wave_out_of_range => OPA_integ_with_res_square_wave_out_of_range}/F0006CH2.CSV (100%)\n",
      " rename data-source/5-10-21/{OPA_Integ_with_res_square_wave_out_of_range => OPA_integ_with_res_square_wave_out_of_range}/F0006TEK.JPG (100%)\n",
      " rename data-source/5-10-21/{OPA_Integ_with_res_square_wave_out_of_range => OPA_integ_with_res_square_wave_out_of_range}/F0006TEK.SET (100%)\n",
      " rename data-source/5-10-21/{OPA_integ-with_res_step => OPA_integ_with_res_step}/F0002CH1.CSV (100%)\n",
      " rename data-source/5-10-21/{OPA_integ-with_res_step => OPA_integ_with_res_step}/F0002CH2.CSV (100%)\n",
      " rename data-source/5-10-21/{OPA_integ-with_res_step => OPA_integ_with_res_step}/F0002TEK.JPG (100%)\n",
      " rename data-source/5-10-21/{OPA_integ-with_res_step => OPA_integ_with_res_step}/F0002TEK.SET (100%)\n",
      "Counting objects: 11, done.\n",
      "Delta compression using up to 2 threads.\n",
      "Compressing objects: 100% (11/11), done.\n",
      "Writing objects: 100% (11/11), 156.61 KiB | 22.37 MiB/s, done.\n",
      "Total 11 (delta 5), reused 0 (delta 0)\n",
      "remote: Resolving deltas: 100% (5/5), completed with 5 local objects.\u001b[K\n",
      "To https://github.com/valeriopagliarino/Electronics-2021-UNITO.git\n",
      "   d43e16a..19a1069  main -> main\n"
     ]
    }
   ],
   "source": [
    "%cd /content/Electronics-2021-UNITO/\n",
    "!git pull\n",
    "!git add .\n",
    "!git commit -m \"Plots from data analysis\"\n",
    "!git push "
   ]
  },
  {
   "cell_type": "code",
   "execution_count": null,
   "metadata": {
    "id": "kYjkd8qfTIVL"
   },
   "outputs": [],
   "source": []
  }
 ],
 "metadata": {
  "colab": {
   "include_colab_link": true,
   "name": "3-Mixer-Diff-Trigger.ipynb",
   "provenance": []
  },
  "hide_input": false,
  "kernelspec": {
   "display_name": "Python 3 (ipykernel)",
   "language": "python",
   "name": "python3"
  },
  "language_info": {
   "codemirror_mode": {
    "name": "ipython",
    "version": 3
   },
   "file_extension": ".py",
   "mimetype": "text/x-python",
   "name": "python",
   "nbconvert_exporter": "python",
   "pygments_lexer": "ipython3",
   "version": "3.9.7"
  },
  "latex_envs": {
   "LaTeX_envs_menu_present": true,
   "autoclose": false,
   "autocomplete": true,
   "bibliofile": "biblio.bib",
   "cite_by": "apalike",
   "current_citInitial": 1,
   "eqLabelWithNumbers": true,
   "eqNumInitial": 1,
   "hotkeys": {
    "equation": "Ctrl-E",
    "itemize": "Ctrl-I"
   },
   "labels_anchors": false,
   "latex_user_defs": false,
   "report_style_numbering": false,
   "user_envs_cfg": false
  },
  "toc": {
   "base_numbering": 1,
   "nav_menu": {},
   "number_sections": true,
   "sideBar": true,
   "skip_h1_title": false,
   "title_cell": "Table of Contents",
   "title_sidebar": "Contents",
   "toc_cell": false,
   "toc_position": {},
   "toc_section_display": true,
   "toc_window_display": false
  },
  "varInspector": {
   "cols": {
    "lenName": 16,
    "lenType": 16,
    "lenVar": 40
   },
   "kernels_config": {
    "python": {
     "delete_cmd_postfix": "",
     "delete_cmd_prefix": "del ",
     "library": "var_list.py",
     "varRefreshCmd": "print(var_dic_list())"
    },
    "r": {
     "delete_cmd_postfix": ") ",
     "delete_cmd_prefix": "rm(",
     "library": "var_list.r",
     "varRefreshCmd": "cat(var_dic_list()) "
    }
   },
   "types_to_exclude": [
    "module",
    "function",
    "builtin_function_or_method",
    "instance",
    "_Feature"
   ],
   "window_display": false
  }
 },
 "nbformat": 4,
 "nbformat_minor": 4
}
