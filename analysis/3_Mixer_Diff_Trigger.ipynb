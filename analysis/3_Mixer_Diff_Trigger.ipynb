{
  "nbformat": 4,
  "nbformat_minor": 0,
  "metadata": {
    "colab": {
      "name": "3-Mixer-Diff-Trigger.ipynb",
      "provenance": [],
      "include_colab_link": true
    },
    "hide_input": false,
    "kernelspec": {
      "display_name": "Python 3 (ipykernel)",
      "language": "python",
      "name": "python3"
    },
    "language_info": {
      "codemirror_mode": {
        "name": "ipython",
        "version": 3
      },
      "file_extension": ".py",
      "mimetype": "text/x-python",
      "name": "python",
      "nbconvert_exporter": "python",
      "pygments_lexer": "ipython3",
      "version": "3.9.7"
    },
    "latex_envs": {
      "LaTeX_envs_menu_present": true,
      "autoclose": false,
      "autocomplete": true,
      "bibliofile": "biblio.bib",
      "cite_by": "apalike",
      "current_citInitial": 1,
      "eqLabelWithNumbers": true,
      "eqNumInitial": 1,
      "hotkeys": {
        "equation": "Ctrl-E",
        "itemize": "Ctrl-I"
      },
      "labels_anchors": false,
      "latex_user_defs": false,
      "report_style_numbering": false,
      "user_envs_cfg": false
    },
    "toc": {
      "base_numbering": 1,
      "nav_menu": {},
      "number_sections": true,
      "sideBar": true,
      "skip_h1_title": false,
      "title_cell": "Table of Contents",
      "title_sidebar": "Contents",
      "toc_cell": false,
      "toc_position": {},
      "toc_section_display": true,
      "toc_window_display": false
    },
    "varInspector": {
      "cols": {
        "lenName": 16,
        "lenType": 16,
        "lenVar": 40
      },
      "kernels_config": {
        "python": {
          "delete_cmd_postfix": "",
          "delete_cmd_prefix": "del ",
          "library": "var_list.py",
          "varRefreshCmd": "print(var_dic_list())"
        },
        "r": {
          "delete_cmd_postfix": ") ",
          "delete_cmd_prefix": "rm(",
          "library": "var_list.r",
          "varRefreshCmd": "cat(var_dic_list()) "
        }
      },
      "types_to_exclude": [
        "module",
        "function",
        "builtin_function_or_method",
        "instance",
        "_Feature"
      ],
      "window_display": false
    }
  },
  "cells": [
    {
      "cell_type": "markdown",
      "metadata": {
        "id": "view-in-github",
        "colab_type": "text"
      },
      "source": [
        "<a href=\"https://colab.research.google.com/github/valeriopagliarino/Electronics-2021-UNITO/blob/main/analysis/3_Mixer_Diff_Trigger.ipynb\" target=\"_parent\"><img src=\"https://colab.research.google.com/assets/colab-badge.svg\" alt=\"Open In Colab\"/></a>"
      ]
    },
    {
      "cell_type": "markdown",
      "metadata": {
        "id": "rk5sh2cvGJOs"
      },
      "source": [
        "# Data analysis: mixer, differential stage, Schmitt's trigger\n",
        "### October 7th 2021\n",
        "<p>\n",
        "Authors: <b> Stefano Barbero, Valerio Pagliarino, Matteo Barbagiovanni, Federico Malnati </b> <p>Electronics Laboratory 2021 - Department of Physics - University of Turin <p>\n",
        "Date: 07/10/2021\n",
        "\n",
        "1. OPA Mixer\n",
        "2. OPA Differential Stage\n",
        "3. OPA Schmitt's trigger\n",
        "\n",
        "\n",
        "OPA: LM471CV (https://www.ti.com/lit/ds/symlink/lm741.pdf)\n"
      ]
    },
    {
      "cell_type": "markdown",
      "metadata": {
        "id": "I4JK4N0_URnB"
      },
      "source": [
        "## Configuration"
      ]
    },
    {
      "cell_type": "markdown",
      "metadata": {
        "id": "0bwsv0IJJrZp"
      },
      "source": [
        "### Clone the GIT"
      ]
    },
    {
      "cell_type": "code",
      "metadata": {
        "colab": {
          "base_uri": "https://localhost:8080/"
        },
        "id": "EDuqpT5KFwX_",
        "outputId": "0977dc63-aa29-459d-c78f-d2a7c40e4ea9"
      },
      "source": [
        "!rm -r ./sample_data\n",
        "import os\n",
        "from getpass import getpass\n",
        "user = input('GitHub user')\n",
        "mail = input('GitHub email')\n",
        "password = getpass('GitHub password')\n",
        "os.environ['GITHUB_AUTH'] = user + ':' + password\n",
        "!git clone https://$GITHUB_AUTH@github.com/valeriopagliarino/Electronics-2021-UNITO.git\n",
        "!git config --global user.email user\n",
        "!git config --global user.name mail"
      ],
      "execution_count": 1,
      "outputs": [
        {
          "output_type": "stream",
          "name": "stdout",
          "text": [
            "GitHub uservaleriopagliarino\n",
            "GitHub emailvalerio.pagliarino@edu.unito.it\n",
            "GitHub password··········\n",
            "Cloning into 'Electronics-2021-UNITO'...\n",
            "remote: Enumerating objects: 998, done.\u001b[K\n",
            "remote: Counting objects: 100% (998/998), done.\u001b[K\n",
            "remote: Compressing objects: 100% (699/699), done.\u001b[K\n",
            "remote: Total 998 (delta 507), reused 625 (delta 274), pack-reused 0\u001b[K\n",
            "Receiving objects: 100% (998/998), 40.89 MiB | 31.87 MiB/s, done.\n",
            "Resolving deltas: 100% (507/507), done.\n"
          ]
        }
      ]
    },
    {
      "cell_type": "markdown",
      "metadata": {
        "id": "w_hC9vVzGpSG"
      },
      "source": [
        "### Install environment"
      ]
    },
    {
      "cell_type": "code",
      "metadata": {
        "colab": {
          "base_uri": "https://localhost:8080/"
        },
        "id": "geqiHwACJuqv",
        "outputId": "37a189cf-3069-4855-8853-0893b23274bf"
      },
      "source": [
        "exec(open(\"./Electronics-2021-UNITO/analysis/ROOT-config.py\").read())"
      ],
      "execution_count": 2,
      "outputs": [
        {
          "output_type": "stream",
          "name": "stdout",
          "text": [
            "Start config for JupyROOT Env. on Google Coolab - It takes about 3 minutes\n",
            "WGET...\n",
            "Done.\n",
            "UNZIP...\n",
            "TAR...\n",
            "APT...\n",
            "Installation completed.\n",
            "Shared objects loaded.\n",
            "Welcome to JupyROOT 6.14/04\n",
            "Completed!\n"
          ]
        }
      ]
    },
    {
      "cell_type": "markdown",
      "metadata": {
        "id": "G0zBs0IVc6WK"
      },
      "source": [
        "### Importa moduli [no COLAB]"
      ]
    },
    {
      "cell_type": "code",
      "metadata": {
        "id": "M0wqcW3tc6WL"
      },
      "source": [
        "import numpy as np\n",
        "import scipy as sp\n",
        "import sympy as sy\n",
        "import pandas as pd\n",
        "\n",
        "from matplotlib import pyplot as plt\n",
        "\n",
        "from uncertainties import ufloat\n",
        "import uncertainties.umath\n",
        "\n",
        "import pickle\n",
        "\n",
        "import ROOT # Per COLAB importato da ROOT-config.py\n",
        "\n",
        "DATADIR = \"../data-source\"\n",
        "OUTPUTDIR = \"./output\""
      ],
      "execution_count": null,
      "outputs": []
    },
    {
      "cell_type": "markdown",
      "metadata": {
        "id": "-fz1JcVRdhWE"
      },
      "source": [
        "### Importa moduli [COLAB]"
      ]
    },
    {
      "cell_type": "code",
      "metadata": {
        "colab": {
          "base_uri": "https://localhost:8080/"
        },
        "id": "NyusFmEvdhWG",
        "outputId": "7b1f31a1-f7b4-4713-faa5-4951c862126d"
      },
      "source": [
        "%cd /content/\n",
        "!pip3 install uncertainties\n",
        "import numpy as np\n",
        "import scipy as sp\n",
        "import sympy as sy\n",
        "import pandas as pd\n",
        "\n",
        "from uncertainties import ufloat\n",
        "import uncertainties.umath\n",
        "from matplotlib import pyplot as plt\n",
        "import pickle#Pickle with dict of Numpy arrays\n",
        "\n",
        "# Variables for directories\n",
        "DATADIR = \"/content/Electronics-2021-UNITO/data-source\"\n",
        "OUTPUTDIR = \"/content/Electronics-2021-UNITO/analysis/output\""
      ],
      "execution_count": 3,
      "outputs": [
        {
          "output_type": "stream",
          "name": "stdout",
          "text": [
            "/content\n",
            "Collecting uncertainties\n",
            "  Downloading uncertainties-3.1.6-py2.py3-none-any.whl (98 kB)\n",
            "\u001b[K     |████████████████████████████████| 98 kB 3.0 MB/s \n",
            "\u001b[?25hRequirement already satisfied: future in /usr/local/lib/python3.7/dist-packages (from uncertainties) (0.16.0)\n",
            "Installing collected packages: uncertainties\n",
            "Successfully installed uncertainties-3.1.6\n"
          ]
        }
      ]
    },
    {
      "cell_type": "markdown",
      "metadata": {
        "id": "U-eAMLb4U-Yp"
      },
      "source": [
        "### Funzioni per l'importazione file Tektronix"
      ]
    },
    {
      "cell_type": "code",
      "metadata": {
        "id": "h2R45ItQU3xj"
      },
      "source": [
        "import csv\n",
        "\n",
        "def cellFromCSV(path, row_index, col_index):\n",
        "  with open(path, 'r') as f:\n",
        "    mycsv = csv.reader(f)\n",
        "    column = []\n",
        "    for row in mycsv:\n",
        "        column.append(row[col_index])\n",
        "\n",
        "  return column[row_index]\n",
        "\n",
        "\n",
        "def openTek(path):\n",
        "  a = pd.read_table(path, header=None, sep=\",\", usecols=[3,4])\n",
        "  a = a.transpose()\n",
        "  a = a.rename(index={3: 'Time', 4: 'Amplitude'})\n",
        "  a = a.transpose()\n",
        "\n",
        "  data = {'Record lenght': cellFromCSV(path, 0, 1),\n",
        "          'Sample interval': cellFromCSV(path, 1, 1),\n",
        "          'Trigger point': cellFromCSV(path, 2, 1),\n",
        "          'Source': cellFromCSV(path, 6, 1),\n",
        "          'Vertical units': cellFromCSV(path, 7, 1),\n",
        "          'Vertical scale': cellFromCSV(path, 8, 1),\n",
        "          'Vertical offset': cellFromCSV(path, 9, 1),\n",
        "          'Horizontal units': cellFromCSV(path, 10, 1),\n",
        "          'Horizontal scale': cellFromCSV(path, 11, 1),\n",
        "          'Pt FMT': cellFromCSV(path, 12, 1),\n",
        "          'Y zero': cellFromCSV(path, 13, 1),\n",
        "          'Probe atten': cellFromCSV(path, 14, 1),\n",
        "          'Model': cellFromCSV(path, 15, 1),\n",
        "          'Serial': cellFromCSV(path, 16, 1),\n",
        "          'Firmware': cellFromCSV(path, 17, 1),\n",
        "          'Data' : a\n",
        "  }\n",
        "  return data"
      ],
      "execution_count": 4,
      "outputs": []
    },
    {
      "cell_type": "markdown",
      "metadata": {
        "id": "_VmwhGvFmGCP"
      },
      "source": [
        "## OPA Mixer"
      ]
    },
    {
      "cell_type": "code",
      "metadata": {
        "id": "1Bl9vOkgG7w5"
      },
      "source": [
        "# Somma di sinusoidi identiche\n",
        "s1_ch1_f = openTek(f'{DATADIR}/7-10-21/OPA_sum_equal_sine/F0000CH1.CSV')\n",
        "s1_ch2_f = openTek(f'{DATADIR}/7-10-21/OPA_sum_equal_sine/F0000CH2.CSV')\n",
        "# Somma di sinusoide e sua inversa\n",
        "s2_ch1_f = openTek(f'{DATADIR}/7-10-21/OPA_sum_inv_sine/F0002CH1.CSV')\n",
        "s2_ch2_f = openTek(f'{DATADIR}/7-10-21/OPA_sum_inv_sine/F0002CH2.CSV')\n",
        "# Somma di sinusoidi di ampiezza diversa per check guadagno somma\n",
        "s3_ch1_f = openTek(f'{DATADIR}/7-10-21/OPA_sum_sine_meas/F0005CH1.CSV')\n",
        "s3_ch2_f = openTek(f'{DATADIR}/7-10-21/OPA_sum_sine_meas/F0005CH2.CSV')\n",
        "# Somma di sinusoidi di frequenza diversa con battimenti\n",
        "s4_ch1_f = openTek(f'{DATADIR}/7-10-21/OPA_sum_sine_modulation/F0004CH1.CSV')\n",
        "s4_ch2_f = openTek(f'{DATADIR}/7-10-21/OPA_sum_sine_modulation/F0004CH2.CSV')\n",
        "# Somma di sinusoide + onda quadra\n",
        "s5_ch1_f = openTek(f'{DATADIR}/7-10-21/OPA_sum_sine_square/F0001CH1.CSV')\n",
        "s5_ch2_f = openTek(f'{DATADIR}/7-10-21/OPA_sum_sine_square/F0001CH2.CSV')\n",
        "# Somma di onda quadra + rampa\n",
        "s6_ch1_f = openTek(f'{DATADIR}/7-10-21/OPA_sum_square_ramp/F0003CH1.CSV')\n",
        "s6_ch2_f = openTek(f'{DATADIR}/7-10-21/OPA_sum_square_ramp/F0003CH2.CSV')"
      ],
      "execution_count": 6,
      "outputs": []
    },
    {
      "cell_type": "markdown",
      "metadata": {
        "id": "sYsD__td9OGH"
      },
      "source": [
        "## OPA Difference amplifier"
      ]
    },
    {
      "cell_type": "code",
      "metadata": {
        "id": "Z3uVpSgq9QnG"
      },
      "source": [
        "# Differenza tra sinusoidi identiche\n",
        "d1_ch1_f = openTek(f'{DATADIR}/7-10-21/OPA_diff_eq_sine/F0007CH1.CSV')\n",
        "d1_ch2_f = openTek(f'{DATADIR}/7-10-21/OPA_diff_eq_sine/F0007CH2.CSV')\n",
        "# Differenza tra sinusoidi identiche, zoom\n",
        "d2_ch1_f = openTek(f'{DATADIR}/7-10-21/OPA_diff_eq_sine_detail/F0006CH1.CSV')\n",
        "d2_ch2_f = openTek(f'{DATADIR}/7-10-21/OPA_diff_eq_sine_detail/F0006CH2.CSV')\n",
        "# Differenza tra sinusoide a media nulla e sinusoide con offset\n",
        "d3_ch1_f = openTek(f'{DATADIR}/7-10-21/OPA_diff_sine_square/F0008CH1.CSV')\n",
        "d3_ch2_f = openTek(f'{DATADIR}/7-10-21/OPA_diff_sine_square/F0008CH2.CSV')\n",
        "# Differenza tra sinusoide e onda quadra\n",
        "d4_ch1_f = openTek(f'{DATADIR}/7-10-21/OPA_diff_get_offset/F0011CH1.CSV')\n",
        "d4_ch2_f = openTek(f'{DATADIR}/7-10-21/OPA_diff_get_offset/F0011CH2.CSV')\n",
        "# Differenza tra onda quadra per verifica del guadagno della differenza\n",
        "d5_ch1_f = openTek(f'{DATADIR}/7-10-21/OPA_diff_square_meas/F0010CH1.CSV')\n",
        "d5_ch2_f = openTek(f'{DATADIR}/7-10-21/OPA_diff_square_meas/F0010CH2.CSV')\n",
        "# Differenza tra onda quadra e rampa\n",
        "d6_ch1_f = openTek(f'{DATADIR}/7-10-21/OPA_diff_square_ramp/F0009CH1.CSV')\n",
        "d6_ch2_f = openTek(f'{DATADIR}/7-10-21/OPA_diff_square_ramp/F0009CH2.CSV')"
      ],
      "execution_count": 8,
      "outputs": []
    },
    {
      "cell_type": "markdown",
      "metadata": {
        "id": "J-sBNMp59Q_b"
      },
      "source": [
        "## OPA Schmitt's trigger"
      ]
    },
    {
      "cell_type": "code",
      "metadata": {
        "id": "ewj5quSZ95sJ"
      },
      "source": [
        "# Trigger di Schmitt su segnale sinusoidale pulito\n",
        "t1_ch1_f = openTek(f'{DATADIR}/7-10-21/OPA_trigger_clean/F0017CH1.CSV')\n",
        "t1_ch2_f = openTek(f'{DATADIR}/7-10-21/OPA_trigger_clean/F0017CH2.CSV')\n",
        "t1_ch3_f = openTek(f'{DATADIR}/7-10-21/OPA_trigger_clean/F0017CH3.CSV')\n",
        "# Trigger di Schmitt per valutazione velocità di commutazione\n",
        "t2_ch1_f = openTek(f'{DATADIR}/7-10-21/OPA_trigger_com_speed/F0018CH1.CSV')\n",
        "t2_ch2_f = openTek(f'{DATADIR}/7-10-21/OPA_trigger_com_speed/F0018CH2.CSV')\n",
        "t2_ch2_f = openTek(f'{DATADIR}/7-10-21/OPA_trigger_com_speed/F0018CH3.CSV')\n",
        "# Segnale di ingresso\n",
        "t3_ch1_f = openTek(f'{DATADIR}/7-10-21/OPA_trigger_input/F0012CH1.CSV')\n",
        "t3_ch2_f = openTek(f'{DATADIR}/7-10-21/OPA_trigger_input/F0012CH2.CSV')\n",
        "# Trigger di Schmitt, funzionamento con segnale dotato di rumore\n",
        "t4_ch1_f = openTek(f'{DATADIR}/7-10-21/OPA_trigger_operation/F0015CH1.CSV')\n",
        "t4_ch2_f = openTek(f'{DATADIR}/7-10-21/OPA_trigger_operation/F0015CH2.CSV')\n",
        "t4_ch2_f = openTek(f'{DATADIR}/7-10-21/OPA_trigger_operation/F0015CH3.CSV')\n",
        "# Trigger di Schmitt, funzionamento con segnale pulto\n",
        "t5_ch1_f = openTek(f'{DATADIR}/7-10-21/OPA_trigger_operation_clean/F0013CH1.CSV')\n",
        "t5_ch2_f = openTek(f'{DATADIR}/7-10-21/OPA_trigger_operation_clean/F0013CH2.CSV')\n",
        "t5_ch2_f = openTek(f'{DATADIR}/7-10-21/OPA_trigger_operation_clean/F0013CH3.CSV')\n",
        "# Baseline trigger ad anello aperto, funzionamento con segnale dotato di rumore\n",
        "t6_ch1_f = openTek(f'{DATADIR}/7-10-21/OPA_trigger_operation_open_ring/F0014CH1.CSV')\n",
        "t6_ch2_f = openTek(f'{DATADIR}/7-10-21/OPA_trigger_operation_open_ring/F0014CH2.CSV')\n",
        "t6_ch2_f = openTek(f'{DATADIR}/7-10-21/OPA_trigger_operation_open_ring/F0014CH3.CSV')\n",
        "# Trigger di Schmitt, funzionamento fuori dal range di frequenza consentito\n",
        "t6_ch1_f = openTek(f'{DATADIR}/7-10-21/OPA_trigger_out_of_range/F0016CH1.CSV')\n",
        "t6_ch2_f = openTek(f'{DATADIR}/7-10-21/OPA_trigger_out_of_range/F0016CH2.CSV')\n",
        "t6_ch2_f = openTek(f'{DATADIR}/7-10-21/OPA_trigger_out_of_range/F0016CH3.CSV')"
      ],
      "execution_count": 14,
      "outputs": []
    },
    {
      "cell_type": "markdown",
      "metadata": {
        "id": "6r3vBGHaqcSr"
      },
      "source": [
        "## Visualizzazioni XY"
      ]
    },
    {
      "cell_type": "markdown",
      "metadata": {
        "id": "BZUTY2vQudol"
      },
      "source": [
        "CH1 vs CH2"
      ]
    },
    {
      "cell_type": "code",
      "metadata": {
        "colab": {
          "base_uri": "https://localhost:8080/",
          "height": 421
        },
        "id": "RwQ-2EvzuC7-",
        "outputId": "a5371ebd-2b49-46c2-ea35-3af55b165e5b"
      },
      "source": [
        "logXY = pd.read_csv(f\"{DATADIR}/7-10-21/XY/Hist_100Hz.csv\")\n",
        "\n",
        "fig, ax = plt.subplots(nrows = 1, ncols = 1, figsize=(8, 6))\n",
        "ax.scatter(logXY.to_numpy().transpose()[0], logXY.to_numpy().transpose()[1], s=6)\n",
        "\n",
        "ax.set(xlabel='Ampiezza segnale in ingresso (V)', ylabel='Ampiezza segnale in uscita (V)',\n",
        "       title='Amplificatore logaritmico, diagramma XY ingresso-uscita\\nmedie di 64 punti, tempo di persistenza $t_{aq}$ = 2 s')\n",
        "\n",
        "ax.grid()"
      ],
      "execution_count": 16,
      "outputs": [
        {
          "output_type": "display_data",
          "data": {
            "image/png": "[encoded data removed]",
            "text/plain": [
              "<Figure size 576x432 with 1 Axes>"
            ]
          },
          "metadata": {
            "needs_background": "light"
          }
        }
      ]
    },
    {
      "cell_type": "markdown",
      "metadata": {
        "id": "ssyM4tPzL9K7"
      },
      "source": [
        "## Commit changes"
      ]
    },
    {
      "cell_type": "code",
      "metadata": {
        "id": "Aa2Qud14RQl3"
      },
      "source": [
        "%cd /content/Electronics-2021-UNITO/\n",
        "!git pull\n",
        "!git add .\n",
        "!git commit -m \"Plots from data analysis\"\n",
        "!git push "
      ],
      "execution_count": null,
      "outputs": []
    },
    {
      "cell_type": "code",
      "metadata": {
        "id": "kYjkd8qfTIVL"
      },
      "source": [
        ""
      ],
      "execution_count": null,
      "outputs": []
    }
  ]
}