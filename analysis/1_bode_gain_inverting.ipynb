{
 "cells": [
  {
   "cell_type": "markdown",
   "id": "69424609",
   "metadata": {},
   "source": [
    "# Bode plot for inverting OPA [gain 1] and [gain 10]"
   ]
  },
  {
   "cell_type": "code",
   "execution_count": 1,
   "id": "f9e74d3d",
   "metadata": {},
   "outputs": [
    {
     "name": "stdout",
     "output_type": "stream",
     "text": [
      "Welcome to JupyROOT 6.24/06\n"
     ]
    }
   ],
   "source": [
    "import pandas as pd\n",
    "from utilities import * # My functions: pair_dat_err, uncertainties_to_root_graph_errors\n",
    "from uncertainties import umath\n",
    "import ROOT\n",
    "import numpy as np\n",
    "import scipy.signal as signal\n",
    "import matplotlib.pyplot as plt\n",
    "\n",
    "DATADIR = \"../data-source\"\n",
    "OUTPUTDIR = \"./output\""
   ]
  },
  {
   "cell_type": "markdown",
   "id": "6a74534a",
   "metadata": {},
   "source": [
    "# Gain 2"
   ]
  },
  {
   "cell_type": "markdown",
   "id": "b9867c14",
   "metadata": {},
   "source": [
    "### Read DataFrames"
   ]
  },
  {
   "cell_type": "code",
   "execution_count": 2,
   "id": "25ab4253",
   "metadata": {},
   "outputs": [],
   "source": [
    "df_data = pd.read_csv(\"../data-source/4-10-21/inverting_gain/inverting_gain_1_data.csv\")\n",
    "df_errors = pd.read_csv(\"../data-source/4-10-21/inverting_gain/inverting_gain_1_errors.csv\")"
   ]
  },
  {
   "cell_type": "markdown",
   "id": "6571a176",
   "metadata": {},
   "source": [
    "### Convert to arrays of uncertainties"
   ]
  },
  {
   "cell_type": "code",
   "execution_count": 3,
   "id": "0eb7d881",
   "metadata": {},
   "outputs": [],
   "source": [
    "index=[28,29]\n",
    "df_errors_n = df_errors.drop(index)\n",
    "df_data_n = df_data.drop(index)\n",
    "f_arr = pair_dat_err(df_data_n['f'], df_errors_n['f'])\n",
    "ppch1_arr = pair_dat_err(df_data_n['PPch1'], df_errors_n['PPch1'])\n",
    "ppch2_arr = pair_dat_err(df_data_n['PPch2'], df_errors_n['PPch2'])"
   ]
  },
  {
   "cell_type": "markdown",
   "id": "761ca969",
   "metadata": {},
   "source": [
    "### Calculate Gain"
   ]
  },
  {
   "cell_type": "code",
   "execution_count": 4,
   "id": "870d4257",
   "metadata": {},
   "outputs": [],
   "source": [
    "gains_arr = ppch2_arr / ppch1_arr\n",
    "db_gains_arr = list(map(lambda x: 20 * umath.log10(x), gains_arr))\n"
   ]
  },
  {
   "cell_type": "markdown",
   "id": "f22d318c",
   "metadata": {},
   "source": [
    "### Canvas"
   ]
  },
  {
   "cell_type": "code",
   "execution_count": 5,
   "id": "33de17e2",
   "metadata": {},
   "outputs": [],
   "source": [
    "canvas = ROOT.TCanvas(\"c1\", \"bode gain 1\", 1000, 500)\n",
    "\n",
    "canvas.SetLogx(True)"
   ]
  },
  {
   "cell_type": "markdown",
   "id": "47a39b96",
   "metadata": {},
   "source": [
    "### GraphErrors"
   ]
  },
  {
   "cell_type": "code",
   "execution_count": 6,
   "id": "111a8f3d",
   "metadata": {},
   "outputs": [],
   "source": [
    "#bode_graph_err = uncertainties_to_root_graph_errors(f_arr, gains_arr)\n",
    "bode_graph_err = uncertainties_to_root_graph_errors(f_arr, db_gains_arr)\n",
    "\n",
    "bode_graph_err.SetTitle(\"Bode Gain 1\")\n",
    "bode_graph_err.GetXaxis().SetTitle(\"f [Hz]\")\n",
    "bode_graph_err.GetYaxis().SetTitle(\"G [dB]\")\n",
    "bode_graph_err.SetMarkerStyle(21)\n",
    "bode_graph_err.SetMarkerSize(0.4)"
   ]
  },
  {
   "cell_type": "markdown",
   "id": "6559639e",
   "metadata": {},
   "source": [
    "### Fit [TODO]"
   ]
  },
  {
   "cell_type": "code",
   "execution_count": 7,
   "id": "cccd0e08",
   "metadata": {},
   "outputs": [],
   "source": [
    "#function = \"1/[0]*(1-1/[0]*exp(x/[0]))\"\n",
    "\n"
   ]
  },
  {
   "cell_type": "code",
   "execution_count": 8,
   "id": "abf11b12",
   "metadata": {},
   "outputs": [
    {
     "name": "stdout",
     "output_type": "stream",
     "text": [
      "-1.0030395136778116 +- 0.07158589614427185\n",
      "-9.827760891590678 +- 0.5156008749851835\n",
      "987 +- 49.870000000000005\n",
      "990 +- 49.9\n",
      "9700 +- 137.0\n"
     ]
    }
   ],
   "source": [
    "\n",
    "R1= 987\n",
    "R2= 990\n",
    "R3= 9700\n",
    "G2 = -R2/R1\n",
    "G11 = -R3/R1\n",
    "\n",
    "R1_err = 1/100*R1 + 4*0.01*10**3\n",
    "R2_err = 1/100*R2 + 4*0.01*10**3\n",
    "R3_err = 1/100*R3 + 4*0.01*10**3\n",
    "G2_err = np.sqrt((R2_err/R1)**2+(R1_err*R2/(R1**2))**2)\n",
    "G11_err = np.sqrt((R3_err/R1)**2+(R1_err*R3/(R1**2))**2)\n",
    "print(G2,'+-',G2_err)\n",
    "print(G11,'+-',G11_err)\n",
    "print(R1,'+-',R1_err)\n",
    "print(R2,'+-',R2_err)\n",
    "print(R3,'+-',R3_err)\n",
    "\n",
    "G2_graph =1.9565217391304348 \n",
    "G2_graph_err =0.04900999445669284\n",
    "\n"
   ]
  },
  {
   "cell_type": "code",
   "execution_count": 9,
   "id": "0aa8b4ee",
   "metadata": {},
   "outputs": [
    {
     "name": "stdout",
     "output_type": "stream",
     "text": [
      "guadagno calcolato =  0.026360838558264384\n"
     ]
    }
   ],
   "source": [
    "A_v2_d = 20*umath.log10(R2/R1)\n",
    "#f_l2 = 1/np.sqrt(2)*(1+R2/R1)\n",
    "print('guadagno calcolato = ',A_v2_d)\n",
    "#print('freq taglio = ',f_l2)"
   ]
  },
  {
   "cell_type": "code",
   "execution_count": 10,
   "id": "755f7f18",
   "metadata": {},
   "outputs": [],
   "source": [
    "function = \"[1]*(1/sqrt(1+(x/[0])**2))\"\n",
    "fit_f = ROOT.TF1(\"fit1\", function)\n",
    "###parameter per low pass filter\n",
    "fit_f.SetParName(0, \"f_l2\")\n",
    "fit_f.SetParName(1, \"Gain2\")\n",
    "fit_f.SetParameter(0, 10**6)\n",
    "fit_f.SetParameter(1, A_v2_d)\n",
    "\n",
    "#fit_f.SetParLimits(1,A_v2_d-1,A_v2_d+1)\n",
    "#fit_f.SetParLimits(0,1e+05,1e+07)"
   ]
  },
  {
   "cell_type": "code",
   "execution_count": 11,
   "id": "ddf8e4c6",
   "metadata": {},
   "outputs": [],
   "source": [
    "\n",
    "fit_f.SetLineColor(4)"
   ]
  },
  {
   "cell_type": "markdown",
   "id": "54e8f1f8",
   "metadata": {},
   "source": [
    "### Draw"
   ]
  },
  {
   "cell_type": "code",
   "execution_count": 12,
   "id": "06a49d00",
   "metadata": {},
   "outputs": [
    {
     "data": {
      "text/plain": [
       "<cppyy.gbl.TFitResultPtr object at 0xa5ec2b0>"
      ]
     },
     "execution_count": 12,
     "metadata": {},
     "output_type": "execute_result"
    },
    {
     "name": "stdout",
     "output_type": "stream",
     "text": [
      " FCN=1314.18 FROM MINOS     STATUS=SUCCESSFUL      8 CALLS         526 TOTAL\n",
      "                     EDM=1.78428e-12    STRATEGY= 1      ERROR MATRIX ACCURATE \n",
      "  EXT PARAMETER                                   STEP         FIRST   \n",
      "  NO.   NAME      VALUE            ERROR          SIZE      DERIVATIVE \n",
      "   1  f_l2         1.40902e+10   1.41421e+00   0.00000e+00  -7.10677e-16\n",
      "   2  Gain2       -1.72335e+00   8.12585e-02   8.12585e-02   0.00000e+00\n"
     ]
    },
    {
     "data": {
      "image/png": "[encoded data removed]",
      "text/plain": [
       "<IPython.core.display.Image object>"
      ]
     },
     "metadata": {},
     "output_type": "display_data"
    }
   ],
   "source": [
    "canvas.Draw()\n",
    "bode_graph_err.Draw()\n",
    "bode_graph_err.Fit(fit_f, \"MSE\")"
   ]
  },
  {
   "cell_type": "code",
   "execution_count": 13,
   "id": "40d38212",
   "metadata": {},
   "outputs": [
    {
     "data": {
      "text/plain": [
       "[-0.2924818301746463+/-0.3310148529151779,\n",
       " 0.0+/-0.3412139702063196,\n",
       " -0.05928957927478011+/-0.3353970664081265,\n",
       " -0.06052909260375669+/-0.34240910453438794,\n",
       " -0.12148295424386304+/-0.343625287188438,\n",
       " -0.12148295424386304+/-0.343625287188438,\n",
       " 0.060953861640106494+/-0.3448120638832389,\n",
       " 0.060953861640106494+/-0.3448120638832389,\n",
       " 0.0+/-0.34601980077260586,\n",
       " -0.12320617409636893+/-0.34850013510055977,\n",
       " -0.48947538766401166+/-0.3464319472043844,\n",
       " -0.9484929985627623+/-0.3589432067983344,\n",
       " -1.5001634312045329+/-0.3721757916949141,\n",
       " -2.3026966622851104+/-0.3909731170399691,\n",
       " -2.863271134289981+/-0.4075762466812107,\n",
       " -3.641632454897374+/-0.4331395453383549,\n",
       " -4.39740367268537+/-0.4609847677914652,\n",
       " -5.117356738115747+/-0.4905230739352366,\n",
       " -5.821989883130677+/-0.5189604100568161,\n",
       " -7.008269907450318+/-0.579971440983809,\n",
       " -8.566452753315168+/-0.6717657095304399,\n",
       " -9.69532892819127+/-0.7491705585010793,\n",
       " -10.79902956310887+/-0.8528286035937923,\n",
       " -11.539512967490001+/-0.9168773586516136,\n",
       " -12.674065456468547+/-1.036910513183667,\n",
       " -14.158496939778903+/-1.2293082769857626,\n",
       " -16.98507999570829+/-1.687001936182873,\n",
       " -19.204657462570246+/-2.184472921754653]"
      ]
     },
     "execution_count": 13,
     "metadata": {},
     "output_type": "execute_result"
    }
   ],
   "source": [
    "###prova scipy\n",
    "db_gains_arr"
   ]
  },
  {
   "cell_type": "code",
   "execution_count": 14,
   "id": "c6f5d710",
   "metadata": {},
   "outputs": [],
   "source": [
    "ppch1_Arr = df_data_n['PPch1']\n",
    "ppch2_Arr = df_data_n['PPch2']\n",
    "gain_Arr = ppch2_Arr/ppch1_Arr\n",
    "db_gain_Arr = [i.n for i in db_gains_arr]\n",
    "#gain_Arr_errors = ((df_errors_n['PPch2']/ppch1_Arr)**2 + (ppch2_Arr/(ppch1_Arr)**2*df_errors_n['PPch1'])**2)  \n",
    "#db_gain_Arr_errors = list(map(lambda x: 20 * umath.log(x), gain_Arr_errors))  \n",
    "db_gain_Arr_errors = [i.s for i in db_gains_arr]\n"
   ]
  },
  {
   "cell_type": "code",
   "execution_count": 1,
   "id": "f0102fae",
   "metadata": {},
   "outputs": [
    {
     "ename": "NameError",
     "evalue": "name 'R2' is not defined",
     "output_type": "error",
     "traceback": [
      "\u001b[0;31m---------------------------------------------------------------------------\u001b[0m",
      "\u001b[0;31mNameError\u001b[0m                                 Traceback (most recent call last)",
      "\u001b[0;32m/tmp/ipykernel_16043/2814765882.py\u001b[0m in \u001b[0;36m<module>\u001b[0;34m\u001b[0m\n\u001b[0;32m----> 1\u001b[0;31m \u001b[0mG2\u001b[0m\u001b[0;34m=\u001b[0m\u001b[0;34m-\u001b[0m\u001b[0mR2\u001b[0m\u001b[0;34m/\u001b[0m\u001b[0mR1\u001b[0m\u001b[0;34m\u001b[0m\u001b[0;34m\u001b[0m\u001b[0m\n\u001b[0m\u001b[1;32m      2\u001b[0m \u001b[0mfH2\u001b[0m\u001b[0;34m=\u001b[0m\u001b[0;36m5.65\u001b[0m\u001b[0;34m*\u001b[0m\u001b[0;36m10\u001b[0m\u001b[0;34m**\u001b[0m\u001b[0;36m5\u001b[0m\u001b[0;34m\u001b[0m\u001b[0;34m\u001b[0m\u001b[0m\n\u001b[1;32m      3\u001b[0m \u001b[0mfH2_err\u001b[0m \u001b[0;34m=\u001b[0m \u001b[0;36m0.3\u001b[0m\u001b[0;34m*\u001b[0m\u001b[0;36m10\u001b[0m\u001b[0;34m**\u001b[0m\u001b[0;36m5\u001b[0m\u001b[0;34m\u001b[0m\u001b[0;34m\u001b[0m\u001b[0m\n\u001b[1;32m      4\u001b[0m \u001b[0ma\u001b[0m\u001b[0;34m=\u001b[0m\u001b[0;36m1\u001b[0m\u001b[0;34m/\u001b[0m\u001b[0mfH2\u001b[0m\u001b[0;34m\u001b[0m\u001b[0;34m\u001b[0m\u001b[0m\n\u001b[1;32m      5\u001b[0m \u001b[0mb\u001b[0m\u001b[0;34m=\u001b[0m\u001b[0;36m0\u001b[0m\u001b[0;34m\u001b[0m\u001b[0;34m\u001b[0m\u001b[0m\n",
      "\u001b[0;31mNameError\u001b[0m: name 'R2' is not defined"
     ]
    }
   ],
   "source": [
    "\n",
    "G2=-R2/R1\n",
    "fH2=5.65*10**5\n",
    "fH2_err = 0.3*10**5\n",
    "a=1/fH2\n",
    "b=0\n",
    "c=0\n",
    "\n",
    "\n",
    "num = np.array([G2]) #zeros(increase 20 db)\n",
    "den = np.array([a,1]) #poles (decreases 20 db) [1,a+b+c,ab+ca+cb,abc]  (as+1)(bs+1)(cs+1)=(1+(a+b)s+abs^2)(cs+1)=(1+(a+b+c)s+(ab+c(a+b))s^2+abcs^3)\n",
    "H = signal.TransferFunction(num, den)\n",
    "print ('H(s) =', H)\n",
    "f, mag, phase = H.bode(df_data_n['f']) #df_data_n['f'] \n",
    "\n",
    "plt.figure(figsize=((10,16)))\n",
    "\n",
    "\n",
    "ax1 = plt.subplot(211)\n",
    "plt.semilogx(f, mag,color = \"blue\") # Magnitude Plot\n",
    "plt.title('Diagramma di Bode OPA invertente (Gain 1)',fontsize=20)\n",
    "plt.ylabel('Magnitude',fontsize=15)\n",
    "\n",
    "plt.grid()\n",
    "plt.errorbar( df_data_n['f'],db_gain_Arr ,xerr = df_errors_n['f'],yerr = db_gain_Arr_errors, fmt='o', color='Black', elinewidth=1,capthick=0.5,errorevery=1, alpha=1, ms=0, capsize = 3)\n",
    "plt.setp(ax1.get_xticklabels(), visible=False)\n",
    "\n",
    "plt.subplot(212, sharex = ax1)\n",
    "plt.ylabel('Phase',fontsize=15)\n",
    "plt.xlabel('f [Hz]',fontsize=15)\n",
    "plt.semilogx(f, phase,color = \"blue\")\n",
    "plt.grid()\n",
    "plt.subplots_adjust(hspace=0)\n",
    "\n",
    "plt.savefig(f\"{OUTPUTDIR}/OPA-bode_gain1(mag+phase).pdf\")\n",
    "plt.show()\n"
   ]
  },
  {
   "cell_type": "code",
   "execution_count": 16,
   "id": "4ef9ed33",
   "metadata": {},
   "outputs": [
    {
     "data": {
      "text/plain": [
       "2.32159312555081"
      ]
     },
     "execution_count": 16,
     "metadata": {},
     "output_type": "execute_result"
    }
   ],
   "source": [
    "((mag-db_gain_Arr)**2).sum()"
   ]
  },
  {
   "cell_type": "code",
   "execution_count": 17,
   "id": "0b850fc2",
   "metadata": {},
   "outputs": [
    {
     "data": {
      "text/plain": [
       "2.32159312555081"
      ]
     },
     "execution_count": 17,
     "metadata": {},
     "output_type": "execute_result"
    }
   ],
   "source": [
    "((mag-db_gain_Arr)**2).sum()"
   ]
  },
  {
   "cell_type": "code",
   "execution_count": 18,
   "id": "a2397e3f",
   "metadata": {},
   "outputs": [
    {
     "data": {
      "image/png": "[encoded data removed]",
      "text/plain": [
       "<Figure size 720x1152 with 1 Axes>"
      ]
     },
     "metadata": {
      "needs_background": "light"
     },
     "output_type": "display_data"
    }
   ],
   "source": [
    "plt.figure(figsize=((10,16)))\n",
    "\n",
    "\n",
    "ax1 = plt.subplot(211)\n",
    "plt.semilogx(f, mag,color = \"blue\") # Magnitude Plot\n",
    "plt.title('Diagramma di Bode OPA invertente(Gain 1)',fontsize=20)\n",
    "plt.ylabel('Magnitude',fontsize=15)\n",
    "plt.xlabel('f [Hz]',fontsize=15)\n",
    "plt.grid()\n",
    "plt.errorbar( df_data_n['f'],db_gain_Arr ,xerr = df_errors_n['f'],yerr = db_gain_Arr_errors, fmt='o', color='Black', elinewidth=1,capthick=0.5,errorevery=1, alpha=1, ms=0, capsize = 3)\n",
    "plt.vlines(fH2, mag[26]-3,  mag[0], linestyles=\"--\", color = \"red\")\n",
    "plt.hlines(mag[0]-3,f[0],f[23], linestyles=\"--\", color = \"red\")\n",
    "plt.text(fH2+100000, mag[26]-2, 'H.F', verticalalignment='top', horizontalalignment='left', color='red', fontsize=15)\n",
    "\n",
    "max_in = mag[0]\n",
    "max_rt=mag[0]-3\n",
    "plt.hlines(max_in, fH2+10000, f[23])\n",
    "plt.hlines(max_rt, fH2+10000, f[23])\n",
    "\n",
    "plt.text(f[23], max_rt + abs(max_rt - max_in) - 0.7, '3 dB',verticalalignment='top', horizontalalignment='left', color='black', fontsize=15)\n",
    "\n",
    "plt.savefig(f\"{OUTPUTDIR}/OPA-bode_gain1(mag).pdf\")\n",
    "\n",
    "\n",
    "\n",
    "\n"
   ]
  },
  {
   "cell_type": "code",
   "execution_count": 19,
   "id": "9ec32eff",
   "metadata": {},
   "outputs": [
    {
     "data": {
      "text/plain": [
       "array([ 2.63608385e-02,  2.63608382e-02,  2.63608372e-02,  2.63608045e-02,\n",
       "        2.63599883e-02,  2.63472339e-02,  2.62383984e-02,  2.50005865e-02,\n",
       "       -7.51830056e-03, -1.07598268e-01, -4.86335740e-01, -1.05229178e+00,\n",
       "       -1.73806487e+00, -2.48550986e+00, -3.25280683e+00, -4.01336312e+00,\n",
       "       -4.75187510e+00, -5.46047505e+00, -6.13585893e+00, -7.38588409e+00,\n",
       "       -9.03069160e+00, -9.99667187e+00, -1.12867285e+01, -1.20585149e+01,\n",
       "       -1.31078116e+01, -1.46264682e+01, -1.70596655e+01, -1.89671743e+01])"
      ]
     },
     "execution_count": 19,
     "metadata": {},
     "output_type": "execute_result"
    }
   ],
   "source": [
    "###Calcolo band width\n",
    "mag_BW = mag - mag[27]\n",
    "mag\n",
    "#f[18]\n",
    "#print(np.where(mag_BW>(mag_BW[0]/umath.sqrt(2)-0.5) and mag_BW>(mag_BW[0]/umath.sqrt(2)+0.5) ))\n",
    "#print(np.where(mag_BW==45.60653209996797))\n",
    "#f[np.where(mag_BW==45.60653209996797)]"
   ]
  },
  {
   "cell_type": "code",
   "execution_count": 20,
   "id": "6db13ada",
   "metadata": {},
   "outputs": [
    {
     "data": {
      "text/plain": [
       "-3.15804521"
      ]
     },
     "execution_count": 20,
     "metadata": {},
     "output_type": "execute_result"
    }
   ],
   "source": [
    "-0.15804521-3\n",
    "#(f[51]+f[52])/2"
   ]
  },
  {
   "cell_type": "code",
   "execution_count": 21,
   "id": "a78282c2",
   "metadata": {},
   "outputs": [],
   "source": [
    "###how to get bode plot\n",
    "\n",
    "#num = np.array([1]) #zeros(increase 20 db)\n",
    "#den = np.array([1/10**6,1]) #poles (decreases 20 db)\n",
    "#H = signal.TransferFunction(num, den)\n",
    "#print ('H(s) =', H)\n",
    "#f, mag, phase = signal.bode(H)\n",
    "#plt.figure()\n",
    "#plt.semilogx(f, mag) # Magnitude Plot\n",
    "#plt.grid()\n",
    "#plt.figure()\n",
    "#plt.semilogx(f, phase) # Phase plot\n",
    "#plt.show()\n",
    "#len(f)"
   ]
  },
  {
   "cell_type": "markdown",
   "id": "e653ab08",
   "metadata": {},
   "source": [
    "# Gain 10"
   ]
  },
  {
   "cell_type": "code",
   "execution_count": 22,
   "id": "2098d3af",
   "metadata": {},
   "outputs": [
    {
     "data": {
      "text/plain": [
       "29"
      ]
     },
     "execution_count": 22,
     "metadata": {},
     "output_type": "execute_result"
    }
   ],
   "source": [
    "df_data = pd.read_csv(\"../data-source/4-10-21/inverting_gain/inverting_gain_10_data.csv\")\n",
    "df_errors = pd.read_csv(\"../data-source/4-10-21/inverting_gain/inverting_gain_10_errors.csv\")\n",
    "len(df_data)"
   ]
  },
  {
   "cell_type": "markdown",
   "id": "5cd244e0",
   "metadata": {},
   "source": [
    "### Convert to arrays of uncertainties"
   ]
  },
  {
   "cell_type": "code",
   "execution_count": 23,
   "id": "c49774f6",
   "metadata": {},
   "outputs": [],
   "source": [
    "index=[27,28]\n",
    "df_errors_n = df_errors.drop(index)\n",
    "df_data_n = df_data.drop(index)\n",
    "f_arr = pair_dat_err(df_data_n['f'], df_errors_n['f'])\n",
    "ppch1_arr = pair_dat_err(df_data_n['PPch1'], df_errors_n['PPch1'])\n",
    "ppch2_arr = pair_dat_err(df_data_n['PPch2'], df_errors_n['PPch2'])"
   ]
  },
  {
   "cell_type": "markdown",
   "id": "897ecc26",
   "metadata": {},
   "source": [
    "### Calculate Gain"
   ]
  },
  {
   "cell_type": "code",
   "execution_count": 24,
   "id": "86ad38af",
   "metadata": {},
   "outputs": [],
   "source": [
    "gains_arr = ppch2_arr / ppch1_arr\n",
    "db_gains_arr = list(map(lambda x: 20 * umath.log10(x), gains_arr))\n"
   ]
  },
  {
   "cell_type": "markdown",
   "id": "0b75f3fd",
   "metadata": {},
   "source": [
    "### Canvas"
   ]
  },
  {
   "cell_type": "code",
   "execution_count": 25,
   "id": "d2b0c2f7",
   "metadata": {},
   "outputs": [],
   "source": [
    "canvas = ROOT.TCanvas(\"c2\", \"bode gain 10\", 1000, 500)\n",
    "\n",
    "canvas.SetLogx(True)"
   ]
  },
  {
   "cell_type": "markdown",
   "id": "b47cf23d",
   "metadata": {},
   "source": [
    "### GraphErrors"
   ]
  },
  {
   "cell_type": "code",
   "execution_count": 26,
   "id": "d166e046",
   "metadata": {},
   "outputs": [],
   "source": [
    "#bode_graph_err = uncertainties_to_root_graph_errors(f_arr, gains_arr)\n",
    "bode_graph_err = uncertainties_to_root_graph_errors(f_arr, db_gains_arr)\n",
    "\n",
    "bode_graph_err.SetTitle(\"Bode Gain 10\")\n",
    "bode_graph_err.GetXaxis().SetTitle(\"f [Hz]\")\n",
    "bode_graph_err.GetYaxis().SetTitle(\"G [dB]\")\n",
    "bode_graph_err.SetMarkerStyle(21)\n",
    "bode_graph_err.SetMarkerSize(0.4)"
   ]
  },
  {
   "cell_type": "markdown",
   "id": "d8ac8b4d",
   "metadata": {},
   "source": [
    "### Fit"
   ]
  },
  {
   "cell_type": "code",
   "execution_count": 27,
   "id": "7f6fc4e5",
   "metadata": {},
   "outputs": [
    {
     "name": "stdout",
     "output_type": "stream",
     "text": [
      "guadagno calcolato =  20.690773134416144\n",
      "freq taglio =  7.656383151510266\n"
     ]
    }
   ],
   "source": [
    "A_v11_d = 20*umath.log10(1+R3/R1)\n",
    "f_l11 = 1/np.sqrt(2)*(1+R3/R1)\n",
    "print('guadagno calcolato = ',A_v11_d)\n",
    "print('freq taglio = ',f_l11)"
   ]
  },
  {
   "cell_type": "code",
   "execution_count": 28,
   "id": "aca7acd8",
   "metadata": {},
   "outputs": [],
   "source": [
    "function = \"[1]*(1/sqrt(1+(x/[0])**2))\"\n",
    "fit_f11 = ROOT.TF1(\"fit1\", function)\n",
    "###parameter per low pass filter\n",
    "fit_f11.SetParName(0, \"f_l\")\n",
    "fit_f11.SetParName(1, \"Gain\")\n",
    "fit_f.SetParameter(0, 10**5)\n",
    "fit_f.SetParameter(1, A_v11_d)\n",
    "\n",
    "fit_f.SetParLimits(1,A_v11_d-2,A_v11_d+2)\n",
    "fit_f.SetParLimits(1,1,10**3)"
   ]
  },
  {
   "cell_type": "markdown",
   "id": "311ba1fd",
   "metadata": {},
   "source": [
    "### Draw Graph"
   ]
  },
  {
   "cell_type": "code",
   "execution_count": 29,
   "id": "4b17ca94",
   "metadata": {},
   "outputs": [
    {
     "data": {
      "text/plain": [
       "<cppyy.gbl.TFitResultPtr object at 0xafae020>"
      ]
     },
     "execution_count": 29,
     "metadata": {},
     "output_type": "execute_result"
    },
    {
     "name": "stdout",
     "output_type": "stream",
     "text": [
      " NEW MINIMUM FOUND.  GO BACK TO MINIMIZATION STEP.\n",
      " =================================================\n",
      "                                                  V\n",
      "                                                  V\n",
      "                                                  V\n",
      "                                               VVVVVVV\n",
      "                                                VVVVV\n",
      "                                                 VVV\n",
      "                                                  V\n",
      "\n",
      " FCN=166.559 FROM MINOS     STATUS=SUCCESSFUL     14 CALLS         380 TOTAL\n",
      "                     EDM=1.44406e-09    STRATEGY= 1      ERROR MATRIX ACCURATE \n",
      "  EXT PARAMETER                                   STEP         FIRST   \n",
      "  NO.   NAME      VALUE            ERROR          SIZE      DERIVATIVE \n",
      "   1  f_l          1.33020e+05   5.91666e+03   2.27613e+01  -6.75316e-10\n",
      "   2  Gain         1.98283e+01   1.49841e-01   1.49841e-01  -4.99078e-05\n"
     ]
    },
    {
     "data": {
      "image/png": "[encoded data removed]",
      "text/plain": [
       "<IPython.core.display.Image object>"
      ]
     },
     "metadata": {},
     "output_type": "display_data"
    }
   ],
   "source": [
    "canvas.Draw()\n",
    "bode_graph_err.Draw()\n",
    "bode_graph_err.Fit(fit_f11, \"MSE\")\n"
   ]
  },
  {
   "cell_type": "code",
   "execution_count": 30,
   "id": "4c220d58",
   "metadata": {},
   "outputs": [
    {
     "data": {
      "text/plain": [
       "-9.827760891590678"
      ]
     },
     "execution_count": 30,
     "metadata": {},
     "output_type": "execute_result"
    }
   ],
   "source": [
    "ppch1_Arr = df_data_n['PPch1']\n",
    "ppch2_Arr = df_data_n['PPch2']\n",
    "gain_Arr = ppch2_Arr/ppch1_Arr\n",
    "db_gain_Arr = list(map(lambda x: 20 * umath.log10(x), gain_Arr))\n",
    "#gain_Arr_errors = ((df_errors_n['PPch2']/ppch1_Arr)**2 + (ppch2_Arr/(ppch1_Arr)**2*df_errors_n['PPch1'])**2)  \n",
    "#db_gain_Arr_errors = list(map(lambda x: 20 * umath.log(x), gain_Arr_errors))  \n",
    "db_gain_Arr_errors =[0.49476812680433546,\n",
    " 0.5140839532243918,\n",
    " 0.5161766453566071,\n",
    " 0.5161766453566071,\n",
    " 0.5161766453566071,\n",
    " 0.5140839532243918,\n",
    " 0.5161766453566071,\n",
    " 0.5183135430618956,\n",
    " 0.5902223277479106,\n",
    " 0.5722443540890254,\n",
    " 0.6254940844308975,\n",
    " 0.6034386533470738,\n",
    " 0.6305511142668727,\n",
    " 0.5537228015136225,\n",
    " 0.6054252390733152,\n",
    " 0.6505261427316407,\n",
    " 0.6565350182110768,\n",
    " 0.7298167274022264,\n",
    " 0.8141018776433374,\n",
    " 0.8943701715235557,\n",
    " 0.9354989439512417,\n",
    " 1.2036580608023484,\n",
    " 1.2876413768877326,\n",
    " 1.644168540308734,\n",
    " 2.73562945708666,\n",
    " 0.5320467589458894,\n",
    " 0.9184136827732226]\n",
    "\n",
    "\n",
    "# 6.714495099740892,\n",
    "# 33.34952100333063\n",
    "-R3/R1"
   ]
  },
  {
   "cell_type": "code",
   "execution_count": 31,
   "id": "f405d31b",
   "metadata": {},
   "outputs": [
    {
     "name": "stdout",
     "output_type": "stream",
     "text": [
      "H(s) = TransferFunctionContinuous(\n",
      "array([-837505.]),\n",
      "array([1.00e+00, 8.35e+04]),\n",
      "dt: None\n",
      ")\n"
     ]
    },
    {
     "data": {
      "image/png": "[encoded data removed]",
      "text/plain": [
       "<Figure size 720x1152 with 2 Axes>"
      ]
     },
     "metadata": {
      "needs_background": "light"
     },
     "output_type": "display_data"
    },
    {
     "data": {
      "text/plain": [
       "83500.0"
      ]
     },
     "execution_count": 31,
     "metadata": {},
     "output_type": "execute_result"
    }
   ],
   "source": [
    "#k=9.8**18\n",
    "#a=0.4*10**5\n",
    "#b=1.2*10**5\n",
    "#c=3.5*10**5\n",
    "\n",
    "G11=-9.83-0.2\n",
    "G11_err = 0.1\n",
    "fH11=8.35*10**4\n",
    "fH11_err = 0.45*10**4\n",
    "a=1/fH11\n",
    "b=0\n",
    "c=0\n",
    "\n",
    "num = np.array([G11-b]) #zeros(increase 20 db)\n",
    "den = np.array([a,1]) #poles (decreases 20 db) [1,a+b+c,a*b+c*a+c*b,a*b*c]  (as+1)(bs+1)(cs+1)=(1+(a+b)s+abs^2)(cs+1)=(1+(a+b+c)s+(ab+c(a+b))s^2+abcs^3)\n",
    "H = signal.TransferFunction(num, den)\n",
    "print ('H(s) =', H)\n",
    "f_11, mag_11, phase_11 = H.bode(df_data_n['f']) #\n",
    "\n",
    "plt.figure(figsize=((10,16)))\n",
    "\n",
    "\n",
    "ax1 = plt.subplot(211)\n",
    "plt.semilogx(f_11, mag_11,color = \"blue\") # Magnitude Plot\n",
    "plt.title('Diagrammi di Bode OPA invertente (Gain 10)',fontsize=20)\n",
    "plt.ylabel('Magnitude',fontsize=15)\n",
    "\n",
    "plt.grid()\n",
    "plt.errorbar( df_data_n['f'],db_gain_Arr ,xerr = df_errors_n['f'],yerr = db_gain_Arr_errors, fmt='o', color='Black', elinewidth=1,capthick=2,errorevery=1, alpha=1, ms=0, capsize = 1.5)\n",
    "plt.setp(ax1.get_xticklabels(), visible=False)\n",
    "\n",
    "plt.subplot(212, sharex = ax1)\n",
    "plt.ylabel('Phase',fontsize=15)\n",
    "plt.xlabel('f [Hz]',fontsize=15)\n",
    "plt.semilogx(f_11, phase_11,color = \"blue\")\n",
    "plt.grid()\n",
    "plt.subplots_adjust(hspace=0)\n",
    "\n",
    "plt.savefig(f\"{OUTPUTDIR}/OPA-bode_gain10(mag+phase).pdf\")\n",
    "\n",
    "plt.show()\n",
    "\n",
    "\n",
    "fH11"
   ]
  },
  {
   "cell_type": "code",
   "execution_count": 32,
   "id": "0470e89b",
   "metadata": {},
   "outputs": [
    {
     "data": {
      "text/plain": [
       "2.292648698929919"
      ]
     },
     "execution_count": 32,
     "metadata": {},
     "output_type": "execute_result"
    }
   ],
   "source": [
    "((mag_11-db_gain_Arr)**2).sum()"
   ]
  },
  {
   "cell_type": "code",
   "execution_count": 33,
   "id": "979630aa",
   "metadata": {},
   "outputs": [
    {
     "data": {
      "text/plain": [
       "2.292648698929919"
      ]
     },
     "execution_count": 33,
     "metadata": {},
     "output_type": "execute_result"
    }
   ],
   "source": [
    "((mag_11-db_gain_Arr)**2).sum()"
   ]
  },
  {
   "cell_type": "code",
   "execution_count": 34,
   "id": "53a55fa5",
   "metadata": {
    "scrolled": true
   },
   "outputs": [
    {
     "data": {
      "image/png": "[encoded data removed]",
      "text/plain": [
       "<Figure size 720x1152 with 1 Axes>"
      ]
     },
     "metadata": {
      "needs_background": "light"
     },
     "output_type": "display_data"
    }
   ],
   "source": [
    "plt.figure(figsize=((10,16)))\n",
    "\n",
    "\n",
    "\n",
    "ax1 = plt.subplot(211)\n",
    "plt.semilogx(f_11, mag_11,color = \"blue\") # Magnitude Plot\n",
    "plt.title('Diagramma di Bode OPA invertente (Gain 10)',fontsize=20)\n",
    "plt.ylabel('Magnitude',fontsize=15)\n",
    "plt.xlabel('f [Hz]',fontsize=15)\n",
    "plt.grid()\n",
    "plt.errorbar(df_data_n['f'],db_gain_Arr ,xerr = df_errors_n['f'],yerr = db_gain_Arr_errors , fmt='o', color='Black', elinewidth=1,capthick=2,errorevery=1, alpha=1, ms=0, capsize = 1.5)\n",
    "plt.vlines(fH11, mag_11[len(mag_11)-1],  mag_11[0], linestyles=\"--\", color = \"red\")\n",
    "plt.hlines(mag_11[0]-3,f_11[0],f_11[23], linestyles=\"--\", color = \"red\")\n",
    "\n",
    "plt.text(fH11+10000, mag_11[len(mag_11)-1]+1, 'H.F',\n",
    "        verticalalignment='top', horizontalalignment='left',\n",
    "        color='red', fontsize=15)\n",
    "\n",
    "max_in = mag_11[0]\n",
    "max_rt=mag_11[0]-3\n",
    "plt.hlines(max_in, fH11+20000, f_11[23])\n",
    "plt.hlines(max_rt, fH11+20000, f_11[23])\n",
    "\n",
    "plt.text(f_11[23], max_rt + abs(max_rt - max_in) - 1, '3 dB',verticalalignment='top', horizontalalignment='left', color='black', fontsize=15)\n",
    "\n",
    "plt.savefig(f\"{OUTPUTDIR}/OPA-bode_gain10(mag).pdf\")\n",
    "\n",
    "plt.show()\n",
    "\n"
   ]
  },
  {
   "cell_type": "code",
   "execution_count": 35,
   "id": "5ed65ffd",
   "metadata": {},
   "outputs": [
    {
     "data": {
      "text/plain": [
       "array([20.02601866, 20.02601864, 20.0260186 , 20.0260171 , 20.02597973,\n",
       "       20.02539582, 20.02041627, 19.96417213, 19.88808229, 19.65318399,\n",
       "       19.49875939, 19.12879989, 18.91865029, 18.69521665, 18.46094264,\n",
       "       17.45699069, 16.16235397, 15.65572886, 14.68081463, 13.33127058,\n",
       "       11.74133453, 10.04163452,  8.59327345,  6.23330518,  1.49642678,\n",
       "       -1.57042685, -7.56841518])"
      ]
     },
     "execution_count": 35,
     "metadata": {},
     "output_type": "execute_result"
    }
   ],
   "source": [
    "\n",
    "#f, mag, phase = H.bode() \n",
    "mag_BW = mag_11 - mag_11[26]\n",
    "mag_11"
   ]
  },
  {
   "cell_type": "code",
   "execution_count": 36,
   "id": "c7abf9e2",
   "metadata": {},
   "outputs": [
    {
     "data": {
      "text/plain": [
       "42.74330349"
      ]
     },
     "execution_count": 36,
     "metadata": {},
     "output_type": "execute_result"
    }
   ],
   "source": [
    "45.74330349-3\n",
    "#mag_11[43]\n",
    "#f_11[43]"
   ]
  },
  {
   "cell_type": "code",
   "execution_count": 37,
   "id": "d252d694",
   "metadata": {},
   "outputs": [
    {
     "name": "stdout",
     "output_type": "stream",
     "text": [
      "(array([], dtype=int64),)\n"
     ]
    },
    {
     "data": {
      "text/plain": [
       "160000"
      ]
     },
     "execution_count": 37,
     "metadata": {},
     "output_type": "execute_result"
    }
   ],
   "source": [
    "mag_BW[24]\n",
    "print(np.where(mag_BW==84.75575792647965))\n",
    "f[np.where(mag_BW==84.75575792647965)]\n",
    "f_11[19]"
   ]
  },
  {
   "cell_type": "code",
   "execution_count": 38,
   "id": "266a357e",
   "metadata": {},
   "outputs": [
    {
     "data": {
      "text/plain": [
       "2750000.0"
      ]
     },
     "execution_count": 38,
     "metadata": {},
     "output_type": "execute_result"
    }
   ],
   "source": [
    "700000\n",
    "(f[24]+f[25])/2"
   ]
  },
  {
   "cell_type": "code",
   "execution_count": 39,
   "id": "e4db7d84",
   "metadata": {},
   "outputs": [
    {
     "name": "stdout",
     "output_type": "stream",
     "text": [
      "-566717.3252279636 +-  50411.91217420717\n"
     ]
    }
   ],
   "source": [
    "###Control BW*Gain\n",
    "BG2 = fH2*(G2)\n",
    "BG2_err = np.sqrt((fH2_err*G2)**2+(fH2*G2_err)**2)\n",
    "print(BG2, '+- ',BG2_err)"
   ]
  },
  {
   "cell_type": "code",
   "execution_count": 40,
   "id": "ef8cb394",
   "metadata": {},
   "outputs": [
    {
     "name": "stdout",
     "output_type": "stream",
     "text": [
      "-837505.0 +-  45900.87934887523\n"
     ]
    }
   ],
   "source": [
    "BG11 = fH11*(G11)\n",
    "BG11_err = np.sqrt((fH11_err*G11)**2+(fH11*G11_err)**2)\n",
    "print(BG11, '+- ',BG11_err)"
   ]
  },
  {
   "cell_type": "code",
   "execution_count": 41,
   "id": "da460969",
   "metadata": {},
   "outputs": [
    {
     "name": "stdout",
     "output_type": "stream",
     "text": [
      "3.9717698858010566\n"
     ]
    }
   ],
   "source": [
    "z_BG = abs(BG2-BG11)/np.sqrt(BG11_err**2 + BG2_err**2)\n",
    "print(z_BG)\n"
   ]
  },
  {
   "cell_type": "code",
   "execution_count": 42,
   "id": "d0433dea",
   "metadata": {},
   "outputs": [
    {
     "data": {
      "image/png": "[encoded data removed]",
      "text/plain": [
       "<Figure size 720x576 with 1 Axes>"
      ]
     },
     "metadata": {
      "needs_background": "light"
     },
     "output_type": "display_data"
    }
   ],
   "source": [
    "###plot gain 1 + gain 11\n",
    "plt.figure(figsize=((10,8)))\n",
    "plt.ylabel('Ampiezza(v)',fontsize=15)\n",
    "plt.xlabel('f (Hz)',fontsize=15)\n",
    "plt.semilogx(f, mag, label='Gain 2',color = \"blue\")\n",
    "plt.semilogx(f_11, mag_11,label='Gain 11',color = \"red\")\n",
    "plt.vlines(fH2, mag[len(mag)-1],  mag[0], linestyles=\"--\", color = \"blue\")\n",
    "plt.text(fH2+50000, mag[len(mag)-1]+1, 'H.F',\n",
    "        verticalalignment='top', horizontalalignment='left',\n",
    "        color='blue', fontsize=15)\n",
    "plt.vlines(fH11, mag[len(mag)-1],  mag_11[0], linestyles=\"--\", color = \"red\")\n",
    "plt.text(fH11+10000, mag[len(mag)-1]+1, 'H.F',\n",
    "        verticalalignment='top', horizontalalignment='left',\n",
    "        color='red', fontsize=15)\n",
    "plt.grid()\n",
    "plt.title('Confronto tra diagrammi di Bode OPA invertente',fontsize=20)\n",
    "\n",
    "plt.legend(loc = \"lower left\")\n",
    "plt.savefig(f\"{OUTPUTDIR}/OPA-bode_gain_comparison(mag).pdf\")\n",
    "plt.show()\n"
   ]
  },
  {
   "cell_type": "code",
   "execution_count": null,
   "id": "8c9f2cf6",
   "metadata": {},
   "outputs": [],
   "source": []
  },
  {
   "cell_type": "code",
   "execution_count": null,
   "id": "8445881b",
   "metadata": {},
   "outputs": [],
   "source": []
  },
  {
   "cell_type": "code",
   "execution_count": null,
   "id": "28d0ac77",
   "metadata": {},
   "outputs": [],
   "source": []
  },
  {
   "cell_type": "code",
   "execution_count": null,
   "id": "a61b884c",
   "metadata": {},
   "outputs": [],
   "source": []
  },
  {
   "cell_type": "code",
   "execution_count": null,
   "id": "63aaf871",
   "metadata": {},
   "outputs": [],
   "source": []
  }
 ],
 "metadata": {
  "kernelspec": {
   "display_name": "Python 3 (ipykernel)",
   "language": "python",
   "name": "python3"
  },
  "language_info": {
   "codemirror_mode": {
    "name": "ipython",
    "version": 3
   },
   "file_extension": ".py",
   "mimetype": "text/x-python",
   "name": "python",
   "nbconvert_exporter": "python",
   "pygments_lexer": "ipython3",
   "version": "3.9.5"
  }
 },
 "nbformat": 4,
 "nbformat_minor": 5
}
