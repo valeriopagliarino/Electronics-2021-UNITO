{
 "cells": [
  {
   "cell_type": "markdown",
   "metadata": {
    "colab_type": "text",
    "id": "view-in-github"
   },
   "source": [
    "<a href=\"https://colab.research.google.com/github/valeriopagliarino/Electronics-2021-UNITO/blob/main/analysis/PickleDictExample.ipynb\" target=\"_parent\"><img src=\"https://colab.research.google.com/assets/colab-badge.svg\" alt=\"Open In Colab\"/></a>"
   ]
  },
  {
   "cell_type": "code",
   "execution_count": 15,
   "metadata": {
    "id": "Gq4otxg-C1YZ"
   },
   "outputs": [],
   "source": [
    "import pickle\n",
    "import numpy as np"
   ]
  },
  {
   "cell_type": "code",
   "execution_count": 2,
   "metadata": {
    "id": "x5urW3HPC35Z"
   },
   "outputs": [],
   "source": [
    "presa_dati = {\n",
    "    \"date\":         \"01/01/1970\",\n",
    "    \"title\":        \"Titolo esperimento\",\n",
    "    \"authors\":      \"Valerio Pagliarino, Name Surname\",\n",
    "    \"data_var1_mV\":  000.00,\n",
    "    \"data_var2_mA\":  000.00,\n",
    "    \"data_table1\":  [\n",
    "                    [\"colonna1\", \"mV\",  5.6, 3.2, 6.4, 1.1, 3.5, 2.2, 6.5, 3.5],\n",
    "                    [\"colonna2\", \"mA\",  9.4, 2.6, 6.1, 4.0, 9.9, 1.3, 5.0, 1.1]\n",
    "    ]\n",
    "}"
   ]
  },
  {
   "cell_type": "code",
   "execution_count": 3,
   "metadata": {
    "colab": {
     "base_uri": "https://localhost:8080/"
    },
    "id": "Z1QG2qu2C5l-",
    "outputId": "569c22ef-4e23-4d98-dbb5-1f904e8297da"
   },
   "outputs": [
    {
     "data": {
      "text/plain": [
       "{'authors': 'Valerio Pagliarino, Name Surname',\n",
       " 'data_table1': [['colonna1', 'mV', 5.6, 3.2, 6.4, 1.1, 3.5, 2.2, 6.5, 3.5],\n",
       "  ['colonna2', 'mA', 9.4, 2.6, 6.1, 4.0, 9.9, 1.3, 5.0, 1.1]],\n",
       " 'data_var1_mV': 0.0,\n",
       " 'data_var2_mA': 0.0,\n",
       " 'date': '01/01/1970',\n",
       " 'title': 'Titolo esperimento'}"
      ]
     },
     "execution_count": 3,
     "metadata": {},
     "output_type": "execute_result"
    }
   ],
   "source": [
    "presa_dati"
   ]
  },
  {
   "cell_type": "code",
   "execution_count": 4,
   "metadata": {
    "colab": {
     "base_uri": "https://localhost:8080/"
    },
    "id": "4Q3McdaTC6on",
    "outputId": "16da2569-7f49-42b9-922b-8dbc5413d550"
   },
   "outputs": [
    {
     "data": {
      "text/plain": [
       "[['colonna1', 'mV', 5.6, 3.2, 6.4, 1.1, 3.5, 2.2, 6.5, 3.5],\n",
       " ['colonna2', 'mA', 9.4, 2.6, 6.1, 4.0, 9.9, 1.3, 5.0, 1.1]]"
      ]
     },
     "execution_count": 4,
     "metadata": {},
     "output_type": "execute_result"
    }
   ],
   "source": [
    "presa_dati['data_table1']"
   ]
  },
  {
   "cell_type": "code",
   "execution_count": 7,
   "metadata": {
    "colab": {
     "base_uri": "https://localhost:8080/",
     "height": 36
    },
    "id": "qYNfzl3CDDIa",
    "outputId": "2d88013d-5465-4e4b-ac00-07c7547b608b"
   },
   "outputs": [
    {
     "data": {
      "application/vnd.google.colaboratory.intrinsic+json": {
       "type": "string"
      },
      "text/plain": [
       "'colonna1'"
      ]
     },
     "execution_count": 7,
     "metadata": {},
     "output_type": "execute_result"
    }
   ],
   "source": [
    "presa_dati['data_table1'][0][0]"
   ]
  },
  {
   "cell_type": "code",
   "execution_count": 17,
   "metadata": {
    "id": "o7zsjTHEDOQE"
   },
   "outputs": [],
   "source": [
    "row = np.array(presa_dati['data_table1'][0][2:])"
   ]
  },
  {
   "cell_type": "code",
   "execution_count": 18,
   "metadata": {
    "colab": {
     "base_uri": "https://localhost:8080/"
    },
    "id": "1izMZ9g4DUDi",
    "outputId": "71c29b14-687a-4aef-96c7-cb9bfbbb6dbb"
   },
   "outputs": [
    {
     "data": {
      "text/plain": [
       "array([5.6, 3.2, 6.4, 1.1, 3.5, 2.2, 6.5, 3.5])"
      ]
     },
     "execution_count": 18,
     "metadata": {},
     "output_type": "execute_result"
    }
   ],
   "source": [
    "row"
   ]
  },
  {
   "cell_type": "code",
   "execution_count": 20,
   "metadata": {
    "colab": {
     "base_uri": "https://localhost:8080/"
    },
    "id": "B3RcXOr2D322",
    "outputId": "cb7ef7b7-ba97-4d46-e01d-1fd75ac5a41e"
   },
   "outputs": [
    {
     "data": {
      "text/plain": [
       "4.0"
      ]
     },
     "execution_count": 20,
     "metadata": {},
     "output_type": "execute_result"
    }
   ],
   "source": [
    "row.mean()"
   ]
  },
  {
   "cell_type": "code",
   "execution_count": 21,
   "metadata": {
    "id": "kyJ5eNORD6qm"
   },
   "outputs": [],
   "source": [
    "with open('data.p', 'wb') as handle:\n",
    "    pickle.dump(presa_dati, handle, protocol=pickle.HIGHEST_PROTOCOL)"
   ]
  },
  {
   "cell_type": "code",
   "execution_count": 22,
   "metadata": {
    "id": "1SgNAcaRECdM"
   },
   "outputs": [],
   "source": [
    "with open('data.p', 'rb') as handle:\n",
    "    b = pickle.load(handle)"
   ]
  },
  {
   "cell_type": "code",
   "execution_count": 23,
   "metadata": {
    "colab": {
     "base_uri": "https://localhost:8080/"
    },
    "id": "l3Y_ErwCELRl",
    "outputId": "07e92077-412d-4287-a021-fa617ad22b33"
   },
   "outputs": [
    {
     "data": {
      "text/plain": [
       "{'authors': 'Valerio Pagliarino, Name Surname',\n",
       " 'data_table1': [['colonna1', 'mV', 5.6, 3.2, 6.4, 1.1, 3.5, 2.2, 6.5, 3.5],\n",
       "  ['colonna2', 'mA', 9.4, 2.6, 6.1, 4.0, 9.9, 1.3, 5.0, 1.1]],\n",
       " 'data_var1_mV': 0.0,\n",
       " 'data_var2_mA': 0.0,\n",
       " 'date': '01/01/1970',\n",
       " 'title': 'Titolo esperimento'}"
      ]
     },
     "execution_count": 23,
     "metadata": {},
     "output_type": "execute_result"
    }
   ],
   "source": [
    "b"
   ]
  },
  {
   "cell_type": "code",
   "execution_count": null,
   "metadata": {
    "id": "VbJhcI7jELrU"
   },
   "outputs": [],
   "source": []
  }
 ],
 "metadata": {
  "colab": {
   "authorship_tag": "ABX9TyM9u3YimlgJt8S5WWd7J6AA",
   "include_colab_link": true,
   "name": "PickleDictExample.ipynb",
   "provenance": []
  },
  "kernelspec": {
   "display_name": "Python 3 (ipykernel)",
   "language": "python",
   "name": "python3"
  },
  "language_info": {
   "codemirror_mode": {
    "name": "ipython",
    "version": 3
   },
   "file_extension": ".py",
   "mimetype": "text/x-python",
   "name": "python",
   "nbconvert_exporter": "python",
   "pygments_lexer": "ipython3",
   "version": "3.9.5"
  }
 },
 "nbformat": 4,
 "nbformat_minor": 1
}
