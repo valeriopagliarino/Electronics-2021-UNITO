{
 "cells": [
  {
   "cell_type": "markdown",
   "metadata": {
    "colab_type": "text",
    "id": "view-in-github"
   },
   "source": [
    "<a href=\"https://colab.research.google.com/github/valeriopagliarino/Electronics-2021-UNITO/blob/main/analysis/4_Delay_line.ipynb\" target=\"_parent\"><img src=\"https://colab.research.google.com/assets/colab-badge.svg\" alt=\"Open In Colab\"/></a>"
   ]
  },
  {
   "cell_type": "markdown",
   "metadata": {
    "id": "rk5sh2cvGJOs"
   },
   "source": [
    "# Data analysis: delay line\n",
    "\n",
    "### October 11th 2021\n",
    "<p>\n",
    "Authors: <b> Stefano Barbero, Valerio Pagliarino, Matteo Barbagiovanni, Federico Malnati </b> <p>Electronics Laboratory 2021 - Department of Physics - University of Turin <p>\n",
    "Date: 11/10/2021\n"
   ]
  },
  {
   "cell_type": "markdown",
   "metadata": {
    "id": "I4JK4N0_URnB"
   },
   "source": [
    "## Configuration"
   ]
  },
  {
   "cell_type": "markdown",
   "metadata": {
    "id": "0bwsv0IJJrZp"
   },
   "source": [
    "### Clone the GIT"
   ]
  },
  {
   "cell_type": "code",
   "execution_count": null,
   "metadata": {
    "ExecuteTime": {
     "end_time": "2021-10-12T20:49:17.167041Z",
     "start_time": "2021-10-12T20:49:10.694252Z"
    },
    "id": "EDuqpT5KFwX_"
   },
   "outputs": [],
   "source": [
    "!rm -r ./sample_data\n",
    "import os\n",
    "from getpass import getpass\n",
    "user = input('GitHub user')\n",
    "mail = input('GitHub email')\n",
    "password = getpass('GitHub password')\n",
    "os.environ['GITHUB_AUTH'] = user + ':' + password\n",
    "!git clone https://$GITHUB_AUTH@github.com/valeriopagliarino/Electronics-2021-UNITO.git\n",
    "!git config --global user.email user\n",
    "!git config --global user.name mail"
   ]
  },
  {
   "cell_type": "markdown",
   "metadata": {
    "id": "w_hC9vVzGpSG"
   },
   "source": [
    "### Install environment"
   ]
  },
  {
   "cell_type": "code",
   "execution_count": null,
   "metadata": {
    "ExecuteTime": {
     "end_time": "2021-10-12T20:49:17.172994Z",
     "start_time": "2021-10-12T20:49:08.402Z"
    },
    "colab": {
     "base_uri": "https://localhost:8080/"
    },
    "id": "geqiHwACJuqv",
    "outputId": "50c610c5-4091-4bc6-90cf-00450e8ee8b7"
   },
   "outputs": [],
   "source": [
    "exec(open(\"./Electronics-2021-UNITO/analysis/ROOT-config.py\").read())"
   ]
  },
  {
   "cell_type": "markdown",
   "metadata": {
    "id": "G0zBs0IVc6WK"
   },
   "source": [
    "### Importa moduli [no COLAB]"
   ]
  },
  {
   "cell_type": "code",
   "execution_count": 8,
   "metadata": {
    "ExecuteTime": {
     "end_time": "2021-10-12T20:50:44.642508Z",
     "start_time": "2021-10-12T20:50:44.635537Z"
    },
    "id": "M0wqcW3tc6WL"
   },
   "outputs": [],
   "source": [
    "import numpy as np\n",
    "import scipy as sp\n",
    "import sympy as sy\n",
    "import pandas as pd\n",
    "\n",
    "from matplotlib import pyplot as plt\n",
    "\n",
    "from uncertainties import ufloat\n",
    "import uncertainties.umath\n",
    "\n",
    "import pickle\n",
    "\n",
    "import ROOT # Per COLAB importato da ROOT-config.py\n",
    "\n",
    "DATADIR = \"../data-source\"\n",
    "OUTPUTDIR = \"./output\""
   ]
  },
  {
   "cell_type": "markdown",
   "metadata": {
    "id": "-fz1JcVRdhWE"
   },
   "source": [
    "### Importa moduli [COLAB]"
   ]
  },
  {
   "cell_type": "code",
   "execution_count": 3,
   "metadata": {
    "colab": {
     "base_uri": "https://localhost:8080/"
    },
    "id": "NyusFmEvdhWG",
    "outputId": "2690f589-b38c-4db7-d32b-3ecab198a8d3"
   },
   "outputs": [
    {
     "name": "stdout",
     "output_type": "stream",
     "text": [
      "/content\n",
      "Collecting uncertainties\n",
      "  Downloading uncertainties-3.1.6-py2.py3-none-any.whl (98 kB)\n",
      "\u001b[K     |████████████████████████████████| 98 kB 7.0 MB/s \n",
      "\u001b[?25hRequirement already satisfied: future in /usr/local/lib/python3.7/dist-packages (from uncertainties) (0.16.0)\n",
      "Installing collected packages: uncertainties\n",
      "Successfully installed uncertainties-3.1.6\n"
     ]
    }
   ],
   "source": [
    "%cd /content/\n",
    "!pip3 install uncertainties\n",
    "import numpy as np\n",
    "import scipy as sp\n",
    "import sympy as sy\n",
    "import pandas as pd\n",
    "\n",
    "from uncertainties import ufloat\n",
    "import uncertainties.umath\n",
    "from matplotlib import pyplot as plt\n",
    "import pickle#Pickle with dict of Numpy arrays\n",
    "\n",
    "# Variables for directories\n",
    "DATADIR = \"/content/Electronics-2021-UNITO/data-source\"\n",
    "OUTPUTDIR = \"/content/Electronics-2021-UNITO/analysis/output\""
   ]
  },
  {
   "cell_type": "markdown",
   "metadata": {
    "id": "IPfUW7bngPvw"
   },
   "source": [
    "### Funzioni per l'importazione file Tektronix"
   ]
  },
  {
   "cell_type": "code",
   "execution_count": 9,
   "metadata": {
    "ExecuteTime": {
     "end_time": "2021-10-12T20:50:54.315728Z",
     "start_time": "2021-10-12T20:50:54.296888Z"
    },
    "id": "gxqxn84mgOAJ"
   },
   "outputs": [],
   "source": [
    "import csv\n",
    "\n",
    "def cellFromCSV(path, row_index, col_index):\n",
    "  with open(path, 'r') as f:\n",
    "    mycsv = csv.reader(f)\n",
    "    column = []\n",
    "    for row in mycsv:\n",
    "        column.append(row[col_index])\n",
    "\n",
    "  return column[row_index]\n",
    "\n",
    "\n",
    "def openTek(path):\n",
    "  a = pd.read_table(path, header=None, sep=\",\", usecols=[3,4])\n",
    "  a = a.transpose()\n",
    "  a = a.rename(index={3: 'Time', 4: 'Amplitude'})\n",
    "  a = a.transpose()\n",
    "\n",
    "  data = {'Record lenght': cellFromCSV(path, 0, 1),\n",
    "          'Sample interval': cellFromCSV(path, 1, 1),\n",
    "          'Trigger point': cellFromCSV(path, 2, 1),\n",
    "          'Source': cellFromCSV(path, 6, 1),\n",
    "          'Vertical units': cellFromCSV(path, 7, 1),\n",
    "          'Vertical scale': cellFromCSV(path, 8, 1),\n",
    "          'Vertical offset': cellFromCSV(path, 9, 1),\n",
    "          'Horizontal units': cellFromCSV(path, 10, 1),\n",
    "          'Horizontal scale': cellFromCSV(path, 11, 1),\n",
    "          'Pt FMT': cellFromCSV(path, 12, 1),\n",
    "          'Y zero': cellFromCSV(path, 13, 1),\n",
    "          'Probe atten': cellFromCSV(path, 14, 1),\n",
    "          'Model': cellFromCSV(path, 15, 1),\n",
    "          'Serial': cellFromCSV(path, 16, 1),\n",
    "          'Firmware': cellFromCSV(path, 17, 1),\n",
    "          'Data' : a\n",
    "  }\n",
    "  return data"
   ]
  },
  {
   "cell_type": "markdown",
   "metadata": {
    "id": "_VmwhGvFmGCP"
   },
   "source": [
    "## Delay line"
   ]
  },
  {
   "cell_type": "markdown",
   "metadata": {
    "id": "HQIJRbb1IWTE"
   },
   "source": [
    "### Single pulses"
   ]
  },
  {
   "cell_type": "code",
   "execution_count": 10,
   "metadata": {
    "ExecuteTime": {
     "end_time": "2021-10-12T20:50:57.670042Z",
     "start_time": "2021-10-12T20:50:57.289970Z"
    },
    "id": "1Bl9vOkgG7w5"
   },
   "outputs": [],
   "source": [
    "DEL_shorted_pulse_2_ch1 = openTek(f'{DATADIR}/11-10-21/DL_shorted_pulse_2/F0004CH1.CSV')\n",
    "DEL_shorted_pulse_2_ch2 = openTek(f'{DATADIR}/11-10-21/DL_shorted_pulse_2/F0004CH2.CSV')\n",
    "DEL_matched_pulse_2_ch1 = openTek(f'{DATADIR}/11-10-21/DL_matched_pulse2/F0002CH1.CSV')\n",
    "DEL_matched_pulse_2_ch2 = openTek(f'{DATADIR}/11-10-21/DL_matched_pulse2/F0002CH2.CSV')\n",
    "DEL_open_pulse_2_ch1    = openTek(f'{DATADIR}/11-10-21/DL_open_pulse/F0000CH1.CSV')\n",
    "DEL_open_pulse_2_ch2    = openTek(f'{DATADIR}/11-10-21/DL_open_pulse/F0000CH2.CSV')"
   ]
  },
  {
   "cell_type": "code",
   "execution_count": 11,
   "metadata": {
    "ExecuteTime": {
     "end_time": "2021-10-12T20:50:57.772570Z",
     "start_time": "2021-10-12T20:50:57.755620Z"
    },
    "id": "z_bY4xPNIYfP"
   },
   "outputs": [],
   "source": [
    "DEL_shorted_pulse_2_ch1_time = DEL_shorted_pulse_2_ch1['Data'].to_numpy().transpose()[0]\n",
    "DEL_shorted_pulse_2_ch1_sign = DEL_shorted_pulse_2_ch1['Data'].to_numpy().transpose()[1]\n",
    "DEL_shorted_pulse_2_ch2_time = DEL_shorted_pulse_2_ch1['Data'].to_numpy().transpose()[0]\n",
    "DEL_shorted_pulse_2_ch2_sign = DEL_shorted_pulse_2_ch1['Data'].to_numpy().transpose()[1]\n",
    "DEL_matched_pulse_2_ch1_time = DEL_matched_pulse_2_ch1['Data'].to_numpy().transpose()[0]\n",
    "DEL_matched_pulse_2_ch1_sign = DEL_matched_pulse_2_ch1['Data'].to_numpy().transpose()[1]\n",
    "DEL_matched_pulse_2_ch2_time = DEL_matched_pulse_2_ch2['Data'].to_numpy().transpose()[0]\n",
    "DEL_matched_pulse_2_ch2_sign = DEL_matched_pulse_2_ch2['Data'].to_numpy().transpose()[1]\n",
    "DEL_open_pulse_2_ch1_time    = DEL_open_pulse_2_ch1['Data'].to_numpy().transpose()[0]\n",
    "DEL_open_pulse_2_ch1_sign    = DEL_open_pulse_2_ch1['Data'].to_numpy().transpose()[1]\n",
    "DEL_open_pulse_2_ch2_time    = DEL_open_pulse_2_ch2['Data'].to_numpy().transpose()[0]\n",
    "DEL_open_pulse_2_ch2_sign    = DEL_open_pulse_2_ch2['Data'].to_numpy().transpose()[1]"
   ]
  },
  {
   "cell_type": "markdown",
   "metadata": {
    "id": "pU3i7Gb2L8XB"
   },
   "source": [
    "### Repetition of pulses"
   ]
  },
  {
   "cell_type": "code",
   "execution_count": null,
   "metadata": {
    "id": "yibUQ47WMAaF"
   },
   "outputs": [],
   "source": []
  },
  {
   "cell_type": "markdown",
   "metadata": {
    "id": "vyu-oVItMAyf"
   },
   "source": [
    "### Sine: $\\lambda = 2L$ - Open end"
   ]
  },
  {
   "cell_type": "code",
   "execution_count": 110,
   "metadata": {
    "ExecuteTime": {
     "end_time": "2021-10-12T21:54:46.860947Z",
     "start_time": "2021-10-12T21:54:46.588256Z"
    }
   },
   "outputs": [],
   "source": [
    "DL_2L_open_half    = openTek(f'{DATADIR}/11-10-21/DL_2L_open_half/F0008CH2.CSV')\n",
    "DL_2L_open_out     = openTek(f'{DATADIR}/11-10-21/DL_2L_open_out/F0009CH2.CSV')\n",
    "DL_2L_open_quarter = openTek(f'{DATADIR}/11-10-21/DL_2L_open_quarter/F0010CH1.CSV')\n",
    "DL_2L_open_in      = openTek(f'{DATADIR}/11-10-21/DL_2L_open_half/F0008CH1.CSV')\n",
    "\n",
    "DL_2L_open_half_t    = DL_2L_open_half['Data'].to_numpy().transpose()[0]\n",
    "DL_2L_open_half_s    = DL_2L_open_half['Data'].to_numpy().transpose()[1]\n",
    "DL_2L_open_out_t     = DL_2L_open_out['Data'].to_numpy().transpose()[0]\n",
    "DL_2L_open_out_s     = DL_2L_open_out['Data'].to_numpy().transpose()[1]\n",
    "DL_2L_open_quarter_t = DL_2L_open_quarter['Data'].to_numpy().transpose()[0]\n",
    "DL_2L_open_quarter_s = DL_2L_open_quarter['Data'].to_numpy().transpose()[1]\n",
    "DL_2L_open_in_t      = DL_2L_open_in['Data'].to_numpy().transpose()[0]\n",
    "DL_2L_open_in_s      = DL_2L_open_in['Data'].to_numpy().transpose()[1]"
   ]
  },
  {
   "cell_type": "code",
   "execution_count": null,
   "metadata": {
    "ExecuteTime": {
     "start_time": "2021-10-12T21:57:21.550Z"
    },
    "colab": {
     "base_uri": "https://localhost:8080/",
     "height": 299
    },
    "id": "_MydRbsAMF2R",
    "outputId": "9eb3bb87-c899-4d9d-b925-a5a50154ef3f"
   },
   "outputs": [],
   "source": [
    "import cv2\n",
    "im = cv2.imread(f'{OUTPUTDIR}/graphics/tl1.png')\n",
    "fig3 = plt.figure(constrained_layout=True)\n",
    "gs = fig3.add_gridspec(4, 2, width_ratios=[1, 6])\n",
    "f3_ax1 = fig3.add_subplot(gs[:, 0])\n",
    "f3_ax1.imshow(im)\n",
    "f3_ax1.axis(\"off\")\n",
    "\n",
    "f3_ax2 = fig3.add_subplot(gs[0, 1], sharex = f3_ax2, title = \"$\\lambda$ = 2L - Terminazione con circuito aperto\")\n",
    "f3_ax2.plot(DL_2L_open_in_t, DL_2L_open_in_s)\n",
    "f3_ax2.grid()\n",
    "#PLOT INPUT\n",
    "\n",
    "f3_ax3 = fig3.add_subplot(gs[1, 1], sharex = f3_ax2)\n",
    "f3_ax3.plot(DL_2L_open_quarter_t, DL_2L_open_quarter_s)\n",
    "f3_ax3.grid()\n",
    "#PLOT L/4\n",
    "\n",
    "f3_ax4 = fig3.add_subplot(gs[2, 1], sharex = f3_ax2)\n",
    "f3_ax4.plot(DL_2L_open_half_t, DL_2L_open_half_s)\n",
    "f3_ax4.grid()\n",
    "#PLOT L/2\n",
    "\n",
    "f3_ax5 = fig3.add_subplot(gs[3, 1], sharex = f3_ax2)\n",
    "f3_ax5.plot(DL_2L_open_out_t, DL_2L_open_out_s)\n",
    "f3_ax5.grid()\n",
    "#PLOT L\n",
    "\n",
    "f3_ax2.get_shared_x_axes().join(f3_ax4, f3_ax2, f3_ax3, f3_ax5)\n",
    "plt.subplots_adjust(hspace=.0)\n",
    "\n",
    "yticks = f3_ax2.yaxis.get_major_ticks()\n",
    "yticks[-1].label1.set_visible(False)\n",
    "yticks = f3_ax3.yaxis.get_major_ticks()\n",
    "yticks[-1].label1.set_visible(False)\n",
    "yticks = f3_ax4.yaxis.get_major_ticks()\n",
    "yticks[-1].label1.set_visible(False)\n",
    "yticks = f3_ax5.yaxis.get_major_ticks()\n",
    "yticks[-1].label1.set_visible(False)"
   ]
  },
  {
   "cell_type": "markdown",
   "metadata": {
    "id": "MAFfx1svMGns"
   },
   "source": [
    "### Sine: $\\lambda = 2L$ - Shorted end"
   ]
  },
  {
   "cell_type": "code",
   "execution_count": null,
   "metadata": {
    "ExecuteTime": {
     "end_time": "2021-10-12T21:39:17.605098Z",
     "start_time": "2021-10-12T21:39:16.131246Z"
    },
    "id": "cesFPsXZMGnt"
   },
   "outputs": [],
   "source": []
  },
  {
   "cell_type": "markdown",
   "metadata": {
    "id": "cDcdD_cQMG59"
   },
   "source": [
    "### Sine: $\\lambda = 2L$ - Matched end"
   ]
  },
  {
   "cell_type": "code",
   "execution_count": null,
   "metadata": {
    "id": "GKI2Qx2PMG5-"
   },
   "outputs": [],
   "source": []
  },
  {
   "cell_type": "markdown",
   "metadata": {
    "id": "soTAiJMCMIqs"
   },
   "source": [
    "### Sine: $\\lambda = L$ - Open end"
   ]
  },
  {
   "cell_type": "code",
   "execution_count": null,
   "metadata": {
    "id": "alD4FZ_fMIqt"
   },
   "outputs": [],
   "source": []
  },
  {
   "cell_type": "markdown",
   "metadata": {
    "id": "6IsxqMFJMIyz"
   },
   "source": [
    "### Sine: $\\lambda = L$ - Shorted end"
   ]
  },
  {
   "cell_type": "code",
   "execution_count": null,
   "metadata": {
    "id": "0M5kkfdBMIy1"
   },
   "outputs": [],
   "source": []
  },
  {
   "cell_type": "markdown",
   "metadata": {
    "id": "Oh-FbeLqMI5i"
   },
   "source": [
    "### Sine: $\\lambda = L$ - Matched end"
   ]
  },
  {
   "cell_type": "code",
   "execution_count": null,
   "metadata": {
    "id": "jLhnVZzhMI5j"
   },
   "outputs": [],
   "source": []
  },
  {
   "cell_type": "markdown",
   "metadata": {
    "id": "ssyM4tPzL9K7"
   },
   "source": [
    "## Commit changes"
   ]
  },
  {
   "cell_type": "code",
   "execution_count": null,
   "metadata": {
    "id": "Aa2Qud14RQl3"
   },
   "outputs": [],
   "source": [
    "%cd /content/Electronics-2021-UNITO/\n",
    "!git pull\n",
    "!git add .\n",
    "!git commit -m \"Plots from data analysis\"\n",
    "!git push "
   ]
  },
  {
   "cell_type": "code",
   "execution_count": null,
   "metadata": {
    "id": "BeGD6zsNw3kA"
   },
   "outputs": [],
   "source": []
  }
 ],
 "metadata": {
  "colab": {
   "include_colab_link": true,
   "name": "4-Delay-line.ipynb",
   "provenance": []
  },
  "hide_input": false,
  "kernelspec": {
   "display_name": "Python 3",
   "language": "python",
   "name": "python3"
  },
  "latex_envs": {
   "LaTeX_envs_menu_present": true,
   "autoclose": false,
   "autocomplete": true,
   "bibliofile": "biblio.bib",
   "cite_by": "apalike",
   "current_citInitial": 1,
   "eqLabelWithNumbers": true,
   "eqNumInitial": 1,
   "hotkeys": {
    "equation": "Ctrl-E",
    "itemize": "Ctrl-I"
   },
   "labels_anchors": false,
   "latex_user_defs": false,
   "report_style_numbering": false,
   "user_envs_cfg": false
  },
  "toc": {
   "base_numbering": 1,
   "nav_menu": {},
   "number_sections": true,
   "sideBar": true,
   "skip_h1_title": false,
   "title_cell": "Table of Contents",
   "title_sidebar": "Contents",
   "toc_cell": false,
   "toc_position": {},
   "toc_section_display": true,
   "toc_window_display": false
  },
  "varInspector": {
   "cols": {
    "lenName": 16,
    "lenType": 16,
    "lenVar": 40
   },
   "kernels_config": {
    "python": {
     "delete_cmd_postfix": "",
     "delete_cmd_prefix": "del ",
     "library": "var_list.py",
     "varRefreshCmd": "print(var_dic_list())"
    },
    "r": {
     "delete_cmd_postfix": ") ",
     "delete_cmd_prefix": "rm(",
     "library": "var_list.r",
     "varRefreshCmd": "cat(var_dic_list()) "
    }
   },
   "types_to_exclude": [
    "module",
    "function",
    "builtin_function_or_method",
    "instance",
    "_Feature"
   ],
   "window_display": false
  }
 },
 "nbformat": 4,
 "nbformat_minor": 1
}
