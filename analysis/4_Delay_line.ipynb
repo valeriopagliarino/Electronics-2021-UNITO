{
  "nbformat": 4,
  "nbformat_minor": 0,
  "metadata": {
    "colab": {
      "name": "4-Delay-line.ipynb",
      "provenance": [],
      "include_colab_link": true
    },
    "hide_input": false,
    "kernelspec": {
      "display_name": "Python 3 (ipykernel)",
      "language": "python",
      "name": "python3"
    },
    "language_info": {
      "codemirror_mode": {
        "name": "ipython",
        "version": 3
      },
      "file_extension": ".py",
      "mimetype": "text/x-python",
      "name": "python",
      "nbconvert_exporter": "python",
      "pygments_lexer": "ipython3",
      "version": "3.9.7"
    },
    "latex_envs": {
      "LaTeX_envs_menu_present": true,
      "autoclose": false,
      "autocomplete": true,
      "bibliofile": "biblio.bib",
      "cite_by": "apalike",
      "current_citInitial": 1,
      "eqLabelWithNumbers": true,
      "eqNumInitial": 1,
      "hotkeys": {
        "equation": "Ctrl-E",
        "itemize": "Ctrl-I"
      },
      "labels_anchors": false,
      "latex_user_defs": false,
      "report_style_numbering": false,
      "user_envs_cfg": false
    },
    "toc": {
      "base_numbering": 1,
      "nav_menu": {},
      "number_sections": true,
      "sideBar": true,
      "skip_h1_title": false,
      "title_cell": "Table of Contents",
      "title_sidebar": "Contents",
      "toc_cell": false,
      "toc_position": {},
      "toc_section_display": true,
      "toc_window_display": false
    },
    "varInspector": {
      "cols": {
        "lenName": 16,
        "lenType": 16,
        "lenVar": 40
      },
      "kernels_config": {
        "python": {
          "delete_cmd_postfix": "",
          "delete_cmd_prefix": "del ",
          "library": "var_list.py",
          "varRefreshCmd": "print(var_dic_list())"
        },
        "r": {
          "delete_cmd_postfix": ") ",
          "delete_cmd_prefix": "rm(",
          "library": "var_list.r",
          "varRefreshCmd": "cat(var_dic_list()) "
        }
      },
      "types_to_exclude": [
        "module",
        "function",
        "builtin_function_or_method",
        "instance",
        "_Feature"
      ],
      "window_display": false
    }
  },
  "cells": [
    {
      "cell_type": "markdown",
      "metadata": {
        "id": "view-in-github",
        "colab_type": "text"
      },
      "source": [
        "<a href=\"https://colab.research.google.com/github/valeriopagliarino/Electronics-2021-UNITO/blob/main/analysis/4_Delay_line.ipynb\" target=\"_parent\"><img src=\"https://colab.research.google.com/assets/colab-badge.svg\" alt=\"Open In Colab\"/></a>"
      ]
    },
    {
      "cell_type": "markdown",
      "metadata": {
        "id": "rk5sh2cvGJOs"
      },
      "source": [
        "# Data analysis: delay line\n",
        "\n",
        "### October 11th 2021\n",
        "<p>\n",
        "Authors: <b> Stefano Barbero, Valerio Pagliarino, Matteo Barbagiovanni, Federico Malnati </b> <p>Electronics Laboratory 2021 - Department of Physics - University of Turin <p>\n",
        "Date: 11/10/2021\n"
      ]
    },
    {
      "cell_type": "markdown",
      "metadata": {
        "id": "I4JK4N0_URnB"
      },
      "source": [
        "## Configuration"
      ]
    },
    {
      "cell_type": "markdown",
      "metadata": {
        "id": "0bwsv0IJJrZp"
      },
      "source": [
        "### Clone the GIT"
      ]
    },
    {
      "cell_type": "code",
      "metadata": {
        "id": "EDuqpT5KFwX_"
      },
      "source": [
        "!rm -r ./sample_data\n",
        "import os\n",
        "from getpass import getpass\n",
        "user = input('GitHub user')\n",
        "mail = input('GitHub email')\n",
        "password = getpass('GitHub password')\n",
        "os.environ['GITHUB_AUTH'] = user + ':' + password\n",
        "!git clone https://$GITHUB_AUTH@github.com/valeriopagliarino/Electronics-2021-UNITO.git\n",
        "!git config --global user.email user\n",
        "!git config --global user.name mail"
      ],
      "execution_count": null,
      "outputs": []
    },
    {
      "cell_type": "markdown",
      "metadata": {
        "id": "w_hC9vVzGpSG"
      },
      "source": [
        "### Install environment"
      ]
    },
    {
      "cell_type": "code",
      "metadata": {
        "colab": {
          "base_uri": "https://localhost:8080/"
        },
        "id": "geqiHwACJuqv",
        "outputId": "50c610c5-4091-4bc6-90cf-00450e8ee8b7"
      },
      "source": [
        "exec(open(\"./Electronics-2021-UNITO/analysis/ROOT-config.py\").read())"
      ],
      "execution_count": null,
      "outputs": [
        {
          "output_type": "stream",
          "name": "stdout",
          "text": [
            "Start config for JupyROOT Env. on Google Coolab - It takes about 3 minutes\n",
            "WGET...\n",
            "Done.\n",
            "UNZIP...\n",
            "TAR...\n",
            "APT...\n",
            "Installation completed.\n",
            "Shared objects loaded.\n",
            "Welcome to JupyROOT 6.14/04\n",
            "Completed!\n"
          ]
        }
      ]
    },
    {
      "cell_type": "markdown",
      "metadata": {
        "id": "G0zBs0IVc6WK"
      },
      "source": [
        "### Importa moduli [no COLAB]"
      ]
    },
    {
      "cell_type": "code",
      "metadata": {
        "id": "M0wqcW3tc6WL"
      },
      "source": [
        "import numpy as np\n",
        "import scipy as sp\n",
        "import sympy as sy\n",
        "import pandas as pd\n",
        "\n",
        "from matplotlib import pyplot as plt\n",
        "\n",
        "from uncertainties import ufloat\n",
        "import uncertainties.umath\n",
        "\n",
        "import pickle\n",
        "\n",
        "import ROOT # Per COLAB importato da ROOT-config.py\n",
        "\n",
        "DATADIR = \"../data-source\"\n",
        "OUTPUTDIR = \"./output\""
      ],
      "execution_count": null,
      "outputs": []
    },
    {
      "cell_type": "markdown",
      "metadata": {
        "id": "-fz1JcVRdhWE"
      },
      "source": [
        "### Importa moduli [COLAB]"
      ]
    },
    {
      "cell_type": "code",
      "metadata": {
        "colab": {
          "base_uri": "https://localhost:8080/"
        },
        "id": "NyusFmEvdhWG",
        "outputId": "2690f589-b38c-4db7-d32b-3ecab198a8d3"
      },
      "source": [
        "%cd /content/\n",
        "!pip3 install uncertainties\n",
        "import numpy as np\n",
        "import scipy as sp\n",
        "import sympy as sy\n",
        "import pandas as pd\n",
        "\n",
        "from uncertainties import ufloat\n",
        "import uncertainties.umath\n",
        "from matplotlib import pyplot as plt\n",
        "import pickle#Pickle with dict of Numpy arrays\n",
        "\n",
        "# Variables for directories\n",
        "DATADIR = \"/content/Electronics-2021-UNITO/data-source\"\n",
        "OUTPUTDIR = \"/content/Electronics-2021-UNITO/analysis/output\""
      ],
      "execution_count": 3,
      "outputs": [
        {
          "output_type": "stream",
          "name": "stdout",
          "text": [
            "/content\n",
            "Collecting uncertainties\n",
            "  Downloading uncertainties-3.1.6-py2.py3-none-any.whl (98 kB)\n",
            "\u001b[K     |████████████████████████████████| 98 kB 7.0 MB/s \n",
            "\u001b[?25hRequirement already satisfied: future in /usr/local/lib/python3.7/dist-packages (from uncertainties) (0.16.0)\n",
            "Installing collected packages: uncertainties\n",
            "Successfully installed uncertainties-3.1.6\n"
          ]
        }
      ]
    },
    {
      "cell_type": "markdown",
      "metadata": {
        "id": "IPfUW7bngPvw"
      },
      "source": [
        "### Funzioni per l'importazione file Tektronix"
      ]
    },
    {
      "cell_type": "code",
      "metadata": {
        "id": "gxqxn84mgOAJ"
      },
      "source": [
        "import csv\n",
        "\n",
        "def cellFromCSV(path, row_index, col_index):\n",
        "  with open(path, 'r') as f:\n",
        "    mycsv = csv.reader(f)\n",
        "    column = []\n",
        "    for row in mycsv:\n",
        "        column.append(row[col_index])\n",
        "\n",
        "  return column[row_index]\n",
        "\n",
        "\n",
        "def openTek(path):\n",
        "  a = pd.read_table(path, header=None, sep=\",\", usecols=[3,4])\n",
        "  a = a.transpose()\n",
        "  a = a.rename(index={3: 'Time', 4: 'Amplitude'})\n",
        "  a = a.transpose()\n",
        "\n",
        "  data = {'Record lenght': cellFromCSV(path, 0, 1),\n",
        "          'Sample interval': cellFromCSV(path, 1, 1),\n",
        "          'Trigger point': cellFromCSV(path, 2, 1),\n",
        "          'Source': cellFromCSV(path, 6, 1),\n",
        "          'Vertical units': cellFromCSV(path, 7, 1),\n",
        "          'Vertical scale': cellFromCSV(path, 8, 1),\n",
        "          'Vertical offset': cellFromCSV(path, 9, 1),\n",
        "          'Horizontal units': cellFromCSV(path, 10, 1),\n",
        "          'Horizontal scale': cellFromCSV(path, 11, 1),\n",
        "          'Pt FMT': cellFromCSV(path, 12, 1),\n",
        "          'Y zero': cellFromCSV(path, 13, 1),\n",
        "          'Probe atten': cellFromCSV(path, 14, 1),\n",
        "          'Model': cellFromCSV(path, 15, 1),\n",
        "          'Serial': cellFromCSV(path, 16, 1),\n",
        "          'Firmware': cellFromCSV(path, 17, 1),\n",
        "          'Data' : a\n",
        "  }\n",
        "  return data"
      ],
      "execution_count": 4,
      "outputs": []
    },
    {
      "cell_type": "markdown",
      "metadata": {
        "id": "_VmwhGvFmGCP"
      },
      "source": [
        "## Delay line"
      ]
    },
    {
      "cell_type": "markdown",
      "metadata": {
        "id": "HQIJRbb1IWTE"
      },
      "source": [
        "### Single pulses"
      ]
    },
    {
      "cell_type": "code",
      "metadata": {
        "id": "1Bl9vOkgG7w5"
      },
      "source": [
        "DEL_shorted_pulse_2_ch1 = openTek(f'{DATADIR}/11-10-21/DL_shorted_pulse_2/F0004CH1.CSV')\n",
        "DEL_shorted_pulse_2_ch2 = openTek(f'{DATADIR}/11-10-21/DL_shorted_pulse_2/F0004CH2.CSV')\n",
        "DEL_matched_pulse_2_ch1 = openTek(f'{DATADIR}/11-10-21/DL_matched_pulse2/F0002CH1.CSV')\n",
        "DEL_matched_pulse_2_ch2 = openTek(f'{DATADIR}/11-10-21/DL_matched_pulse2/F0002CH2.CSV')\n",
        "DEL_open_pulse_2_ch1    = openTek(f'{DATADIR}/11-10-21/DL_open_pulse/F0000CH1.CSV')\n",
        "DEL_open_pulse_2_ch2    = openTek(f'{DATADIR}/11-10-21/DL_open_pulse/F0000CH2.CSV')"
      ],
      "execution_count": null,
      "outputs": []
    },
    {
      "cell_type": "code",
      "metadata": {
        "id": "z_bY4xPNIYfP"
      },
      "source": [
        "DEL_shorted_pulse_2_ch1_time = DEL_shorted_pulse_2_ch1['Data'].to_numpy().transpose()[0]\n",
        "DEL_shorted_pulse_2_ch1_sign = DEL_shorted_pulse_2_ch1['Data'].to_numpy().transpose()[1]\n",
        "DEL_shorted_pulse_2_ch2_time = DEL_shorted_pulse_2_ch1['Data'].to_numpy().transpose()[0]\n",
        "DEL_shorted_pulse_2_ch2_sign = DEL_shorted_pulse_2_ch1['Data'].to_numpy().transpose()[1]\n",
        "DEL_matched_pulse_2_ch1_time = DEL_matched_pulse_2_ch1['Data'].to_numpy().transpose()[0]\n",
        "DEL_matched_pulse_2_ch1_sign = DEL_matched_pulse_2_ch1['Data'].to_numpy().transpose()[1]\n",
        "DEL_matched_pulse_2_ch2_time = DEL_matched_pulse_2_ch2['Data'].to_numpy().transpose()[0]\n",
        "DEL_matched_pulse_2_ch2_sign = DEL_matched_pulse_2_ch2['Data'].to_numpy().transpose()[1]\n",
        "DEL_open_pulse_2_ch1_time    = DEL_open_pulse_2_ch1['Data'].to_numpy().transpose()[0]\n",
        "DEL_open_pulse_2_ch1_sign    = DEL_open_pulse_2_ch1['Data'].to_numpy().transpose()[1]\n",
        "DEL_open_pulse_2_ch2_time    = DEL_open_pulse_2_ch2['Data'].to_numpy().transpose()[0]\n",
        "DEL_open_pulse_2_ch2_sign    = DEL_open_pulse_2_ch2['Data'].to_numpy().transpose()[1]"
      ],
      "execution_count": null,
      "outputs": []
    },
    {
      "cell_type": "markdown",
      "metadata": {
        "id": "pU3i7Gb2L8XB"
      },
      "source": [
        "### Repetition of pulses"
      ]
    },
    {
      "cell_type": "code",
      "metadata": {
        "id": "yibUQ47WMAaF"
      },
      "source": [
        ""
      ],
      "execution_count": null,
      "outputs": []
    },
    {
      "cell_type": "markdown",
      "metadata": {
        "id": "vyu-oVItMAyf"
      },
      "source": [
        "### Sine: $\\lambda = 2L$ - Open end"
      ]
    },
    {
      "cell_type": "code",
      "metadata": {
        "id": "_MydRbsAMF2R",
        "outputId": "9eb3bb87-c899-4d9d-b925-a5a50154ef3f",
        "colab": {
          "base_uri": "https://localhost:8080/",
          "height": 299
        }
      },
      "source": [
        "(f'{DATADIR}/11-10-21/DL_open_pulse/F0000CH2.CSV')\n",
        "\n",
        "b=np.linspace(-np.pi, np.pi, 100)\n",
        "\n",
        "a1=np.sin(b)\n",
        "\n",
        "a2=np.cos(b)\n",
        "\n",
        "a3=a1*a2\n",
        "\n",
        "plt.subplot(421)\n",
        "plt.plot(b, a1)\n",
        "plt.title('sin(x)')\n",
        "\n",
        "plt.subplot(422)\n",
        "plt.plot(b, a2)\n",
        "plt.title('cos(x)')\n",
        "\n",
        "plt.subplot(423)\n",
        "plt.plot(b, a1)\n",
        "plt.title('sin(x)')\n",
        "\n",
        "plt.subplot(424)\n",
        "plt.plot(b, a2)\n",
        "plt.title('cos(x)')\n",
        "\n",
        "plt.subplot(121)\n",
        "plt.plot(b, a3)\n",
        "plt.title('sin(x)*cos(x)')"
      ],
      "execution_count": 110,
      "outputs": [
        {
          "output_type": "execute_result",
          "data": {
            "text/plain": [
              "Text(0.5, 1.0, 'sin(x)*cos(x)')"
            ]
          },
          "metadata": {},
          "execution_count": 110
        },
        {
          "output_type": "display_data",
          "data": {
            "image/png": "[encoded data removed]",
            "text/plain": [
              "<Figure size 432x288 with 3 Axes>"
            ]
          },
          "metadata": {
            "needs_background": "light"
          }
        }
      ]
    },
    {
      "cell_type": "markdown",
      "metadata": {
        "id": "MAFfx1svMGns"
      },
      "source": [
        "### Sine: $\\lambda = 2L$ - Shorted end"
      ]
    },
    {
      "cell_type": "code",
      "metadata": {
        "id": "cesFPsXZMGnt"
      },
      "source": [
        ""
      ],
      "execution_count": null,
      "outputs": []
    },
    {
      "cell_type": "markdown",
      "metadata": {
        "id": "cDcdD_cQMG59"
      },
      "source": [
        "### Sine: $\\lambda = 2L$ - Matched end"
      ]
    },
    {
      "cell_type": "code",
      "metadata": {
        "id": "GKI2Qx2PMG5-"
      },
      "source": [
        ""
      ],
      "execution_count": null,
      "outputs": []
    },
    {
      "cell_type": "markdown",
      "metadata": {
        "id": "soTAiJMCMIqs"
      },
      "source": [
        "### Sine: $\\lambda = L$ - Open end"
      ]
    },
    {
      "cell_type": "code",
      "metadata": {
        "id": "alD4FZ_fMIqt"
      },
      "source": [
        ""
      ],
      "execution_count": null,
      "outputs": []
    },
    {
      "cell_type": "markdown",
      "metadata": {
        "id": "6IsxqMFJMIyz"
      },
      "source": [
        "### Sine: $\\lambda = L$ - Shorted end"
      ]
    },
    {
      "cell_type": "code",
      "metadata": {
        "id": "0M5kkfdBMIy1"
      },
      "source": [
        ""
      ],
      "execution_count": null,
      "outputs": []
    },
    {
      "cell_type": "markdown",
      "metadata": {
        "id": "Oh-FbeLqMI5i"
      },
      "source": [
        "### Sine: $\\lambda = L$ - Matched end"
      ]
    },
    {
      "cell_type": "code",
      "metadata": {
        "id": "jLhnVZzhMI5j"
      },
      "source": [
        ""
      ],
      "execution_count": null,
      "outputs": []
    },
    {
      "cell_type": "markdown",
      "metadata": {
        "id": "ssyM4tPzL9K7"
      },
      "source": [
        "## Commit changes"
      ]
    },
    {
      "cell_type": "code",
      "metadata": {
        "id": "Aa2Qud14RQl3"
      },
      "source": [
        "%cd /content/Electronics-2021-UNITO/\n",
        "!git pull\n",
        "!git add .\n",
        "!git commit -m \"Plots from data analysis\"\n",
        "!git push "
      ],
      "execution_count": null,
      "outputs": []
    },
    {
      "cell_type": "code",
      "metadata": {
        "id": "BeGD6zsNw3kA"
      },
      "source": [
        ""
      ],
      "execution_count": null,
      "outputs": []
    }
  ]
}