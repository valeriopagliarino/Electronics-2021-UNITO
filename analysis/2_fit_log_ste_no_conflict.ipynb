{
 "cells": [
  {
   "cell_type": "markdown",
   "id": "a07eb309",
   "metadata": {},
   "source": [
    "# Fit Log"
   ]
  },
  {
   "cell_type": "code",
   "execution_count": 1,
   "id": "a7105272",
   "metadata": {},
   "outputs": [
    {
     "name": "stdout",
     "output_type": "stream",
     "text": [
      "Welcome to JupyROOT 6.24/06\n"
     ]
    }
   ],
   "source": [
    "import pandas as pd\n",
    "from utilities import * # My functions: pair_dat_err, uncertainties_to_root_graph_errors\n",
    "from uncertainties import umath\n",
    "import ROOT\n",
    "\n",
    "DATADIR = \"../data-source\"\n",
    "OUTPUTDIR = \"./output\""
   ]
  },
  {
   "cell_type": "markdown",
   "id": "39d96a89",
   "metadata": {},
   "source": []
  },
  {
   "cell_type": "markdown",
   "id": "bed1c419",
   "metadata": {},
   "source": [
    "### Read DataFrames"
   ]
  },
  {
   "cell_type": "code",
   "execution_count": 46,
   "id": "3122a2b1",
   "metadata": {},
   "outputs": [
    {
     "data": {
      "text/plain": [
       "(    Vin [V]  Vout [V]\n",
       " 0     0.568    -0.548\n",
       " 1     0.880    -0.564\n",
       " 2     1.099    -0.577\n",
       " 3     1.377    -0.586\n",
       " 4     1.642    -0.596\n",
       " 5     2.047    -0.605\n",
       " 6     2.498    -0.613\n",
       " 7     3.035    -0.620\n",
       " 8     3.664    -0.627\n",
       " 9     4.080    -0.630\n",
       " 10    4.620    -0.635\n",
       " 11    5.120    -0.638\n",
       " 12    5.640    -0.641\n",
       " 13    6.240    -0.645\n",
       " 14    7.020    -0.648\n",
       " 15    7.760    -0.649\n",
       " 16    8.480    -0.652\n",
       " 17    9.310    -0.653\n",
       " 18   10.090    -0.657\n",
       " 19   12.310    -0.659,\n",
       "      Vin [V]  Vout [V]\n",
       " 0   0.003840  0.003740\n",
       " 1   0.005400  0.003820\n",
       " 2   0.006495  0.003885\n",
       " 3   0.007885  0.003930\n",
       " 4   0.009210  0.003980\n",
       " 5   0.011235  0.004025\n",
       " 6   0.013490  0.004065\n",
       " 7   0.016175  0.004100\n",
       " 8   0.019320  0.004135\n",
       " 9   0.021400  0.004150\n",
       " 10  0.033100  0.013175\n",
       " 11  0.035600  0.013190\n",
       " 12  0.038200  0.013205\n",
       " 13  0.041200  0.013225\n",
       " 14  0.045100  0.013240\n",
       " 15  0.048800  0.013245\n",
       " 16  0.052400  0.013260\n",
       " 17  0.056550  0.013265\n",
       " 18  0.060450  0.013285\n",
       " 19  0.071550  0.013295)"
      ]
     },
     "execution_count": 46,
     "metadata": {},
     "output_type": "execute_result"
    }
   ],
   "source": [
    "df_data = pd.read_csv(f\"{DATADIR}/5-10-21/logaritmico/data.csv\")\n",
    "\n",
    "df_errors = abs(.5/100. * df_data) # 0.5 %\n",
    "df_errors[:10] += 0.001 # 1dgt\n",
    "df_errors[10:] += 0.01 # 1dgt\n",
    "df_data, df_errors"
   ]
  },
  {
   "cell_type": "markdown",
   "id": "1399ebc4",
   "metadata": {},
   "source": [
    "### Convert to arrays of uncertainties"
   ]
  },
  {
   "cell_type": "code",
   "execution_count": 47,
   "id": "6c0b82bc",
   "metadata": {},
   "outputs": [],
   "source": [
    "Vin_arr = pair_dat_err(df_data['Vin [V]'], df_errors['Vin [V]'])\n",
    "Vout_arr = pair_dat_err(df_data['Vout [V]'], df_errors['Vout [V]'])"
   ]
  },
  {
   "cell_type": "markdown",
   "id": "f4322ced",
   "metadata": {},
   "source": [
    "### Canvas"
   ]
  },
  {
   "cell_type": "code",
   "execution_count": 48,
   "id": "83642fed",
   "metadata": {},
   "outputs": [
    {
     "name": "stderr",
     "output_type": "stream",
     "text": [
      "Warning in <TCanvas::Constructor>: Deleting canvas with same name: c1\n"
     ]
    }
   ],
   "source": [
    "canvas = ROOT.TCanvas(\"c1\", \"log fit 1\", 1000, 500)\n",
    "\n",
    "#canvas.SetLogx(True)"
   ]
  },
  {
   "cell_type": "markdown",
   "id": "a97b8c8a",
   "metadata": {},
   "source": [
    "### GraphErrors"
   ]
  },
  {
   "cell_type": "code",
   "execution_count": 49,
   "id": "04698d8e",
   "metadata": {},
   "outputs": [],
   "source": [
    "fit_log_graph_err = uncertainties_to_root_graph_errors(Vin_arr[:-4], Vout_arr[:-4])\n",
    "\n",
    "fit_log_graph_err.SetTitle(\"Amplificatore in configurazione logaritmica invertente\")\n",
    "fit_log_graph_err.GetXaxis().SetTitle(\"Vin [V]\")\n",
    "fit_log_graph_err.GetYaxis().SetTitle(\"Vout [V]\")\n",
    "fit_log_graph_err.SetMarkerStyle(21)\n",
    "fit_log_graph_err.SetMarkerSize(0.4)"
   ]
  },
  {
   "cell_type": "markdown",
   "id": "a81fdcde",
   "metadata": {},
   "source": [
    "### Fit [TODO]"
   ]
  },
  {
   "cell_type": "code",
   "execution_count": 58,
   "id": "9830d493",
   "metadata": {},
   "outputs": [],
   "source": [
    "R = ufloat(1995, 19.951)\n",
    "#function_formula = \"- 2 * [0] * log(x / (1995 * [1]))\"\n",
    "function_formula = \"-0.575 - 2 * [0] * log(x)\"\n",
    "#function_formula = \"- 2 * [0] * log(x / (2015 * [1]))\"\n",
    "fit_f = ROOT.TF1(\"fit1\", function_formula)"
   ]
  },
  {
   "cell_type": "code",
   "execution_count": 59,
   "id": "0a7aea3d",
   "metadata": {},
   "outputs": [],
   "source": [
    "fit_f.SetLineColor(4)"
   ]
  },
  {
   "cell_type": "code",
   "execution_count": 60,
   "id": "c46f745d",
   "metadata": {},
   "outputs": [],
   "source": [
    "fit_f.SetParName(0, \"V_{T}\")\n",
    "fit_f.SetParName(1, \"I_{0}\")\n",
    "fit_f.SetParameter(0, 0.026)\n",
    "#fit_f.SetParameter(1, 1e-6)\n",
    "#fit_f.SetParLimits(0, 0.025, 0.027)\n",
    "ROOT.gStyle.SetOptFit(True)"
   ]
  },
  {
   "cell_type": "markdown",
   "id": "f8c1ac03",
   "metadata": {},
   "source": [
    "### Draw"
   ]
  },
  {
   "cell_type": "code",
   "execution_count": 61,
   "id": "159480b2",
   "metadata": {},
   "outputs": [
    {
     "name": "stdout",
     "output_type": "stream",
     "text": [
      " FCN=5.21903 FROM MINOS     STATUS=SUCCESSFUL      2 CALLS          30 TOTAL\n",
      "                     EDM=7.29162e-09    STRATEGY= 1      ERROR MATRIX ACCURATE \n",
      "  EXT PARAMETER                                   STEP         FIRST   \n",
      "  NO.   NAME      VALUE            ERROR          SIZE      DERIVATIVE \n",
      "   1  V_{T}        2.00453e-02   6.89740e-04   6.89740e-04   1.75082e-01\n"
     ]
    },
    {
     "name": "stderr",
     "output_type": "stream",
     "text": [
      "Info in <TCanvas::Print>: pdf file ./output/fit_log_vout_vin.pdf has been created\n"
     ]
    },
    {
     "data": {
      "image/png": "[encoded data removed]",
      "text/plain": [
       "<IPython.core.display.Image object>"
      ]
     },
     "metadata": {},
     "output_type": "display_data"
    }
   ],
   "source": [
    "canvas.Draw()\n",
    "fit_log_graph_err.Draw()\n",
    "fit_log_graph_err.Fit(fit_f, \"MSE\")\n",
    "canvas.SaveAs(f\"{OUTPUTDIR}/fit_log_vout_vin.pdf\")"
   ]
  },
  {
   "cell_type": "code",
   "execution_count": 66,
   "id": "72ae1829",
   "metadata": {},
   "outputs": [
    {
     "data": {
      "text/plain": [
       "-8.633304402314131"
      ]
     },
     "execution_count": 66,
     "metadata": {},
     "output_type": "execute_result"
    }
   ],
   "source": [
    "V_t = fit_f.GetParameter(0)\n",
    "V_t_error = fit_f.GetParError(0)\n",
    "V_t_exp = 0.026\n",
    "\n",
    "(V_t - V_t_exp)/V_t_error"
   ]
  },
  {
   "cell_type": "code",
   "execution_count": 67,
   "id": "6f13e865",
   "metadata": {},
   "outputs": [
    {
     "data": {
      "text/plain": [
       "-40.856854772112655"
      ]
     },
     "execution_count": 67,
     "metadata": {},
     "output_type": "execute_result"
    }
   ],
   "source": [
    "k_b = 8.3145/6.022e23\n",
    "q = 1.6e-19\n",
    "T = V_t * q / k_b - 273.15\n",
    "T"
   ]
  },
  {
   "cell_type": "code",
   "execution_count": 77,
   "id": "0240ec90",
   "metadata": {},
   "outputs": [],
   "source": [
    "V_T = ufloat(fit_f.GetParameter(0), fit_f.GetParError(0))\n",
    "R = ufloat(1995, 19,951)\n",
    "k = ufloat(-0.575, 0.001)"
   ]
  },
  {
   "cell_type": "code",
   "execution_count": 79,
   "id": "30c2e35a",
   "metadata": {},
   "outputs": [
    {
     "data": {
      "text/plain": [
       "2.959180063026494e-10+/-1.4625330864197685e-10"
      ]
     },
     "execution_count": 79,
     "metadata": {},
     "output_type": "execute_result"
    }
   ],
   "source": [
    "from uncertainties.umath import exp as uexp\n",
    "I_0 = uexp(k / (2 * V_T)) / R\n",
    "I_0"
   ]
  },
  {
   "cell_type": "code",
   "execution_count": null,
   "id": "96fae8ba",
   "metadata": {},
   "outputs": [],
   "source": []
  },
  {
   "cell_type": "code",
   "execution_count": null,
   "id": "ea08c8fb",
   "metadata": {},
   "outputs": [],
   "source": []
  },
  {
   "cell_type": "code",
   "execution_count": null,
   "id": "32fcd130",
   "metadata": {},
   "outputs": [],
   "source": []
  }
 ],
 "metadata": {
  "kernelspec": {
   "display_name": "Python 3 (ipykernel)",
   "language": "python",
   "name": "python3"
  },
  "language_info": {
   "codemirror_mode": {
    "name": "ipython",
    "version": 3
   },
   "file_extension": ".py",
   "mimetype": "text/x-python",
   "name": "python",
   "nbconvert_exporter": "python",
   "pygments_lexer": "ipython3",
   "version": "3.9.7"
  }
 },
 "nbformat": 4,
 "nbformat_minor": 5
}
