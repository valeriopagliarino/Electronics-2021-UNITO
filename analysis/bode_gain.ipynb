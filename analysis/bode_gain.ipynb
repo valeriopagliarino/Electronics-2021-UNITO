{
 "cells": [
  {
   "cell_type": "markdown",
   "id": "69424609",
   "metadata": {},
   "source": [
    "# Bode plot for inverting OPA [gain 1] and [gain 10]"
   ]
  },
  {
   "cell_type": "code",
   "execution_count": 528,
   "id": "f9e74d3d",
   "metadata": {},
   "outputs": [],
   "source": [
    "import pandas as pd\n",
    "from utilities import * # My functions: pair_dat_err, uncertainties_to_root_graph_errors\n",
    "from uncertainties import umath\n",
    "import ROOT\n",
    "import numpy as np\n",
    "import scipy.signal as signal\n",
    "import matplotlib.pyplot as plt\n",
    "\n",
    "DATADIR = \"../data-source\"\n",
    "OUTPUTDIR = \"./output\""
   ]
  },
  {
   "cell_type": "markdown",
   "id": "6a74534a",
   "metadata": {},
   "source": [
    "# Gain 2"
   ]
  },
  {
   "cell_type": "markdown",
   "id": "b9867c14",
   "metadata": {},
   "source": [
    "### Read DataFrames"
   ]
  },
  {
   "cell_type": "code",
   "execution_count": 624,
   "id": "25ab4253",
   "metadata": {},
   "outputs": [],
   "source": [
    "df_data = pd.read_csv(\"../data-source/4-10-21/inverting_gain/inverting_gain_1_data.csv\")\n",
    "df_errors = pd.read_csv(\"../data-source/4-10-21/inverting_gain/inverting_gain_1_errors.csv\")"
   ]
  },
  {
   "cell_type": "markdown",
   "id": "6571a176",
   "metadata": {},
   "source": [
    "### Convert to arrays of uncertainties"
   ]
  },
  {
   "cell_type": "code",
   "execution_count": 625,
   "id": "0eb7d881",
   "metadata": {},
   "outputs": [],
   "source": [
    "index=[28,29]\n",
    "df_errors_n = df_errors.drop(index)\n",
    "df_data_n = df_data.drop(index)\n",
    "f_arr = pair_dat_err(df_data_n['f'], df_errors_n['f'])\n",
    "ppch1_arr = pair_dat_err(df_data_n['PPch1'], df_errors_n['PPch1'])\n",
    "ppch2_arr = pair_dat_err(df_data_n['PPch2'], df_errors_n['PPch2'])"
   ]
  },
  {
   "cell_type": "markdown",
   "id": "761ca969",
   "metadata": {},
   "source": [
    "### Calculate Gain"
   ]
  },
  {
   "cell_type": "code",
   "execution_count": 626,
   "id": "870d4257",
   "metadata": {},
   "outputs": [],
   "source": [
    "gains_arr = ppch2_arr / ppch1_arr\n",
    "db_gains_arr = list(map(lambda x: 20 * umath.log(x), gains_arr))\n"
   ]
  },
  {
   "cell_type": "markdown",
   "id": "f22d318c",
   "metadata": {},
   "source": [
    "### Canvas"
   ]
  },
  {
   "cell_type": "code",
   "execution_count": 627,
   "id": "33de17e2",
   "metadata": {},
   "outputs": [],
   "source": [
    "canvas = ROOT.TCanvas(\"c1\", \"bode gain 1\", 1000, 500)\n",
    "\n",
    "canvas.SetLogx(True)"
   ]
  },
  {
   "cell_type": "markdown",
   "id": "47a39b96",
   "metadata": {},
   "source": [
    "### GraphErrors"
   ]
  },
  {
   "cell_type": "code",
   "execution_count": 628,
   "id": "111a8f3d",
   "metadata": {},
   "outputs": [],
   "source": [
    "#bode_graph_err = uncertainties_to_root_graph_errors(f_arr, gains_arr)\n",
    "bode_graph_err = uncertainties_to_root_graph_errors(f_arr, db_gains_arr)\n",
    "\n",
    "bode_graph_err.SetTitle(\"Bode Gain 1\")\n",
    "bode_graph_err.GetXaxis().SetTitle(\"f [Hz]\")\n",
    "bode_graph_err.GetYaxis().SetTitle(\"G [dB]\")\n",
    "bode_graph_err.SetMarkerStyle(21)\n",
    "bode_graph_err.SetMarkerSize(0.4)"
   ]
  },
  {
   "cell_type": "markdown",
   "id": "6559639e",
   "metadata": {},
   "source": [
    "### Fit [TODO]"
   ]
  },
  {
   "cell_type": "code",
   "execution_count": 629,
   "id": "cccd0e08",
   "metadata": {},
   "outputs": [],
   "source": [
    "#function = \"1/[0]*(1-1/[0]*exp(x/[0]))\"\n",
    "\n"
   ]
  },
  {
   "cell_type": "code",
   "execution_count": 630,
   "id": "abf11b12",
   "metadata": {},
   "outputs": [],
   "source": [
    "function = \"[1]*(1/sqrt(1+pow(x/[0],2))-1)\"\n",
    "fit_f = ROOT.TF1(\"fit1\", function)\n",
    "###parameter per low pass filter\n",
    "fit_f.SetParName(0, \"Gain\")\n",
    "fit_f.SetParameter(0, 2.1*10**6)\n",
    "fit_f.SetParName(1, \"Tau\")\n",
    "fit_f.SetParLimits(0,10**6,4*10**6)\n",
    "fit_f.SetParLimits(1,40,500)"
   ]
  },
  {
   "cell_type": "code",
   "execution_count": 631,
   "id": "755f7f18",
   "metadata": {},
   "outputs": [],
   "source": [
    "function = \"-[1]/[0]*exp(x/[0])\"\n",
    "fit_f = ROOT.TF1(\"fit1\", function)\n",
    "###parameter per low pass filter\n",
    "#fit_f.SetParName(0, \"pole\")\n",
    "#fit_f.SetParameter(0, 10**4)\n",
    "#fit_f.SetParameter(1, 10**3)\n",
    "\n",
    "#fit_f.SetParLimits(0,10**4,4*10**4)\n",
    "fit_f.SetParLimits(1,1,10**3)"
   ]
  },
  {
   "cell_type": "code",
   "execution_count": 632,
   "id": "ddf8e4c6",
   "metadata": {},
   "outputs": [],
   "source": [
    "\n",
    "fit_f.SetLineColor(4)"
   ]
  },
  {
   "cell_type": "markdown",
   "id": "54e8f1f8",
   "metadata": {},
   "source": [
    "### Draw"
   ]
  },
  {
   "cell_type": "code",
   "execution_count": 633,
   "id": "06a49d00",
   "metadata": {},
   "outputs": [
    {
     "data": {
      "text/plain": [
       "<cppyy.gbl.TFitResultPtr object at 0x99fe4f0>"
      ]
     },
     "execution_count": 633,
     "metadata": {},
     "output_type": "execute_result"
    },
    {
     "name": "stdout",
     "output_type": "stream",
     "text": [
      " FCN=1762.49 FROM MIGRAD    STATUS=FAILED        102 CALLS         103 TOTAL\n",
      "                     EDM=-nan    STRATEGY= 1  ERROR MATRIX UNCERTAINTY 100.0 per cent\n",
      "  EXT PARAMETER                APPROXIMATE        STEP         FIRST   \n",
      "  NO.   NAME      VALUE            ERROR          SIZE      DERIVATIVE \n",
      "   1  p0          -3.00000e-03   0.00000e+00          -nan           inf\n",
      "   2  p1           5.00500e+02   7.46195e+02          -nan   0.00000e+00\n"
     ]
    },
    {
     "name": "stderr",
     "output_type": "stream",
     "text": [
      "Info in <ROOT::Math::ParameterSettings>: lower/upper bounds outside current parameter value. The value will be set to (low+up)/2 \n",
      "Warning in <Fit>: Abnormal termination of minimization.\n"
     ]
    },
    {
     "data": {
      "image/png": "[encoded data removed]",
      "text/plain": [
       "<IPython.core.display.Image object>"
      ]
     },
     "metadata": {},
     "output_type": "display_data"
    }
   ],
   "source": [
    "canvas.Draw()\n",
    "bode_graph_err.Draw()\n",
    "bode_graph_err.Fit(fit_f, \"MSE\")"
   ]
  },
  {
   "cell_type": "code",
   "execution_count": 634,
   "id": "af9b2567",
   "metadata": {},
   "outputs": [
    {
     "data": {
      "text/plain": [
       "<cppyy.gbl.TFitResultPtr object at 0x9863310>"
      ]
     },
     "execution_count": 634,
     "metadata": {},
     "output_type": "execute_result"
    },
    {
     "name": "stdout",
     "output_type": "stream",
     "text": [
      " FCN=4459.37 FROM MINOS     STATUS=SUCCESSFUL      4 CALLS          82 TOTAL\n",
      "                     EDM=7.10316e-10    STRATEGY= 1      ERROR MATRIX ACCURATE \n",
      "  EXT PARAMETER                                   STEP         FIRST   \n",
      "  NO.   NAME      VALUE            ERROR          SIZE      DERIVATIVE \n",
      "   1  1st pole     8.49223e+03   2.59440e+01   2.59440e+01  -1.45279e-06\n"
     ]
    },
    {
     "name": "stderr",
     "output_type": "stream",
     "text": [
      "Warning in <TCanvas::Constructor>: Deleting canvas with same name: c1\n"
     ]
    },
    {
     "data": {
      "image/png": "[encoded data removed]",
      "text/plain": [
       "<IPython.core.display.Image object>"
      ]
     },
     "metadata": {},
     "output_type": "display_data"
    }
   ],
   "source": [
    "###fit Bode\n",
    "from uncertainties import umath\n",
    "\n",
    "canvas = ROOT.TCanvas(\"c1\", \"Bode Gain \", 700, 400)\n",
    "canvas.SetLogx(True)\n",
    "\n",
    "fit_bode_graph_err = uncertainties_to_root_graph_errors(f_arr, db_gains_arr)\n",
    "fit_bode_graph_err.SetTitle(\"Bode Gain\")\n",
    "fit_bode_graph_err.GetXaxis().SetTitle(\"f [Hz]\")\n",
    "fit_bode_graph_err.GetYaxis().SetTitle(\"Gain [Db]\")\n",
    "fit_bode_graph_err.SetMarkerStyle(21)\n",
    "fit_bode_graph_err.SetMarkerSize(0.4)\n",
    "\n",
    "function_formula = \"-1/[0]*exp(x/[0])\"\n",
    "fit_f = ROOT.TF1(\"fit1\", function_formula)\n",
    "fit_f.SetLineColor(4)\n",
    "fit_f.SetParameter(0, 10**4)\n",
    "fit_f.SetParName(0, \"1st pole\")\n",
    "ROOT.gStyle.SetOptFit(True)\n",
    "\n",
    "canvas.Draw()\n",
    "fit_bode_graph_err.Draw(\"ap\")\n",
    "fit_bode_graph_err.Fit(fit_f, \"MSE\")"
   ]
  },
  {
   "cell_type": "code",
   "execution_count": 635,
   "id": "40d38212",
   "metadata": {},
   "outputs": [],
   "source": [
    "###prova scipy"
   ]
  },
  {
   "cell_type": "code",
   "execution_count": 636,
   "id": "c6f5d710",
   "metadata": {},
   "outputs": [],
   "source": [
    "ppch1_Arr = df_data_n['PPch1']\n",
    "ppch2_Arr = df_data_n['PPch2']\n",
    "gain_Arr = ppch2_Arr/ppch1_Arr\n",
    "db_gain_Arr = list(map(lambda x: 20 * umath.log(x), gain_Arr))\n",
    "#gain_Arr_errors = ((df_errors_n['PPch2']/ppch1_Arr)**2 + (ppch2_Arr/(ppch1_Arr)**2*df_errors_n['PPch1'])**2)  \n",
    "#db_gain_Arr_errors = list(map(lambda x: 20 * umath.log(x), gain_Arr_errors))  \n",
    "db_gain_Arr_errors = [0.03684758954264483,\n",
    "       0.039283710065919304,\n",
    "       0.03835133389809924,\n",
    "       0.03914754592788334,\n",
    "       0.03901186037067261,\n",
    "       0.03901186037067261,\n",
    "       0.03997751897888523,\n",
    "       0.03997751897888523,\n",
    "       0.039837001756988594,\n",
    "       0.03955745430931493,\n",
    "       0.03769900245103452,\n",
    "       0.037049877943686936,\n",
    "       0.03605169119015721,\n",
    "       0.034530093684402983,\n",
    "       0.03374667600547776,\n",
    "       0.03278928198188431,\n",
    "       0.03198910465357108,\n",
    "       0.03133121936398775,\n",
    "       0.03056472037572376,\n",
    "       0.029797429860808376,\n",
    "       0.02884568700100156,\n",
    "       0.02824879639382313,\n",
    "       0.028320177622922913,\n",
    "       0.027958978045571105,\n",
    "       0.02774748964548574,\n",
    "       0.027728198334187222,\n",
    "       0.02748193286061937,\n",
    "       0.02756128649688445]\n"
   ]
  },
  {
   "cell_type": "code",
   "execution_count": 639,
   "id": "f0102fae",
   "metadata": {},
   "outputs": [
    {
     "name": "stdout",
     "output_type": "stream",
     "text": [
      "H(s) = TransferFunctionContinuous(\n",
      "array([6.36315856e+17]),\n",
      "array([1.000e+00, 2.950e+06, 2.565e+12, 6.480e+17]),\n",
      "dt: None\n",
      ")\n"
     ]
    },
    {
     "data": {
      "image/png": "[encoded data removed]",
      "text/plain": [
       "<Figure size 720x1152 with 2 Axes>"
      ]
     },
     "metadata": {
      "needs_background": "light"
     },
     "output_type": "display_data"
    },
    {
     "data": {
      "text/plain": [
       "<Figure size 432x288 with 0 Axes>"
      ]
     },
     "metadata": {},
     "output_type": "display_data"
    }
   ],
   "source": [
    "k=11.15**17\n",
    "a=4.5*10**5\n",
    "b=.9*10**6\n",
    "c=1.6*10**6\n",
    "num = np.array([k]) #zeros(increase 20 db)\n",
    "den = np.array([1,a+b+c,a*b+c*a+c*b,a*b*c]) #poles (decreases 20 db) [1,a+b+c,ab+ca+cb,abc]  (as+1)(bs+1)(cs+1)=(1+(a+b)s+abs^2)(cs+1)=(1+(a+b+c)s+(ab+c(a+b))s^2+abcs^3)\n",
    "H = signal.TransferFunction(num, den)\n",
    "print ('H(s) =', H)\n",
    "f, mag, phase = H.bode(df_data_n['f']) \n",
    "\n",
    "plt.figure(figsize=((10,16)))\n",
    "\n",
    "\n",
    "ax1 = plt.subplot(211)\n",
    "plt.semilogx(f, mag) # Magnitude Plot\n",
    "plt.title('Bode Plots OPA (Gain 2)',fontsize=20)\n",
    "plt.ylabel('Magnitude',fontsize=15)\n",
    "\n",
    "plt.grid()\n",
    "plt.errorbar( df_data_n['f'],db_gain_Arr ,xerr = df_errors_n['f'],yerr = db_gain_Arr_errors, fmt='o', color='Black', elinewidth=3,capthick=0.5,errorevery=1, alpha=1, ms=0, capsize = 5)\n",
    "plt.setp(ax1.get_xticklabels(), visible=False)\n",
    "\n",
    "plt.subplot(212, sharex = ax1)\n",
    "plt.ylabel('Phase',fontsize=15)\n",
    "plt.xlabel('f [Hz]',fontsize=15)\n",
    "plt.semilogx(f, phase)\n",
    "plt.grid()\n",
    "\n",
    "\n",
    "plt.show()\n",
    "\n",
    "\n",
    "plt.savefig(f\"{OUTPUTDIR}/OPA-bode_gain2(mag+phase).pdf\")\n",
    "\n"
   ]
  },
  {
   "cell_type": "code",
   "execution_count": 640,
   "id": "4ef9ed33",
   "metadata": {},
   "outputs": [
    {
     "data": {
      "text/plain": [
       "array([ 0.5154191 , -0.15804521, -0.02152591, -0.01867189,  0.12167785,\n",
       "        0.12165113, -0.2986532 , -0.30124657, -0.22895614, -0.15391149,\n",
       "       -0.09052652, -0.17870179, -0.27877763,  0.07930223, -0.17053206,\n",
       "        0.07199382,  0.27797215,  0.43120478,  0.58694545,  0.51311385,\n",
       "        0.22368613,  0.44869543, -0.28642698, -0.59509529, -0.77851713,\n",
       "       -1.51072777, -1.85423024, -2.24129551])"
      ]
     },
     "execution_count": 640,
     "metadata": {},
     "output_type": "execute_result"
    }
   ],
   "source": [
    "mag-db_gain_Arr"
   ]
  },
  {
   "cell_type": "code",
   "execution_count": 642,
   "id": "a2397e3f",
   "metadata": {},
   "outputs": [
    {
     "data": {
      "image/png": "[encoded data removed]",
      "text/plain": [
       "<Figure size 720x1152 with 1 Axes>"
      ]
     },
     "metadata": {
      "needs_background": "light"
     },
     "output_type": "display_data"
    }
   ],
   "source": [
    "plt.figure(figsize=((10,16)))\n",
    "\n",
    "fH_1 = 1200000\n",
    "\n",
    "ax1 = plt.subplot(211)\n",
    "plt.semilogx(f, mag) # Magnitude Plot\n",
    "plt.title('Bode Plot OPA (Gain 2)',fontsize=20)\n",
    "plt.ylabel('Magnitude',fontsize=15)\n",
    "plt.xlabel('f [Hz]',fontsize=15)\n",
    "plt.grid()\n",
    "plt.errorbar( df_data_n['f'],db_gain_Arr ,xerr = df_errors_n['f'],yerr = db_gain_Arr_errors, fmt='o', color='Black', elinewidth=3,capthick=0.5,errorevery=1, alpha=1, ms=0, capsize = 5)\n",
    "plt.vlines(fL, mag[27],  mag[0], linestyles=\"--\", color = \"red\")\n",
    "plt.text(fL+100000, -45, 'H.F',\n",
    "        verticalalignment='top', horizontalalignment='left',\n",
    "        color='red', fontsize=15)\n",
    "\n",
    "plt.savefig(f\"{OUTPUTDIR}/OPA-bode_gain2(mag).pdf\")\n",
    "\n",
    "\n",
    "\n",
    "\n"
   ]
  },
  {
   "cell_type": "code",
   "execution_count": 643,
   "id": "a5222951",
   "metadata": {},
   "outputs": [
    {
     "data": {
      "text/plain": [
       "array([46.30360829, 46.30360829, 46.30360829, 46.30360822, 46.30360651,\n",
       "       46.30357979, 46.30335176, 46.30075838, 46.23269736, 46.02404931,\n",
       "       45.24406825, 44.09896587, 42.72862192, 41.23880072, 39.69819601,\n",
       "       38.14847872, 36.61422951, 35.10970894, 33.64297183, 30.83762954,\n",
       "       26.96035322, 24.58602907, 21.30954203, 19.29584767, 16.50002219,\n",
       "       12.34978174,  5.49783126,  0.        ])"
      ]
     },
     "execution_count": 643,
     "metadata": {},
     "output_type": "execute_result"
    }
   ],
   "source": [
    "###Calcolo band width\n",
    "mag_BW = mag - mag[27]\n",
    "mag_BW\n",
    "#f[18]\n",
    "#print(np.where(mag_BW>(mag_BW[0]/umath.sqrt(2)-0.5) and mag_BW>(mag_BW[0]/umath.sqrt(2)+0.5) ))\n",
    "#print(np.where(mag_BW==45.60653209996797))\n",
    "#f[np.where(mag_BW==45.60653209996797)]"
   ]
  },
  {
   "cell_type": "code",
   "execution_count": 644,
   "id": "04c10cac",
   "metadata": {},
   "outputs": [
    {
     "data": {
      "text/plain": [
       "1200000"
      ]
     },
     "execution_count": 644,
     "metadata": {},
     "output_type": "execute_result"
    }
   ],
   "source": [
    "46.3/np.sqrt(2)\n",
    "mag_BW[19]\n",
    "f[19]"
   ]
  },
  {
   "cell_type": "code",
   "execution_count": 645,
   "id": "a78282c2",
   "metadata": {},
   "outputs": [],
   "source": [
    "###how to get bode plot\n",
    "\n",
    "#num = np.array([1]) #zeros(increase 20 db)\n",
    "#den = np.array([1/10**6,1]) #poles (decreases 20 db)\n",
    "#H = signal.TransferFunction(num, den)\n",
    "#print ('H(s) =', H)\n",
    "#f, mag, phase = signal.bode(H)\n",
    "#plt.figure()\n",
    "#plt.semilogx(f, mag) # Magnitude Plot\n",
    "#plt.grid()\n",
    "#plt.figure()\n",
    "#plt.semilogx(f, phase) # Phase plot\n",
    "#plt.show()\n",
    "#len(f)"
   ]
  },
  {
   "cell_type": "markdown",
   "id": "e653ab08",
   "metadata": {},
   "source": [
    "# Gain 10"
   ]
  },
  {
   "cell_type": "code",
   "execution_count": 646,
   "id": "2098d3af",
   "metadata": {},
   "outputs": [
    {
     "data": {
      "text/plain": [
       "29"
      ]
     },
     "execution_count": 646,
     "metadata": {},
     "output_type": "execute_result"
    }
   ],
   "source": [
    "df_data = pd.read_csv(\"../data-source/4-10-21/inverting_gain/inverting_gain_10_data.csv\")\n",
    "df_errors = pd.read_csv(\"../data-source/4-10-21/inverting_gain/inverting_gain_10_errors.csv\")\n",
    "len(df_data)"
   ]
  },
  {
   "cell_type": "markdown",
   "id": "5cd244e0",
   "metadata": {},
   "source": [
    "### Convert to arrays of uncertainties"
   ]
  },
  {
   "cell_type": "code",
   "execution_count": 647,
   "id": "c49774f6",
   "metadata": {},
   "outputs": [],
   "source": [
    "index=[27,28]\n",
    "df_errors_n = df_errors.drop(index)\n",
    "df_data_n = df_data.drop(index)\n",
    "f_arr = pair_dat_err(df_data_n['f'], df_errors_n['f'])\n",
    "ppch1_arr = pair_dat_err(df_data_n['PPch1'], df_errors_n['PPch1'])\n",
    "ppch2_arr = pair_dat_err(df_data_n['PPch2'], df_errors_n['PPch2'])"
   ]
  },
  {
   "cell_type": "markdown",
   "id": "897ecc26",
   "metadata": {},
   "source": [
    "### Calculate Gain"
   ]
  },
  {
   "cell_type": "code",
   "execution_count": 648,
   "id": "86ad38af",
   "metadata": {},
   "outputs": [],
   "source": [
    "gains_arr = ppch2_arr / ppch1_arr\n",
    "db_gains_arr = list(map(lambda x: 20 * umath.log(x), gains_arr))\n"
   ]
  },
  {
   "cell_type": "markdown",
   "id": "0b75f3fd",
   "metadata": {},
   "source": [
    "### Canvas"
   ]
  },
  {
   "cell_type": "code",
   "execution_count": 649,
   "id": "d2b0c2f7",
   "metadata": {},
   "outputs": [],
   "source": [
    "canvas = ROOT.TCanvas(\"c2\", \"bode gain 10\", 1000, 500)\n",
    "\n",
    "canvas.SetLogx(True)"
   ]
  },
  {
   "cell_type": "markdown",
   "id": "b47cf23d",
   "metadata": {},
   "source": [
    "### GraphErrors"
   ]
  },
  {
   "cell_type": "code",
   "execution_count": 650,
   "id": "d166e046",
   "metadata": {},
   "outputs": [],
   "source": [
    "#bode_graph_err = uncertainties_to_root_graph_errors(f_arr, gains_arr)\n",
    "bode_graph_err = uncertainties_to_root_graph_errors(f_arr, db_gains_arr)\n",
    "\n",
    "bode_graph_err.SetTitle(\"Bode Gain 10\")\n",
    "bode_graph_err.GetXaxis().SetTitle(\"f [Hz]\")\n",
    "bode_graph_err.GetYaxis().SetTitle(\"G [dB]\")\n",
    "bode_graph_err.SetMarkerStyle(21)\n",
    "bode_graph_err.SetMarkerSize(0.4)"
   ]
  },
  {
   "cell_type": "markdown",
   "id": "d8ac8b4d",
   "metadata": {},
   "source": [
    "### Fit"
   ]
  },
  {
   "cell_type": "code",
   "execution_count": 651,
   "id": "aca7acd8",
   "metadata": {},
   "outputs": [],
   "source": [
    "function = \"[0]/[1]*exp(x/[1])\"\n",
    "#function = \"1/sqrt(1+pow(x/[0],2))-1\"\n",
    "fit_f.SetParameter(0,-40)\n",
    "fit_f.SetParameter(1,10**4)\n",
    "fit_f = ROOT.TF1(\"fit1\", function)"
   ]
  },
  {
   "cell_type": "markdown",
   "id": "311ba1fd",
   "metadata": {},
   "source": [
    "### Draw Graph"
   ]
  },
  {
   "cell_type": "code",
   "execution_count": 652,
   "id": "4b17ca94",
   "metadata": {},
   "outputs": [
    {
     "data": {
      "image/png": "[encoded data removed]",
      "text/plain": [
       "<IPython.core.display.Image object>"
      ]
     },
     "metadata": {},
     "output_type": "display_data"
    }
   ],
   "source": [
    "canvas.Draw()\n",
    "bode_graph_err.Draw()\n",
    "#bode_graph_err.Fit(fit_f, \"MSE\")"
   ]
  },
  {
   "cell_type": "code",
   "execution_count": 653,
   "id": "4c220d58",
   "metadata": {},
   "outputs": [],
   "source": [
    "ppch1_Arr = df_data_n['PPch1']\n",
    "ppch2_Arr = df_data_n['PPch2']\n",
    "gain_Arr = ppch2_Arr/ppch1_Arr\n",
    "db_gain_Arr = list(map(lambda x: 20 * umath.log(x), gain_Arr))\n",
    "#gain_Arr_errors = ((df_errors_n['PPch2']/ppch1_Arr)**2 + (ppch2_Arr/(ppch1_Arr)**2*df_errors_n['PPch1'])**2)  \n",
    "#db_gain_Arr_errors = list(map(lambda x: 20 * umath.log(x), gain_Arr_errors))  \n",
    "db_gain_Arr_errors =[1.1392457132682507,\n",
    " 1.1837220472419332,\n",
    " 1.188540648949798,\n",
    " 1.188540648949798,\n",
    " 1.188540648949798,\n",
    " 1.1837220472419332,\n",
    " 1.188540648949798,\n",
    " 1.1934610377512482,\n",
    " 1.359037133424585,\n",
    " 1.3176413192753962,\n",
    " 1.4402533545665437,\n",
    " 1.3894688477333736,\n",
    " 1.4518975960816864,\n",
    " 1.2749938684161681,\n",
    " 1.394043130412572,\n",
    " 1.4978917988567928,\n",
    " 1.5117277459614,\n",
    " 1.6804651171340652,\n",
    " 1.874538847640011,\n",
    " 2.0593634245686667,\n",
    " 2.154065922853802,\n",
    " 2.7715251078656085,\n",
    " 2.9649038395440215,\n",
    " 3.785837971284672,\n",
    " 6.299019607843137,\n",
    " 1.2250829359246014,\n",
    " 2.114725655155385]\n",
    "\n",
    "# 6.714495099740892,\n",
    "# 33.34952100333063"
   ]
  },
  {
   "cell_type": "code",
   "execution_count": 654,
   "id": "f405d31b",
   "metadata": {},
   "outputs": [
    {
     "name": "stdout",
     "output_type": "stream",
     "text": [
      "H(s) = TransferFunctionContinuous(\n",
      "array([5.77951263e+17]),\n",
      "array([1.0000e+00, 5.6500e+05, 7.5900e+10, 2.9835e+15]),\n",
      "dt: None\n",
      ")\n"
     ]
    },
    {
     "data": {
      "image/png": "[encoded data removed]",
      "text/plain": [
       "<Figure size 720x1152 with 2 Axes>"
      ]
     },
     "metadata": {
      "needs_background": "light"
     },
     "output_type": "display_data"
    },
    {
     "data": {
      "text/plain": [
       "<Figure size 432x288 with 0 Axes>"
      ]
     },
     "metadata": {},
     "output_type": "display_data"
    }
   ],
   "source": [
    "#k=9.8**18\n",
    "#a=0.4*10**5\n",
    "#b=1.2*10**5\n",
    "#c=3.5*10**5\n",
    "\n",
    "k=9.7**18\n",
    "a=0.85*10**5\n",
    "b=0.9*10**5\n",
    "c=3.9*10**5\n",
    "num = np.array([k]) #zeros(increase 20 db)\n",
    "den = np.array([1,a+b+c,a*b+c*a+c*b,a*b*c]) #poles (decreases 20 db) [1,a+b+c,a*b+c*a+c*b,a*b*c]  (as+1)(bs+1)(cs+1)=(1+(a+b)s+abs^2)(cs+1)=(1+(a+b+c)s+(ab+c(a+b))s^2+abcs^3)\n",
    "H = signal.TransferFunction(num, den)\n",
    "print ('H(s) =', H)\n",
    "f_11, mag_11, phase_11 = H.bode(df_data_n['f'])\n",
    "\n",
    "plt.figure(figsize=((10,16)))\n",
    "\n",
    "\n",
    "ax1 = plt.subplot(211)\n",
    "plt.semilogx(f_11, mag_11) # Magnitude Plot\n",
    "plt.title('Bode Plots OPA (Gain 11)',fontsize=20)\n",
    "plt.ylabel('Magnitude',fontsize=15)\n",
    "\n",
    "plt.grid()\n",
    "plt.errorbar( df_data_n['f'],db_gain_Arr ,xerr = df_errors_n['f'],yerr = db_gain_Arr_errors, fmt='o', color='Black', elinewidth=1,capthick=2,errorevery=1, alpha=1, ms=0, capsize = 1.5)\n",
    "plt.setp(ax1.get_xticklabels(), visible=False)\n",
    "\n",
    "plt.subplot(212, sharex = ax1)\n",
    "plt.ylabel('Phase',fontsize=15)\n",
    "plt.xlabel('f [Hz]',fontsize=15)\n",
    "plt.semilogx(f_11, phase_11)\n",
    "plt.grid()\n",
    "\n",
    "\n",
    "plt.show()\n",
    "\n",
    "plt.savefig(f\"{OUTPUTDIR}/OPA-bode_gain11(mag+phase).pdf\")\n",
    "\n"
   ]
  },
  {
   "cell_type": "code",
   "execution_count": 655,
   "id": "4d4f9d4a",
   "metadata": {},
   "outputs": [
    {
     "data": {
      "text/plain": [
       "array([ 1.45982078,  0.19372003,  0.02774388,  0.02774108,  0.02767114,\n",
       "        0.19255431,  0.01725768, -0.25546149,  0.24944535,  0.29345626,\n",
       "        0.5272335 ,  0.48858889,  1.05240722,  0.38330397,  0.03377406,\n",
       "        0.13623365,  0.67676814,  0.69553376,  0.89531216,  0.66182494,\n",
       "        1.11349304,  1.09481243,  1.21002512,  0.80008558, -1.31804636,\n",
       "       -2.13467387, -4.87390777])"
      ]
     },
     "execution_count": 655,
     "metadata": {},
     "output_type": "execute_result"
    }
   ],
   "source": [
    "mag_11-db_gain_Arr"
   ]
  },
  {
   "cell_type": "code",
   "execution_count": 656,
   "id": "979630aa",
   "metadata": {},
   "outputs": [
    {
     "data": {
      "text/plain": [
       "array([ 1.45982078,  0.19372003,  0.02774388,  0.02774108,  0.02767114,\n",
       "        0.19255431,  0.01725768, -0.25546149,  0.24944535,  0.29345626,\n",
       "        0.5272335 ,  0.48858889,  1.05240722,  0.38330397,  0.03377406,\n",
       "        0.13623365,  0.67676814,  0.69553376,  0.89531216,  0.66182494,\n",
       "        1.11349304,  1.09481243,  1.21002512,  0.80008558, -1.31804636,\n",
       "       -2.13467387, -4.87390777])"
      ]
     },
     "execution_count": 656,
     "metadata": {},
     "output_type": "execute_result"
    }
   ],
   "source": [
    "mag_11-db_gain_Arr"
   ]
  },
  {
   "cell_type": "code",
   "execution_count": 657,
   "id": "53a55fa5",
   "metadata": {},
   "outputs": [
    {
     "data": {
      "image/png": "[encoded data removed]",
      "text/plain": [
       "<Figure size 720x1152 with 1 Axes>"
      ]
     },
     "metadata": {
      "needs_background": "light"
     },
     "output_type": "display_data"
    },
    {
     "data": {
      "text/plain": [
       "<Figure size 432x288 with 0 Axes>"
      ]
     },
     "metadata": {},
     "output_type": "display_data"
    }
   ],
   "source": [
    "plt.figure(figsize=((10,16)))\n",
    "\n",
    "fH_11 = 250000\n",
    "\n",
    "ax1 = plt.subplot(211)\n",
    "plt.semilogx(f_11, mag_11) # Magnitude Plot\n",
    "plt.title('Bode Plot OPA (Gain 11)',fontsize=20)\n",
    "plt.ylabel('Magnitude',fontsize=15)\n",
    "plt.xlabel('f [Hz]',fontsize=15)\n",
    "plt.grid()\n",
    "plt.errorbar(df_data_n['f'],db_gain_Arr ,xerr = df_errors_n['f'],yerr = db_gain_Arr_errors , fmt='o', color='Black', elinewidth=1,capthick=2,errorevery=1, alpha=1, ms=0, capsize = 1.5)\n",
    "plt.vlines(fH_11, -20,  mag_11[0], linestyles=\"--\", color = \"red\")\n",
    "plt.text(fH_11+10000, -18, 'H.F',\n",
    "        verticalalignment='top', horizontalalignment='left',\n",
    "        color='red', fontsize=15)\n",
    "plt.show()\n",
    "\n",
    "plt.savefig(f\"{OUTPUTDIR}/OPA-bode_gain11(mag).pdf\")"
   ]
  },
  {
   "cell_type": "code",
   "execution_count": 658,
   "id": "920f208a",
   "metadata": {},
   "outputs": [
    {
     "data": {
      "text/plain": [
       "250000"
      ]
     },
     "execution_count": 658,
     "metadata": {},
     "output_type": "execute_result"
    }
   ],
   "source": [
    "\n",
    "#f, mag, phase = H.bode() \n",
    "mag_BW = mag_11 - mag_11[26]\n",
    "mag_BW[19]\n",
    "f_11[21]"
   ]
  },
  {
   "cell_type": "code",
   "execution_count": 659,
   "id": "c7abf9e2",
   "metadata": {},
   "outputs": [
    {
     "data": {
      "text/plain": [
       "60.532568946906764"
      ]
     },
     "execution_count": 659,
     "metadata": {},
     "output_type": "execute_result"
    }
   ],
   "source": [
    "85.60597997/np.sqrt(2)"
   ]
  },
  {
   "cell_type": "code",
   "execution_count": 660,
   "id": "d252d694",
   "metadata": {},
   "outputs": [
    {
     "name": "stdout",
     "output_type": "stream",
     "text": [
      "(array([], dtype=int64),)\n"
     ]
    },
    {
     "data": {
      "text/plain": [
       "160000"
      ]
     },
     "execution_count": 660,
     "metadata": {},
     "output_type": "execute_result"
    }
   ],
   "source": [
    "mag_BW[24]\n",
    "print(np.where(mag_BW==84.75575792647965))\n",
    "f[np.where(mag_BW==84.75575792647965)]\n",
    "f_11[19]"
   ]
  },
  {
   "cell_type": "code",
   "execution_count": 661,
   "id": "9f6cfb76",
   "metadata": {},
   "outputs": [
    {
     "data": {
      "text/plain": [
       "2750000.0"
      ]
     },
     "execution_count": 661,
     "metadata": {},
     "output_type": "execute_result"
    }
   ],
   "source": [
    "700000\n",
    "(f[24]+f[25])/2"
   ]
  },
  {
   "cell_type": "code",
   "execution_count": 662,
   "id": "789fb75b",
   "metadata": {},
   "outputs": [
    {
     "data": {
      "text/plain": [
       "2400000"
      ]
     },
     "execution_count": 662,
     "metadata": {},
     "output_type": "execute_result"
    }
   ],
   "source": [
    "###Control BW*Gain\n",
    "fH_1*2"
   ]
  },
  {
   "cell_type": "code",
   "execution_count": 663,
   "id": "7586fe68",
   "metadata": {},
   "outputs": [
    {
     "data": {
      "text/plain": [
       "2750000"
      ]
     },
     "execution_count": 663,
     "metadata": {},
     "output_type": "execute_result"
    }
   ],
   "source": [
    "fH_11*11"
   ]
  },
  {
   "cell_type": "code",
   "execution_count": 677,
   "id": "18317748",
   "metadata": {},
   "outputs": [
    {
     "data": {
      "image/png": "[encoded data removed]",
      "text/plain": [
       "<Figure size 720x576 with 1 Axes>"
      ]
     },
     "metadata": {
      "needs_background": "light"
     },
     "output_type": "display_data"
    },
    {
     "data": {
      "text/plain": [
       "<Figure size 432x288 with 0 Axes>"
      ]
     },
     "metadata": {},
     "output_type": "display_data"
    }
   ],
   "source": [
    "###plot gain 1 + gain 11\n",
    "plt.figure(figsize=((10,8)))\n",
    "plt.ylabel('Magnitude',fontsize=15)\n",
    "plt.xlabel('f [Hz]',fontsize=15)\n",
    "plt.semilogx(f, mag, label='Gain 2')\n",
    "plt.semilogx(f_11, mag_11,label='Gain 11')\n",
    "plt.vlines(fH_1, mag[27],  mag[0], linestyles=\"--\", color = \"blue\")\n",
    "plt.text(fL+200000, -43, 'H.F',\n",
    "        verticalalignment='top', horizontalalignment='left',\n",
    "        color='blue', fontsize=15)\n",
    "plt.vlines(fH_11, mag[27],  mag_11[0], linestyles=\"--\", color = \"orange\")\n",
    "plt.text(fH_11+10000, -43, 'H.F',\n",
    "        verticalalignment='top', horizontalalignment='left',\n",
    "        color='orange', fontsize=15)\n",
    "plt.grid()\n",
    "plt.legend(loc = \"lower left\")\n",
    "plt.show()\n",
    "plt.savefig(f\"{OUTPUTDIR}/OPA-bode_gain_comparison(mag).pdf\")"
   ]
  },
  {
   "cell_type": "code",
   "execution_count": null,
   "id": "edcf754f",
   "metadata": {},
   "outputs": [],
   "source": []
  },
  {
   "cell_type": "code",
   "execution_count": null,
   "id": "ca0b6fa6",
   "metadata": {},
   "outputs": [],
   "source": []
  }
 ],
 "metadata": {
  "kernelspec": {
   "display_name": "Python 3 (ipykernel)",
   "language": "python",
   "name": "python3"
  },
  "language_info": {
   "codemirror_mode": {
    "name": "ipython",
    "version": 3
   },
   "file_extension": ".py",
   "mimetype": "text/x-python",
   "name": "python",
   "nbconvert_exporter": "python",
   "pygments_lexer": "ipython3",
   "version": "3.9.5"
  }
 },
 "nbformat": 4,
 "nbformat_minor": 5
}
