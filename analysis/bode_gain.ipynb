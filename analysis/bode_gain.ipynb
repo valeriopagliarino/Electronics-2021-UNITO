{
 "cells": [
  {
   "cell_type": "markdown",
   "id": "69424609",
   "metadata": {},
   "source": [
    "# Bode plot for inverting OPA [gain 1] and [gain 10]"
   ]
  },
  {
   "cell_type": "code",
   "execution_count": 1,
   "id": "f9e74d3d",
   "metadata": {},
   "outputs": [
    {
     "name": "stdout",
     "output_type": "stream",
     "text": [
      "Welcome to JupyROOT 6.24/06\n"
     ]
    }
   ],
   "source": [
    "import pandas as pd\n",
    "from utilities import * # My functions: pair_dat_err, uncertainties_to_root_graph_errors\n",
    "from uncertainties import umath\n",
    "import ROOT\n",
    "import numpy as np\n",
    "import scipy.signal as signal\n",
    "import matplotlib.pyplot as plt"
   ]
  },
  {
   "cell_type": "markdown",
   "id": "6a74534a",
   "metadata": {},
   "source": [
    "# Gain 1"
   ]
  },
  {
   "cell_type": "markdown",
   "id": "b9867c14",
   "metadata": {},
   "source": [
    "### Read DataFrames"
   ]
  },
  {
   "cell_type": "code",
   "execution_count": 85,
   "id": "25ab4253",
   "metadata": {},
   "outputs": [],
   "source": [
    "df_data = pd.read_csv(\"../data-source/4-10-21/inverting_gain/inverting_gain_1_data.csv\")\n",
    "df_errors = pd.read_csv(\"../data-source/4-10-21/inverting_gain/inverting_gain_1_errors.csv\")"
   ]
  },
  {
   "cell_type": "markdown",
   "id": "6571a176",
   "metadata": {},
   "source": [
    "### Convert to arrays of uncertainties"
   ]
  },
  {
   "cell_type": "code",
   "execution_count": 86,
   "id": "0eb7d881",
   "metadata": {},
   "outputs": [],
   "source": [
    "index=[28,29]\n",
    "df_errors_n = df_errors.drop(index)\n",
    "df_data_n = df_data.drop(index)\n",
    "f_arr = pair_dat_err(df_data_n['f'], df_errors_n['f'])\n",
    "ppch1_arr = pair_dat_err(df_data_n['PPch1'], df_errors_n['PPch1'])\n",
    "ppch2_arr = pair_dat_err(df_data_n['PPch2'], df_errors_n['PPch2'])"
   ]
  },
  {
   "cell_type": "markdown",
   "id": "761ca969",
   "metadata": {},
   "source": [
    "### Calculate Gain"
   ]
  },
  {
   "cell_type": "code",
   "execution_count": 87,
   "id": "870d4257",
   "metadata": {},
   "outputs": [],
   "source": [
    "gains_arr = ppch2_arr / ppch1_arr\n",
    "db_gains_arr = list(map(lambda x: 20 * umath.log(x), gains_arr))\n"
   ]
  },
  {
   "cell_type": "markdown",
   "id": "f22d318c",
   "metadata": {},
   "source": [
    "### Canvas"
   ]
  },
  {
   "cell_type": "code",
   "execution_count": 88,
   "id": "33de17e2",
   "metadata": {},
   "outputs": [],
   "source": [
    "canvas = ROOT.TCanvas(\"c1\", \"bode gain 1\", 1000, 500)\n",
    "\n",
    "canvas.SetLogx(True)"
   ]
  },
  {
   "cell_type": "markdown",
   "id": "47a39b96",
   "metadata": {},
   "source": [
    "### GraphErrors"
   ]
  },
  {
   "cell_type": "code",
   "execution_count": 89,
   "id": "111a8f3d",
   "metadata": {},
   "outputs": [],
   "source": [
    "#bode_graph_err = uncertainties_to_root_graph_errors(f_arr, gains_arr)\n",
    "bode_graph_err = uncertainties_to_root_graph_errors(f_arr, db_gains_arr)\n",
    "\n",
    "bode_graph_err.SetTitle(\"Bode Gain 1\")\n",
    "bode_graph_err.GetXaxis().SetTitle(\"f [Hz]\")\n",
    "bode_graph_err.GetYaxis().SetTitle(\"G [dB]\")\n",
    "bode_graph_err.SetMarkerStyle(21)\n",
    "bode_graph_err.SetMarkerSize(0.4)"
   ]
  },
  {
   "cell_type": "markdown",
   "id": "6559639e",
   "metadata": {},
   "source": [
    "### Fit [TODO]"
   ]
  },
  {
   "cell_type": "code",
   "execution_count": 90,
   "id": "cccd0e08",
   "metadata": {},
   "outputs": [],
   "source": [
    "#function = \"1/[0]*(1-1/[0]*exp(x/[0]))\"\n",
    "\n"
   ]
  },
  {
   "cell_type": "code",
   "execution_count": 91,
   "id": "abf11b12",
   "metadata": {},
   "outputs": [],
   "source": [
    "function = \"[1]*(1/sqrt(1+pow(x/[0],2))-1)\"\n",
    "fit_f = ROOT.TF1(\"fit1\", function)\n",
    "###parameter per low pass filter\n",
    "fit_f.SetParName(0, \"Gain\")\n",
    "fit_f.SetParameter(0, 2.1*10**6)\n",
    "fit_f.SetParName(1, \"Tau\")\n",
    "fit_f.SetParLimits(0,10**6,4*10**6)\n",
    "fit_f.SetParLimits(1,40,500)"
   ]
  },
  {
   "cell_type": "code",
   "execution_count": 92,
   "id": "755f7f18",
   "metadata": {},
   "outputs": [],
   "source": [
    "function = \"-[1]/[0]*exp(x/[0])\"\n",
    "fit_f = ROOT.TF1(\"fit1\", function)\n",
    "###parameter per low pass filter\n",
    "#fit_f.SetParName(0, \"pole\")\n",
    "#fit_f.SetParameter(0, 10**4)\n",
    "#fit_f.SetParameter(1, 10**3)\n",
    "\n",
    "#fit_f.SetParLimits(0,10**4,4*10**4)\n",
    "fit_f.SetParLimits(1,1,10**3)"
   ]
  },
  {
   "cell_type": "code",
   "execution_count": 93,
   "id": "ddf8e4c6",
   "metadata": {},
   "outputs": [],
   "source": [
    "\n",
    "fit_f.SetLineColor(4)"
   ]
  },
  {
   "cell_type": "markdown",
   "id": "54e8f1f8",
   "metadata": {},
   "source": [
    "### Draw"
   ]
  },
  {
   "cell_type": "code",
   "execution_count": 94,
   "id": "06a49d00",
   "metadata": {},
   "outputs": [
    {
     "data": {
      "text/plain": [
       "<cppyy.gbl.TFitResultPtr object at 0x9d5d390>"
      ]
     },
     "execution_count": 94,
     "metadata": {},
     "output_type": "execute_result"
    },
    {
     "name": "stdout",
     "output_type": "stream",
     "text": [
      " FCN=1762.49 FROM MIGRAD    STATUS=FAILED        102 CALLS         103 TOTAL\n",
      "                     EDM=-nan    STRATEGY= 1  ERROR MATRIX UNCERTAINTY 100.0 per cent\n",
      "  EXT PARAMETER                APPROXIMATE        STEP         FIRST   \n",
      "  NO.   NAME      VALUE            ERROR          SIZE      DERIVATIVE \n",
      "   1  p0          -3.00000e-03   0.00000e+00          -nan           inf\n",
      "   2  p1           5.00500e+02   7.46195e+02          -nan   0.00000e+00\n"
     ]
    },
    {
     "name": "stderr",
     "output_type": "stream",
     "text": [
      "Info in <ROOT::Math::ParameterSettings>: lower/upper bounds outside current parameter value. The value will be set to (low+up)/2 \n",
      "Warning in <Fit>: Abnormal termination of minimization.\n"
     ]
    },
    {
     "data": {
      "image/png": "[encoded data removed]",
      "text/plain": [
       "<IPython.core.display.Image object>"
      ]
     },
     "metadata": {},
     "output_type": "display_data"
    }
   ],
   "source": [
    "canvas.Draw()\n",
    "bode_graph_err.Draw()\n",
    "bode_graph_err.Fit(fit_f, \"MSE\")"
   ]
  },
  {
   "cell_type": "code",
   "execution_count": 95,
   "id": "af9b2567",
   "metadata": {},
   "outputs": [
    {
     "data": {
      "text/plain": [
       "<cppyy.gbl.TFitResultPtr object at 0x8f72870>"
      ]
     },
     "execution_count": 95,
     "metadata": {},
     "output_type": "execute_result"
    },
    {
     "name": "stdout",
     "output_type": "stream",
     "text": [
      " FCN=4459.37 FROM MINOS     STATUS=SUCCESSFUL      4 CALLS          82 TOTAL\n",
      "                     EDM=7.10316e-10    STRATEGY= 1      ERROR MATRIX ACCURATE \n",
      "  EXT PARAMETER                                   STEP         FIRST   \n",
      "  NO.   NAME      VALUE            ERROR          SIZE      DERIVATIVE \n",
      "   1  1st pole     8.49223e+03   2.59440e+01   2.59440e+01  -1.45279e-06\n"
     ]
    },
    {
     "name": "stderr",
     "output_type": "stream",
     "text": [
      "Warning in <TCanvas::Constructor>: Deleting canvas with same name: c1\n"
     ]
    },
    {
     "data": {
      "image/png": "[encoded data removed]",
      "text/plain": [
       "<IPython.core.display.Image object>"
      ]
     },
     "metadata": {},
     "output_type": "display_data"
    }
   ],
   "source": [
    "###fit Bode\n",
    "from uncertainties import umath\n",
    "\n",
    "canvas = ROOT.TCanvas(\"c1\", \"Bode Gain \", 700, 400)\n",
    "canvas.SetLogx(True)\n",
    "\n",
    "fit_bode_graph_err = uncertainties_to_root_graph_errors(f_arr, db_gains_arr)\n",
    "fit_bode_graph_err.SetTitle(\"Bode Gain\")\n",
    "fit_bode_graph_err.GetXaxis().SetTitle(\"f [Hz]\")\n",
    "fit_bode_graph_err.GetYaxis().SetTitle(\"Gain [Db]\")\n",
    "fit_bode_graph_err.SetMarkerStyle(21)\n",
    "fit_bode_graph_err.SetMarkerSize(0.4)\n",
    "\n",
    "function_formula = \"-1/[0]*exp(x/[0])\"\n",
    "fit_f = ROOT.TF1(\"fit1\", function_formula)\n",
    "fit_f.SetLineColor(4)\n",
    "fit_f.SetParameter(0, 10**4)\n",
    "fit_f.SetParName(0, \"1st pole\")\n",
    "ROOT.gStyle.SetOptFit(True)\n",
    "\n",
    "canvas.Draw()\n",
    "fit_bode_graph_err.Draw(\"ap\")\n",
    "fit_bode_graph_err.Fit(fit_f, \"MSE\")"
   ]
  },
  {
   "cell_type": "code",
   "execution_count": 96,
   "id": "40d38212",
   "metadata": {},
   "outputs": [],
   "source": [
    "###prova scipy"
   ]
  },
  {
   "cell_type": "code",
   "execution_count": 97,
   "id": "c6f5d710",
   "metadata": {},
   "outputs": [],
   "source": [
    "ppch1_Arr = df_data_n['PPch1']\n",
    "ppch2_Arr = df_data_n['PPch2']\n",
    "gain_Arr = ppch2_Arr/ppch1_Arr\n",
    "db_gain_Arr = list(map(lambda x: 20 * umath.log(x), gain_Arr))\n",
    "#gain_Arr_errors = ((df_errors_n['PPch2']/ppch1_Arr)**2 + (ppch2_Arr/(ppch1_Arr)**2*df_errors_n['PPch1'])**2)  \n",
    "#db_gain_Arr_errors = list(map(lambda x: 20 * umath.log(x), gain_Arr_errors))  \n",
    "db_gain_Arr_errors = [0.03684758954264483,\n",
    "       0.039283710065919304,\n",
    "       0.03835133389809924,\n",
    "       0.03914754592788334,\n",
    "       0.03901186037067261,\n",
    "       0.03901186037067261,\n",
    "       0.03997751897888523,\n",
    "       0.03997751897888523,\n",
    "       0.039837001756988594,\n",
    "       0.03955745430931493,\n",
    "       0.03769900245103452,\n",
    "       0.037049877943686936,\n",
    "       0.03605169119015721,\n",
    "       0.034530093684402983,\n",
    "       0.03374667600547776,\n",
    "       0.03278928198188431,\n",
    "       0.03198910465357108,\n",
    "       0.03133121936398775,\n",
    "       0.03056472037572376,\n",
    "       0.029797429860808376,\n",
    "       0.02884568700100156,\n",
    "       0.02824879639382313,\n",
    "       0.028320177622922913,\n",
    "       0.027958978045571105,\n",
    "       0.02774748964548574,\n",
    "       0.027728198334187222,\n",
    "       0.02748193286061937,\n",
    "       0.02756128649688445]\n"
   ]
  },
  {
   "cell_type": "code",
   "execution_count": 98,
   "id": "f0102fae",
   "metadata": {},
   "outputs": [
    {
     "name": "stdout",
     "output_type": "stream",
     "text": [
      "H(s) = TransferFunctionContinuous(\n",
      "array([6.36315856e+17]),\n",
      "array([1.000e+00, 2.950e+06, 2.565e+12, 6.480e+17]),\n",
      "dt: None\n",
      ")\n"
     ]
    },
    {
     "data": {
      "image/png": "[encoded data removed]",
      "text/plain": [
       "<Figure size 720x1152 with 2 Axes>"
      ]
     },
     "metadata": {
      "needs_background": "light"
     },
     "output_type": "display_data"
    }
   ],
   "source": [
    "k=11.15**17\n",
    "a=4.5*10**5\n",
    "b=.9*10**6\n",
    "c=1.6*10**6\n",
    "num = np.array([k]) #zeros(increase 20 db)\n",
    "den = np.array([1,a+b+c,a*b+c*a+c*b,a*b*c]) #poles (decreases 20 db) [1,a+b+c,ab+ca+cb,abc]  (as+1)(bs+1)(cs+1)=(1+(a+b)s+abs^2)(cs+1)=(1+(a+b+c)s+(ab+c(a+b))s^2+abcs^3)\n",
    "H = signal.TransferFunction(num, den)\n",
    "print ('H(s) =', H)\n",
    "f, mag, phase = H.bode(df_data_n['f'])\n",
    "\n",
    "plt.figure(figsize=((10,16)))\n",
    "\n",
    "\n",
    "ax1 = plt.subplot(211)\n",
    "plt.semilogx(f, mag) # Magnitude Plot\n",
    "plt.title('Bode Plots OPA (Gain 1)',fontsize=20)\n",
    "plt.ylabel('Magnitude',fontsize=15)\n",
    "\n",
    "plt.grid()\n",
    "plt.errorbar( df_data_n['f'],db_gain_Arr ,xerr = df_errors_n['f'],yerr = db_gain_Arr_errors, fmt='o', color='Black', elinewidth=3,capthick=0.5,errorevery=1, alpha=1, ms=0, capsize = 5)\n",
    "plt.setp(ax1.get_xticklabels(), visible=False)\n",
    "\n",
    "plt.subplot(212, sharex = ax1)\n",
    "plt.ylabel('Phase',fontsize=15)\n",
    "plt.xlabel('f [Hz]',fontsize=15)\n",
    "plt.semilogx(f, phase)\n",
    "plt.grid()\n",
    "\n",
    "\n",
    "plt.show()\n",
    "\n",
    "\n",
    "\n"
   ]
  },
  {
   "cell_type": "code",
   "execution_count": 99,
   "id": "4ef9ed33",
   "metadata": {},
   "outputs": [
    {
     "data": {
      "text/plain": [
       "array([ 0.5154191 , -0.15804521, -0.02152591, -0.01867189,  0.12167785,\n",
       "        0.12165113, -0.2986532 , -0.30124657, -0.22895614, -0.15391149,\n",
       "       -0.09052652, -0.17870179, -0.27877763,  0.07930223, -0.17053206,\n",
       "        0.07199382,  0.27797215,  0.43120478,  0.58694545,  0.51311385,\n",
       "        0.22368613,  0.44869543, -0.28642698, -0.59509529, -0.77851713,\n",
       "       -1.51072777, -1.85423024, -2.24129551])"
      ]
     },
     "execution_count": 99,
     "metadata": {},
     "output_type": "execute_result"
    }
   ],
   "source": [
    "mag-db_gain_Arr"
   ]
  },
  {
   "cell_type": "code",
   "execution_count": 101,
   "id": "a2397e3f",
   "metadata": {},
   "outputs": [
    {
     "data": {
      "text/plain": [
       "<ErrorbarContainer object of 3 artists>"
      ]
     },
     "execution_count": 101,
     "metadata": {},
     "output_type": "execute_result"
    },
    {
     "data": {
      "image/png": "[encoded data removed]",
      "text/plain": [
       "<Figure size 720x1152 with 1 Axes>"
      ]
     },
     "metadata": {
      "needs_background": "light"
     },
     "output_type": "display_data"
    }
   ],
   "source": [
    "plt.figure(figsize=((10,16)))\n",
    "\n",
    "\n",
    "ax1 = plt.subplot(211)\n",
    "plt.semilogx(f, mag) # Magnitude Plot\n",
    "plt.title('Bode Plots OPA (Gain 1)',fontsize=20)\n",
    "plt.ylabel('Magnitude',fontsize=15)\n",
    "plt.xlabel('f [Hz]',fontsize=15)\n",
    "plt.grid()\n",
    "plt.errorbar( df_data_n['f'],db_gain_Arr ,xerr = df_errors_n['f'],yerr = db_gain_Arr_errors, fmt='o', color='Black', elinewidth=3,capthick=0.5,errorevery=1, alpha=1, ms=0, capsize = 5)\n",
    "\n",
    "\n"
   ]
  },
  {
   "cell_type": "code",
   "execution_count": 18,
   "id": "a78282c2",
   "metadata": {},
   "outputs": [],
   "source": [
    "###how to get bode plot\n",
    "\n",
    "#num = np.array([1]) #zeros(increase 20 db)\n",
    "#den = np.array([1/10**6,1]) #poles (decreases 20 db)\n",
    "#H = signal.TransferFunction(num, den)\n",
    "#print ('H(s) =', H)\n",
    "#f, mag, phase = signal.bode(H)\n",
    "#plt.figure()\n",
    "#plt.semilogx(f, mag) # Magnitude Plot\n",
    "#plt.grid()\n",
    "#plt.figure()\n",
    "#plt.semilogx(f, phase) # Phase plot\n",
    "#plt.show()\n",
    "#len(f)"
   ]
  },
  {
   "cell_type": "markdown",
   "id": "e653ab08",
   "metadata": {},
   "source": [
    "# Gain 10"
   ]
  },
  {
   "cell_type": "code",
   "execution_count": 102,
   "id": "2098d3af",
   "metadata": {},
   "outputs": [],
   "source": [
    "df_data = pd.read_csv(\"../data-source/4-10-21/inverting_gain/inverting_gain_10_data.csv\")\n",
    "df_errors = pd.read_csv(\"../data-source/4-10-21/inverting_gain/inverting_gain_10_errors.csv\")"
   ]
  },
  {
   "cell_type": "markdown",
   "id": "5cd244e0",
   "metadata": {},
   "source": [
    "### Convert to arrays of uncertainties"
   ]
  },
  {
   "cell_type": "code",
   "execution_count": 103,
   "id": "c49774f6",
   "metadata": {},
   "outputs": [],
   "source": [
    "f_arr = pair_dat_err(df_data['f'], df_errors['f'])\n",
    "ppch1_arr = pair_dat_err(df_data['PPch1'], df_errors['PPch1'])\n",
    "ppch2_arr = pair_dat_err(df_data['PPch2'], df_errors['PPch2'])"
   ]
  },
  {
   "cell_type": "markdown",
   "id": "897ecc26",
   "metadata": {},
   "source": [
    "### Calculate Gain"
   ]
  },
  {
   "cell_type": "code",
   "execution_count": 104,
   "id": "86ad38af",
   "metadata": {},
   "outputs": [],
   "source": [
    "gains_arr = ppch2_arr / ppch1_arr\n",
    "db_gains_arr = list(map(lambda x: 20 * umath.log(x), gains_arr))\n"
   ]
  },
  {
   "cell_type": "markdown",
   "id": "0b75f3fd",
   "metadata": {},
   "source": [
    "### Canvas"
   ]
  },
  {
   "cell_type": "code",
   "execution_count": 105,
   "id": "d2b0c2f7",
   "metadata": {},
   "outputs": [],
   "source": [
    "canvas = ROOT.TCanvas(\"c2\", \"bode gain 10\", 1000, 500)\n",
    "\n",
    "canvas.SetLogx(True)"
   ]
  },
  {
   "cell_type": "markdown",
   "id": "b47cf23d",
   "metadata": {},
   "source": [
    "### GraphErrors"
   ]
  },
  {
   "cell_type": "code",
   "execution_count": 106,
   "id": "d166e046",
   "metadata": {},
   "outputs": [],
   "source": [
    "#bode_graph_err = uncertainties_to_root_graph_errors(f_arr, gains_arr)\n",
    "bode_graph_err = uncertainties_to_root_graph_errors(f_arr, db_gains_arr)\n",
    "\n",
    "bode_graph_err.SetTitle(\"Bode Gain 10\")\n",
    "bode_graph_err.GetXaxis().SetTitle(\"f [Hz]\")\n",
    "bode_graph_err.GetYaxis().SetTitle(\"G [dB]\")\n",
    "bode_graph_err.SetMarkerStyle(21)\n",
    "bode_graph_err.SetMarkerSize(0.4)"
   ]
  },
  {
   "cell_type": "markdown",
   "id": "d8ac8b4d",
   "metadata": {},
   "source": [
    "### Fit"
   ]
  },
  {
   "cell_type": "code",
   "execution_count": 107,
   "id": "aca7acd8",
   "metadata": {},
   "outputs": [],
   "source": [
    "function = \"[0]/[1]*exp(x/[1])\"\n",
    "#function = \"1/sqrt(1+pow(x/[0],2))-1\"\n",
    "fit_f.SetParameter(0,-40)\n",
    "fit_f.SetParameter(1,10**4)\n",
    "fit_f = ROOT.TF1(\"fit1\", function)"
   ]
  },
  {
   "cell_type": "markdown",
   "id": "311ba1fd",
   "metadata": {},
   "source": [
    "### Draw Graph"
   ]
  },
  {
   "cell_type": "code",
   "execution_count": 108,
   "id": "4b17ca94",
   "metadata": {},
   "outputs": [],
   "source": [
    "#canvas.Draw()\n",
    "#bode_graph_err.Draw()\n",
    "#bode_graph_err.Fit(fit_f, \"MSE\")"
   ]
  },
  {
   "cell_type": "code",
   "execution_count": 109,
   "id": "4c220d58",
   "metadata": {},
   "outputs": [],
   "source": [
    "ppch1_Arr = df_data['PPch1']\n",
    "ppch2_Arr = df_data['PPch2']\n",
    "gain_Arr = ppch2_Arr/ppch1_Arr\n",
    "db_gain_Arr = list(map(lambda x: 20 * umath.log(x), gain_Arr))\n",
    "#gain_Arr_errors = ((df_errors_n['PPch2']/ppch1_Arr)**2 + (ppch2_Arr/(ppch1_Arr)**2*df_errors_n['PPch1'])**2)  \n",
    "#db_gain_Arr_errors = list(map(lambda x: 20 * umath.log(x), gain_Arr_errors))  \n",
    "db_gain_Arr_errors =[1.1392457132682507,\n",
    " 1.1837220472419332,\n",
    " 1.188540648949798,\n",
    " 1.188540648949798,\n",
    " 1.188540648949798,\n",
    " 1.1837220472419332,\n",
    " 1.188540648949798,\n",
    " 1.1934610377512482,\n",
    " 1.359037133424585,\n",
    " 1.3176413192753962,\n",
    " 1.4402533545665437,\n",
    " 1.3894688477333736,\n",
    " 1.4518975960816864,\n",
    " 1.2749938684161681,\n",
    " 1.394043130412572,\n",
    " 1.4978917988567928,\n",
    " 1.5117277459614,\n",
    " 1.6804651171340652,\n",
    " 1.874538847640011,\n",
    " 2.0593634245686667,\n",
    " 2.154065922853802,\n",
    " 2.7715251078656085,\n",
    " 2.9649038395440215,\n",
    " 3.785837971284672,\n",
    " 6.299019607843137,\n",
    " 1.2250829359246014,\n",
    " 2.114725655155385,\n",
    " 6.714495099740892,\n",
    " 33.34952100333063]\n"
   ]
  },
  {
   "cell_type": "code",
   "execution_count": 111,
   "id": "f405d31b",
   "metadata": {},
   "outputs": [
    {
     "name": "stdout",
     "output_type": "stream",
     "text": [
      "H(s) = TransferFunctionContinuous(\n",
      "array([8.34513761e+17]),\n",
      "array([1.00e+00, 7.94e+05, 1.23e+11, 3.96e+15]),\n",
      "dt: None\n",
      ")\n"
     ]
    },
    {
     "data": {
      "image/png": "[encoded data removed]",
      "text/plain": [
       "<Figure size 720x1152 with 2 Axes>"
      ]
     },
     "metadata": {
      "needs_background": "light"
     },
     "output_type": "display_data"
    }
   ],
   "source": [
    "k=9.9**18\n",
    "a=4.4*10**4\n",
    "b=1.5*10**5\n",
    "c=6*10**5\n",
    "num = np.array([k]) #zeros(increase 20 db)\n",
    "den = np.array([1,a+b+c,a*b+c*a+c*b,a*b*c]) #poles (decreases 20 db) [1,a+b+c,ab+ca+cb,abc]  (as+1)(bs+1)(cs+1)=(1+(a+b)s+abs^2)(cs+1)=(1+(a+b+c)s+(ab+c(a+b))s^2+abcs^3)\n",
    "H = signal.TransferFunction(num, den)\n",
    "print ('H(s) =', H)\n",
    "f, mag, phase = H.bode(df_data['f'])\n",
    "\n",
    "plt.figure(figsize=((10,16)))\n",
    "\n",
    "\n",
    "ax1 = plt.subplot(211)\n",
    "plt.semilogx(f, mag) # Magnitude Plot\n",
    "plt.title('Bode Plots OPA (Gain 11)',fontsize=20)\n",
    "plt.ylabel('Magnitude',fontsize=15)\n",
    "\n",
    "plt.grid()\n",
    "plt.errorbar( df_data['f'],db_gain_Arr ,xerr = df_errors['f'],yerr = db_gain_Arr_errors, fmt='o', color='Black', elinewidth=1,capthick=2,errorevery=1, alpha=1, ms=0, capsize = 1.5)\n",
    "plt.setp(ax1.get_xticklabels(), visible=False)\n",
    "\n",
    "plt.subplot(212, sharex = ax1)\n",
    "plt.ylabel('Phase',fontsize=15)\n",
    "plt.xlabel('f [Hz]',fontsize=15)\n",
    "plt.semilogx(f, phase)\n",
    "plt.grid()\n",
    "\n",
    "\n",
    "plt.show()\n",
    "\n",
    "\n",
    "\n"
   ]
  },
  {
   "cell_type": "code",
   "execution_count": 72,
   "id": "979630aa",
   "metadata": {},
   "outputs": [
    {
     "data": {
      "text/plain": [
       "array([  2.19128362,   0.92518284,   0.7592066 ,   0.75920072,\n",
       "         0.75905382,   0.92273514,   0.73721891,   0.35265223,\n",
       "         0.716083  ,   0.38428273,   0.41256265,  -0.01653944,\n",
       "         0.37582727,  -0.44419623,  -0.92303854,  -1.13683699,\n",
       "        -0.66561689,  -0.61497156,  -0.29801218,  -0.29393826,\n",
       "         0.49751271,   0.88014545,   1.35678192,   1.55646197,\n",
       "         0.57730703,   0.29695267,  -1.90508805,  -1.17059508,\n",
       "       -10.27056819])"
      ]
     },
     "execution_count": 72,
     "metadata": {},
     "output_type": "execute_result"
    }
   ],
   "source": [
    "mag-db_gain_Arr"
   ]
  },
  {
   "cell_type": "code",
   "execution_count": 83,
   "id": "53a55fa5",
   "metadata": {},
   "outputs": [
    {
     "data": {
      "image/png": "[encoded data removed]",
      "text/plain": [
       "<Figure size 720x1152 with 1 Axes>"
      ]
     },
     "metadata": {
      "needs_background": "light"
     },
     "output_type": "display_data"
    }
   ],
   "source": [
    "plt.figure(figsize=((10,16)))\n",
    "\n",
    "ax1 = plt.subplot(211)\n",
    "plt.semilogx(f, mag) # Magnitude Plot\n",
    "plt.title('Bode Plots OPA (Gain 1)',fontsize=20)\n",
    "plt.ylabel('Magnitude',fontsize=15)\n",
    "plt.xlabel('f [Hz]',fontsize=15)\n",
    "plt.grid()\n",
    "plt.errorbar(df_data['f'],db_gain_Arr ,xerr = df_errors['f'],yerr = db_gain_Arr_errors , fmt='o', color='Black', elinewidth=1,capthick=2,errorevery=1, alpha=1, ms=0, capsize = 1.5)\n",
    "plt.show()\n",
    "\n"
   ]
  },
  {
   "cell_type": "code",
   "execution_count": null,
   "id": "a24abbe5",
   "metadata": {},
   "outputs": [
    {
     "name": "stdout",
     "output_type": "stream",
     "text": [
      "[Errno 2] No such file or directory: '/Electronics-2021-UNITO/'\n",
      "/home/berz/Documents/ANNO_3/LAB_E/GIT/content/Electronics-2021-UNITO/analysis\n",
      "\u001b[33mhint: Pulling without specifying how to reconcile divergent branches is\u001b[m\n",
      "\u001b[33mhint: discouraged. You can squelch this message by running one of the following\u001b[m\n",
      "\u001b[33mhint: commands sometime before your next pull:\u001b[m\n",
      "\u001b[33mhint: \u001b[m\n",
      "\u001b[33mhint:   git config pull.rebase false  # merge (the default strategy)\u001b[m\n",
      "\u001b[33mhint:   git config pull.rebase true   # rebase\u001b[m\n",
      "\u001b[33mhint:   git config pull.ff only       # fast-forward only\u001b[m\n",
      "\u001b[33mhint: \u001b[m\n",
      "\u001b[33mhint: You can replace \"git config\" with \"git config --global\" to set a default\u001b[m\n",
      "\u001b[33mhint: preference for all repositories. You can also pass --rebase, --no-rebase,\u001b[m\n",
      "\u001b[33mhint: or --ff-only on the command line to override the configured default per\u001b[m\n",
      "\u001b[33mhint: invocation.\u001b[m\n",
      "Username for 'https://github.com': "
     ]
    }
   ],
   "source": [
    "%cd /Electronics-2021-UNITO/\n",
    "!git pull\n",
    "!git add .\n",
    "!git commit -m \"bode plots inverting OPA,(3 poles transfer function both cases => mag and phase plots)\"\n",
    "!git push "
   ]
  },
  {
   "cell_type": "code",
   "execution_count": null,
   "id": "c7abf9e2",
   "metadata": {},
   "outputs": [],
   "source": []
  },
  {
   "cell_type": "code",
   "execution_count": null,
   "id": "d252d694",
   "metadata": {},
   "outputs": [],
   "source": []
  }
 ],
 "metadata": {
  "kernelspec": {
   "display_name": "Python 3 (ipykernel)",
   "language": "python",
   "name": "python3"
  },
  "language_info": {
   "codemirror_mode": {
    "name": "ipython",
    "version": 3
   },
   "file_extension": ".py",
   "mimetype": "text/x-python",
   "name": "python",
   "nbconvert_exporter": "python",
   "pygments_lexer": "ipython3",
   "version": "3.9.5"
  }
 },
 "nbformat": 4,
 "nbformat_minor": 5
}
