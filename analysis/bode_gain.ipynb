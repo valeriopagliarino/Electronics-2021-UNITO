{
 "cells": [
  {
   "cell_type": "markdown",
   "id": "63f1df55",
   "metadata": {},
   "source": [
    "# Bode plot for inverting OPA [gain 1] and [gain 10]"
   ]
  },
  {
   "cell_type": "code",
   "execution_count": 38,
   "id": "eb0381ab",
   "metadata": {},
   "outputs": [],
   "source": [
    "import pandas as pd\n",
    "from bode_gain_src import *\n",
    "from uncertainties import umath\n",
    "import ROOT"
   ]
  },
  {
   "cell_type": "code",
   "execution_count": null,
   "id": "21a5f578",
   "metadata": {},
   "outputs": [],
   "source": []
  },
  {
   "cell_type": "code",
   "execution_count": null,
   "id": "e2b3fc1a",
   "metadata": {},
   "outputs": [],
   "source": []
  },
  {
   "cell_type": "markdown",
   "id": "0e110e9d",
   "metadata": {},
   "source": [
    "# Gain 1"
   ]
  },
  {
   "cell_type": "markdown",
   "id": "9b82a156",
   "metadata": {},
   "source": [
    "### Read DataFrames"
   ]
  },
  {
   "cell_type": "code",
   "execution_count": 22,
   "id": "f06cddb9",
   "metadata": {},
   "outputs": [],
   "source": [
    "df_data = pd.read_csv(\"../data-source/inverting_gain_1_data.csv\")\n",
    "df_errors = pd.read_csv(\"../data-source/inverting_gain_1_errors.csv\")"
   ]
  },
  {
   "cell_type": "markdown",
   "id": "2f6b7a0e",
   "metadata": {},
   "source": [
    "### Convert to arrays of uncertainties"
   ]
  },
  {
   "cell_type": "code",
   "execution_count": 24,
   "id": "93e597eb",
   "metadata": {},
   "outputs": [],
   "source": [
    "f_arr = pair_dat_err(df_data['f'], df_errors['f'])\n",
    "ppch1_arr = pair_dat_err(df_data['PPch1'], df_errors['PPch1'])\n",
    "ppch2_arr = pair_dat_err(df_data['PPch2'], df_errors['PPch2'])"
   ]
  },
  {
   "cell_type": "markdown",
   "id": "a3acd29a",
   "metadata": {},
   "source": [
    "### Calculate Gain"
   ]
  },
  {
   "cell_type": "code",
   "execution_count": 35,
   "id": "05f0e7cc",
   "metadata": {},
   "outputs": [],
   "source": [
    "gains_arr = ppch2_arr / ppch1_arr\n",
    "db_gains_arr = list(map(lambda x: 20 * umath.log(x), gains_arr))"
   ]
  },
  {
   "cell_type": "markdown",
   "id": "0033801b",
   "metadata": {},
   "source": [
    "### Draw Graph"
   ]
  },
  {
   "cell_type": "code",
   "execution_count": 68,
   "id": "e79081ac",
   "metadata": {},
   "outputs": [],
   "source": [
    "#bode_graph_err = uncertainties_to_root_graph_errors(f_arr, gains_arr)\n",
    "bode_graph_err = uncertainties_to_root_graph_errors(f_arr, db_gains_arr)\n",
    "\n",
    "bode_graph_err.SetTitle(\"Bode Gain 1\")"
   ]
  },
  {
   "cell_type": "code",
   "execution_count": 66,
   "id": "0847c13e",
   "metadata": {},
   "outputs": [
    {
     "name": "stderr",
     "output_type": "stream",
     "text": [
      "Warning in <TCanvas::Constructor>: Deleting canvas with same name: c1\n"
     ]
    }
   ],
   "source": [
    "canvas = ROOT.TCanvas(\"c1\", \"bode gain 1\", 1000, 500)\n",
    "\n",
    "canvas.SetLogx(True)"
   ]
  },
  {
   "cell_type": "code",
   "execution_count": 67,
   "id": "af85ddb1",
   "metadata": {},
   "outputs": [
    {
     "data": {
      "image/png": "[encoded data removed]",
      "text/plain": [
       "<IPython.core.display.Image object>"
      ]
     },
     "metadata": {},
     "output_type": "display_data"
    }
   ],
   "source": [
    "canvas.Draw()\n",
    "bode_graph_err.Draw()"
   ]
  },
  {
   "cell_type": "code",
   "execution_count": null,
   "id": "dbc3a561",
   "metadata": {},
   "outputs": [],
   "source": []
  }
 ],
 "metadata": {
  "kernelspec": {
   "display_name": "Python 3 (ipykernel)",
   "language": "python",
   "name": "python3"
  },
  "language_info": {
   "codemirror_mode": {
    "name": "ipython",
    "version": 3
   },
   "file_extension": ".py",
   "mimetype": "text/x-python",
   "name": "python",
   "nbconvert_exporter": "python",
   "pygments_lexer": "ipython3",
   "version": "3.9.7"
  }
 },
 "nbformat": 4,
 "nbformat_minor": 5
}
