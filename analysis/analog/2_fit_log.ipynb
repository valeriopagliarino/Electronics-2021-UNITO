{
 "cells": [
  {
   "cell_type": "markdown",
   "id": "16d50496",
   "metadata": {},
   "source": [
    "# Fit Log"
   ]
  },
  {
   "cell_type": "code",
   "execution_count": 1,
   "id": "9b679e27",
   "metadata": {},
   "outputs": [
    {
     "name": "stdout",
     "output_type": "stream",
     "text": [
      "Welcome to JupyROOT 6.24/06\n"
     ]
    }
   ],
   "source": [
    "import pandas as pd\n",
    "from utilities import * # My functions: pair_dat_err, uncertainties_to_root_graph_errors\n",
    "from uncertainties import umath\n",
    "import ROOT"
   ]
  },
  {
   "cell_type": "markdown",
   "id": "753d0951",
   "metadata": {},
   "source": []
  },
  {
   "cell_type": "markdown",
   "id": "d735bb86",
   "metadata": {},
   "source": [
    "### Read DataFrames"
   ]
  },
  {
   "cell_type": "code",
   "execution_count": 11,
   "id": "2ecad291",
   "metadata": {},
   "outputs": [],
   "source": [
    "df_data = pd.read_csv(\"../data-source/5-10-21/logaritmico/data.csv\")\n",
    "df_data\n",
    "df_errors = 5./100. * df_data # 5 %\n",
    "df_errors[:10] += 0.001 # 1dgt\n",
    "df_errors[10:] += 0.01 # 1dgt"
   ]
  },
  {
   "cell_type": "markdown",
   "id": "8b5bc24d",
   "metadata": {},
   "source": [
    "### Convert to arrays of uncertainties"
   ]
  },
  {
   "cell_type": "code",
   "execution_count": 47,
   "id": "39da259f",
   "metadata": {},
   "outputs": [],
   "source": [
    "Vin_arr = pair_dat_err(df_data['Vin [V]'], df_errors['Vin [V]'])\n",
    "Vout_arr = pair_dat_err(df_data['Vout [V]'], df_errors['Vout [V]'])"
   ]
  },
  {
   "cell_type": "markdown",
   "id": "93943c30",
   "metadata": {},
   "source": [
    "### Canvas"
   ]
  },
  {
   "cell_type": "code",
   "execution_count": 48,
   "id": "39560115",
   "metadata": {},
   "outputs": [
    {
     "name": "stderr",
     "output_type": "stream",
     "text": [
      "Warning in <TCanvas::Constructor>: Deleting canvas with same name: c1\n"
     ]
    }
   ],
   "source": [
    "canvas = ROOT.TCanvas(\"c1\", \"log fit 1\", 1000, 500)\n",
    "\n",
    "canvas.SetLogx(True)"
   ]
  },
  {
   "cell_type": "markdown",
   "id": "6b84d54f",
   "metadata": {},
   "source": [
    "### GraphErrors"
   ]
  },
  {
   "cell_type": "code",
   "execution_count": 49,
   "id": "e98dd0fa",
   "metadata": {},
   "outputs": [],
   "source": [
    "fit_log_graph_err = uncertainties_to_root_graph_errors(Vin_arr, Vout_arr)\n",
    "\n",
    "fit_log_graph_err.SetTitle(\"Log fit 1\")\n",
    "fit_log_graph_err.GetXaxis().SetTitle(\"f [Hz]\")\n",
    "fit_log_graph_err.GetYaxis().SetTitle(\"G [dB]\")\n",
    "fit_log_graph_err.SetMarkerStyle(21)\n",
    "fit_log_graph_err.SetMarkerSize(0.4)"
   ]
  },
  {
   "cell_type": "markdown",
   "id": "bd498534",
   "metadata": {},
   "source": [
    "### Fit [TODO]"
   ]
  },
  {
   "cell_type": "code",
   "execution_count": 50,
   "id": "5a0a40b6",
   "metadata": {},
   "outputs": [],
   "source": [
    "function_formula = \"- 2 * [0] * log(x / (1995 * [1]))\"\n",
    "fit_f = ROOT.TF1(\"fit1\", function_formula)"
   ]
  },
  {
   "cell_type": "code",
   "execution_count": 51,
   "id": "f5cff84b",
   "metadata": {},
   "outputs": [],
   "source": [
    "fit_f.SetLineColor(4)"
   ]
  },
  {
   "cell_type": "code",
   "execution_count": 64,
   "id": "c539c0cd",
   "metadata": {},
   "outputs": [],
   "source": [
    "fit_f.SetParName(0, \"V_{T}\")\n",
    "fit_f.SetParName(1, \"I_{0}\")\n",
    "fit_f.SetParameter(0, 0.026)\n",
    "fit_f.SetParameter(1, 1e-9)\n",
    "\n",
    "ROOT.gStyle.SetOptFit(True)"
   ]
  },
  {
   "cell_type": "markdown",
   "id": "64558ee3",
   "metadata": {},
   "source": [
    "### Draw"
   ]
  },
  {
   "cell_type": "code",
   "execution_count": 65,
   "id": "06989e07",
   "metadata": {},
   "outputs": [
    {
     "data": {
      "text/plain": [
       "<cppyy.gbl.TFitResultPtr object at 0x559a57cff5f0>"
      ]
     },
     "execution_count": 65,
     "metadata": {},
     "output_type": "execute_result"
    },
    {
     "name": "stdout",
     "output_type": "stream",
     "text": [
      " FCN=0.472105 FROM MINOS     STATUS=PROBLEMS       85 CALLS        1617 TOTAL\n",
      "                     EDM=1.3997e-06    STRATEGY= 1      ERROR MATRIX ACCURATE \n",
      "  EXT PARAMETER                                   STEP         FIRST   \n",
      "  NO.   NAME      VALUE            ERROR          SIZE      DERIVATIVE \n",
      "   1  V_{T}        1.83574e-02   3.33090e-03          -nan          -nan\n",
      "   2  I_{0}        7.91865e-11   2.45794e-10   2.45794e-10          -inf\n"
     ]
    },
    {
     "data": {
      "image/png": "[encoded data removed]",
      "text/plain": [
       "<IPython.core.display.Image object>"
      ]
     },
     "metadata": {},
     "output_type": "display_data"
    }
   ],
   "source": [
    "canvas.Draw()\n",
    "fit_log_graph_err.Draw()\n",
    "fit_log_graph_err.Fit(fit_f, \"MSE\")"
   ]
  },
  {
   "cell_type": "code",
   "execution_count": null,
   "id": "6b20335b",
   "metadata": {},
   "outputs": [],
   "source": []
  },
  {
   "cell_type": "code",
   "execution_count": null,
   "id": "f7b4ba7e",
   "metadata": {},
   "outputs": [],
   "source": []
  }
 ],
 "metadata": {
  "kernelspec": {
   "display_name": "Python 3 (ipykernel)",
   "language": "python",
   "name": "python3"
  },
  "language_info": {
   "codemirror_mode": {
    "name": "ipython",
    "version": 3
   },
   "file_extension": ".py",
   "mimetype": "text/x-python",
   "name": "python",
   "nbconvert_exporter": "python",
   "pygments_lexer": "ipython3",
   "version": "3.9.7"
  }
 },
 "nbformat": 4,
 "nbformat_minor": 5
}
